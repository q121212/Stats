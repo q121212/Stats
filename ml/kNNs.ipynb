{
 "cells": [
  {
   "cell_type": "code",
   "execution_count": 4,
   "metadata": {},
   "outputs": [],
   "source": [
    "# -*- coding: utf-8 -*-\n",
    "import numpy as np\n",
    "import pandas as pd\n",
    "%matplotlib inline\n"
   ]
  },
  {
   "cell_type": "code",
   "execution_count": 23,
   "metadata": {},
   "outputs": [],
   "source": [
    "def sum_in_feature(features_array_of_arrays):\n",
    "    '''Sum all dimensions in every feature'''\n",
    "    res = np.sum(features_array_of_arrays,axis=1)\n",
    "    return res"
   ]
  },
  {
   "cell_type": "code",
   "execution_count": 24,
   "metadata": {},
   "outputs": [
    {
     "name": "stdout",
     "output_type": "stream",
     "text": [
      "[ 6  9 12  9  6]\n"
     ]
    }
   ],
   "source": [
    "result = sum_in_feature([[1,2,3],[2,3,4],[3,4,5],[1,3,5],[0,2,4]])\n",
    "print(result)"
   ]
  },
  {
   "cell_type": "code",
   "execution_count": 241,
   "metadata": {},
   "outputs": [],
   "source": [
    "def knn(base, k, features_array_of_arrays):\n",
    "    ''' k-nearest neighbors algorithm (k-NN) for base\n",
    "    Used Euclidian metric\n",
    "    '''\n",
    "    gen_array = [base] + features_array_of_arrays\n",
    "    chunks_number = len(gen_array)\n",
    "    chunck_size =len(gen_array[0])\n",
    "    matrix = []\n",
    "    for i in range(chunks_number):\n",
    "        line = []\n",
    "        for j in range(chunks_number):\n",
    "            print([gen_array[i], gen_array[j]])\n",
    "            distance = 0\n",
    "            for y in range(chunck_size):\n",
    "                distance += (gen_array[i][y] - gen_array[j][y])**2\n",
    "            line.append(np.sqrt(distance))\n",
    "        \n",
    "        matrix.append(pd.Series(line))\n",
    "    dist_matrix =matrix[0].sort_values()\n",
    "    print(dist_matrix)\n",
    "    indexes_of_knn = dist_matrix[dist_matrix>0].index[:k]\n",
    "    print(indexes_of_knn)\n",
    "    neighbors= [gen_array[i] for i in indexes_of_knn]\n",
    "    distances = [dist_matrix[i] for i in indexes_of_knn]\n",
    "    return [neighbors, distances]"
   ]
  },
  {
   "cell_type": "code",
   "execution_count": 249,
   "metadata": {},
   "outputs": [
    {
     "name": "stdout",
     "output_type": "stream",
     "text": [
      "[[2, 5, 7, 11], [2, 5, 7, 11]]\n",
      "[[2, 5, 7, 11], [1, 2, 3, 11]]\n",
      "[[2, 5, 7, 11], [1, 3, 5, 11]]\n",
      "[[2, 5, 7, 11], [0, 2, 4, 11]]\n",
      "[[2, 5, 7, 11], [100, 200, 300, 11]]\n",
      "[[1, 2, 3, 11], [2, 5, 7, 11]]\n",
      "[[1, 2, 3, 11], [1, 2, 3, 11]]\n",
      "[[1, 2, 3, 11], [1, 3, 5, 11]]\n",
      "[[1, 2, 3, 11], [0, 2, 4, 11]]\n",
      "[[1, 2, 3, 11], [100, 200, 300, 11]]\n",
      "[[1, 3, 5, 11], [2, 5, 7, 11]]\n",
      "[[1, 3, 5, 11], [1, 2, 3, 11]]\n",
      "[[1, 3, 5, 11], [1, 3, 5, 11]]\n",
      "[[1, 3, 5, 11], [0, 2, 4, 11]]\n",
      "[[1, 3, 5, 11], [100, 200, 300, 11]]\n",
      "[[0, 2, 4, 11], [2, 5, 7, 11]]\n",
      "[[0, 2, 4, 11], [1, 2, 3, 11]]\n",
      "[[0, 2, 4, 11], [1, 3, 5, 11]]\n",
      "[[0, 2, 4, 11], [0, 2, 4, 11]]\n",
      "[[0, 2, 4, 11], [100, 200, 300, 11]]\n",
      "[[100, 200, 300, 11], [2, 5, 7, 11]]\n",
      "[[100, 200, 300, 11], [1, 2, 3, 11]]\n",
      "[[100, 200, 300, 11], [1, 3, 5, 11]]\n",
      "[[100, 200, 300, 11], [0, 2, 4, 11]]\n",
      "[[100, 200, 300, 11], [100, 200, 300, 11]]\n",
      "0      0.000000\n",
      "2      3.000000\n",
      "3      4.690416\n",
      "1      5.099020\n",
      "4    365.346411\n",
      "dtype: float64\n",
      "Int64Index([2, 3, 1], dtype='int64')\n",
      "[[1, 3, 5, 11], [0, 2, 4, 11], [1, 2, 3, 11]] [3.0, 4.6904157598234297, 5.0990195135927845]\n"
     ]
    }
   ],
   "source": [
    "neighbors, distances = knn(base = [2,5,7,11], k=3, features_array_of_arrays=[[1,2,3,11],[1,3,5,11],[0,2,4,11],[100,200,300,11]])\n",
    "print(neighbors, distances)"
   ]
  },
  {
   "cell_type": "code",
   "execution_count": 316,
   "metadata": {},
   "outputs": [],
   "source": [
    "def knn_similarity(base, k, features_array_of_arrays):\n",
    "    ''' k-nearest neighbors algorithm (k-NN) for base\n",
    "    Used cosinual metric\n",
    "    '''\n",
    "    gen_array = [base] + features_array_of_arrays\n",
    "    chunks_number = len(gen_array)\n",
    "    chunck_size =len(gen_array[0])\n",
    "    matrix = []\n",
    "    for i in range(chunks_number):\n",
    "        line = []\n",
    "        for j in range(chunks_number):\n",
    "            print([gen_array[i], gen_array[j]])\n",
    "            nominator, denominator_x, denominator_y = 0, 0, 0\n",
    "            for y in range(chunck_size):\n",
    "                nominator += gen_array[i][y]*gen_array[j][y]\n",
    "                denominator_x += gen_array[i][y]**2\n",
    "                denominator_y += gen_array[j][y]**2\n",
    "#                 print(nominator, denominator_x, denominator_y)\n",
    "            similarity = nominator / np.sqrt(denominator_x)/ np.sqrt(denominator_y)\n",
    "            line.append(similarity)\n",
    "        \n",
    "        matrix.append(pd.Series(line))\n",
    "    simil_matrix =matrix[0].sort_values(ascending=False)\n",
    "    print(simil_matrix)\n",
    "    indexes_of_knn = simil_matrix[simil_matrix<1].index[:k]\n",
    "    print(indexes_of_knn)\n",
    "    neighbors= [features_array_of_arrays[i-1] for i in indexes_of_knn]\n",
    "    similarities = simil_matrix[simil_matrix<1].values[1:k+1]\n",
    "    return [neighbors, similarities]"
   ]
  },
  {
   "cell_type": "code",
   "execution_count": 317,
   "metadata": {},
   "outputs": [
    {
     "name": "stdout",
     "output_type": "stream",
     "text": [
      "[[2, 5, 7, 11], [2, 5, 7, 11]]\n",
      "[[2, 5, 7, 11], [1, 2, 3, 11]]\n",
      "[[2, 5, 7, 11], [1, 3, 5, 11]]\n",
      "[[2, 5, 7, 11], [0, 2, 4, 11]]\n",
      "[[2, 5, 7, 11], [100, 200, 300, 11]]\n",
      "[[1, 2, 3, 11], [2, 5, 7, 11]]\n",
      "[[1, 2, 3, 11], [1, 2, 3, 11]]\n",
      "[[1, 2, 3, 11], [1, 3, 5, 11]]\n",
      "[[1, 2, 3, 11], [0, 2, 4, 11]]\n",
      "[[1, 2, 3, 11], [100, 200, 300, 11]]\n",
      "[[1, 3, 5, 11], [2, 5, 7, 11]]\n",
      "[[1, 3, 5, 11], [1, 2, 3, 11]]\n",
      "[[1, 3, 5, 11], [1, 3, 5, 11]]\n",
      "[[1, 3, 5, 11], [0, 2, 4, 11]]\n",
      "[[1, 3, 5, 11], [100, 200, 300, 11]]\n",
      "[[0, 2, 4, 11], [2, 5, 7, 11]]\n",
      "[[0, 2, 4, 11], [1, 2, 3, 11]]\n",
      "[[0, 2, 4, 11], [1, 3, 5, 11]]\n",
      "[[0, 2, 4, 11], [0, 2, 4, 11]]\n",
      "[[0, 2, 4, 11], [100, 200, 300, 11]]\n",
      "[[100, 200, 300, 11], [2, 5, 7, 11]]\n",
      "[[100, 200, 300, 11], [1, 2, 3, 11]]\n",
      "[[100, 200, 300, 11], [1, 3, 5, 11]]\n",
      "[[100, 200, 300, 11], [0, 2, 4, 11]]\n",
      "[[100, 200, 300, 11], [100, 200, 300, 11]]\n",
      "0    1.000000\n",
      "2    0.981877\n",
      "3    0.949207\n",
      "1    0.939566\n",
      "4    0.647851\n",
      "dtype: float64\n",
      "Int64Index([0, 2, 3], dtype='int64')\n",
      "[[100, 200, 300, 11], [1, 3, 5, 11], [0, 2, 4, 11]] [ 0.9818774   0.94920721  0.93956601]\n"
     ]
    }
   ],
   "source": [
    "neighbors, similarities = knn_similarity(base = [2,5,7,11], k=3, features_array_of_arrays=[[1,2,3,11],[1,3,5,11],[0,2,4,11],[100,200,300,11]])\n",
    "print(neighbors, similarities)"
   ]
  },
  {
   "cell_type": "code",
   "execution_count": null,
   "metadata": {},
   "outputs": [],
   "source": []
  }
 ],
 "metadata": {
  "kernelspec": {
   "display_name": "Python 3",
   "language": "python",
   "name": "python3"
  },
  "language_info": {
   "codemirror_mode": {
    "name": "ipython",
    "version": 3
   },
   "file_extension": ".py",
   "mimetype": "text/x-python",
   "name": "python",
   "nbconvert_exporter": "python",
   "pygments_lexer": "ipython3",
   "version": "3.6.4"
  }
 },
 "nbformat": 4,
 "nbformat_minor": 2
}

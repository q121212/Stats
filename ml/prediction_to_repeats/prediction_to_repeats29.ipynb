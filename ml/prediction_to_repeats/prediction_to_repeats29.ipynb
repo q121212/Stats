{
 "cells": [
  {
   "cell_type": "code",
   "execution_count": 1,
   "metadata": {
    "collapsed": true
   },
   "outputs": [],
   "source": [
    "# -*- coding: utf-8 -*-\n",
    "import numpy as np\n",
    "import pandas as pd\n",
    "import matplotlib.pyplot as plt\n",
    "# import tqdm # interactive progress bar\n",
    "\n",
    "plt.style.use('ggplot')\n",
    "%matplotlib inline"
   ]
  },
  {
   "cell_type": "code",
   "execution_count": 2,
   "metadata": {
    "collapsed": true
   },
   "outputs": [],
   "source": [
    "f_names={'MK':'MK', 'SEGMENT':'Сегмент', 'Service':'Услуга', 'Channeltype': 'Тип канала', 'Source': 'Источник ЕИ', \n",
    "'football':'Футбол', 'DECLARED_FAULT':'Заявл. неисправность', 'CREATE_DATE':'Дата создания', 'CLOSETIME':'Дата закрытия',\n",
    "'all_num_of_repeat':'Всего повторок', 'num_of_repeat2':'Повторок за 2 дня', 'num_of_repeat5':'Повторок за 5 дней',\n",
    "'num_of_repeat10':'Повторок за 10 дней', 'num_of_repeat30':'Повторок за 30 дней', 'num_of_repeat60':'Повторок за 60 дней',\n",
    "'MITYPE':'Тип МИ', 'MIPRIORITY':'Приоритет МИ', 'MIIMPACT':'Влияние МИ', 'TECHNICAL_DISTRICT':'Техрайон(WFM)',\n",
    "'NumWFMforEI':'Кол-во WFM', 'Last_WFM_days_waiting':'Кол-во дней ожидания выезда', 'EIDayOfWeek':'День недели заведения ЕИ',\n",
    "'EIHourCreate':'Час создания ЕИ'}"
   ]
  },
  {
   "cell_type": "code",
   "execution_count": 3,
   "metadata": {},
   "outputs": [
    {
     "name": "stderr",
     "output_type": "stream",
     "text": [
      "C:\\Users\\MRekunchak\\AppData\\Local\\Continuum\\Anaconda3\\lib\\site-packages\\IPython\\core\\interactiveshell.py:2717: DtypeWarning: Columns (7) have mixed types. Specify dtype option on import or set low_memory=False.\n",
      "  interactivity=interactivity, compiler=compiler, result=result)\n"
     ]
    },
    {
     "data": {
      "text/plain": [
       "(362708, 23)"
      ]
     },
     "execution_count": 3,
     "metadata": {},
     "output_type": "execute_result"
    }
   ],
   "source": [
    "# Loading old data\n",
    "url_to_data = 'data/data2908_fromJan2017.csv'\n",
    "data = pd.read_csv(url_to_data, names=f_names.keys(), na_values='0', delimiter=';', skiprows=[0])\n",
    "data.shape"
   ]
  },
  {
   "cell_type": "code",
   "execution_count": 4,
   "metadata": {},
   "outputs": [
    {
     "data": {
      "text/plain": [
       "(2176, 23)"
      ]
     },
     "execution_count": 4,
     "metadata": {},
     "output_type": "execute_result"
    }
   ],
   "source": [
    "# Loading fresh data\n",
    "#!pip install pymysql\n",
    "import pymysql\n",
    "import pers_data\n",
    "import sql_queries\n",
    "\n",
    "mysql_conn= pymysql.connect(host=pers_data.HOST, \n",
    "                port=pers_data.PORT,user=pers_data.USER, passwd=pers_data.PASSWD, \n",
    "                db=pers_data.DB, charset='utf8')\n",
    "#connection.use_unicode =  True\n",
    "\n",
    "data_y=pd.read_sql(sql_queries.SQL_QUERY_TODAY, con=mysql_conn)\n",
    "data_y.shape"
   ]
  },
  {
   "cell_type": "code",
   "execution_count": 5,
   "metadata": {},
   "outputs": [
    {
     "name": "stdout",
     "output_type": "stream",
     "text": [
      "Categorical columns:  ['MK', 'SEGMENT', 'DECLARED_FAULT', 'CREATE_DATE']\n",
      "Numerical columns:  ['Service', 'Channeltype', 'Source', 'football', 'CLOSETIME', 'all_num_of_repeat', 'num_of_repeat2', 'num_of_repeat5', 'num_of_repeat10', 'num_of_repeat30', 'num_of_repeat60', 'MITYPE', 'MIPRIORITY', 'MIIMPACT', 'TECHNICAL_DISTRICT', 'NumWFMforEI', 'Last_WFM_days_waiting', 'EIDayOfWeek', 'EIHourCreate']\n"
     ]
    }
   ],
   "source": [
    "# Data preprocessing\n",
    "\n",
    "## extract categorical and numerical features for OLD data\n",
    "categorical_columns_x = [c for c in data.columns if data[c].dtype.name == 'object']\n",
    "numerical_columns_x   = [c for c in data.columns if data[c].dtype.name != 'object']\n",
    "print('Categorical columns: ', categorical_columns_x)\n",
    "print('Numerical columns: ', numerical_columns_x)"
   ]
  },
  {
   "cell_type": "code",
   "execution_count": 6,
   "metadata": {},
   "outputs": [
    {
     "name": "stdout",
     "output_type": "stream",
     "text": [
      "Categorical columns:  ['MK', 'SEGMENT', 'DECLARED_FAULT']\n",
      "Numerical columns:  ['Service', 'Channeltype', 'Source', 'football', 'CREATE_DATE', 'CLOSETIME', 'all_num_of_repeat', 'num_of_repeat2', 'num_of_repeat5', 'num_of_repeat10', 'num_of_repeat30', 'num_of_repeat60', 'MITYPE', 'MIPRIORITY', 'MIIMPACT', 'TECHNICAL_DISTRICT', 'NumWFMforEI', 'Last_WFM_days_waiting', 'EIDayOfWeek', 'EIHourCreate']\n"
     ]
    }
   ],
   "source": [
    "## extract categorical and numerical features for FRESH data\n",
    "categorical_columns_y = [c for c in data_y.columns if data_y[c].dtype.name == 'object']\n",
    "numerical_columns_y   = [c for c in data_y.columns if data_y[c].dtype.name != 'object']\n",
    "print('Categorical columns: ', categorical_columns_y)\n",
    "print('Numerical columns: ', numerical_columns_y)"
   ]
  },
  {
   "cell_type": "code",
   "execution_count": 7,
   "metadata": {
    "collapsed": true
   },
   "outputs": [],
   "source": [
    "# data[numerical_columns_x].describe()"
   ]
  },
  {
   "cell_type": "code",
   "execution_count": 8,
   "metadata": {
    "collapsed": true
   },
   "outputs": [],
   "source": [
    "# data_y[numerical_columns_y].describe()"
   ]
  },
  {
   "cell_type": "code",
   "execution_count": 9,
   "metadata": {},
   "outputs": [
    {
     "data": {
      "text/html": [
       "<div>\n",
       "<style>\n",
       "    .dataframe thead tr:only-child th {\n",
       "        text-align: right;\n",
       "    }\n",
       "\n",
       "    .dataframe thead th {\n",
       "        text-align: left;\n",
       "    }\n",
       "\n",
       "    .dataframe tbody tr th {\n",
       "        vertical-align: top;\n",
       "    }\n",
       "</style>\n",
       "<table border=\"1\" class=\"dataframe\">\n",
       "  <thead>\n",
       "    <tr style=\"text-align: right;\">\n",
       "      <th></th>\n",
       "      <th>MK</th>\n",
       "      <th>SEGMENT</th>\n",
       "      <th>DECLARED_FAULT</th>\n",
       "      <th>CREATE_DATE</th>\n",
       "    </tr>\n",
       "  </thead>\n",
       "  <tbody>\n",
       "    <tr>\n",
       "      <th>count</th>\n",
       "      <td>357959</td>\n",
       "      <td>359808</td>\n",
       "      <td>362705</td>\n",
       "      <td>362708</td>\n",
       "    </tr>\n",
       "    <tr>\n",
       "      <th>unique</th>\n",
       "      <td>34</td>\n",
       "      <td>8</td>\n",
       "      <td>325</td>\n",
       "      <td>353603</td>\n",
       "    </tr>\n",
       "    <tr>\n",
       "      <th>top</th>\n",
       "      <td>ФЛ</td>\n",
       "      <td>МР</td>\n",
       "      <td>Телефония. Тишина в трубке, нет зуммера</td>\n",
       "      <td>1501132721</td>\n",
       "    </tr>\n",
       "    <tr>\n",
       "      <th>freq</th>\n",
       "      <td>277265</td>\n",
       "      <td>287001</td>\n",
       "      <td>32387</td>\n",
       "      <td>8</td>\n",
       "    </tr>\n",
       "  </tbody>\n",
       "</table>\n",
       "</div>"
      ],
      "text/plain": [
       "            MK SEGMENT                           DECLARED_FAULT  CREATE_DATE\n",
       "count   357959  359808                                   362705       362708\n",
       "unique      34       8                                      325       353603\n",
       "top         ФЛ      МР  Телефония. Тишина в трубке, нет зуммера   1501132721\n",
       "freq    277265  287001                                    32387            8"
      ]
     },
     "execution_count": 9,
     "metadata": {},
     "output_type": "execute_result"
    }
   ],
   "source": [
    "data[categorical_columns_x].describe() # Stats for categorial features for OLD data"
   ]
  },
  {
   "cell_type": "code",
   "execution_count": 10,
   "metadata": {},
   "outputs": [
    {
     "data": {
      "text/html": [
       "<div>\n",
       "<style>\n",
       "    .dataframe thead tr:only-child th {\n",
       "        text-align: right;\n",
       "    }\n",
       "\n",
       "    .dataframe thead th {\n",
       "        text-align: left;\n",
       "    }\n",
       "\n",
       "    .dataframe tbody tr th {\n",
       "        vertical-align: top;\n",
       "    }\n",
       "</style>\n",
       "<table border=\"1\" class=\"dataframe\">\n",
       "  <thead>\n",
       "    <tr style=\"text-align: right;\">\n",
       "      <th></th>\n",
       "      <th>MK</th>\n",
       "      <th>SEGMENT</th>\n",
       "      <th>DECLARED_FAULT</th>\n",
       "    </tr>\n",
       "  </thead>\n",
       "  <tbody>\n",
       "    <tr>\n",
       "      <th>count</th>\n",
       "      <td>2176</td>\n",
       "      <td>2176</td>\n",
       "      <td>2176</td>\n",
       "    </tr>\n",
       "    <tr>\n",
       "      <th>unique</th>\n",
       "      <td>22</td>\n",
       "      <td>7</td>\n",
       "      <td>121</td>\n",
       "    </tr>\n",
       "    <tr>\n",
       "      <th>top</th>\n",
       "      <td>ФЛ</td>\n",
       "      <td>МР</td>\n",
       "      <td>ONT не на линии. Проблема с оптическим кабелем</td>\n",
       "    </tr>\n",
       "    <tr>\n",
       "      <th>freq</th>\n",
       "      <td>1739</td>\n",
       "      <td>1800</td>\n",
       "      <td>274</td>\n",
       "    </tr>\n",
       "  </tbody>\n",
       "</table>\n",
       "</div>"
      ],
      "text/plain": [
       "          MK SEGMENT                                  DECLARED_FAULT\n",
       "count   2176    2176                                            2176\n",
       "unique    22       7                                             121\n",
       "top       ФЛ      МР  ONT не на линии. Проблема с оптическим кабелем\n",
       "freq    1739    1800                                             274"
      ]
     },
     "execution_count": 10,
     "metadata": {},
     "output_type": "execute_result"
    }
   ],
   "source": [
    "data_y[categorical_columns_y].describe() # Stats for categorial features for FRESH data"
   ]
  },
  {
   "cell_type": "code",
   "execution_count": 11,
   "metadata": {
    "collapsed": true
   },
   "outputs": [],
   "source": [
    "## Legends\n",
    "LEGEND={'Channeltype':{\n",
    "'9207':'Медная линия',\n",
    "'9205':'Канальная АТШ',\n",
    "'9204': 'Канальная PON',\n",
    "'9986':'Канальная Radio',\n",
    "'9206':'Кодер видеонаблюдения',\n",
    "'9636':'IP ОПС',\n",
    "'9987':'Канальная Радио (юрики)',\n",
    "'9203':'Канал ADSL',\n",
    "'9633':'Канальная FTTB',\n",
    "'9632':'ОПС',\n",
    "'9202':'Камера видеонаблюдения',\n",
    "'10769':'Канальная МЕДЬ',\n",
    "'9197':'RFC PON',\n",
    "'9198':'RFC АТШ',\n",
    "'9199':'Интернет PON',\n",
    "'9200':'Интернет АТШ',\n",
    "'9201':'Интернет АТШ (юрики)',\n",
    "'9208':'Телевидение PON',\n",
    "'9209':'Телевидение АТШ',\n",
    "'9210':'Телефон PON',\n",
    "'9211':'Телефон АТШ',\n",
    "'9212':'УПАТС PON',\n",
    "'9630':'Телефон FTTB',\n",
    "'9631':'Телевидение FTTB',\n",
    "'9634':'Интернет FTTB',\n",
    "'9635':'RFC FTTB'},\n",
    "'Service':{\n",
    "'9650':'Все сервисы',\n",
    "'9697':'ОПС',\n",
    "'8677':'Не сетевой инцидент',\n",
    "'8679':'Телевидение',\n",
    "'8681':'Технологические сервисы',\n",
    "'8676':'Дополнительные сервисы',\n",
    "'8678':'Передача данных',\n",
    "'8680':'Телефония',\n",
    "'8682':'Энергетическое и климатическое обеспечение технологических площадок'}}"
   ]
  },
  {
   "cell_type": "code",
   "execution_count": 12,
   "metadata": {},
   "outputs": [
    {
     "data": {
      "text/plain": [
       "(8678.0    190792\n",
       " 8680.0     86218\n",
       " 9650.0     53148\n",
       " 8679.0     31927\n",
       " 8681.0       324\n",
       " 8677.0       151\n",
       " 8676.0       140\n",
       " 8682.0         5\n",
       " Name: Service, dtype: int64, 8678.0    190792\n",
       " 8680.0     86218\n",
       " 9650.0     53148\n",
       " 8679.0     31927\n",
       " 8681.0       324\n",
       " 8677.0       151\n",
       " 8676.0       140\n",
       " 8682.0         5\n",
       " Name: Service, dtype: int64)"
      ]
     },
     "execution_count": 12,
     "metadata": {},
     "output_type": "execute_result"
    }
   ],
   "source": [
    "## Replacement of digital values of categories by their number of repetitions in data\n",
    "# TODO: need to replace occurence of categories to some more appropriate for expression categories in data\n",
    "stats_x=dict()\n",
    "stats_y=dict()\n",
    "\n",
    "for i in ['MK', 'SEGMENT', 'DECLARED_FAULT', 'Service', 'Channeltype', 'football', 'TECHNICAL_DISTRICT',\n",
    "          'EIDayOfWeek', 'EIHourCreate']:\n",
    "    stats_x[i]=data[i].value_counts()\n",
    "    stats_y[i]=data[i].value_counts() # not data_y!!!!!! Because it's occurrence of categories\n",
    "    \n",
    "\n",
    "# print(stats.keys())\n",
    "# print(stats['Service'])\n",
    "# stats_x['MK'].values\n",
    "stats_y['Service'],stats_x['Service']"
   ]
  },
  {
   "cell_type": "code",
   "execution_count": 13,
   "metadata": {},
   "outputs": [
    {
     "data": {
      "text/plain": [
       "dict_keys(['9207', '9205', '9204', '9986', '9206', '9636', '9987', '9203', '9633', '9632', '9202', '10769', '9197', '9198', '9199', '9200', '9201', '9208', '9209', '9210', '9211', '9212', '9630', '9631', '9634', '9635'])"
      ]
     },
     "execution_count": 13,
     "metadata": {},
     "output_type": "execute_result"
    }
   ],
   "source": [
    "LEGEND['Channeltype'].keys()"
   ]
  },
  {
   "cell_type": "code",
   "execution_count": 14,
   "metadata": {},
   "outputs": [
    {
     "name": "stdout",
     "output_type": "stream",
     "text": [
      "\n",
      "Channeltype\n",
      "\n",
      "\n",
      "DECLARED_FAULT\n",
      "\n",
      "32387 \t Телефония. Тишина в трубке, нет зуммера\n",
      "24629 \t Телефония. Тишина в трубке\n",
      "21939 \t ONT не на линии. Проблема с оптическим кабелем\n",
      "21395 \t Интернет. Не работает интернет\n",
      "16386 \t Интернет. Не открываются все страницы\n",
      "14795 \t ТВ. Не получен IP-адрес\n",
      "13618 \t Swap ONT Huawei\n",
      "13301 \t Не работает ONT. Нет индикации питания.\n",
      "11749 \t ТВ. Черный или синий экран\n",
      "10198 \t Не работает канал VPN\n",
      "10119 \t Интернет. Другое\n",
      "9334 \t ТВ. Проблемы с пультом\n",
      "7849 \t ТВ. Рассыпание/замирание\n",
      "6970 \t SLX_Не работает INTERNET\n",
      "6950 \t Интернет. Не открываются страницы\n",
      "6720 \t Телефония. Зуммер занято\n",
      "6521 \t ТВ. Другое\n",
      "5980 \t Перенос/замена модели ONT\n",
      "5813 \t ONT на линии. Высокое затухание\n",
      "5361 \t Интернет. Нет линка\n",
      "\n",
      "EIDayOfWeek\n",
      "\n",
      "\n",
      "EIHourCreate\n",
      "\n",
      "\n",
      "MK\n",
      "\n",
      "277265 \t ФЛ\n",
      "25118 \t SOHO\n",
      "13658 \t NKA\n",
      "6820 \t SME\n",
      "4633 \t GS-SLA4\n",
      "4012 \t Первая\n",
      "3992 \t Оператор\n",
      "3864 \t Выделенное обслуживание (пилот)\n",
      "3278 \t SME GS\n",
      "3113 \t Corporate\n",
      "2087 \t KA\n",
      "2009 \t GS-SLA1\n",
      "1509 \t SOHO_GS\n",
      "1366 \t INDIVIDUAL\n",
      "1195 \t Corporate GS\n",
      "905 \t GS-Имидж абоненты\n",
      "777 \t KA GS\n",
      "684 \t GS-SLA3\n",
      "492 \t ФЛ_ИЗ_МРМ\n",
      "348 \t Имидж-абоненты (физические лица)\n",
      "\n",
      "SEGMENT\n",
      "\n",
      "287001 \t МР\n",
      "64781 \t КОРП\n",
      "6642 \t ГОС\n",
      "748 \t БС28\n",
      "320 \t Оператор\n",
      "192 \t СПЕЦ\n",
      "95 \t Внутренний\n",
      "29 \t БС22\n",
      "\n",
      "Service\n",
      "\n",
      "\n",
      "TECHNICAL_DISTRICT\n",
      "\n",
      "\n",
      "football\n",
      "\n",
      "\n",
      " Service \n",
      "\n",
      "190792 \t Передача данных\n",
      "86218 \t Телефония\n",
      "53148 \t Все сервисы\n",
      "31927 \t Телевидение\n",
      "324 \t Технологические сервисы\n",
      "151 \t Не сетевой инцидент\n",
      "140 \t Дополнительные сервисы\n",
      "5 \t Энергетическое и климатическое обеспечение технологических площадок\n",
      "\n",
      " Channeltype \n",
      "\n",
      "228847 \t Канальная PON\n",
      "48414 \t Канальная АТШ\n",
      "21386 \t Канальная FTTB\n",
      "11533 \t Канал ADSL\n",
      "9874 \t Канальная МЕДЬ\n",
      "1459 \t Медная линия\n",
      "66 \t Канальная Radio\n",
      "2 \t Интернет FTTB\n",
      "2 \t Телефон PON\n",
      "2 \t Интернет АТШ (юрики)\n",
      "1 \t IP ОПС\n",
      "1 \t Телевидение FTTB\n",
      "1 \t Телефон АТШ\n",
      "1 \t Телевидение АТШ\n",
      "1 \t Интернет PON\n"
     ]
    }
   ],
   "source": [
    "## Notes for understanding of features\n",
    "cat_features=set()\n",
    "for feature in sorted(stats_x.keys()):\n",
    "    d_first=20\n",
    "#     print(len(stats[feature]))\n",
    "    if len(stats_x[feature])< 20:\n",
    "        d_first = len(stats_x[feature])\n",
    "    print(\"\\n\"+feature+\"\\n\")\n",
    "    for i in stats_x[feature].keys()[:d_first]:\n",
    "        if type(i) == str:\n",
    "            print(stats_x[feature][i], \"\\t\", i)\n",
    "        else:\n",
    "            cat_features.add(feature)\n",
    "# print(cat_features)\n",
    "if cat_features:\n",
    "    for feature in cat_features:\n",
    "        try:\n",
    "            if LEGEND[feature]:\n",
    "            \n",
    "                print(\"\\n\", feature, \"\\n\")\n",
    "                for i in stats_x[feature].keys():\n",
    "                    print(stats_x[feature][i], \"\\t\", LEGEND[feature][str(int(i))])\n",
    "        except:\n",
    "                pass\n",
    "#     print(stats[feature].keys()[:d_first], stats[feature].values[:d_first])\n",
    "    "
   ]
  },
  {
   "cell_type": "code",
   "execution_count": 15,
   "metadata": {
    "collapsed": true
   },
   "outputs": [],
   "source": [
    "# stats_y['SEGMENT'][:6].plot()\n",
    "# data.head()\n",
    "# for i in data_x:\n",
    "#     print(data[i].describe())"
   ]
  },
  {
   "cell_type": "code",
   "execution_count": 16,
   "metadata": {
    "collapsed": true
   },
   "outputs": [],
   "source": [
    "## Cleaning the data\n",
    "\n",
    "# dropped_data_without_empty_cols = data.dropna(axis=1)\n",
    "# dropped_data_without_empty_rows = data.dropna(axis=0)\n",
    "# data.count(axis=0)\n",
    "\n",
    "\n",
    "for item in ['all_num_of_repeat', 'num_of_repeat2', 'num_of_repeat5', 'num_of_repeat10', 'num_of_repeat30', 'num_of_repeat60']:\n",
    "    data[item]=data[item][data[item].isin([i for i in range(1000)] + [str(i) for i in range(1000)])]\n",
    "    data[item]=data[item].replace(to_replace=[np.nan], value=[0])\n",
    "\n",
    "    data_y[item]=data_y[item][data_y[item].isin([i for i in range(1000)] + [str(i) for i in range(1000)])]\n",
    "    data_y[item]=data_y[item].replace(to_replace=[np.nan], value=[0])\n",
    "\n",
    "    \n",
    "\n",
    "# for col_name in ['SERVICE', 'channeltype', 'source']:\n",
    "#     data[col_name]=data[col_name].replace(to_replace=[np.nan], value=[0])\n",
    "#     data[col_name]=data[col_name].replace(to_replace=data[col_name].unique(), value=[i for i in range(len(data[col_name].unique()))])\n",
    "\n",
    "\n",
    "\n",
    "# data['DECLARED_FAULT']=data['DECLARED_FAULT'].replace(to_replace=data['DECLARED_FAULT'].unique(), value=[i for i in range(1,len(data['DECLARED_FAULT'].unique())+1)]) \n",
    "\n",
    "# data['CLIENT_CATEGORY']=data['CLIENT_CATEGORY'][data['CLIENT_CATEGORY'].isin(['ФЛ', 'SOHO', 'NKA', \n",
    "# 'Выделенное обслуживание (пилот)', 'GS-SLA4', 'SME', 'Оператор', 'SME GS', 'Corporate', 'KA', 'SOHO_GS', 'GS-SLA1', \n",
    "# 'Corporate GS', 'GS-Имидж абоненты', 'Имидж-абоненты (физические лица)', 'GS-SLA3', 'INDIVIDUAL', 'KA GS', 'ФЛ_ИЗ_МРМ',\n",
    "# 'Развитие', 'СПЕЦ', 'Внутренний', 'Посольства', 'Имидж-абоненты (юридические лица)', 'NKA GS'])]\n",
    "# data['CLIENT_CATEGORY']=data['CLIENT_CATEGORY'].replace(to_replace=data['CLIENT_CATEGORY'].unique(), value=[i for i in range(1,len(data['CLIENT_CATEGORY'].unique())+1)]) \n",
    "\n",
    "# data['SEGMENT']=data['SEGMENT'][data['SEGMENT'].isin(['МР','КОРП','ГОС','Оператор','БС28','Внутренний','БС22'])]\n",
    "# data['SEGMENT']=data['SEGMENT'].replace(to_replace=data['SEGMENT'].unique(), value=[i for i in range(1,len(data['SEGMENT'].unique())+1)]) \n",
    "\n",
    "\n",
    "data['DECLARED_FAULT']=data['DECLARED_FAULT'].map(data.groupby('DECLARED_FAULT').size())\n",
    "data_y['DECLARED_FAULT']=data_y['DECLARED_FAULT'].map(data_y.groupby('DECLARED_FAULT').size())\n",
    "\n",
    "data['MK']=data['MK'].map(data.groupby('MK').size())\n",
    "data_y['MK']=data_y['MK'].map(data_y.groupby('MK').size())\n",
    "\n",
    "data['SEGMENT']=data['SEGMENT'].map(data.groupby('SEGMENT').size())\n",
    "data_y['SEGMENT']=data_y['SEGMENT'].map(data_y.groupby('SEGMENT').size())\n",
    "\n",
    "\n",
    "\n",
    "for i in ['CREATE_DATE', 'CLOSETIME']:\n",
    "    data[i] = pd.to_numeric(data[i],errors='coerce')\n",
    "    data_y[i] = pd.to_numeric(data_y[i],errors='coerce')"
   ]
  },
  {
   "cell_type": "code",
   "execution_count": 17,
   "metadata": {
    "collapsed": true
   },
   "outputs": [],
   "source": [
    "# data['MK'], data_y['MK']"
   ]
  },
  {
   "cell_type": "code",
   "execution_count": 18,
   "metadata": {
    "collapsed": true
   },
   "outputs": [],
   "source": [
    "# data['CREATE_DATE'].unique(), data_y['CREATE_DATE'].unique()"
   ]
  },
  {
   "cell_type": "code",
   "execution_count": 19,
   "metadata": {
    "collapsed": true
   },
   "outputs": [],
   "source": [
    "# type(data_y['CREATE_DATE'].head()[1])"
   ]
  },
  {
   "cell_type": "code",
   "execution_count": 20,
   "metadata": {
    "collapsed": true
   },
   "outputs": [],
   "source": [
    "## Generation of data\n",
    "data['decision_time'] = data['CLOSETIME']-data['CREATE_DATE']\n",
    "data_y['decision_time'] = data_y['CLOSETIME']-data_y['CREATE_DATE']"
   ]
  },
  {
   "cell_type": "code",
   "execution_count": 21,
   "metadata": {
    "collapsed": true
   },
   "outputs": [],
   "source": [
    "# data_y['SEGMENT'].head()"
   ]
  },
  {
   "cell_type": "code",
   "execution_count": 22,
   "metadata": {
    "collapsed": true
   },
   "outputs": [],
   "source": [
    "## Selecting data\n",
    "# sel_data = pd.concat((data['CLIENT_CATEGORY'],\n",
    "# data['SEGMENT'],\n",
    "# data['SERVICE'],\n",
    "# data['channeltype'],\n",
    "# data['source'],\n",
    "# # data['CHANNELREQUESTID'],\n",
    "# data['football'],\n",
    "# data['DECLARED_FAULT'],\n",
    "# data['all_num_of_repeat'],\n",
    "# data['num_of_repeat2'],\n",
    "# data['num_of_repeat5'],\n",
    "# data['num_of_repeat10'],\n",
    "# data['num_of_repeat30'],\n",
    "# data['num_of_repeat60'],\n",
    "# data['CREATE_DATE'],\n",
    "# data['CLOSETIME'],\n",
    "# data['decision_time'],\n",
    "# # data['TIMELEFTSLA']\n",
    "#                      ), axis=1)\n",
    "# sel_data.describe()"
   ]
  },
  {
   "cell_type": "code",
   "execution_count": 23,
   "metadata": {},
   "outputs": [
    {
     "name": "stdout",
     "output_type": "stream",
     "text": [
      "6\n"
     ]
    }
   ],
   "source": [
    "print(data_y['football'].unique()[2])\n",
    "# for i in sel_data['SERVICE']:\n",
    "#     if i.startswith('2'):\n",
    "#         pass\n",
    "#     else:\n",
    "#         print(i)"
   ]
  },
  {
   "cell_type": "code",
   "execution_count": 24,
   "metadata": {
    "collapsed": true
   },
   "outputs": [],
   "source": [
    "# # full list of categorical columns, where 'nan' is missing values\n",
    "# for c in sel_data:\n",
    "#     print(c, sel_data[c].unique(), len(sel_data[c].unique()))"
   ]
  },
  {
   "cell_type": "code",
   "execution_count": 25,
   "metadata": {
    "collapsed": true
   },
   "outputs": [],
   "source": [
    "# # for each numerical/quantitative feature built histogram,\n",
    "# # for each pair of nemerical built dispersion (scattering) diagram\n",
    "# from pandas.plotting import scatter_matrix\n",
    "# scatter_matrix(data, alpha=0.05, figsize=(15, 15));"
   ]
  },
  {
   "cell_type": "code",
   "execution_count": 26,
   "metadata": {
    "collapsed": true
   },
   "outputs": [],
   "source": [
    "# data[numerical_columns_x].corr() # matrix of correlations for OLD data\n",
    "# data_y[numerical_columns_y].corr() # matrix of correlations for FRESH data"
   ]
  },
  {
   "cell_type": "code",
   "execution_count": 27,
   "metadata": {},
   "outputs": [
    {
     "data": {
      "text/plain": [
       "(MK                       357959\n",
       " SEGMENT                  359808\n",
       " Service                  362705\n",
       " Channeltype              321590\n",
       " Source                   359828\n",
       " football                 362687\n",
       " DECLARED_FAULT           362705\n",
       " CREATE_DATE              362706\n",
       " CLOSETIME                354402\n",
       " all_num_of_repeat        362708\n",
       " num_of_repeat2           362708\n",
       " num_of_repeat5           362708\n",
       " num_of_repeat10          362708\n",
       " num_of_repeat30          362708\n",
       " num_of_repeat60          362708\n",
       " MITYPE                    19710\n",
       " MIPRIORITY                14081\n",
       " MIIMPACT                  13841\n",
       " TECHNICAL_DISTRICT       227050\n",
       " NumWFMforEI              227052\n",
       " Last_WFM_days_waiting    156997\n",
       " EIDayOfWeek              362706\n",
       " EIHourCreate             359182\n",
       " decision_time            354400\n",
       " dtype: int64, MK                       2176\n",
       " SEGMENT                  2176\n",
       " Service                  2176\n",
       " Channeltype              2009\n",
       " Source                   2176\n",
       " football                 2176\n",
       " DECLARED_FAULT           2176\n",
       " CREATE_DATE              2176\n",
       " CLOSETIME                 695\n",
       " all_num_of_repeat        2176\n",
       " num_of_repeat2           2176\n",
       " num_of_repeat5           2176\n",
       " num_of_repeat10          2176\n",
       " num_of_repeat30          2176\n",
       " num_of_repeat60          2176\n",
       " MITYPE                    254\n",
       " MIPRIORITY                254\n",
       " MIIMPACT                  254\n",
       " TECHNICAL_DISTRICT       1298\n",
       " NumWFMforEI              1298\n",
       " Last_WFM_days_waiting    1298\n",
       " EIDayOfWeek              2176\n",
       " EIHourCreate             2176\n",
       " decision_time             695\n",
       " dtype: int64)"
      ]
     },
     "execution_count": 27,
     "metadata": {},
     "output_type": "execute_result"
    }
   ],
   "source": [
    "## Find the number of completed (not skipped) items\n",
    "# axis = 0 means that we move counter from top to bottom, and axis = 1 than we move counter from left to right\n",
    "data.count(axis=0), data_y.count(axis=0)"
   ]
  },
  {
   "cell_type": "code",
   "execution_count": 28,
   "metadata": {
    "collapsed": true
   },
   "outputs": [],
   "source": [
    "## fill the missing values\n",
    "# fill all numerical features (Instead of gaps (missing values), we substitute the median values (data.median(axis=0)))\n",
    "data = data.fillna(0, axis=0)\n",
    "data_y = data_y.fillna(0, axis=0)"
   ]
  },
  {
   "cell_type": "code",
   "execution_count": 29,
   "metadata": {
    "collapsed": true
   },
   "outputs": [],
   "source": [
    "# before\n",
    "# data['A1'].describe()"
   ]
  },
  {
   "cell_type": "code",
   "execution_count": 30,
   "metadata": {
    "collapsed": true
   },
   "outputs": [],
   "source": [
    "# # fill the missing values in categorical feature with top value (Instead missing values) we substitute \n",
    "# # the top value in this column\n",
    "# data['A1'] = data['A1'].fillna('b')"
   ]
  },
  {
   "cell_type": "code",
   "execution_count": 31,
   "metadata": {},
   "outputs": [
    {
     "data": {
      "text/html": [
       "<div>\n",
       "<style>\n",
       "    .dataframe thead tr:only-child th {\n",
       "        text-align: right;\n",
       "    }\n",
       "\n",
       "    .dataframe thead th {\n",
       "        text-align: left;\n",
       "    }\n",
       "\n",
       "    .dataframe tbody tr th {\n",
       "        vertical-align: top;\n",
       "    }\n",
       "</style>\n",
       "<table border=\"1\" class=\"dataframe\">\n",
       "  <thead>\n",
       "    <tr style=\"text-align: right;\">\n",
       "      <th></th>\n",
       "      <th>MK</th>\n",
       "      <th>SEGMENT</th>\n",
       "      <th>Service</th>\n",
       "      <th>Channeltype</th>\n",
       "      <th>Source</th>\n",
       "      <th>football</th>\n",
       "      <th>DECLARED_FAULT</th>\n",
       "      <th>CREATE_DATE</th>\n",
       "      <th>CLOSETIME</th>\n",
       "      <th>all_num_of_repeat</th>\n",
       "      <th>...</th>\n",
       "      <th>num_of_repeat60</th>\n",
       "      <th>MITYPE</th>\n",
       "      <th>MIPRIORITY</th>\n",
       "      <th>MIIMPACT</th>\n",
       "      <th>TECHNICAL_DISTRICT</th>\n",
       "      <th>NumWFMforEI</th>\n",
       "      <th>Last_WFM_days_waiting</th>\n",
       "      <th>EIDayOfWeek</th>\n",
       "      <th>EIHourCreate</th>\n",
       "      <th>decision_time</th>\n",
       "    </tr>\n",
       "  </thead>\n",
       "  <tbody>\n",
       "    <tr>\n",
       "      <th>count</th>\n",
       "      <td>2176.000000</td>\n",
       "      <td>2176.000000</td>\n",
       "      <td>2176.000000</td>\n",
       "      <td>2176.000000</td>\n",
       "      <td>2176.000000</td>\n",
       "      <td>2176.000000</td>\n",
       "      <td>2176.000000</td>\n",
       "      <td>2.176000e+03</td>\n",
       "      <td>2.176000e+03</td>\n",
       "      <td>2176.000000</td>\n",
       "      <td>...</td>\n",
       "      <td>2176.000000</td>\n",
       "      <td>2176.000000</td>\n",
       "      <td>2176.000000</td>\n",
       "      <td>2176.000000</td>\n",
       "      <td>2176.000000</td>\n",
       "      <td>2176.000000</td>\n",
       "      <td>2176.000000</td>\n",
       "      <td>2176.0</td>\n",
       "      <td>2176.000000</td>\n",
       "      <td>2176.000000</td>\n",
       "    </tr>\n",
       "    <tr>\n",
       "      <th>mean</th>\n",
       "      <td>1402.216912</td>\n",
       "      <td>1533.951287</td>\n",
       "      <td>8781.398897</td>\n",
       "      <td>8569.186581</td>\n",
       "      <td>8710.108915</td>\n",
       "      <td>2.884191</td>\n",
       "      <td>106.888787</td>\n",
       "      <td>1.504009e+09</td>\n",
       "      <td>4.803717e+08</td>\n",
       "      <td>1.900276</td>\n",
       "      <td>...</td>\n",
       "      <td>1.190717</td>\n",
       "      <td>0.157169</td>\n",
       "      <td>0.195772</td>\n",
       "      <td>0.192096</td>\n",
       "      <td>21.148438</td>\n",
       "      <td>0.614430</td>\n",
       "      <td>-0.813879</td>\n",
       "      <td>3.0</td>\n",
       "      <td>14.653493</td>\n",
       "      <td>3718.231158</td>\n",
       "    </tr>\n",
       "    <tr>\n",
       "      <th>std</th>\n",
       "      <td>672.369481</td>\n",
       "      <td>583.870341</td>\n",
       "      <td>298.685745</td>\n",
       "      <td>2486.975451</td>\n",
       "      <td>341.808414</td>\n",
       "      <td>1.284177</td>\n",
       "      <td>101.912374</td>\n",
       "      <td>1.547768e+04</td>\n",
       "      <td>7.013945e+08</td>\n",
       "      <td>2.222493</td>\n",
       "      <td>...</td>\n",
       "      <td>0.854428</td>\n",
       "      <td>0.462004</td>\n",
       "      <td>0.741109</td>\n",
       "      <td>0.732090</td>\n",
       "      <td>18.681001</td>\n",
       "      <td>0.528501</td>\n",
       "      <td>5.704510</td>\n",
       "      <td>0.0</td>\n",
       "      <td>4.296309</td>\n",
       "      <td>8798.430375</td>\n",
       "    </tr>\n",
       "    <tr>\n",
       "      <th>min</th>\n",
       "      <td>1.000000</td>\n",
       "      <td>1.000000</td>\n",
       "      <td>8676.000000</td>\n",
       "      <td>0.000000</td>\n",
       "      <td>6026.000000</td>\n",
       "      <td>1.000000</td>\n",
       "      <td>1.000000</td>\n",
       "      <td>1.503954e+09</td>\n",
       "      <td>0.000000e+00</td>\n",
       "      <td>0.000000</td>\n",
       "      <td>...</td>\n",
       "      <td>0.000000</td>\n",
       "      <td>0.000000</td>\n",
       "      <td>0.000000</td>\n",
       "      <td>0.000000</td>\n",
       "      <td>0.000000</td>\n",
       "      <td>0.000000</td>\n",
       "      <td>-28.000000</td>\n",
       "      <td>3.0</td>\n",
       "      <td>0.000000</td>\n",
       "      <td>0.000000</td>\n",
       "    </tr>\n",
       "    <tr>\n",
       "      <th>25%</th>\n",
       "      <td>1739.000000</td>\n",
       "      <td>1800.000000</td>\n",
       "      <td>8678.000000</td>\n",
       "      <td>9204.000000</td>\n",
       "      <td>8750.000000</td>\n",
       "      <td>2.000000</td>\n",
       "      <td>22.500000</td>\n",
       "      <td>1.503996e+09</td>\n",
       "      <td>0.000000e+00</td>\n",
       "      <td>1.000000</td>\n",
       "      <td>...</td>\n",
       "      <td>1.000000</td>\n",
       "      <td>0.000000</td>\n",
       "      <td>0.000000</td>\n",
       "      <td>0.000000</td>\n",
       "      <td>0.000000</td>\n",
       "      <td>0.000000</td>\n",
       "      <td>0.000000</td>\n",
       "      <td>3.0</td>\n",
       "      <td>11.000000</td>\n",
       "      <td>0.000000</td>\n",
       "    </tr>\n",
       "    <tr>\n",
       "      <th>50%</th>\n",
       "      <td>1739.000000</td>\n",
       "      <td>1800.000000</td>\n",
       "      <td>8678.000000</td>\n",
       "      <td>9204.000000</td>\n",
       "      <td>8750.000000</td>\n",
       "      <td>3.000000</td>\n",
       "      <td>67.000000</td>\n",
       "      <td>1.504008e+09</td>\n",
       "      <td>0.000000e+00</td>\n",
       "      <td>1.000000</td>\n",
       "      <td>...</td>\n",
       "      <td>1.000000</td>\n",
       "      <td>0.000000</td>\n",
       "      <td>0.000000</td>\n",
       "      <td>0.000000</td>\n",
       "      <td>27.000000</td>\n",
       "      <td>1.000000</td>\n",
       "      <td>0.000000</td>\n",
       "      <td>3.0</td>\n",
       "      <td>14.000000</td>\n",
       "      <td>0.000000</td>\n",
       "    </tr>\n",
       "    <tr>\n",
       "      <th>75%</th>\n",
       "      <td>1739.000000</td>\n",
       "      <td>1800.000000</td>\n",
       "      <td>8680.000000</td>\n",
       "      <td>9205.000000</td>\n",
       "      <td>8750.000000</td>\n",
       "      <td>3.000000</td>\n",
       "      <td>161.000000</td>\n",
       "      <td>1.504021e+09</td>\n",
       "      <td>1.504003e+09</td>\n",
       "      <td>2.000000</td>\n",
       "      <td>...</td>\n",
       "      <td>1.000000</td>\n",
       "      <td>0.000000</td>\n",
       "      <td>0.000000</td>\n",
       "      <td>0.000000</td>\n",
       "      <td>39.000000</td>\n",
       "      <td>1.000000</td>\n",
       "      <td>1.000000</td>\n",
       "      <td>3.0</td>\n",
       "      <td>18.000000</td>\n",
       "      <td>1118.250000</td>\n",
       "    </tr>\n",
       "    <tr>\n",
       "      <th>max</th>\n",
       "      <td>1739.000000</td>\n",
       "      <td>1800.000000</td>\n",
       "      <td>9650.000000</td>\n",
       "      <td>10769.000000</td>\n",
       "      <td>10867.000000</td>\n",
       "      <td>13.000000</td>\n",
       "      <td>274.000000</td>\n",
       "      <td>1.504035e+09</td>\n",
       "      <td>1.504035e+09</td>\n",
       "      <td>36.000000</td>\n",
       "      <td>...</td>\n",
       "      <td>15.000000</td>\n",
       "      <td>2.000000</td>\n",
       "      <td>5.000000</td>\n",
       "      <td>4.000000</td>\n",
       "      <td>64.000000</td>\n",
       "      <td>5.000000</td>\n",
       "      <td>2.000000</td>\n",
       "      <td>3.0</td>\n",
       "      <td>22.000000</td>\n",
       "      <td>64205.000000</td>\n",
       "    </tr>\n",
       "  </tbody>\n",
       "</table>\n",
       "<p>8 rows × 24 columns</p>\n",
       "</div>"
      ],
      "text/plain": [
       "                MK      SEGMENT      Service   Channeltype        Source  \\\n",
       "count  2176.000000  2176.000000  2176.000000   2176.000000   2176.000000   \n",
       "mean   1402.216912  1533.951287  8781.398897   8569.186581   8710.108915   \n",
       "std     672.369481   583.870341   298.685745   2486.975451    341.808414   \n",
       "min       1.000000     1.000000  8676.000000      0.000000   6026.000000   \n",
       "25%    1739.000000  1800.000000  8678.000000   9204.000000   8750.000000   \n",
       "50%    1739.000000  1800.000000  8678.000000   9204.000000   8750.000000   \n",
       "75%    1739.000000  1800.000000  8680.000000   9205.000000   8750.000000   \n",
       "max    1739.000000  1800.000000  9650.000000  10769.000000  10867.000000   \n",
       "\n",
       "          football  DECLARED_FAULT   CREATE_DATE     CLOSETIME  \\\n",
       "count  2176.000000     2176.000000  2.176000e+03  2.176000e+03   \n",
       "mean      2.884191      106.888787  1.504009e+09  4.803717e+08   \n",
       "std       1.284177      101.912374  1.547768e+04  7.013945e+08   \n",
       "min       1.000000        1.000000  1.503954e+09  0.000000e+00   \n",
       "25%       2.000000       22.500000  1.503996e+09  0.000000e+00   \n",
       "50%       3.000000       67.000000  1.504008e+09  0.000000e+00   \n",
       "75%       3.000000      161.000000  1.504021e+09  1.504003e+09   \n",
       "max      13.000000      274.000000  1.504035e+09  1.504035e+09   \n",
       "\n",
       "       all_num_of_repeat      ...        num_of_repeat60       MITYPE  \\\n",
       "count        2176.000000      ...            2176.000000  2176.000000   \n",
       "mean            1.900276      ...               1.190717     0.157169   \n",
       "std             2.222493      ...               0.854428     0.462004   \n",
       "min             0.000000      ...               0.000000     0.000000   \n",
       "25%             1.000000      ...               1.000000     0.000000   \n",
       "50%             1.000000      ...               1.000000     0.000000   \n",
       "75%             2.000000      ...               1.000000     0.000000   \n",
       "max            36.000000      ...              15.000000     2.000000   \n",
       "\n",
       "        MIPRIORITY     MIIMPACT  TECHNICAL_DISTRICT  NumWFMforEI  \\\n",
       "count  2176.000000  2176.000000         2176.000000  2176.000000   \n",
       "mean      0.195772     0.192096           21.148438     0.614430   \n",
       "std       0.741109     0.732090           18.681001     0.528501   \n",
       "min       0.000000     0.000000            0.000000     0.000000   \n",
       "25%       0.000000     0.000000            0.000000     0.000000   \n",
       "50%       0.000000     0.000000           27.000000     1.000000   \n",
       "75%       0.000000     0.000000           39.000000     1.000000   \n",
       "max       5.000000     4.000000           64.000000     5.000000   \n",
       "\n",
       "       Last_WFM_days_waiting  EIDayOfWeek  EIHourCreate  decision_time  \n",
       "count            2176.000000       2176.0   2176.000000    2176.000000  \n",
       "mean               -0.813879          3.0     14.653493    3718.231158  \n",
       "std                 5.704510          0.0      4.296309    8798.430375  \n",
       "min               -28.000000          3.0      0.000000       0.000000  \n",
       "25%                 0.000000          3.0     11.000000       0.000000  \n",
       "50%                 0.000000          3.0     14.000000       0.000000  \n",
       "75%                 1.000000          3.0     18.000000    1118.250000  \n",
       "max                 2.000000          3.0     22.000000   64205.000000  \n",
       "\n",
       "[8 rows x 24 columns]"
      ]
     },
     "execution_count": 31,
     "metadata": {},
     "output_type": "execute_result"
    }
   ],
   "source": [
    "# result\n",
    "data_y.describe()"
   ]
  },
  {
   "cell_type": "code",
   "execution_count": 32,
   "metadata": {
    "collapsed": true
   },
   "outputs": [],
   "source": [
    "# try:\n",
    "#     data_describe = data.describe(include=[object])\n",
    "#     data_describe\n",
    "# except:\n",
    "#     pass"
   ]
  },
  {
   "cell_type": "code",
   "execution_count": 33,
   "metadata": {
    "collapsed": true
   },
   "outputs": [],
   "source": [
    "# for c in categorical_columns:\n",
    "#     data[c] = data[c].fillna(data_describe[c]['top'])\n",
    "# data.describe(include=[object])"
   ]
  },
  {
   "cell_type": "code",
   "execution_count": 34,
   "metadata": {
    "collapsed": true
   },
   "outputs": [],
   "source": [
    "# data['DECLARED_FAULT'].unique()"
   ]
  },
  {
   "cell_type": "code",
   "execution_count": 35,
   "metadata": {
    "collapsed": true
   },
   "outputs": [],
   "source": [
    "# # devide categorical (non-numerical) columns to binary and nonbinary\n",
    "# binary_columns    = [c for c in categorical_columns if data_describe[c]['unique'] == 2]\n",
    "# nonbinary_columns = [c for c in categorical_columns if data_describe[c]['unique'] > 2]\n",
    "# print(binary_columns, nonbinary_columns)\n"
   ]
  },
  {
   "cell_type": "code",
   "execution_count": 36,
   "metadata": {
    "collapsed": true
   },
   "outputs": [],
   "source": [
    "# # for non-binary columns|features vectorizing is 1) divide each column to the numbers of unique values in the column\n",
    "# # 2) and if value exist then only one column's row filled like 1\n",
    "# # for example, column A4 have 3 unique values: print(data['A4'].unique()) => ['u' 'y' 'l']\n",
    "# # create 3 new columns: 4_u, A4_y, A4_l\n",
    "# # If A4 value is 'u', then A4_u = 1, A4_y = 0, A4_l = 0, etc.\n",
    "# # In Pandas it's performed via using .get_dummies method.\n",
    "\n",
    "# data_nonbinary = pd.get_dummies(data[nonbinary_columns[6:8]], columns=None) # !!!!!! Limitation 6:10!!!!!!!!!1\n",
    "# data_nonbinary.columns"
   ]
  },
  {
   "cell_type": "code",
   "execution_count": 37,
   "metadata": {
    "collapsed": true
   },
   "outputs": [],
   "source": [
    "# data = data_nonbinary\n",
    "# data = pd.DataFrame(data, dtype=float)\n",
    "# print(data.shape)\n",
    "# print(data.columns)"
   ]
  },
  {
   "cell_type": "code",
   "execution_count": 38,
   "metadata": {},
   "outputs": [
    {
     "data": {
      "text/html": [
       "<div>\n",
       "<style>\n",
       "    .dataframe thead tr:only-child th {\n",
       "        text-align: right;\n",
       "    }\n",
       "\n",
       "    .dataframe thead th {\n",
       "        text-align: left;\n",
       "    }\n",
       "\n",
       "    .dataframe tbody tr th {\n",
       "        vertical-align: top;\n",
       "    }\n",
       "</style>\n",
       "<table border=\"1\" class=\"dataframe\">\n",
       "  <thead>\n",
       "    <tr style=\"text-align: right;\">\n",
       "      <th></th>\n",
       "      <th>Service</th>\n",
       "      <th>Channeltype</th>\n",
       "      <th>Source</th>\n",
       "      <th>football</th>\n",
       "      <th>CREATE_DATE</th>\n",
       "      <th>CLOSETIME</th>\n",
       "      <th>all_num_of_repeat</th>\n",
       "      <th>num_of_repeat2</th>\n",
       "      <th>num_of_repeat5</th>\n",
       "      <th>num_of_repeat10</th>\n",
       "      <th>num_of_repeat30</th>\n",
       "      <th>num_of_repeat60</th>\n",
       "      <th>MITYPE</th>\n",
       "      <th>MIPRIORITY</th>\n",
       "      <th>MIIMPACT</th>\n",
       "      <th>TECHNICAL_DISTRICT</th>\n",
       "      <th>NumWFMforEI</th>\n",
       "      <th>Last_WFM_days_waiting</th>\n",
       "      <th>EIDayOfWeek</th>\n",
       "      <th>EIHourCreate</th>\n",
       "    </tr>\n",
       "  </thead>\n",
       "  <tbody>\n",
       "    <tr>\n",
       "      <th>count</th>\n",
       "      <td>2.176000e+03</td>\n",
       "      <td>2.176000e+03</td>\n",
       "      <td>2.176000e+03</td>\n",
       "      <td>2.176000e+03</td>\n",
       "      <td>2.176000e+03</td>\n",
       "      <td>2.176000e+03</td>\n",
       "      <td>2.176000e+03</td>\n",
       "      <td>2.176000e+03</td>\n",
       "      <td>2.176000e+03</td>\n",
       "      <td>2.176000e+03</td>\n",
       "      <td>2.176000e+03</td>\n",
       "      <td>2.176000e+03</td>\n",
       "      <td>2.176000e+03</td>\n",
       "      <td>2.176000e+03</td>\n",
       "      <td>2.176000e+03</td>\n",
       "      <td>2.176000e+03</td>\n",
       "      <td>2.176000e+03</td>\n",
       "      <td>2.176000e+03</td>\n",
       "      <td>0.0</td>\n",
       "      <td>2.176000e+03</td>\n",
       "    </tr>\n",
       "    <tr>\n",
       "      <th>mean</th>\n",
       "      <td>5.745251e-16</td>\n",
       "      <td>-3.528632e-16</td>\n",
       "      <td>-9.936011e-16</td>\n",
       "      <td>-1.974830e-15</td>\n",
       "      <td>-1.813173e-12</td>\n",
       "      <td>6.933486e-15</td>\n",
       "      <td>-6.237351e-18</td>\n",
       "      <td>-1.645423e-15</td>\n",
       "      <td>1.280022e-15</td>\n",
       "      <td>1.105529e-15</td>\n",
       "      <td>4.221501e-16</td>\n",
       "      <td>-2.500553e-16</td>\n",
       "      <td>3.891903e-16</td>\n",
       "      <td>-4.180020e-15</td>\n",
       "      <td>-2.549023e-16</td>\n",
       "      <td>-3.298015e-16</td>\n",
       "      <td>-4.898043e-17</td>\n",
       "      <td>6.111329e-16</td>\n",
       "      <td>NaN</td>\n",
       "      <td>-1.145938e-15</td>\n",
       "    </tr>\n",
       "    <tr>\n",
       "      <th>std</th>\n",
       "      <td>1.000000e+00</td>\n",
       "      <td>1.000000e+00</td>\n",
       "      <td>1.000000e+00</td>\n",
       "      <td>1.000000e+00</td>\n",
       "      <td>1.000000e+00</td>\n",
       "      <td>1.000000e+00</td>\n",
       "      <td>1.000000e+00</td>\n",
       "      <td>1.000000e+00</td>\n",
       "      <td>1.000000e+00</td>\n",
       "      <td>1.000000e+00</td>\n",
       "      <td>1.000000e+00</td>\n",
       "      <td>1.000000e+00</td>\n",
       "      <td>1.000000e+00</td>\n",
       "      <td>1.000000e+00</td>\n",
       "      <td>1.000000e+00</td>\n",
       "      <td>1.000000e+00</td>\n",
       "      <td>1.000000e+00</td>\n",
       "      <td>1.000000e+00</td>\n",
       "      <td>NaN</td>\n",
       "      <td>1.000000e+00</td>\n",
       "    </tr>\n",
       "    <tr>\n",
       "      <th>min</th>\n",
       "      <td>-3.528756e-01</td>\n",
       "      <td>-3.445626e+00</td>\n",
       "      <td>-7.852671e+00</td>\n",
       "      <td>-1.467236e+00</td>\n",
       "      <td>-3.522958e+00</td>\n",
       "      <td>-6.848809e-01</td>\n",
       "      <td>-8.550198e-01</td>\n",
       "      <td>-2.710792e+00</td>\n",
       "      <td>-2.510446e+00</td>\n",
       "      <td>-2.290583e+00</td>\n",
       "      <td>-1.758955e+00</td>\n",
       "      <td>-1.393584e+00</td>\n",
       "      <td>-3.401902e-01</td>\n",
       "      <td>-2.641611e-01</td>\n",
       "      <td>-2.623934e-01</td>\n",
       "      <td>-1.132083e+00</td>\n",
       "      <td>-1.162590e+00</td>\n",
       "      <td>-4.765724e+00</td>\n",
       "      <td>NaN</td>\n",
       "      <td>-3.410717e+00</td>\n",
       "    </tr>\n",
       "    <tr>\n",
       "      <th>25%</th>\n",
       "      <td>-3.461796e-01</td>\n",
       "      <td>2.552552e-01</td>\n",
       "      <td>1.167060e-01</td>\n",
       "      <td>-6.885274e-01</td>\n",
       "      <td>-7.791041e-01</td>\n",
       "      <td>-6.848809e-01</td>\n",
       "      <td>-4.050747e-01</td>\n",
       "      <td>1.074992e-01</td>\n",
       "      <td>4.820997e-02</td>\n",
       "      <td>-2.498818e-02</td>\n",
       "      <td>-1.514430e-01</td>\n",
       "      <td>-2.232101e-01</td>\n",
       "      <td>-3.401902e-01</td>\n",
       "      <td>-2.641611e-01</td>\n",
       "      <td>-2.623934e-01</td>\n",
       "      <td>-1.132083e+00</td>\n",
       "      <td>-1.162590e+00</td>\n",
       "      <td>1.426728e-01</td>\n",
       "      <td>NaN</td>\n",
       "      <td>-8.503795e-01</td>\n",
       "    </tr>\n",
       "    <tr>\n",
       "      <th>50%</th>\n",
       "      <td>-3.461796e-01</td>\n",
       "      <td>2.552552e-01</td>\n",
       "      <td>1.167060e-01</td>\n",
       "      <td>9.018135e-02</td>\n",
       "      <td>-3.735861e-02</td>\n",
       "      <td>-6.848809e-01</td>\n",
       "      <td>-4.050747e-01</td>\n",
       "      <td>1.074992e-01</td>\n",
       "      <td>4.820997e-02</td>\n",
       "      <td>-2.498818e-02</td>\n",
       "      <td>-1.514430e-01</td>\n",
       "      <td>-2.232101e-01</td>\n",
       "      <td>-3.401902e-01</td>\n",
       "      <td>-2.641611e-01</td>\n",
       "      <td>-2.623934e-01</td>\n",
       "      <td>3.132360e-01</td>\n",
       "      <td>7.295534e-01</td>\n",
       "      <td>1.426728e-01</td>\n",
       "      <td>NaN</td>\n",
       "      <td>-1.521056e-01</td>\n",
       "    </tr>\n",
       "    <tr>\n",
       "      <th>75%</th>\n",
       "      <td>-3.394836e-01</td>\n",
       "      <td>2.556573e-01</td>\n",
       "      <td>1.167060e-01</td>\n",
       "      <td>9.018135e-02</td>\n",
       "      <td>8.085530e-01</td>\n",
       "      <td>1.459423e+00</td>\n",
       "      <td>4.487045e-02</td>\n",
       "      <td>1.074992e-01</td>\n",
       "      <td>4.820997e-02</td>\n",
       "      <td>-2.498818e-02</td>\n",
       "      <td>-1.514430e-01</td>\n",
       "      <td>-2.232101e-01</td>\n",
       "      <td>-3.401902e-01</td>\n",
       "      <td>-2.641611e-01</td>\n",
       "      <td>-2.623934e-01</td>\n",
       "      <td>9.555999e-01</td>\n",
       "      <td>7.295534e-01</td>\n",
       "      <td>3.179727e-01</td>\n",
       "      <td>NaN</td>\n",
       "      <td>7.789262e-01</td>\n",
       "    </tr>\n",
       "    <tr>\n",
       "      <th>max</th>\n",
       "      <td>2.908077e+00</td>\n",
       "      <td>8.845336e-01</td>\n",
       "      <td>6.310234e+00</td>\n",
       "      <td>7.877269e+00</td>\n",
       "      <td>1.730477e+00</td>\n",
       "      <td>1.459469e+00</td>\n",
       "      <td>1.534301e+01</td>\n",
       "      <td>5.744082e+00</td>\n",
       "      <td>7.724177e+00</td>\n",
       "      <td>6.771797e+00</td>\n",
       "      <td>1.270866e+01</td>\n",
       "      <td>1.616202e+01</td>\n",
       "      <td>3.988779e+00</td>\n",
       "      <td>6.482489e+00</td>\n",
       "      <td>5.201415e+00</td>\n",
       "      <td>2.293858e+00</td>\n",
       "      <td>8.298127e+00</td>\n",
       "      <td>4.932726e-01</td>\n",
       "      <td>NaN</td>\n",
       "      <td>1.709958e+00</td>\n",
       "    </tr>\n",
       "  </tbody>\n",
       "</table>\n",
       "</div>"
      ],
      "text/plain": [
       "            Service   Channeltype        Source      football   CREATE_DATE  \\\n",
       "count  2.176000e+03  2.176000e+03  2.176000e+03  2.176000e+03  2.176000e+03   \n",
       "mean   5.745251e-16 -3.528632e-16 -9.936011e-16 -1.974830e-15 -1.813173e-12   \n",
       "std    1.000000e+00  1.000000e+00  1.000000e+00  1.000000e+00  1.000000e+00   \n",
       "min   -3.528756e-01 -3.445626e+00 -7.852671e+00 -1.467236e+00 -3.522958e+00   \n",
       "25%   -3.461796e-01  2.552552e-01  1.167060e-01 -6.885274e-01 -7.791041e-01   \n",
       "50%   -3.461796e-01  2.552552e-01  1.167060e-01  9.018135e-02 -3.735861e-02   \n",
       "75%   -3.394836e-01  2.556573e-01  1.167060e-01  9.018135e-02  8.085530e-01   \n",
       "max    2.908077e+00  8.845336e-01  6.310234e+00  7.877269e+00  1.730477e+00   \n",
       "\n",
       "          CLOSETIME  all_num_of_repeat  num_of_repeat2  num_of_repeat5  \\\n",
       "count  2.176000e+03       2.176000e+03    2.176000e+03    2.176000e+03   \n",
       "mean   6.933486e-15      -6.237351e-18   -1.645423e-15    1.280022e-15   \n",
       "std    1.000000e+00       1.000000e+00    1.000000e+00    1.000000e+00   \n",
       "min   -6.848809e-01      -8.550198e-01   -2.710792e+00   -2.510446e+00   \n",
       "25%   -6.848809e-01      -4.050747e-01    1.074992e-01    4.820997e-02   \n",
       "50%   -6.848809e-01      -4.050747e-01    1.074992e-01    4.820997e-02   \n",
       "75%    1.459423e+00       4.487045e-02    1.074992e-01    4.820997e-02   \n",
       "max    1.459469e+00       1.534301e+01    5.744082e+00    7.724177e+00   \n",
       "\n",
       "       num_of_repeat10  num_of_repeat30  num_of_repeat60        MITYPE  \\\n",
       "count     2.176000e+03     2.176000e+03     2.176000e+03  2.176000e+03   \n",
       "mean      1.105529e-15     4.221501e-16    -2.500553e-16  3.891903e-16   \n",
       "std       1.000000e+00     1.000000e+00     1.000000e+00  1.000000e+00   \n",
       "min      -2.290583e+00    -1.758955e+00    -1.393584e+00 -3.401902e-01   \n",
       "25%      -2.498818e-02    -1.514430e-01    -2.232101e-01 -3.401902e-01   \n",
       "50%      -2.498818e-02    -1.514430e-01    -2.232101e-01 -3.401902e-01   \n",
       "75%      -2.498818e-02    -1.514430e-01    -2.232101e-01 -3.401902e-01   \n",
       "max       6.771797e+00     1.270866e+01     1.616202e+01  3.988779e+00   \n",
       "\n",
       "         MIPRIORITY      MIIMPACT  TECHNICAL_DISTRICT   NumWFMforEI  \\\n",
       "count  2.176000e+03  2.176000e+03        2.176000e+03  2.176000e+03   \n",
       "mean  -4.180020e-15 -2.549023e-16       -3.298015e-16 -4.898043e-17   \n",
       "std    1.000000e+00  1.000000e+00        1.000000e+00  1.000000e+00   \n",
       "min   -2.641611e-01 -2.623934e-01       -1.132083e+00 -1.162590e+00   \n",
       "25%   -2.641611e-01 -2.623934e-01       -1.132083e+00 -1.162590e+00   \n",
       "50%   -2.641611e-01 -2.623934e-01        3.132360e-01  7.295534e-01   \n",
       "75%   -2.641611e-01 -2.623934e-01        9.555999e-01  7.295534e-01   \n",
       "max    6.482489e+00  5.201415e+00        2.293858e+00  8.298127e+00   \n",
       "\n",
       "       Last_WFM_days_waiting  EIDayOfWeek  EIHourCreate  \n",
       "count           2.176000e+03          0.0  2.176000e+03  \n",
       "mean            6.111329e-16          NaN -1.145938e-15  \n",
       "std             1.000000e+00          NaN  1.000000e+00  \n",
       "min            -4.765724e+00          NaN -3.410717e+00  \n",
       "25%             1.426728e-01          NaN -8.503795e-01  \n",
       "50%             1.426728e-01          NaN -1.521056e-01  \n",
       "75%             3.179727e-01          NaN  7.789262e-01  \n",
       "max             4.932726e-01          NaN  1.709958e+00  "
      ]
     },
     "execution_count": 38,
     "metadata": {},
     "output_type": "execute_result"
    }
   ],
   "source": [
    "## Normalization\n",
    "data_numerical_x = data[numerical_columns_x]\n",
    "data_numerical_x = (data_numerical_x - data_numerical_x.mean()) / data_numerical_x.std()\n",
    "\n",
    "data_numerical_y = data_y[numerical_columns_y]\n",
    "data_numerical_y = (data_numerical_y - data_numerical_y.mean()) / data_numerical_y.std()\n",
    "\n",
    "# data_numerical_x.describe()\n",
    "data_numerical_y.describe()"
   ]
  },
  {
   "cell_type": "code",
   "execution_count": 39,
   "metadata": {
    "collapsed": true
   },
   "outputs": [],
   "source": [
    "# data_numerical_x.head()"
   ]
  },
  {
   "cell_type": "code",
   "execution_count": 40,
   "metadata": {},
   "outputs": [
    {
     "name": "stdout",
     "output_type": "stream",
     "text": [
      "Index(['MK', 'SEGMENT', 'Service', 'Channeltype', 'Source', 'football',\n",
      "       'DECLARED_FAULT', 'num_of_repeat2', 'num_of_repeat5', 'num_of_repeat10',\n",
      "       'num_of_repeat30', 'num_of_repeat60', 'MITYPE', 'MIPRIORITY',\n",
      "       'MIIMPACT', 'TECHNICAL_DISTRICT', 'NumWFMforEI',\n",
      "       'Last_WFM_days_waiting', 'EIDayOfWeek', 'EIHourCreate',\n",
      "       'decision_time'],\n",
      "      dtype='object')\n"
     ]
    }
   ],
   "source": [
    "## For data\n",
    "X = data.drop(['all_num_of_repeat','CLOSETIME', 'CREATE_DATE'], axis=1)  \n",
    "y = data['all_num_of_repeat']\n",
    "feature_names = X.columns\n",
    "print(feature_names)\n",
    "fsel_names={'decision_time':'Время решения'}\n",
    "for i in feature_names:\n",
    "    if i!= 'decision_time':\n",
    "        fsel_names[i]=f_names[i]\n",
    "# fsel_names"
   ]
  },
  {
   "cell_type": "code",
   "execution_count": 41,
   "metadata": {},
   "outputs": [
    {
     "name": "stdout",
     "output_type": "stream",
     "text": [
      "Index(['MK', 'SEGMENT', 'Service', 'Channeltype', 'Source', 'football',\n",
      "       'DECLARED_FAULT', 'num_of_repeat2', 'num_of_repeat5', 'num_of_repeat10',\n",
      "       'num_of_repeat30', 'num_of_repeat60', 'MITYPE', 'MIPRIORITY',\n",
      "       'MIIMPACT', 'TECHNICAL_DISTRICT', 'NumWFMforEI',\n",
      "       'Last_WFM_days_waiting', 'EIDayOfWeek', 'EIHourCreate',\n",
      "       'decision_time'],\n",
      "      dtype='object')\n"
     ]
    }
   ],
   "source": [
    "## For data_y\n",
    "X_y = data_y.drop(['all_num_of_repeat','CLOSETIME', 'CREATE_DATE'], axis=1)  \n",
    "y_y = data_y['all_num_of_repeat']\n",
    "feature_names_y = X_y.columns\n",
    "print(feature_names_y)\n",
    "fsel_names_y={'decision_time':'Время решения'}\n",
    "for i in feature_names_y:\n",
    "    if i!= 'decision_time':\n",
    "        fsel_names_y[i]=f_names[i]\n",
    "# fsel_names"
   ]
  },
  {
   "cell_type": "code",
   "execution_count": 42,
   "metadata": {},
   "outputs": [
    {
     "name": "stdout",
     "output_type": "stream",
     "text": [
      "(362708, 21)\n",
      "(362708,)\n",
      "(2176, 21)\n",
      "(2176,)\n"
     ]
    }
   ],
   "source": [
    "print(X.shape)\n",
    "print(y.shape)\n",
    "N, d = X.shape\n",
    "print(X_y.shape)\n",
    "print(y_y.shape)\n",
    "N_y, d_y = X_y.shape"
   ]
  },
  {
   "cell_type": "code",
   "execution_count": 43,
   "metadata": {},
   "outputs": [
    {
     "name": "stdout",
     "output_type": "stream",
     "text": [
      "362708 2176\n",
      "Wall time: 5.53 s\n"
     ]
    }
   ],
   "source": [
    "%%time\n",
    "## Devide for train and test samples for OLD data\n",
    "from sklearn.model_selection import train_test_split\n",
    "X_train, X_test_x, y_train, y_test_x = train_test_split(X, y, test_size = 0.0, random_state = 11) # obviously test_size=\n",
    "\n",
    "\n",
    "## Devide for train and test samples for FRESH data\n",
    "from sklearn.model_selection import train_test_split\n",
    "X_train_y, X_test, y_train_y, y_test = train_test_split(X_y, y_y, test_size = 0.9999999999999999, random_state = 11) # obviously test_size=\n",
    "\n",
    "\n",
    "N_train_y, _ = X_train.shape \n",
    "N_test_y,  _ = X_test.shape \n",
    "N_train, _ = X_train.shape \n",
    "N_test,  _ = X_test.shape \n",
    "print(N_train, N_test)\n",
    "# print(N_train_y, N_test_y)\n",
    "# X_train, y_train is a training sample, X_test, y_test is a test sample."
   ]
  },
  {
   "cell_type": "code",
   "execution_count": 44,
   "metadata": {},
   "outputs": [
    {
     "name": "stdout",
     "output_type": "stream",
     "text": [
      "Wall time: 4min 2s\n"
     ]
    }
   ],
   "source": [
    "%%time\n",
    "# Teach the model\n",
    "from sklearn.neighbors import KNeighborsClassifier\n",
    "\n",
    "knn = KNeighborsClassifier()\n",
    "knn.fit(X_train, y_train)"
   ]
  },
  {
   "cell_type": "code",
   "execution_count": 45,
   "metadata": {},
   "outputs": [
    {
     "name": "stdout",
     "output_type": "stream",
     "text": [
      "0.391069400179 0.830422794118\n",
      "Wall time: 2min 30s\n"
     ]
    }
   ],
   "source": [
    "%%time\n",
    "y_train_predict = knn.predict(X_train)\n",
    "y_test_predict = knn.predict(X_test)\n",
    "\n",
    "err_train = np.mean(y_train != y_train_predict)\n",
    "err_test  = np.mean(y_test  != y_test_predict)\n",
    "print(err_train, err_test)"
   ]
  },
  {
   "cell_type": "code",
   "execution_count": 46,
   "metadata": {},
   "outputs": [],
   "source": [
    "# %%time\n",
    "# from sklearn.model_selection import GridSearchCV\n",
    "# n_neighbors_array = [1, 3, 5, 7, 10, 15, 20, 40, 60, 235]\n",
    "# knn = KNeighborsClassifier()\n",
    "# grid = GridSearchCV(knn, param_grid={'n_neighbors': n_neighbors_array})\n",
    "# grid.fit(X_train, y_train)\n",
    "\n",
    "# best_cv_err = 1 - grid.best_score_\n",
    "# best_n_neighbors = grid.best_estimator_.n_neighbors\n",
    "# print(best_cv_err, best_n_neighbors)"
   ]
  },
  {
   "cell_type": "code",
   "execution_count": 47,
   "metadata": {},
   "outputs": [],
   "source": [
    "# %%time\n",
    "# knn = KNeighborsClassifier(n_neighbors=best_n_neighbors)\n",
    "# knn.fit(X_train, y_train)\n",
    "\n",
    "# err_train = np.mean(y_train != knn.predict(X_train))\n",
    "# err_test  = np.mean(y_test  != knn.predict(X_test))\n",
    "# print(err_train, err_test)"
   ]
  },
  {
   "cell_type": "code",
   "execution_count": 48,
   "metadata": {
    "collapsed": true
   },
   "outputs": [],
   "source": [
    "# %%time\n",
    "# from sklearn.svm import SVC\n",
    "# svc = SVC()\n",
    "# svc.fit(X_train, y_train)\n",
    "\n",
    "# err_train = np.mean(y_train != svc.predict(X_train))\n",
    "# err_test  = np.mean(y_test  != svc.predict(X_test))\n",
    "# print(err_train, err_test)"
   ]
  },
  {
   "cell_type": "code",
   "execution_count": 49,
   "metadata": {
    "collapsed": true
   },
   "outputs": [],
   "source": [
    "# %%time\n",
    "# from sklearn.model_selection import GridSearchCV\n",
    "# C_array = np.logspace(-3, 3, num=7)\n",
    "# gamma_array = np.logspace(-5, 2, num=8)\n",
    "# svc = SVC(kernel='rbf')\n",
    "# grid = GridSearchCV(svc, param_grid={'C': C_array, 'gamma': gamma_array, 'n'})\n",
    "# grid.fit(X_train, y_train)\n",
    "# print('CV error    = ', 1 - grid.best_score_)\n",
    "# print('best C      = ', grid.best_estimator_.C)\n",
    "# print('best gamma  = ', grid.best_estimator_.gamma)"
   ]
  },
  {
   "cell_type": "code",
   "execution_count": 50,
   "metadata": {
    "collapsed": true
   },
   "outputs": [],
   "source": [
    "# %%time\n",
    "# svc = SVC(kernel='rbf', C=grid.best_estimator_.C, gamma=grid.best_estimator_.gamma)\n",
    "# svc.fit(X_train, y_train)\n",
    "\n",
    "# err_train = np.mean(y_train != svc.predict(X_train))\n",
    "# # err_test  = np.mean(y_test  != svc.predict(X_test))\n",
    "# print(err_train, err_test)"
   ]
  },
  {
   "cell_type": "code",
   "execution_count": 51,
   "metadata": {
    "collapsed": true
   },
   "outputs": [],
   "source": [
    "# %%time\n",
    "# from sklearn.model_selection import GridSearchCV\n",
    "# C_array = np.logspace(-3, 3, num=7)\n",
    "# svc = SVC(kernel='linear')\n",
    "# grid = GridSearchCV(svc, param_grid={'C': C_array})\n",
    "# grid.fit(X_train, y_train)\n",
    "# print('CV error    = ', 1 - grid.best_score_)\n",
    "# print('best C      = ', grid.best_estimator_.C)"
   ]
  },
  {
   "cell_type": "code",
   "execution_count": 52,
   "metadata": {
    "collapsed": true
   },
   "outputs": [],
   "source": [
    "# %%time\n",
    "# svc = SVC(kernel='linear', C=grid.best_estimator_.C)\n",
    "# svc.fit(X_train, y_train)\n",
    "\n",
    "# err_train = np.mean(y_train != svc.predict(X_train))\n",
    "# err_test  = np.mean(y_test  != svc.predict(X_test))\n",
    "# print(err_train, err_test)"
   ]
  },
  {
   "cell_type": "code",
   "execution_count": 53,
   "metadata": {
    "collapsed": true
   },
   "outputs": [],
   "source": [
    "# %%time\n",
    "# from sklearn.grid_search import GridSearchCV\n",
    "# C_array = np.logspace(-5, 2, num=8)\n",
    "# gamma_array = np.logspace(-5, 2, num=8)\n",
    "# degree_array = [2, 3, 4]\n",
    "# svc = SVC(kernel='poly')\n",
    "# grid = GridSearchCV(svc, param_grid={'C': C_array, 'gamma': gamma_array, 'degree': degree_array})\n",
    "# grid.fit(X_train, y_train)\n",
    "# print('CV error    = ', 1 - grid.best_score_)\n",
    "# print('best C      = ', grid.best_estimator_.C)\n",
    "# print('best gamma  = ', grid.best_estimator_.gamma)\n",
    "# print('best degree = ', grid.best_estimator_.degree)"
   ]
  },
  {
   "cell_type": "code",
   "execution_count": 54,
   "metadata": {
    "collapsed": true
   },
   "outputs": [],
   "source": [
    "# %%time\n",
    "# svc = SVC(kernel='poly', C=grid.best_estimator_.C, \n",
    "#           gamma=grid.best_estimator_.gamma, degree=grid.best_estimator_.degree)\n",
    "# svc.fit(X_train, y_train)\n",
    "\n",
    "# err_train = np.mean(y_train != svc.predict(X_train))\n",
    "# err_test  = np.mean(y_test  != svc.predict(X_test))\n",
    "# print(err_train, err_test)"
   ]
  },
  {
   "cell_type": "code",
   "execution_count": 55,
   "metadata": {},
   "outputs": [
    {
     "ename": "MemoryError",
     "evalue": "",
     "output_type": "error",
     "traceback": [
      "\u001b[1;31m---------------------------------------------------------------------------\u001b[0m",
      "\u001b[1;31mMemoryError\u001b[0m                               Traceback (most recent call last)",
      "\u001b[1;32m<ipython-input-55-10198407b304>\u001b[0m in \u001b[0;36m<module>\u001b[1;34m()\u001b[0m\n\u001b[1;32m----> 1\u001b[1;33m \u001b[0mget_ipython\u001b[0m\u001b[1;33m(\u001b[0m\u001b[1;33m)\u001b[0m\u001b[1;33m.\u001b[0m\u001b[0mrun_cell_magic\u001b[0m\u001b[1;33m(\u001b[0m\u001b[1;34m'time'\u001b[0m\u001b[1;33m,\u001b[0m \u001b[1;34m''\u001b[0m\u001b[1;33m,\u001b[0m \u001b[1;34m'from sklearn import ensemble\\nrf = ensemble.RandomForestClassifier(n_estimators=5, random_state=11)\\nrf.fit(X_train, y_train)\\n\\nerr_train = np.mean(y_train != rf.predict(X_train))\\nerr_test  = np.mean(y_test  != rf.predict(X_test))\\nprint(err_train, err_test)'\u001b[0m\u001b[1;33m)\u001b[0m\u001b[1;33m\u001b[0m\u001b[0m\n\u001b[0m",
      "\u001b[1;32mC:\\Users\\MRekunchak\\AppData\\Local\\Continuum\\Anaconda3\\lib\\site-packages\\IPython\\core\\interactiveshell.py\u001b[0m in \u001b[0;36mrun_cell_magic\u001b[1;34m(self, magic_name, line, cell)\u001b[0m\n\u001b[0;32m   2113\u001b[0m             \u001b[0mmagic_arg_s\u001b[0m \u001b[1;33m=\u001b[0m \u001b[0mself\u001b[0m\u001b[1;33m.\u001b[0m\u001b[0mvar_expand\u001b[0m\u001b[1;33m(\u001b[0m\u001b[0mline\u001b[0m\u001b[1;33m,\u001b[0m \u001b[0mstack_depth\u001b[0m\u001b[1;33m)\u001b[0m\u001b[1;33m\u001b[0m\u001b[0m\n\u001b[0;32m   2114\u001b[0m             \u001b[1;32mwith\u001b[0m \u001b[0mself\u001b[0m\u001b[1;33m.\u001b[0m\u001b[0mbuiltin_trap\u001b[0m\u001b[1;33m:\u001b[0m\u001b[1;33m\u001b[0m\u001b[0m\n\u001b[1;32m-> 2115\u001b[1;33m                 \u001b[0mresult\u001b[0m \u001b[1;33m=\u001b[0m \u001b[0mfn\u001b[0m\u001b[1;33m(\u001b[0m\u001b[0mmagic_arg_s\u001b[0m\u001b[1;33m,\u001b[0m \u001b[0mcell\u001b[0m\u001b[1;33m)\u001b[0m\u001b[1;33m\u001b[0m\u001b[0m\n\u001b[0m\u001b[0;32m   2116\u001b[0m             \u001b[1;32mreturn\u001b[0m \u001b[0mresult\u001b[0m\u001b[1;33m\u001b[0m\u001b[0m\n\u001b[0;32m   2117\u001b[0m \u001b[1;33m\u001b[0m\u001b[0m\n",
      "\u001b[1;32m<decorator-gen-60>\u001b[0m in \u001b[0;36mtime\u001b[1;34m(self, line, cell, local_ns)\u001b[0m\n",
      "\u001b[1;32mC:\\Users\\MRekunchak\\AppData\\Local\\Continuum\\Anaconda3\\lib\\site-packages\\IPython\\core\\magic.py\u001b[0m in \u001b[0;36m<lambda>\u001b[1;34m(f, *a, **k)\u001b[0m\n\u001b[0;32m    186\u001b[0m     \u001b[1;31m# but it's overkill for just that one bit of state.\u001b[0m\u001b[1;33m\u001b[0m\u001b[1;33m\u001b[0m\u001b[0m\n\u001b[0;32m    187\u001b[0m     \u001b[1;32mdef\u001b[0m \u001b[0mmagic_deco\u001b[0m\u001b[1;33m(\u001b[0m\u001b[0marg\u001b[0m\u001b[1;33m)\u001b[0m\u001b[1;33m:\u001b[0m\u001b[1;33m\u001b[0m\u001b[0m\n\u001b[1;32m--> 188\u001b[1;33m         \u001b[0mcall\u001b[0m \u001b[1;33m=\u001b[0m \u001b[1;32mlambda\u001b[0m \u001b[0mf\u001b[0m\u001b[1;33m,\u001b[0m \u001b[1;33m*\u001b[0m\u001b[0ma\u001b[0m\u001b[1;33m,\u001b[0m \u001b[1;33m**\u001b[0m\u001b[0mk\u001b[0m\u001b[1;33m:\u001b[0m \u001b[0mf\u001b[0m\u001b[1;33m(\u001b[0m\u001b[1;33m*\u001b[0m\u001b[0ma\u001b[0m\u001b[1;33m,\u001b[0m \u001b[1;33m**\u001b[0m\u001b[0mk\u001b[0m\u001b[1;33m)\u001b[0m\u001b[1;33m\u001b[0m\u001b[0m\n\u001b[0m\u001b[0;32m    189\u001b[0m \u001b[1;33m\u001b[0m\u001b[0m\n\u001b[0;32m    190\u001b[0m         \u001b[1;32mif\u001b[0m \u001b[0mcallable\u001b[0m\u001b[1;33m(\u001b[0m\u001b[0marg\u001b[0m\u001b[1;33m)\u001b[0m\u001b[1;33m:\u001b[0m\u001b[1;33m\u001b[0m\u001b[0m\n",
      "\u001b[1;32mC:\\Users\\MRekunchak\\AppData\\Local\\Continuum\\Anaconda3\\lib\\site-packages\\IPython\\core\\magics\\execution.py\u001b[0m in \u001b[0;36mtime\u001b[1;34m(self, line, cell, local_ns)\u001b[0m\n\u001b[0;32m   1183\u001b[0m         \u001b[1;32melse\u001b[0m\u001b[1;33m:\u001b[0m\u001b[1;33m\u001b[0m\u001b[0m\n\u001b[0;32m   1184\u001b[0m             \u001b[0mst\u001b[0m \u001b[1;33m=\u001b[0m \u001b[0mclock2\u001b[0m\u001b[1;33m(\u001b[0m\u001b[1;33m)\u001b[0m\u001b[1;33m\u001b[0m\u001b[0m\n\u001b[1;32m-> 1185\u001b[1;33m             \u001b[0mexec\u001b[0m\u001b[1;33m(\u001b[0m\u001b[0mcode\u001b[0m\u001b[1;33m,\u001b[0m \u001b[0mglob\u001b[0m\u001b[1;33m,\u001b[0m \u001b[0mlocal_ns\u001b[0m\u001b[1;33m)\u001b[0m\u001b[1;33m\u001b[0m\u001b[0m\n\u001b[0m\u001b[0;32m   1186\u001b[0m             \u001b[0mend\u001b[0m \u001b[1;33m=\u001b[0m \u001b[0mclock2\u001b[0m\u001b[1;33m(\u001b[0m\u001b[1;33m)\u001b[0m\u001b[1;33m\u001b[0m\u001b[0m\n\u001b[0;32m   1187\u001b[0m             \u001b[0mout\u001b[0m \u001b[1;33m=\u001b[0m \u001b[1;32mNone\u001b[0m\u001b[1;33m\u001b[0m\u001b[0m\n",
      "\u001b[1;32m<timed exec>\u001b[0m in \u001b[0;36m<module>\u001b[1;34m()\u001b[0m\n",
      "\u001b[1;32mC:\\Users\\MRekunchak\\AppData\\Local\\Continuum\\Anaconda3\\lib\\site-packages\\sklearn\\ensemble\\forest.py\u001b[0m in \u001b[0;36mfit\u001b[1;34m(self, X, y, sample_weight)\u001b[0m\n\u001b[0;32m    324\u001b[0m                     \u001b[0mt\u001b[0m\u001b[1;33m,\u001b[0m \u001b[0mself\u001b[0m\u001b[1;33m,\u001b[0m \u001b[0mX\u001b[0m\u001b[1;33m,\u001b[0m \u001b[0my\u001b[0m\u001b[1;33m,\u001b[0m \u001b[0msample_weight\u001b[0m\u001b[1;33m,\u001b[0m \u001b[0mi\u001b[0m\u001b[1;33m,\u001b[0m \u001b[0mlen\u001b[0m\u001b[1;33m(\u001b[0m\u001b[0mtrees\u001b[0m\u001b[1;33m)\u001b[0m\u001b[1;33m,\u001b[0m\u001b[1;33m\u001b[0m\u001b[0m\n\u001b[0;32m    325\u001b[0m                     verbose=self.verbose, class_weight=self.class_weight)\n\u001b[1;32m--> 326\u001b[1;33m                 for i, t in enumerate(trees))\n\u001b[0m\u001b[0;32m    327\u001b[0m \u001b[1;33m\u001b[0m\u001b[0m\n\u001b[0;32m    328\u001b[0m             \u001b[1;31m# Collect newly grown trees\u001b[0m\u001b[1;33m\u001b[0m\u001b[1;33m\u001b[0m\u001b[0m\n",
      "\u001b[1;32mC:\\Users\\MRekunchak\\AppData\\Local\\Continuum\\Anaconda3\\lib\\site-packages\\sklearn\\externals\\joblib\\parallel.py\u001b[0m in \u001b[0;36m__call__\u001b[1;34m(self, iterable)\u001b[0m\n\u001b[0;32m    756\u001b[0m             \u001b[1;31m# was dispatched. In particular this covers the edge\u001b[0m\u001b[1;33m\u001b[0m\u001b[1;33m\u001b[0m\u001b[0m\n\u001b[0;32m    757\u001b[0m             \u001b[1;31m# case of Parallel used with an exhausted iterator.\u001b[0m\u001b[1;33m\u001b[0m\u001b[1;33m\u001b[0m\u001b[0m\n\u001b[1;32m--> 758\u001b[1;33m             \u001b[1;32mwhile\u001b[0m \u001b[0mself\u001b[0m\u001b[1;33m.\u001b[0m\u001b[0mdispatch_one_batch\u001b[0m\u001b[1;33m(\u001b[0m\u001b[0miterator\u001b[0m\u001b[1;33m)\u001b[0m\u001b[1;33m:\u001b[0m\u001b[1;33m\u001b[0m\u001b[0m\n\u001b[0m\u001b[0;32m    759\u001b[0m                 \u001b[0mself\u001b[0m\u001b[1;33m.\u001b[0m\u001b[0m_iterating\u001b[0m \u001b[1;33m=\u001b[0m \u001b[1;32mTrue\u001b[0m\u001b[1;33m\u001b[0m\u001b[0m\n\u001b[0;32m    760\u001b[0m             \u001b[1;32melse\u001b[0m\u001b[1;33m:\u001b[0m\u001b[1;33m\u001b[0m\u001b[0m\n",
      "\u001b[1;32mC:\\Users\\MRekunchak\\AppData\\Local\\Continuum\\Anaconda3\\lib\\site-packages\\sklearn\\externals\\joblib\\parallel.py\u001b[0m in \u001b[0;36mdispatch_one_batch\u001b[1;34m(self, iterator)\u001b[0m\n\u001b[0;32m    606\u001b[0m                 \u001b[1;32mreturn\u001b[0m \u001b[1;32mFalse\u001b[0m\u001b[1;33m\u001b[0m\u001b[0m\n\u001b[0;32m    607\u001b[0m             \u001b[1;32melse\u001b[0m\u001b[1;33m:\u001b[0m\u001b[1;33m\u001b[0m\u001b[0m\n\u001b[1;32m--> 608\u001b[1;33m                 \u001b[0mself\u001b[0m\u001b[1;33m.\u001b[0m\u001b[0m_dispatch\u001b[0m\u001b[1;33m(\u001b[0m\u001b[0mtasks\u001b[0m\u001b[1;33m)\u001b[0m\u001b[1;33m\u001b[0m\u001b[0m\n\u001b[0m\u001b[0;32m    609\u001b[0m                 \u001b[1;32mreturn\u001b[0m \u001b[1;32mTrue\u001b[0m\u001b[1;33m\u001b[0m\u001b[0m\n\u001b[0;32m    610\u001b[0m \u001b[1;33m\u001b[0m\u001b[0m\n",
      "\u001b[1;32mC:\\Users\\MRekunchak\\AppData\\Local\\Continuum\\Anaconda3\\lib\\site-packages\\sklearn\\externals\\joblib\\parallel.py\u001b[0m in \u001b[0;36m_dispatch\u001b[1;34m(self, batch)\u001b[0m\n\u001b[0;32m    569\u001b[0m         \u001b[0mdispatch_timestamp\u001b[0m \u001b[1;33m=\u001b[0m \u001b[0mtime\u001b[0m\u001b[1;33m.\u001b[0m\u001b[0mtime\u001b[0m\u001b[1;33m(\u001b[0m\u001b[1;33m)\u001b[0m\u001b[1;33m\u001b[0m\u001b[0m\n\u001b[0;32m    570\u001b[0m         \u001b[0mcb\u001b[0m \u001b[1;33m=\u001b[0m \u001b[0mBatchCompletionCallBack\u001b[0m\u001b[1;33m(\u001b[0m\u001b[0mdispatch_timestamp\u001b[0m\u001b[1;33m,\u001b[0m \u001b[0mlen\u001b[0m\u001b[1;33m(\u001b[0m\u001b[0mbatch\u001b[0m\u001b[1;33m)\u001b[0m\u001b[1;33m,\u001b[0m \u001b[0mself\u001b[0m\u001b[1;33m)\u001b[0m\u001b[1;33m\u001b[0m\u001b[0m\n\u001b[1;32m--> 571\u001b[1;33m         \u001b[0mjob\u001b[0m \u001b[1;33m=\u001b[0m \u001b[0mself\u001b[0m\u001b[1;33m.\u001b[0m\u001b[0m_backend\u001b[0m\u001b[1;33m.\u001b[0m\u001b[0mapply_async\u001b[0m\u001b[1;33m(\u001b[0m\u001b[0mbatch\u001b[0m\u001b[1;33m,\u001b[0m \u001b[0mcallback\u001b[0m\u001b[1;33m=\u001b[0m\u001b[0mcb\u001b[0m\u001b[1;33m)\u001b[0m\u001b[1;33m\u001b[0m\u001b[0m\n\u001b[0m\u001b[0;32m    572\u001b[0m         \u001b[0mself\u001b[0m\u001b[1;33m.\u001b[0m\u001b[0m_jobs\u001b[0m\u001b[1;33m.\u001b[0m\u001b[0mappend\u001b[0m\u001b[1;33m(\u001b[0m\u001b[0mjob\u001b[0m\u001b[1;33m)\u001b[0m\u001b[1;33m\u001b[0m\u001b[0m\n\u001b[0;32m    573\u001b[0m \u001b[1;33m\u001b[0m\u001b[0m\n",
      "\u001b[1;32mC:\\Users\\MRekunchak\\AppData\\Local\\Continuum\\Anaconda3\\lib\\site-packages\\sklearn\\externals\\joblib\\_parallel_backends.py\u001b[0m in \u001b[0;36mapply_async\u001b[1;34m(self, func, callback)\u001b[0m\n\u001b[0;32m    107\u001b[0m     \u001b[1;32mdef\u001b[0m \u001b[0mapply_async\u001b[0m\u001b[1;33m(\u001b[0m\u001b[0mself\u001b[0m\u001b[1;33m,\u001b[0m \u001b[0mfunc\u001b[0m\u001b[1;33m,\u001b[0m \u001b[0mcallback\u001b[0m\u001b[1;33m=\u001b[0m\u001b[1;32mNone\u001b[0m\u001b[1;33m)\u001b[0m\u001b[1;33m:\u001b[0m\u001b[1;33m\u001b[0m\u001b[0m\n\u001b[0;32m    108\u001b[0m         \u001b[1;34m\"\"\"Schedule a func to be run\"\"\"\u001b[0m\u001b[1;33m\u001b[0m\u001b[0m\n\u001b[1;32m--> 109\u001b[1;33m         \u001b[0mresult\u001b[0m \u001b[1;33m=\u001b[0m \u001b[0mImmediateResult\u001b[0m\u001b[1;33m(\u001b[0m\u001b[0mfunc\u001b[0m\u001b[1;33m)\u001b[0m\u001b[1;33m\u001b[0m\u001b[0m\n\u001b[0m\u001b[0;32m    110\u001b[0m         \u001b[1;32mif\u001b[0m \u001b[0mcallback\u001b[0m\u001b[1;33m:\u001b[0m\u001b[1;33m\u001b[0m\u001b[0m\n\u001b[0;32m    111\u001b[0m             \u001b[0mcallback\u001b[0m\u001b[1;33m(\u001b[0m\u001b[0mresult\u001b[0m\u001b[1;33m)\u001b[0m\u001b[1;33m\u001b[0m\u001b[0m\n",
      "\u001b[1;32mC:\\Users\\MRekunchak\\AppData\\Local\\Continuum\\Anaconda3\\lib\\site-packages\\sklearn\\externals\\joblib\\_parallel_backends.py\u001b[0m in \u001b[0;36m__init__\u001b[1;34m(self, batch)\u001b[0m\n\u001b[0;32m    324\u001b[0m         \u001b[1;31m# Don't delay the application, to avoid keeping the input\u001b[0m\u001b[1;33m\u001b[0m\u001b[1;33m\u001b[0m\u001b[0m\n\u001b[0;32m    325\u001b[0m         \u001b[1;31m# arguments in memory\u001b[0m\u001b[1;33m\u001b[0m\u001b[1;33m\u001b[0m\u001b[0m\n\u001b[1;32m--> 326\u001b[1;33m         \u001b[0mself\u001b[0m\u001b[1;33m.\u001b[0m\u001b[0mresults\u001b[0m \u001b[1;33m=\u001b[0m \u001b[0mbatch\u001b[0m\u001b[1;33m(\u001b[0m\u001b[1;33m)\u001b[0m\u001b[1;33m\u001b[0m\u001b[0m\n\u001b[0m\u001b[0;32m    327\u001b[0m \u001b[1;33m\u001b[0m\u001b[0m\n\u001b[0;32m    328\u001b[0m     \u001b[1;32mdef\u001b[0m \u001b[0mget\u001b[0m\u001b[1;33m(\u001b[0m\u001b[0mself\u001b[0m\u001b[1;33m)\u001b[0m\u001b[1;33m:\u001b[0m\u001b[1;33m\u001b[0m\u001b[0m\n",
      "\u001b[1;32mC:\\Users\\MRekunchak\\AppData\\Local\\Continuum\\Anaconda3\\lib\\site-packages\\sklearn\\externals\\joblib\\parallel.py\u001b[0m in \u001b[0;36m__call__\u001b[1;34m(self)\u001b[0m\n\u001b[0;32m    129\u001b[0m \u001b[1;33m\u001b[0m\u001b[0m\n\u001b[0;32m    130\u001b[0m     \u001b[1;32mdef\u001b[0m \u001b[0m__call__\u001b[0m\u001b[1;33m(\u001b[0m\u001b[0mself\u001b[0m\u001b[1;33m)\u001b[0m\u001b[1;33m:\u001b[0m\u001b[1;33m\u001b[0m\u001b[0m\n\u001b[1;32m--> 131\u001b[1;33m         \u001b[1;32mreturn\u001b[0m \u001b[1;33m[\u001b[0m\u001b[0mfunc\u001b[0m\u001b[1;33m(\u001b[0m\u001b[1;33m*\u001b[0m\u001b[0margs\u001b[0m\u001b[1;33m,\u001b[0m \u001b[1;33m**\u001b[0m\u001b[0mkwargs\u001b[0m\u001b[1;33m)\u001b[0m \u001b[1;32mfor\u001b[0m \u001b[0mfunc\u001b[0m\u001b[1;33m,\u001b[0m \u001b[0margs\u001b[0m\u001b[1;33m,\u001b[0m \u001b[0mkwargs\u001b[0m \u001b[1;32min\u001b[0m \u001b[0mself\u001b[0m\u001b[1;33m.\u001b[0m\u001b[0mitems\u001b[0m\u001b[1;33m]\u001b[0m\u001b[1;33m\u001b[0m\u001b[0m\n\u001b[0m\u001b[0;32m    132\u001b[0m \u001b[1;33m\u001b[0m\u001b[0m\n\u001b[0;32m    133\u001b[0m     \u001b[1;32mdef\u001b[0m \u001b[0m__len__\u001b[0m\u001b[1;33m(\u001b[0m\u001b[0mself\u001b[0m\u001b[1;33m)\u001b[0m\u001b[1;33m:\u001b[0m\u001b[1;33m\u001b[0m\u001b[0m\n",
      "\u001b[1;32mC:\\Users\\MRekunchak\\AppData\\Local\\Continuum\\Anaconda3\\lib\\site-packages\\sklearn\\externals\\joblib\\parallel.py\u001b[0m in \u001b[0;36m<listcomp>\u001b[1;34m(.0)\u001b[0m\n\u001b[0;32m    129\u001b[0m \u001b[1;33m\u001b[0m\u001b[0m\n\u001b[0;32m    130\u001b[0m     \u001b[1;32mdef\u001b[0m \u001b[0m__call__\u001b[0m\u001b[1;33m(\u001b[0m\u001b[0mself\u001b[0m\u001b[1;33m)\u001b[0m\u001b[1;33m:\u001b[0m\u001b[1;33m\u001b[0m\u001b[0m\n\u001b[1;32m--> 131\u001b[1;33m         \u001b[1;32mreturn\u001b[0m \u001b[1;33m[\u001b[0m\u001b[0mfunc\u001b[0m\u001b[1;33m(\u001b[0m\u001b[1;33m*\u001b[0m\u001b[0margs\u001b[0m\u001b[1;33m,\u001b[0m \u001b[1;33m**\u001b[0m\u001b[0mkwargs\u001b[0m\u001b[1;33m)\u001b[0m \u001b[1;32mfor\u001b[0m \u001b[0mfunc\u001b[0m\u001b[1;33m,\u001b[0m \u001b[0margs\u001b[0m\u001b[1;33m,\u001b[0m \u001b[0mkwargs\u001b[0m \u001b[1;32min\u001b[0m \u001b[0mself\u001b[0m\u001b[1;33m.\u001b[0m\u001b[0mitems\u001b[0m\u001b[1;33m]\u001b[0m\u001b[1;33m\u001b[0m\u001b[0m\n\u001b[0m\u001b[0;32m    132\u001b[0m \u001b[1;33m\u001b[0m\u001b[0m\n\u001b[0;32m    133\u001b[0m     \u001b[1;32mdef\u001b[0m \u001b[0m__len__\u001b[0m\u001b[1;33m(\u001b[0m\u001b[0mself\u001b[0m\u001b[1;33m)\u001b[0m\u001b[1;33m:\u001b[0m\u001b[1;33m\u001b[0m\u001b[0m\n",
      "\u001b[1;32mC:\\Users\\MRekunchak\\AppData\\Local\\Continuum\\Anaconda3\\lib\\site-packages\\sklearn\\ensemble\\forest.py\u001b[0m in \u001b[0;36m_parallel_build_trees\u001b[1;34m(tree, forest, X, y, sample_weight, tree_idx, n_trees, verbose, class_weight)\u001b[0m\n\u001b[0;32m    118\u001b[0m             \u001b[0mcurr_sample_weight\u001b[0m \u001b[1;33m*=\u001b[0m \u001b[0mcompute_sample_weight\u001b[0m\u001b[1;33m(\u001b[0m\u001b[1;34m'balanced'\u001b[0m\u001b[1;33m,\u001b[0m \u001b[0my\u001b[0m\u001b[1;33m,\u001b[0m \u001b[0mindices\u001b[0m\u001b[1;33m)\u001b[0m\u001b[1;33m\u001b[0m\u001b[0m\n\u001b[0;32m    119\u001b[0m \u001b[1;33m\u001b[0m\u001b[0m\n\u001b[1;32m--> 120\u001b[1;33m         \u001b[0mtree\u001b[0m\u001b[1;33m.\u001b[0m\u001b[0mfit\u001b[0m\u001b[1;33m(\u001b[0m\u001b[0mX\u001b[0m\u001b[1;33m,\u001b[0m \u001b[0my\u001b[0m\u001b[1;33m,\u001b[0m \u001b[0msample_weight\u001b[0m\u001b[1;33m=\u001b[0m\u001b[0mcurr_sample_weight\u001b[0m\u001b[1;33m,\u001b[0m \u001b[0mcheck_input\u001b[0m\u001b[1;33m=\u001b[0m\u001b[1;32mFalse\u001b[0m\u001b[1;33m)\u001b[0m\u001b[1;33m\u001b[0m\u001b[0m\n\u001b[0m\u001b[0;32m    121\u001b[0m     \u001b[1;32melse\u001b[0m\u001b[1;33m:\u001b[0m\u001b[1;33m\u001b[0m\u001b[0m\n\u001b[0;32m    122\u001b[0m         \u001b[0mtree\u001b[0m\u001b[1;33m.\u001b[0m\u001b[0mfit\u001b[0m\u001b[1;33m(\u001b[0m\u001b[0mX\u001b[0m\u001b[1;33m,\u001b[0m \u001b[0my\u001b[0m\u001b[1;33m,\u001b[0m \u001b[0msample_weight\u001b[0m\u001b[1;33m=\u001b[0m\u001b[0msample_weight\u001b[0m\u001b[1;33m,\u001b[0m \u001b[0mcheck_input\u001b[0m\u001b[1;33m=\u001b[0m\u001b[1;32mFalse\u001b[0m\u001b[1;33m)\u001b[0m\u001b[1;33m\u001b[0m\u001b[0m\n",
      "\u001b[1;32mC:\\Users\\MRekunchak\\AppData\\Local\\Continuum\\Anaconda3\\lib\\site-packages\\sklearn\\tree\\tree.py\u001b[0m in \u001b[0;36mfit\u001b[1;34m(self, X, y, sample_weight, check_input, X_idx_sorted)\u001b[0m\n\u001b[0;32m    737\u001b[0m             \u001b[0msample_weight\u001b[0m\u001b[1;33m=\u001b[0m\u001b[0msample_weight\u001b[0m\u001b[1;33m,\u001b[0m\u001b[1;33m\u001b[0m\u001b[0m\n\u001b[0;32m    738\u001b[0m             \u001b[0mcheck_input\u001b[0m\u001b[1;33m=\u001b[0m\u001b[0mcheck_input\u001b[0m\u001b[1;33m,\u001b[0m\u001b[1;33m\u001b[0m\u001b[0m\n\u001b[1;32m--> 739\u001b[1;33m             X_idx_sorted=X_idx_sorted)\n\u001b[0m\u001b[0;32m    740\u001b[0m         \u001b[1;32mreturn\u001b[0m \u001b[0mself\u001b[0m\u001b[1;33m\u001b[0m\u001b[0m\n\u001b[0;32m    741\u001b[0m \u001b[1;33m\u001b[0m\u001b[0m\n",
      "\u001b[1;32mC:\\Users\\MRekunchak\\AppData\\Local\\Continuum\\Anaconda3\\lib\\site-packages\\sklearn\\tree\\tree.py\u001b[0m in \u001b[0;36mfit\u001b[1;34m(self, X, y, sample_weight, check_input, X_idx_sorted)\u001b[0m\n\u001b[0;32m    348\u001b[0m                                            self.min_impurity_split)\n\u001b[0;32m    349\u001b[0m \u001b[1;33m\u001b[0m\u001b[0m\n\u001b[1;32m--> 350\u001b[1;33m         \u001b[0mbuilder\u001b[0m\u001b[1;33m.\u001b[0m\u001b[0mbuild\u001b[0m\u001b[1;33m(\u001b[0m\u001b[0mself\u001b[0m\u001b[1;33m.\u001b[0m\u001b[0mtree_\u001b[0m\u001b[1;33m,\u001b[0m \u001b[0mX\u001b[0m\u001b[1;33m,\u001b[0m \u001b[0my\u001b[0m\u001b[1;33m,\u001b[0m \u001b[0msample_weight\u001b[0m\u001b[1;33m,\u001b[0m \u001b[0mX_idx_sorted\u001b[0m\u001b[1;33m)\u001b[0m\u001b[1;33m\u001b[0m\u001b[0m\n\u001b[0m\u001b[0;32m    351\u001b[0m \u001b[1;33m\u001b[0m\u001b[0m\n\u001b[0;32m    352\u001b[0m         \u001b[1;32mif\u001b[0m \u001b[0mself\u001b[0m\u001b[1;33m.\u001b[0m\u001b[0mn_outputs_\u001b[0m \u001b[1;33m==\u001b[0m \u001b[1;36m1\u001b[0m\u001b[1;33m:\u001b[0m\u001b[1;33m\u001b[0m\u001b[0m\n",
      "\u001b[1;32msklearn\\tree\\_tree.pyx\u001b[0m in \u001b[0;36msklearn.tree._tree.DepthFirstTreeBuilder.build (sklearn\\tree\\_tree.c:4999)\u001b[1;34m()\u001b[0m\n",
      "\u001b[1;32msklearn\\tree\\_tree.pyx\u001b[0m in \u001b[0;36msklearn.tree._tree.DepthFirstTreeBuilder.build (sklearn\\tree\\_tree.c:4826)\u001b[1;34m()\u001b[0m\n",
      "\u001b[1;31mMemoryError\u001b[0m: "
     ]
    }
   ],
   "source": [
    "%%time\n",
    "from sklearn import ensemble\n",
    "rf = ensemble.RandomForestClassifier(n_estimators=5, random_state=11)\n",
    "rf.fit(X_train, y_train)\n",
    "\n",
    "err_train = np.mean(y_train != rf.predict(X_train))\n",
    "err_test  = np.mean(y_test  != rf.predict(X_test))\n",
    "print(err_train, err_test)"
   ]
  },
  {
   "cell_type": "code",
   "execution_count": null,
   "metadata": {},
   "outputs": [],
   "source": [
    "## Predict RepeatIncidents with model using and associate data with EI numbers\n",
    "res=pd.Series(rf.predict(X_test))\n",
    "# print(X_test.loc[624])\n",
    "important_items=res.sort_values()[-25:]\n",
    "\n",
    "\n",
    "important_items_CREATE_DATE=[]\n",
    "for i in important_items.index:\n",
    "    important_items_CREATE_DATE.append(data_y.loc[i,'CREATE_DATE'])\n",
    "#     print(data_y.loc[i,'CREATE_DATE'], data_y.loc[i,'football'], important_items[i])\n",
    "\n",
    "x=dict()\n",
    "for i in range(len(important_items)-1):\n",
    "    x[i]=important_items_CREATE_DATE[i]\n",
    "mysql_conn= pymysql.connect(host=pers_data.HOST, \n",
    "                port=pers_data.PORT,user=pers_data.USER, passwd=pers_data.PASSWD, \n",
    "                db=pers_data.DB, charset='utf8')\n",
    "#connection.use_unicode =  True\n",
    "result_of_selection=pd.read_sql(sql_queries.SQL_QUERY_FIND_EIs.format(tuple(important_items_CREATE_DATE)), con=mysql_conn)\n",
    "# for i in result_of_selection[['REQUEST_ID', 'STATUS', 'CREATE_DATE']]:\n",
    "#     if result_of_selection['CREATE_DATE']==important_items.values:\n",
    "#         print(result_of_selection['CREATE_DATE'])\n",
    "# important_items.values\n",
    "res_of_union=pd.concat([result_of_selection, pd.DataFrame(important_items.values)], axis=1)\n",
    "res_of_union.rename(columns={0:'RepeatForecast'}, inplace=True)\n",
    "res_of_union[['REQUEST_ID', 'RepeatForecast', 'CREATE_DATE']].sort_values('RepeatForecast', ascending=False)"
   ]
  },
  {
   "cell_type": "code",
   "execution_count": null,
   "metadata": {},
   "outputs": [],
   "source": [
    "data_y.loc[624,'CREATE_DATE']"
   ]
  },
  {
   "cell_type": "code",
   "execution_count": null,
   "metadata": {
    "collapsed": true
   },
   "outputs": [],
   "source": [
    "#!pip install sqlalchemy\n",
    "\n",
    "from sqlalchemy import create_engine\n",
    "import datetime\n",
    "# import importlib\n",
    "# importlib.reload(pers_data)\n",
    "\n",
    "def write_to_sql(res_of_union, model_name, data_period):\n",
    "    ## Write to MySQL to new table\n",
    "\n",
    "\n",
    "    engine = create_engine('mysql+pymysql://'+pers_data.ACCOUNT_FOR_WRITE_TO_SQL)\n",
    "\n",
    "\n",
    "\n",
    "    res_of_union=res_of_union[['REQUEST_ID', 'RepeatForecast', 'CREATE_DATE']].sort_values('RepeatForecast', ascending=False)\n",
    "    res_of_union['Model']=model_name\n",
    "    table_name = 'FORECASTS'+'_'+model_name+'_'+data_period+'_'+str(datetime.datetime.today().month)+'_'+str(datetime.datetime.today().day)\n",
    "    pd.DataFrame.to_sql(res_of_union, name=table_name, con=engine, if_exists='replace')"
   ]
  },
  {
   "cell_type": "code",
   "execution_count": null,
   "metadata": {},
   "outputs": [],
   "source": [
    "write_to_sql(res_of_union, 'rf', data_period)"
   ]
  },
  {
   "cell_type": "code",
   "execution_count": null,
   "metadata": {},
   "outputs": [],
   "source": [
    "%%time\n",
    "rfr = ensemble.RandomForestRegressor(n_estimators=15, random_state=11)\n",
    "rfr.fit(X_train, y_train)\n",
    "\n",
    "err_train = np.mean(y_train != rfr.predict(X_train))\n",
    "err_test  = np.mean(y_test  != rfr.predict(X_test))\n",
    "print(err_train, err_test)"
   ]
  },
  {
   "cell_type": "code",
   "execution_count": null,
   "metadata": {},
   "outputs": [],
   "source": [
    "%%time\n",
    "importances = rf.feature_importances_\n",
    "indices = np.argsort(importances)[::-1]\n",
    "\n",
    "print(\"Feature importances:\")\n",
    "for f, idx in enumerate(indices):\n",
    "    print(\"{:2d}. feature '{:5s}' ({:.4f})\".format(f + 1, feature_names[idx], importances[idx]))"
   ]
  },
  {
   "cell_type": "code",
   "execution_count": null,
   "metadata": {},
   "outputs": [],
   "source": [
    "feature_arr_names = [i for i in fsel_names.values()]\n",
    "np.array(feature_arr_names)[:d_first]\n",
    "# d_first"
   ]
  },
  {
   "cell_type": "code",
   "execution_count": null,
   "metadata": {
    "scrolled": true
   },
   "outputs": [],
   "source": [
    "# %%time\n",
    "\n",
    "data_period = url_to_data.split('.')[0].split('/')[1][4:]\n",
    "\n",
    "plt.subplots_adjust(left=0.15)\n",
    "d_first = 20\n",
    "plt.figure(figsize=(8, 8)).autofmt_xdate() \n",
    "plt.title(\"Вклад признаков в повторку (по данным за {0})\".format(data_period))\n",
    "plt.bar(range(d_first), importances[indices[:d_first]], align='center')\n",
    "plt.xticks(range(d_first), np.array(feature_arr_names)[indices[:d_first]], rotation=90)\n",
    "plt.xlim([-1, d_first])\n",
    "plt.savefig(\"FeaturesImportances{0}.pdf\".format(data_period))"
   ]
  },
  {
   "cell_type": "code",
   "execution_count": null,
   "metadata": {},
   "outputs": [],
   "source": [
    "%%time\n",
    "print(len(feature_names))\n",
    "best_features = indices[:8]\n",
    "best_features_names = feature_names[best_features]\n",
    "print(best_features_names)"
   ]
  },
  {
   "cell_type": "code",
   "execution_count": null,
   "metadata": {
    "collapsed": true
   },
   "outputs": [],
   "source": []
  },
  {
   "cell_type": "code",
   "execution_count": null,
   "metadata": {},
   "outputs": [],
   "source": [
    "%%time\n",
    "gbt = ensemble.GradientBoostingClassifier(n_estimators=25, random_state=11)\n",
    "gbt.fit(X_train[best_features_names], y_train)\n",
    "\n",
    "err_train = np.mean(y_train != gbt.predict(X_train[best_features_names]))\n",
    "err_test = np.mean(y_test != gbt.predict(X_test[best_features_names]))\n",
    "print(err_train, err_test)"
   ]
  },
  {
   "cell_type": "code",
   "execution_count": null,
   "metadata": {},
   "outputs": [],
   "source": [
    "## Predict RepeatIncidents with model using and associate data with EI numbers\n",
    "res=pd.Series(gbt.predict(X_test[best_features_names]))\n",
    "# print(X_test.loc[624])\n",
    "important_items=res.sort_values()[-25:]\n",
    "\n",
    "\n",
    "important_items_CREATE_DATE=[]\n",
    "for i in important_items.index:\n",
    "    important_items_CREATE_DATE.append(data_y.loc[i,'CREATE_DATE'])\n",
    "    print(data_y.loc[i,'CREATE_DATE'], data_y.loc[i,'football'], important_items[i])\n",
    "\n",
    "x=dict()\n",
    "for i in range(len(important_items)-1):\n",
    "    x[i]=important_items_CREATE_DATE[i]\n",
    "mysql_conn= pymysql.connect(host=pers_data.HOST, \n",
    "                port=pers_data.PORT,user=pers_data.USER, passwd=pers_data.PASSWD, \n",
    "                db=pers_data.DB, charset='utf8')\n",
    "#connection.use_unicode =  True\n",
    "result_of_selection=pd.read_sql(sql_queries.SQL_QUERY_FIND_EIs.format(tuple(important_items_CREATE_DATE)), con=mysql_conn)\n",
    "# for i in result_of_selection[['REQUEST_ID', 'STATUS', 'CREATE_DATE']]:\n",
    "#     if result_of_selection['CREATE_DATE']==important_items.values:\n",
    "#         print(result_of_selection['CREATE_DATE'])\n",
    "# important_items.values\n",
    "res_of_union=pd.concat([result_of_selection, pd.DataFrame(important_items.values)], axis=1)\n",
    "res_of_union.rename(columns={0:'RepeatForecast'}, inplace=True)\n",
    "res_of_union[['REQUEST_ID', 'RepeatForecast', 'CREATE_DATE']].sort_values('RepeatForecast', ascending=False)"
   ]
  },
  {
   "cell_type": "code",
   "execution_count": null,
   "metadata": {},
   "outputs": [],
   "source": [
    "write_to_sql(res_of_union, 'gbt', data_period)"
   ]
  },
  {
   "cell_type": "code",
   "execution_count": null,
   "metadata": {
    "collapsed": true
   },
   "outputs": [],
   "source": []
  },
  {
   "cell_type": "code",
   "execution_count": null,
   "metadata": {
    "collapsed": true
   },
   "outputs": [],
   "source": []
  }
 ],
 "metadata": {
  "kernelspec": {
   "display_name": "Python 3",
   "language": "python",
   "name": "python3"
  },
  "language_info": {
   "codemirror_mode": {
    "name": "ipython",
    "version": 3
   },
   "file_extension": ".py",
   "mimetype": "text/x-python",
   "name": "python",
   "nbconvert_exporter": "python",
   "pygments_lexer": "ipython3",
   "version": "3.6.1"
  }
 },
 "nbformat": 4,
 "nbformat_minor": 2
}

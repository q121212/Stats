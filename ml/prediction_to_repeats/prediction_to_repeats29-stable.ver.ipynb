{
 "cells": [
  {
   "cell_type": "code",
   "execution_count": 1,
   "metadata": {
    "collapsed": true
   },
   "outputs": [],
   "source": [
    "# -*- coding: utf-8 -*-\n",
    "import numpy as np\n",
    "import pandas as pd\n",
    "import matplotlib.pyplot as plt\n",
    "# import tqdm # interactive progress bar\n",
    "\n",
    "plt.style.use('ggplot')\n",
    "%matplotlib inline"
   ]
  },
  {
   "cell_type": "code",
   "execution_count": 2,
   "metadata": {
    "collapsed": true
   },
   "outputs": [],
   "source": [
    "f_names={'MK':'MK', 'SEGMENT':'Сегмент', 'Service':'Услуга', 'Channeltype': 'Тип канала', 'Source': 'Источник ЕИ', \n",
    "'football':'Футбол', 'DECLARED_FAULT':'Заявл. неисправность', 'CREATE_DATE':'Дата создания', 'CLOSETIME':'Дата закрытия',\n",
    "'all_num_of_repeat':'Всего повторок', 'num_of_repeat2':'Повторок за 2 дня', 'num_of_repeat5':'Повторок за 5 дней',\n",
    "'num_of_repeat10':'Повторок за 10 дней', 'num_of_repeat30':'Повторок за 30 дней', 'num_of_repeat60':'Повторок за 60 дней',\n",
    "'MITYPE':'Тип МИ', 'MIPRIORITY':'Приоритет МИ', 'MIIMPACT':'Влияние МИ', 'TECHNICAL_DISTRICT':'Техрайон(WFM)',\n",
    "'NumWFMforEI':'Кол-во WFM', 'Last_WFM_days_waiting':'Кол-во дней ожидания выезда', 'EIDayOfWeek':'День недели заведения ЕИ',\n",
    "'EIHourCreate':'Час создания ЕИ'}"
   ]
  },
  {
   "cell_type": "code",
   "execution_count": 3,
   "metadata": {},
   "outputs": [
    {
     "name": "stderr",
     "output_type": "stream",
     "text": [
      "C:\\Users\\MRekunchak\\AppData\\Local\\Continuum\\Anaconda3\\lib\\site-packages\\IPython\\core\\interactiveshell.py:2717: DtypeWarning: Columns (7) have mixed types. Specify dtype option on import or set low_memory=False.\n",
      "  interactivity=interactivity, compiler=compiler, result=result)\n"
     ]
    },
    {
     "data": {
      "text/plain": [
       "(37337, 23)"
      ]
     },
     "execution_count": 3,
     "metadata": {},
     "output_type": "execute_result"
    }
   ],
   "source": [
    "# Loading old data\n",
    "url_to_data = 'data/data2508_fromAug2017.csv'\n",
    "data = pd.read_csv(url_to_data, names=f_names.keys(), na_values='0', delimiter=';', skiprows=[0])\n",
    "data.shape"
   ]
  },
  {
   "cell_type": "code",
   "execution_count": 4,
   "metadata": {},
   "outputs": [
    {
     "data": {
      "text/plain": [
       "(1559, 23)"
      ]
     },
     "execution_count": 4,
     "metadata": {},
     "output_type": "execute_result"
    }
   ],
   "source": [
    "# Loading fresh data\n",
    "#!pip install pymysql\n",
    "import pymysql\n",
    "import pers_data\n",
    "import sql_queries\n",
    "\n",
    "mysql_conn= pymysql.connect(host=pers_data.HOST, \n",
    "                port=pers_data.PORT,user=pers_data.USER, passwd=pers_data.PASSWD, \n",
    "                db=pers_data.DB, charset='utf8')\n",
    "#connection.use_unicode =  True\n",
    "\n",
    "data_y=pd.read_sql(sql_queries.SQL_QUERY_TODAY, con=mysql_conn)\n",
    "data_y.shape"
   ]
  },
  {
   "cell_type": "code",
   "execution_count": 5,
   "metadata": {},
   "outputs": [
    {
     "name": "stdout",
     "output_type": "stream",
     "text": [
      "Categorical columns:  ['MK', 'SEGMENT', 'DECLARED_FAULT', 'CREATE_DATE']\n",
      "Numerical columns:  ['Service', 'Channeltype', 'Source', 'football', 'CLOSETIME', 'all_num_of_repeat', 'num_of_repeat2', 'num_of_repeat5', 'num_of_repeat10', 'num_of_repeat30', 'num_of_repeat60', 'MITYPE', 'MIPRIORITY', 'MIIMPACT', 'TECHNICAL_DISTRICT', 'NumWFMforEI', 'Last_WFM_days_waiting', 'EIDayOfWeek', 'EIHourCreate']\n"
     ]
    }
   ],
   "source": [
    "# Data preprocessing\n",
    "\n",
    "## extract categorical and numerical features for OLD data\n",
    "categorical_columns_x = [c for c in data.columns if data[c].dtype.name == 'object']\n",
    "numerical_columns_x   = [c for c in data.columns if data[c].dtype.name != 'object']\n",
    "print('Categorical columns: ', categorical_columns_x)\n",
    "print('Numerical columns: ', numerical_columns_x)"
   ]
  },
  {
   "cell_type": "code",
   "execution_count": 6,
   "metadata": {},
   "outputs": [
    {
     "name": "stdout",
     "output_type": "stream",
     "text": [
      "Categorical columns:  ['MK', 'SEGMENT', 'DECLARED_FAULT']\n",
      "Numerical columns:  ['Service', 'Channeltype', 'Source', 'football', 'CREATE_DATE', 'CLOSETIME', 'all_num_of_repeat', 'num_of_repeat2', 'num_of_repeat5', 'num_of_repeat10', 'num_of_repeat30', 'num_of_repeat60', 'MITYPE', 'MIPRIORITY', 'MIIMPACT', 'TECHNICAL_DISTRICT', 'NumWFMforEI', 'Last_WFM_days_waiting', 'EIDayOfWeek', 'EIHourCreate']\n"
     ]
    }
   ],
   "source": [
    "## extract categorical and numerical features for FRESH data\n",
    "categorical_columns_y = [c for c in data_y.columns if data_y[c].dtype.name == 'object']\n",
    "numerical_columns_y   = [c for c in data_y.columns if data_y[c].dtype.name != 'object']\n",
    "print('Categorical columns: ', categorical_columns_y)\n",
    "print('Numerical columns: ', numerical_columns_y)"
   ]
  },
  {
   "cell_type": "code",
   "execution_count": 7,
   "metadata": {
    "collapsed": true
   },
   "outputs": [],
   "source": [
    "# data[numerical_columns_x].describe()"
   ]
  },
  {
   "cell_type": "code",
   "execution_count": 8,
   "metadata": {
    "collapsed": true
   },
   "outputs": [],
   "source": [
    "# data_y[numerical_columns_y].describe()"
   ]
  },
  {
   "cell_type": "code",
   "execution_count": 9,
   "metadata": {},
   "outputs": [
    {
     "data": {
      "text/html": [
       "<div>\n",
       "<style>\n",
       "    .dataframe thead tr:only-child th {\n",
       "        text-align: right;\n",
       "    }\n",
       "\n",
       "    .dataframe thead th {\n",
       "        text-align: left;\n",
       "    }\n",
       "\n",
       "    .dataframe tbody tr th {\n",
       "        vertical-align: top;\n",
       "    }\n",
       "</style>\n",
       "<table border=\"1\" class=\"dataframe\">\n",
       "  <thead>\n",
       "    <tr style=\"text-align: right;\">\n",
       "      <th></th>\n",
       "      <th>MK</th>\n",
       "      <th>SEGMENT</th>\n",
       "      <th>DECLARED_FAULT</th>\n",
       "      <th>CREATE_DATE</th>\n",
       "    </tr>\n",
       "  </thead>\n",
       "  <tbody>\n",
       "    <tr>\n",
       "      <th>count</th>\n",
       "      <td>37073</td>\n",
       "      <td>37312</td>\n",
       "      <td>37337</td>\n",
       "      <td>37337</td>\n",
       "    </tr>\n",
       "    <tr>\n",
       "      <th>unique</th>\n",
       "      <td>27</td>\n",
       "      <td>7</td>\n",
       "      <td>225</td>\n",
       "      <td>36618</td>\n",
       "    </tr>\n",
       "    <tr>\n",
       "      <th>top</th>\n",
       "      <td>ФЛ</td>\n",
       "      <td>МР</td>\n",
       "      <td>Телефония. Тишина в трубке, нет зуммера</td>\n",
       "      <td>1502701943</td>\n",
       "    </tr>\n",
       "    <tr>\n",
       "      <th>freq</th>\n",
       "      <td>28426</td>\n",
       "      <td>29327</td>\n",
       "      <td>4016</td>\n",
       "      <td>3</td>\n",
       "    </tr>\n",
       "  </tbody>\n",
       "</table>\n",
       "</div>"
      ],
      "text/plain": [
       "           MK SEGMENT                           DECLARED_FAULT CREATE_DATE\n",
       "count   37073   37312                                    37337       37337\n",
       "unique     27       7                                      225       36618\n",
       "top        ФЛ      МР  Телефония. Тишина в трубке, нет зуммера  1502701943\n",
       "freq    28426   29327                                     4016           3"
      ]
     },
     "execution_count": 9,
     "metadata": {},
     "output_type": "execute_result"
    }
   ],
   "source": [
    "data[categorical_columns_x].describe() # Stats for categorial features for OLD data"
   ]
  },
  {
   "cell_type": "code",
   "execution_count": 10,
   "metadata": {},
   "outputs": [
    {
     "data": {
      "text/html": [
       "<div>\n",
       "<style>\n",
       "    .dataframe thead tr:only-child th {\n",
       "        text-align: right;\n",
       "    }\n",
       "\n",
       "    .dataframe thead th {\n",
       "        text-align: left;\n",
       "    }\n",
       "\n",
       "    .dataframe tbody tr th {\n",
       "        vertical-align: top;\n",
       "    }\n",
       "</style>\n",
       "<table border=\"1\" class=\"dataframe\">\n",
       "  <thead>\n",
       "    <tr style=\"text-align: right;\">\n",
       "      <th></th>\n",
       "      <th>MK</th>\n",
       "      <th>SEGMENT</th>\n",
       "      <th>DECLARED_FAULT</th>\n",
       "    </tr>\n",
       "  </thead>\n",
       "  <tbody>\n",
       "    <tr>\n",
       "      <th>count</th>\n",
       "      <td>1559</td>\n",
       "      <td>1559</td>\n",
       "      <td>1559</td>\n",
       "    </tr>\n",
       "    <tr>\n",
       "      <th>unique</th>\n",
       "      <td>21</td>\n",
       "      <td>7</td>\n",
       "      <td>118</td>\n",
       "    </tr>\n",
       "    <tr>\n",
       "      <th>top</th>\n",
       "      <td>ФЛ</td>\n",
       "      <td>МР</td>\n",
       "      <td>Телефония. Тишина в трубке, нет зуммера</td>\n",
       "    </tr>\n",
       "    <tr>\n",
       "      <th>freq</th>\n",
       "      <td>1173</td>\n",
       "      <td>1206</td>\n",
       "      <td>226</td>\n",
       "    </tr>\n",
       "  </tbody>\n",
       "</table>\n",
       "</div>"
      ],
      "text/plain": [
       "          MK SEGMENT                           DECLARED_FAULT\n",
       "count   1559    1559                                     1559\n",
       "unique    21       7                                      118\n",
       "top       ФЛ      МР  Телефония. Тишина в трубке, нет зуммера\n",
       "freq    1173    1206                                      226"
      ]
     },
     "execution_count": 10,
     "metadata": {},
     "output_type": "execute_result"
    }
   ],
   "source": [
    "data_y[categorical_columns_y].describe() # Stats for categorial features for FRESH data"
   ]
  },
  {
   "cell_type": "code",
   "execution_count": 11,
   "metadata": {
    "collapsed": true
   },
   "outputs": [],
   "source": [
    "## Legends\n",
    "LEGEND={'Channeltype':{\n",
    "'9207':'Медная линия',\n",
    "'9205':'Канальная АТШ',\n",
    "'9204': 'Канальная PON',\n",
    "'9986':'Канальная Radio',\n",
    "'9206':'Кодер видеонаблюдения',\n",
    "'9636':'IP ОПС',\n",
    "'9987':'Канальная Радио (юрики)',\n",
    "'9203':'Канал ADSL',\n",
    "'9633':'Канальная FTTB',\n",
    "'9632':'ОПС',\n",
    "'9202':'Камера видеонаблюдения',\n",
    "'10769':'Канальная МЕДЬ',\n",
    "'9197':'RFC PON',\n",
    "'9198':'RFC АТШ',\n",
    "'9199':'Интернет PON',\n",
    "'9200':'Интернет АТШ',\n",
    "'9201':'Интернет АТШ (юрики)',\n",
    "'9208':'Телевидение PON',\n",
    "'9209':'Телевидение АТШ',\n",
    "'9210':'Телефон PON',\n",
    "'9211':'Телефон АТШ',\n",
    "'9212':'УПАТС PON',\n",
    "'9630':'Телефон FTTB',\n",
    "'9631':'Телевидение FTTB',\n",
    "'9634':'Интернет FTTB',\n",
    "'9635':'RFC FTTB'},\n",
    "'Service':{\n",
    "'9650':'Все сервисы',\n",
    "'9697':'ОПС',\n",
    "'8677':'Не сетевой инцидент',\n",
    "'8679':'Телевидение',\n",
    "'8681':'Технологические сервисы',\n",
    "'8676':'Дополнительные сервисы',\n",
    "'8678':'Передача данных',\n",
    "'8680':'Телефония',\n",
    "'8682':'Энергетическое и климатическое обеспечение технологических площадок'}}"
   ]
  },
  {
   "cell_type": "code",
   "execution_count": 12,
   "metadata": {},
   "outputs": [
    {
     "data": {
      "text/plain": [
       "(8678.0    19202\n",
       " 8680.0     9642\n",
       " 9650.0     4480\n",
       " 8679.0     3848\n",
       " 8677.0       92\n",
       " 8681.0       42\n",
       " 8676.0       28\n",
       " 8682.0        2\n",
       " Name: Service, dtype: int64, 8678.0    19202\n",
       " 8680.0     9642\n",
       " 9650.0     4480\n",
       " 8679.0     3848\n",
       " 8677.0       92\n",
       " 8681.0       42\n",
       " 8676.0       28\n",
       " 8682.0        2\n",
       " Name: Service, dtype: int64)"
      ]
     },
     "execution_count": 12,
     "metadata": {},
     "output_type": "execute_result"
    }
   ],
   "source": [
    "## Replacement of digital values of categories by their number of repetitions in data\n",
    "# TODO: need to replace occurence of categories to some more appropriate for expression categories in data\n",
    "stats_x=dict()\n",
    "stats_y=dict()\n",
    "\n",
    "for i in ['MK', 'SEGMENT', 'DECLARED_FAULT', 'Service', 'Channeltype', 'football', 'TECHNICAL_DISTRICT',\n",
    "          'EIDayOfWeek', 'EIHourCreate']:\n",
    "    stats_x[i]=data[i].value_counts()\n",
    "    stats_y[i]=data[i].value_counts() # not data_y!!!!!! Because it's occurrence of categories\n",
    "    \n",
    "\n",
    "# print(stats.keys())\n",
    "# print(stats['Service'])\n",
    "# stats_x['MK'].values\n",
    "stats_y['Service'],stats_x['Service']"
   ]
  },
  {
   "cell_type": "code",
   "execution_count": 13,
   "metadata": {},
   "outputs": [
    {
     "data": {
      "text/plain": [
       "dict_keys(['9207', '9205', '9204', '9986', '9206', '9636', '9987', '9203', '9633', '9632', '9202', '10769', '9197', '9198', '9199', '9200', '9201', '9208', '9209', '9210', '9211', '9212', '9630', '9631', '9634', '9635'])"
      ]
     },
     "execution_count": 13,
     "metadata": {},
     "output_type": "execute_result"
    }
   ],
   "source": [
    "LEGEND['Channeltype'].keys()"
   ]
  },
  {
   "cell_type": "code",
   "execution_count": 14,
   "metadata": {},
   "outputs": [
    {
     "name": "stdout",
     "output_type": "stream",
     "text": [
      "\n",
      "Channeltype\n",
      "\n",
      "\n",
      "DECLARED_FAULT\n",
      "\n",
      "4016 \t Телефония. Тишина в трубке, нет зуммера\n",
      "2809 \t ONT не на линии. Проблема с оптическим кабелем\n",
      "2556 \t Телефония. Тишина в трубке\n",
      "2381 \t Интернет. Не работает интернет\n",
      "1642 \t Не работает ONT. Нет индикации питания.\n",
      "1505 \t Интернет. Не открываются все страницы\n",
      "1463 \t ТВ. Не получен IP-адрес\n",
      "1195 \t ТВ. Черный или синий экран\n",
      "890 \t ТВ. Проблемы с пультом\n",
      "779 \t Интернет. Другое\n",
      "779 \t Swap ONT Huawei\n",
      "722 \t Перенос/замена модели ONT\n",
      "721 \t Телефония. Зуммер занято\n",
      "697 \t SLX_Не работает INTERNET\n",
      "695 \t ONT на линии. Высокое затухание\n",
      "672 \t Интернет. Не открываются страницы\n",
      "661 \t ТВ. Рассыпание/замирание\n",
      "653 \t ТВ. Другое\n",
      "536 \t Нет трансляции на портале\n",
      "533 \t Интернет. Нет линка\n",
      "\n",
      "EIDayOfWeek\n",
      "\n",
      "\n",
      "EIHourCreate\n",
      "\n",
      "\n",
      "MK\n",
      "\n",
      "28426 \t ФЛ\n",
      "2865 \t SOHO\n",
      "842 \t NKA\n",
      "801 \t Выделенное обслуживание (пилот)\n",
      "732 \t GS-SLA4\n",
      "672 \t SME\n",
      "584 \t Оператор\n",
      "416 \t SME GS\n",
      "350 \t Corporate\n",
      "213 \t KA\n",
      "209 \t SOHO_GS\n",
      "182 \t GS-SLA1\n",
      "146 \t Corporate GS\n",
      "137 \t GS-Имидж абоненты\n",
      "111 \t Имидж-абоненты (физические лица)\n",
      "91 \t GS-SLA3\n",
      "87 \t KA GS\n",
      "69 \t INDIVIDUAL\n",
      "32 \t Развитие\n",
      "31 \t СПЕЦ\n",
      "\n",
      "SEGMENT\n",
      "\n",
      "29327 \t МР\n",
      "6723 \t КОРП\n",
      "914 \t ГОС\n",
      "195 \t Оператор\n",
      "122 \t БС28\n",
      "25 \t Внутренний\n",
      "6 \t БС22\n",
      "\n",
      "Service\n",
      "\n",
      "\n",
      "TECHNICAL_DISTRICT\n",
      "\n",
      "\n",
      "football\n",
      "\n",
      "\n",
      " Service \n",
      "\n",
      "19202 \t Передача данных\n",
      "9642 \t Телефония\n",
      "4480 \t Все сервисы\n",
      "3848 \t Телевидение\n",
      "92 \t Не сетевой инцидент\n",
      "42 \t Технологические сервисы\n",
      "28 \t Дополнительные сервисы\n",
      "2 \t Энергетическое и климатическое обеспечение технологических площадок\n",
      "\n",
      " Channeltype \n",
      "\n",
      "23175 \t Канальная PON\n",
      "5870 \t Канальная АТШ\n",
      "2216 \t Канальная FTTB\n",
      "1489 \t Канальная МЕДЬ\n",
      "557 \t Канал ADSL\n",
      "138 \t Медная линия\n",
      "6 \t Канальная Radio\n"
     ]
    }
   ],
   "source": [
    "## Notes for understanding of features\n",
    "cat_features=set()\n",
    "for feature in sorted(stats_x.keys()):\n",
    "    d_first=20\n",
    "#     print(len(stats[feature]))\n",
    "    if len(stats_x[feature])< 20:\n",
    "        d_first = len(stats_x[feature])\n",
    "    print(\"\\n\"+feature+\"\\n\")\n",
    "    for i in stats_x[feature].keys()[:d_first]:\n",
    "        if type(i) == str:\n",
    "            print(stats_x[feature][i], \"\\t\", i)\n",
    "        else:\n",
    "            cat_features.add(feature)\n",
    "# print(cat_features)\n",
    "if cat_features:\n",
    "    for feature in cat_features:\n",
    "        try:\n",
    "            if LEGEND[feature]:\n",
    "            \n",
    "                print(\"\\n\", feature, \"\\n\")\n",
    "                for i in stats_x[feature].keys():\n",
    "                    print(stats_x[feature][i], \"\\t\", LEGEND[feature][str(int(i))])\n",
    "        except:\n",
    "                pass\n",
    "#     print(stats[feature].keys()[:d_first], stats[feature].values[:d_first])\n",
    "    "
   ]
  },
  {
   "cell_type": "code",
   "execution_count": 15,
   "metadata": {
    "collapsed": true
   },
   "outputs": [],
   "source": [
    "# stats_y['SEGMENT'][:6].plot()\n",
    "# data.head()\n",
    "# for i in data_x:\n",
    "#     print(data[i].describe())"
   ]
  },
  {
   "cell_type": "code",
   "execution_count": 16,
   "metadata": {
    "collapsed": true
   },
   "outputs": [],
   "source": [
    "## Cleaning the data\n",
    "\n",
    "# dropped_data_without_empty_cols = data.dropna(axis=1)\n",
    "# dropped_data_without_empty_rows = data.dropna(axis=0)\n",
    "# data.count(axis=0)\n",
    "\n",
    "\n",
    "for item in ['all_num_of_repeat', 'num_of_repeat2', 'num_of_repeat5', 'num_of_repeat10', 'num_of_repeat30', 'num_of_repeat60']:\n",
    "    data[item]=data[item][data[item].isin([i for i in range(1000)] + [str(i) for i in range(1000)])]\n",
    "    data[item]=data[item].replace(to_replace=[np.nan], value=[0])\n",
    "\n",
    "    data_y[item]=data_y[item][data_y[item].isin([i for i in range(1000)] + [str(i) for i in range(1000)])]\n",
    "    data_y[item]=data_y[item].replace(to_replace=[np.nan], value=[0])\n",
    "\n",
    "    \n",
    "\n",
    "# for col_name in ['SERVICE', 'channeltype', 'source']:\n",
    "#     data[col_name]=data[col_name].replace(to_replace=[np.nan], value=[0])\n",
    "#     data[col_name]=data[col_name].replace(to_replace=data[col_name].unique(), value=[i for i in range(len(data[col_name].unique()))])\n",
    "\n",
    "\n",
    "\n",
    "# data['DECLARED_FAULT']=data['DECLARED_FAULT'].replace(to_replace=data['DECLARED_FAULT'].unique(), value=[i for i in range(1,len(data['DECLARED_FAULT'].unique())+1)]) \n",
    "\n",
    "# data['CLIENT_CATEGORY']=data['CLIENT_CATEGORY'][data['CLIENT_CATEGORY'].isin(['ФЛ', 'SOHO', 'NKA', \n",
    "# 'Выделенное обслуживание (пилот)', 'GS-SLA4', 'SME', 'Оператор', 'SME GS', 'Corporate', 'KA', 'SOHO_GS', 'GS-SLA1', \n",
    "# 'Corporate GS', 'GS-Имидж абоненты', 'Имидж-абоненты (физические лица)', 'GS-SLA3', 'INDIVIDUAL', 'KA GS', 'ФЛ_ИЗ_МРМ',\n",
    "# 'Развитие', 'СПЕЦ', 'Внутренний', 'Посольства', 'Имидж-абоненты (юридические лица)', 'NKA GS'])]\n",
    "# data['CLIENT_CATEGORY']=data['CLIENT_CATEGORY'].replace(to_replace=data['CLIENT_CATEGORY'].unique(), value=[i for i in range(1,len(data['CLIENT_CATEGORY'].unique())+1)]) \n",
    "\n",
    "# data['SEGMENT']=data['SEGMENT'][data['SEGMENT'].isin(['МР','КОРП','ГОС','Оператор','БС28','Внутренний','БС22'])]\n",
    "# data['SEGMENT']=data['SEGMENT'].replace(to_replace=data['SEGMENT'].unique(), value=[i for i in range(1,len(data['SEGMENT'].unique())+1)]) \n",
    "\n",
    "\n",
    "data['DECLARED_FAULT']=data['DECLARED_FAULT'].map(data.groupby('DECLARED_FAULT').size())\n",
    "data_y['DECLARED_FAULT']=data_y['DECLARED_FAULT'].map(data_y.groupby('DECLARED_FAULT').size())\n",
    "\n",
    "data['MK']=data['MK'].map(data.groupby('MK').size())\n",
    "data_y['MK']=data_y['MK'].map(data_y.groupby('MK').size())\n",
    "\n",
    "data['SEGMENT']=data['SEGMENT'].map(data.groupby('SEGMENT').size())\n",
    "data_y['SEGMENT']=data_y['SEGMENT'].map(data_y.groupby('SEGMENT').size())\n",
    "\n",
    "\n",
    "\n",
    "for i in ['CREATE_DATE', 'CLOSETIME']:\n",
    "    data[i] = pd.to_numeric(data[i],errors='coerce')\n",
    "    data_y[i] = pd.to_numeric(data_y[i],errors='coerce')"
   ]
  },
  {
   "cell_type": "code",
   "execution_count": 17,
   "metadata": {
    "collapsed": true
   },
   "outputs": [],
   "source": [
    "# data['MK'], data_y['MK']"
   ]
  },
  {
   "cell_type": "code",
   "execution_count": 18,
   "metadata": {
    "collapsed": true
   },
   "outputs": [],
   "source": [
    "# data['CREATE_DATE'].unique(), data_y['CREATE_DATE'].unique()"
   ]
  },
  {
   "cell_type": "code",
   "execution_count": 19,
   "metadata": {
    "collapsed": true
   },
   "outputs": [],
   "source": [
    "# type(data_y['CREATE_DATE'].head()[1])"
   ]
  },
  {
   "cell_type": "code",
   "execution_count": 20,
   "metadata": {
    "collapsed": true
   },
   "outputs": [],
   "source": [
    "## Generation of data\n",
    "data['decision_time'] = data['CLOSETIME']-data['CREATE_DATE']\n",
    "data_y['decision_time'] = data_y['CLOSETIME']-data_y['CREATE_DATE']"
   ]
  },
  {
   "cell_type": "code",
   "execution_count": 21,
   "metadata": {
    "collapsed": true
   },
   "outputs": [],
   "source": [
    "# data_y['SEGMENT'].head()"
   ]
  },
  {
   "cell_type": "code",
   "execution_count": 22,
   "metadata": {
    "collapsed": true
   },
   "outputs": [],
   "source": [
    "## Selecting data\n",
    "# sel_data = pd.concat((data['CLIENT_CATEGORY'],\n",
    "# data['SEGMENT'],\n",
    "# data['SERVICE'],\n",
    "# data['channeltype'],\n",
    "# data['source'],\n",
    "# # data['CHANNELREQUESTID'],\n",
    "# data['football'],\n",
    "# data['DECLARED_FAULT'],\n",
    "# data['all_num_of_repeat'],\n",
    "# data['num_of_repeat2'],\n",
    "# data['num_of_repeat5'],\n",
    "# data['num_of_repeat10'],\n",
    "# data['num_of_repeat30'],\n",
    "# data['num_of_repeat60'],\n",
    "# data['CREATE_DATE'],\n",
    "# data['CLOSETIME'],\n",
    "# data['decision_time'],\n",
    "# # data['TIMELEFTSLA']\n",
    "#                      ), axis=1)\n",
    "# sel_data.describe()"
   ]
  },
  {
   "cell_type": "code",
   "execution_count": 23,
   "metadata": {},
   "outputs": [
    {
     "name": "stdout",
     "output_type": "stream",
     "text": [
      "6\n"
     ]
    }
   ],
   "source": [
    "print(data_y['football'].unique()[2])\n",
    "# for i in sel_data['SERVICE']:\n",
    "#     if i.startswith('2'):\n",
    "#         pass\n",
    "#     else:\n",
    "#         print(i)"
   ]
  },
  {
   "cell_type": "code",
   "execution_count": 24,
   "metadata": {
    "collapsed": true
   },
   "outputs": [],
   "source": [
    "# # full list of categorical columns, where 'nan' is missing values\n",
    "# for c in sel_data:\n",
    "#     print(c, sel_data[c].unique(), len(sel_data[c].unique()))"
   ]
  },
  {
   "cell_type": "code",
   "execution_count": 25,
   "metadata": {
    "collapsed": true
   },
   "outputs": [],
   "source": [
    "# # for each numerical/quantitative feature built histogram,\n",
    "# # for each pair of nemerical built dispersion (scattering) diagram\n",
    "# from pandas.plotting import scatter_matrix\n",
    "# scatter_matrix(data, alpha=0.05, figsize=(15, 15));"
   ]
  },
  {
   "cell_type": "code",
   "execution_count": 26,
   "metadata": {
    "collapsed": true
   },
   "outputs": [],
   "source": [
    "# data[numerical_columns_x].corr() # matrix of correlations for OLD data\n",
    "# data_y[numerical_columns_y].corr() # matrix of correlations for FRESH data"
   ]
  },
  {
   "cell_type": "code",
   "execution_count": 27,
   "metadata": {},
   "outputs": [
    {
     "data": {
      "text/plain": [
       "(MK                       37073\n",
       " SEGMENT                  37312\n",
       " Service                  37336\n",
       " Channeltype              33451\n",
       " Source                   37337\n",
       " football                 37318\n",
       " DECLARED_FAULT           37337\n",
       " CREATE_DATE              37336\n",
       " CLOSETIME                35158\n",
       " all_num_of_repeat        37337\n",
       " num_of_repeat2           37337\n",
       " num_of_repeat5           37337\n",
       " num_of_repeat10          37337\n",
       " num_of_repeat30          37337\n",
       " num_of_repeat60          37337\n",
       " MITYPE                    2384\n",
       " MIPRIORITY                1734\n",
       " MIIMPACT                  1717\n",
       " TECHNICAL_DISTRICT       23261\n",
       " NumWFMforEI              23261\n",
       " Last_WFM_days_waiting    15669\n",
       " EIDayOfWeek              37336\n",
       " EIHourCreate             37021\n",
       " decision_time            35157\n",
       " dtype: int64, MK                       1559\n",
       " SEGMENT                  1559\n",
       " Service                  1559\n",
       " Channeltype              1414\n",
       " Source                   1559\n",
       " football                 1559\n",
       " DECLARED_FAULT           1559\n",
       " CREATE_DATE              1559\n",
       " CLOSETIME                 453\n",
       " all_num_of_repeat        1559\n",
       " num_of_repeat2           1559\n",
       " num_of_repeat5           1559\n",
       " num_of_repeat10          1559\n",
       " num_of_repeat30          1559\n",
       " num_of_repeat60          1559\n",
       " MITYPE                    186\n",
       " MIPRIORITY                186\n",
       " MIIMPACT                  186\n",
       " TECHNICAL_DISTRICT        918\n",
       " NumWFMforEI               918\n",
       " Last_WFM_days_waiting     918\n",
       " EIDayOfWeek              1559\n",
       " EIHourCreate             1559\n",
       " decision_time             453\n",
       " dtype: int64)"
      ]
     },
     "execution_count": 27,
     "metadata": {},
     "output_type": "execute_result"
    }
   ],
   "source": [
    "## Find the number of completed (not skipped) items\n",
    "# axis = 0 means that we move counter from top to bottom, and axis = 1 than we move counter from left to right\n",
    "data.count(axis=0), data_y.count(axis=0)"
   ]
  },
  {
   "cell_type": "code",
   "execution_count": 28,
   "metadata": {
    "collapsed": true
   },
   "outputs": [],
   "source": [
    "## fill the missing values\n",
    "# fill all numerical features (Instead of gaps (missing values), we substitute the median values (data.median(axis=0)))\n",
    "data = data.fillna(0, axis=0)\n",
    "data_y = data_y.fillna(0, axis=0)"
   ]
  },
  {
   "cell_type": "code",
   "execution_count": 29,
   "metadata": {
    "collapsed": true
   },
   "outputs": [],
   "source": [
    "# before\n",
    "# data['A1'].describe()"
   ]
  },
  {
   "cell_type": "code",
   "execution_count": 30,
   "metadata": {
    "collapsed": true
   },
   "outputs": [],
   "source": [
    "# # fill the missing values in categorical feature with top value (Instead missing values) we substitute \n",
    "# # the top value in this column\n",
    "# data['A1'] = data['A1'].fillna('b')"
   ]
  },
  {
   "cell_type": "code",
   "execution_count": 31,
   "metadata": {},
   "outputs": [
    {
     "data": {
      "text/html": [
       "<div>\n",
       "<style>\n",
       "    .dataframe thead tr:only-child th {\n",
       "        text-align: right;\n",
       "    }\n",
       "\n",
       "    .dataframe thead th {\n",
       "        text-align: left;\n",
       "    }\n",
       "\n",
       "    .dataframe tbody tr th {\n",
       "        vertical-align: top;\n",
       "    }\n",
       "</style>\n",
       "<table border=\"1\" class=\"dataframe\">\n",
       "  <thead>\n",
       "    <tr style=\"text-align: right;\">\n",
       "      <th></th>\n",
       "      <th>MK</th>\n",
       "      <th>SEGMENT</th>\n",
       "      <th>Service</th>\n",
       "      <th>Channeltype</th>\n",
       "      <th>Source</th>\n",
       "      <th>football</th>\n",
       "      <th>DECLARED_FAULT</th>\n",
       "      <th>CREATE_DATE</th>\n",
       "      <th>CLOSETIME</th>\n",
       "      <th>all_num_of_repeat</th>\n",
       "      <th>...</th>\n",
       "      <th>num_of_repeat60</th>\n",
       "      <th>MITYPE</th>\n",
       "      <th>MIPRIORITY</th>\n",
       "      <th>MIIMPACT</th>\n",
       "      <th>TECHNICAL_DISTRICT</th>\n",
       "      <th>NumWFMforEI</th>\n",
       "      <th>Last_WFM_days_waiting</th>\n",
       "      <th>EIDayOfWeek</th>\n",
       "      <th>EIHourCreate</th>\n",
       "      <th>decision_time</th>\n",
       "    </tr>\n",
       "  </thead>\n",
       "  <tbody>\n",
       "    <tr>\n",
       "      <th>count</th>\n",
       "      <td>1559.000000</td>\n",
       "      <td>1559.000000</td>\n",
       "      <td>1559.000000</td>\n",
       "      <td>1559.000000</td>\n",
       "      <td>1559.000000</td>\n",
       "      <td>1559.000000</td>\n",
       "      <td>1559.000000</td>\n",
       "      <td>1.559000e+03</td>\n",
       "      <td>1.559000e+03</td>\n",
       "      <td>1559.000000</td>\n",
       "      <td>...</td>\n",
       "      <td>1559.000000</td>\n",
       "      <td>1559.000000</td>\n",
       "      <td>1559.000000</td>\n",
       "      <td>1559.000000</td>\n",
       "      <td>1559.000000</td>\n",
       "      <td>1559.000000</td>\n",
       "      <td>1559.000000</td>\n",
       "      <td>1559.0</td>\n",
       "      <td>1559.000000</td>\n",
       "      <td>1559.000000</td>\n",
       "    </tr>\n",
       "    <tr>\n",
       "      <th>mean</th>\n",
       "      <td>897.041052</td>\n",
       "      <td>988.896087</td>\n",
       "      <td>8800.918538</td>\n",
       "      <td>8412.842207</td>\n",
       "      <td>8698.985247</td>\n",
       "      <td>2.922386</td>\n",
       "      <td>75.079538</td>\n",
       "      <td>1.504001e+09</td>\n",
       "      <td>4.370203e+08</td>\n",
       "      <td>1.861450</td>\n",
       "      <td>...</td>\n",
       "      <td>1.169981</td>\n",
       "      <td>0.173188</td>\n",
       "      <td>0.248236</td>\n",
       "      <td>0.238614</td>\n",
       "      <td>20.786402</td>\n",
       "      <td>0.604233</td>\n",
       "      <td>-0.311097</td>\n",
       "      <td>3.0</td>\n",
       "      <td>12.581142</td>\n",
       "      <td>2524.106479</td>\n",
       "    </tr>\n",
       "    <tr>\n",
       "      <th>std</th>\n",
       "      <td>481.878169</td>\n",
       "      <td>404.132677</td>\n",
       "      <td>322.084989</td>\n",
       "      <td>2709.306698</td>\n",
       "      <td>379.916864</td>\n",
       "      <td>1.388012</td>\n",
       "      <td>75.949007</td>\n",
       "      <td>1.117696e+04</td>\n",
       "      <td>6.830765e+08</td>\n",
       "      <td>2.336581</td>\n",
       "      <td>...</td>\n",
       "      <td>0.893550</td>\n",
       "      <td>0.501115</td>\n",
       "      <td>0.823645</td>\n",
       "      <td>0.811200</td>\n",
       "      <td>18.642469</td>\n",
       "      <td>0.527067</td>\n",
       "      <td>4.359055</td>\n",
       "      <td>0.0</td>\n",
       "      <td>3.102805</td>\n",
       "      <td>6394.736586</td>\n",
       "    </tr>\n",
       "    <tr>\n",
       "      <th>min</th>\n",
       "      <td>1.000000</td>\n",
       "      <td>1.000000</td>\n",
       "      <td>8676.000000</td>\n",
       "      <td>0.000000</td>\n",
       "      <td>6026.000000</td>\n",
       "      <td>1.000000</td>\n",
       "      <td>1.000000</td>\n",
       "      <td>1.503954e+09</td>\n",
       "      <td>0.000000e+00</td>\n",
       "      <td>0.000000</td>\n",
       "      <td>...</td>\n",
       "      <td>0.000000</td>\n",
       "      <td>0.000000</td>\n",
       "      <td>0.000000</td>\n",
       "      <td>0.000000</td>\n",
       "      <td>0.000000</td>\n",
       "      <td>0.000000</td>\n",
       "      <td>-28.000000</td>\n",
       "      <td>3.0</td>\n",
       "      <td>0.000000</td>\n",
       "      <td>0.000000</td>\n",
       "    </tr>\n",
       "    <tr>\n",
       "      <th>25%</th>\n",
       "      <td>1173.000000</td>\n",
       "      <td>1206.000000</td>\n",
       "      <td>8678.000000</td>\n",
       "      <td>9204.000000</td>\n",
       "      <td>8750.000000</td>\n",
       "      <td>2.000000</td>\n",
       "      <td>15.000000</td>\n",
       "      <td>1.503994e+09</td>\n",
       "      <td>0.000000e+00</td>\n",
       "      <td>1.000000</td>\n",
       "      <td>...</td>\n",
       "      <td>1.000000</td>\n",
       "      <td>0.000000</td>\n",
       "      <td>0.000000</td>\n",
       "      <td>0.000000</td>\n",
       "      <td>0.000000</td>\n",
       "      <td>0.000000</td>\n",
       "      <td>0.000000</td>\n",
       "      <td>3.0</td>\n",
       "      <td>11.000000</td>\n",
       "      <td>0.000000</td>\n",
       "    </tr>\n",
       "    <tr>\n",
       "      <th>50%</th>\n",
       "      <td>1173.000000</td>\n",
       "      <td>1206.000000</td>\n",
       "      <td>8679.000000</td>\n",
       "      <td>9204.000000</td>\n",
       "      <td>8750.000000</td>\n",
       "      <td>2.000000</td>\n",
       "      <td>37.000000</td>\n",
       "      <td>1.504001e+09</td>\n",
       "      <td>0.000000e+00</td>\n",
       "      <td>1.000000</td>\n",
       "      <td>...</td>\n",
       "      <td>1.000000</td>\n",
       "      <td>0.000000</td>\n",
       "      <td>0.000000</td>\n",
       "      <td>0.000000</td>\n",
       "      <td>26.000000</td>\n",
       "      <td>1.000000</td>\n",
       "      <td>0.000000</td>\n",
       "      <td>3.0</td>\n",
       "      <td>13.000000</td>\n",
       "      <td>0.000000</td>\n",
       "    </tr>\n",
       "    <tr>\n",
       "      <th>75%</th>\n",
       "      <td>1173.000000</td>\n",
       "      <td>1206.000000</td>\n",
       "      <td>8680.000000</td>\n",
       "      <td>9205.000000</td>\n",
       "      <td>8750.000000</td>\n",
       "      <td>3.000000</td>\n",
       "      <td>124.000000</td>\n",
       "      <td>1.504010e+09</td>\n",
       "      <td>1.503995e+09</td>\n",
       "      <td>2.000000</td>\n",
       "      <td>...</td>\n",
       "      <td>1.000000</td>\n",
       "      <td>0.000000</td>\n",
       "      <td>0.000000</td>\n",
       "      <td>0.000000</td>\n",
       "      <td>39.000000</td>\n",
       "      <td>1.000000</td>\n",
       "      <td>1.000000</td>\n",
       "      <td>3.0</td>\n",
       "      <td>15.000000</td>\n",
       "      <td>789.000000</td>\n",
       "    </tr>\n",
       "    <tr>\n",
       "      <th>max</th>\n",
       "      <td>1173.000000</td>\n",
       "      <td>1206.000000</td>\n",
       "      <td>9650.000000</td>\n",
       "      <td>10769.000000</td>\n",
       "      <td>10867.000000</td>\n",
       "      <td>13.000000</td>\n",
       "      <td>226.000000</td>\n",
       "      <td>1.504019e+09</td>\n",
       "      <td>1.504019e+09</td>\n",
       "      <td>36.000000</td>\n",
       "      <td>...</td>\n",
       "      <td>15.000000</td>\n",
       "      <td>2.000000</td>\n",
       "      <td>5.000000</td>\n",
       "      <td>4.000000</td>\n",
       "      <td>64.000000</td>\n",
       "      <td>5.000000</td>\n",
       "      <td>2.000000</td>\n",
       "      <td>3.0</td>\n",
       "      <td>18.000000</td>\n",
       "      <td>63401.000000</td>\n",
       "    </tr>\n",
       "  </tbody>\n",
       "</table>\n",
       "<p>8 rows × 24 columns</p>\n",
       "</div>"
      ],
      "text/plain": [
       "                MK      SEGMENT      Service   Channeltype        Source  \\\n",
       "count  1559.000000  1559.000000  1559.000000   1559.000000   1559.000000   \n",
       "mean    897.041052   988.896087  8800.918538   8412.842207   8698.985247   \n",
       "std     481.878169   404.132677   322.084989   2709.306698    379.916864   \n",
       "min       1.000000     1.000000  8676.000000      0.000000   6026.000000   \n",
       "25%    1173.000000  1206.000000  8678.000000   9204.000000   8750.000000   \n",
       "50%    1173.000000  1206.000000  8679.000000   9204.000000   8750.000000   \n",
       "75%    1173.000000  1206.000000  8680.000000   9205.000000   8750.000000   \n",
       "max    1173.000000  1206.000000  9650.000000  10769.000000  10867.000000   \n",
       "\n",
       "          football  DECLARED_FAULT   CREATE_DATE     CLOSETIME  \\\n",
       "count  1559.000000     1559.000000  1.559000e+03  1.559000e+03   \n",
       "mean      2.922386       75.079538  1.504001e+09  4.370203e+08   \n",
       "std       1.388012       75.949007  1.117696e+04  6.830765e+08   \n",
       "min       1.000000        1.000000  1.503954e+09  0.000000e+00   \n",
       "25%       2.000000       15.000000  1.503994e+09  0.000000e+00   \n",
       "50%       2.000000       37.000000  1.504001e+09  0.000000e+00   \n",
       "75%       3.000000      124.000000  1.504010e+09  1.503995e+09   \n",
       "max      13.000000      226.000000  1.504019e+09  1.504019e+09   \n",
       "\n",
       "       all_num_of_repeat      ...        num_of_repeat60       MITYPE  \\\n",
       "count        1559.000000      ...            1559.000000  1559.000000   \n",
       "mean            1.861450      ...               1.169981     0.173188   \n",
       "std             2.336581      ...               0.893550     0.501115   \n",
       "min             0.000000      ...               0.000000     0.000000   \n",
       "25%             1.000000      ...               1.000000     0.000000   \n",
       "50%             1.000000      ...               1.000000     0.000000   \n",
       "75%             2.000000      ...               1.000000     0.000000   \n",
       "max            36.000000      ...              15.000000     2.000000   \n",
       "\n",
       "        MIPRIORITY     MIIMPACT  TECHNICAL_DISTRICT  NumWFMforEI  \\\n",
       "count  1559.000000  1559.000000         1559.000000  1559.000000   \n",
       "mean      0.248236     0.238614           20.786402     0.604233   \n",
       "std       0.823645     0.811200           18.642469     0.527067   \n",
       "min       0.000000     0.000000            0.000000     0.000000   \n",
       "25%       0.000000     0.000000            0.000000     0.000000   \n",
       "50%       0.000000     0.000000           26.000000     1.000000   \n",
       "75%       0.000000     0.000000           39.000000     1.000000   \n",
       "max       5.000000     4.000000           64.000000     5.000000   \n",
       "\n",
       "       Last_WFM_days_waiting  EIDayOfWeek  EIHourCreate  decision_time  \n",
       "count            1559.000000       1559.0   1559.000000    1559.000000  \n",
       "mean               -0.311097          3.0     12.581142    2524.106479  \n",
       "std                 4.359055          0.0      3.102805    6394.736586  \n",
       "min               -28.000000          3.0      0.000000       0.000000  \n",
       "25%                 0.000000          3.0     11.000000       0.000000  \n",
       "50%                 0.000000          3.0     13.000000       0.000000  \n",
       "75%                 1.000000          3.0     15.000000     789.000000  \n",
       "max                 2.000000          3.0     18.000000   63401.000000  \n",
       "\n",
       "[8 rows x 24 columns]"
      ]
     },
     "execution_count": 31,
     "metadata": {},
     "output_type": "execute_result"
    }
   ],
   "source": [
    "# result\n",
    "data_y.describe()"
   ]
  },
  {
   "cell_type": "code",
   "execution_count": 32,
   "metadata": {
    "collapsed": true
   },
   "outputs": [],
   "source": [
    "# try:\n",
    "#     data_describe = data.describe(include=[object])\n",
    "#     data_describe\n",
    "# except:\n",
    "#     pass"
   ]
  },
  {
   "cell_type": "code",
   "execution_count": 33,
   "metadata": {
    "collapsed": true
   },
   "outputs": [],
   "source": [
    "# for c in categorical_columns:\n",
    "#     data[c] = data[c].fillna(data_describe[c]['top'])\n",
    "# data.describe(include=[object])"
   ]
  },
  {
   "cell_type": "code",
   "execution_count": 34,
   "metadata": {
    "collapsed": true
   },
   "outputs": [],
   "source": [
    "# data['DECLARED_FAULT'].unique()"
   ]
  },
  {
   "cell_type": "code",
   "execution_count": 35,
   "metadata": {
    "collapsed": true
   },
   "outputs": [],
   "source": [
    "# # devide categorical (non-numerical) columns to binary and nonbinary\n",
    "# binary_columns    = [c for c in categorical_columns if data_describe[c]['unique'] == 2]\n",
    "# nonbinary_columns = [c for c in categorical_columns if data_describe[c]['unique'] > 2]\n",
    "# print(binary_columns, nonbinary_columns)\n"
   ]
  },
  {
   "cell_type": "code",
   "execution_count": 36,
   "metadata": {
    "collapsed": true
   },
   "outputs": [],
   "source": [
    "# # for non-binary columns|features vectorizing is 1) divide each column to the numbers of unique values in the column\n",
    "# # 2) and if value exist then only one column's row filled like 1\n",
    "# # for example, column A4 have 3 unique values: print(data['A4'].unique()) => ['u' 'y' 'l']\n",
    "# # create 3 new columns: 4_u, A4_y, A4_l\n",
    "# # If A4 value is 'u', then A4_u = 1, A4_y = 0, A4_l = 0, etc.\n",
    "# # In Pandas it's performed via using .get_dummies method.\n",
    "\n",
    "# data_nonbinary = pd.get_dummies(data[nonbinary_columns[6:8]], columns=None) # !!!!!! Limitation 6:10!!!!!!!!!1\n",
    "# data_nonbinary.columns"
   ]
  },
  {
   "cell_type": "code",
   "execution_count": 37,
   "metadata": {
    "collapsed": true
   },
   "outputs": [],
   "source": [
    "# data = data_nonbinary\n",
    "# data = pd.DataFrame(data, dtype=float)\n",
    "# print(data.shape)\n",
    "# print(data.columns)"
   ]
  },
  {
   "cell_type": "code",
   "execution_count": 38,
   "metadata": {},
   "outputs": [
    {
     "data": {
      "text/html": [
       "<div>\n",
       "<style>\n",
       "    .dataframe thead tr:only-child th {\n",
       "        text-align: right;\n",
       "    }\n",
       "\n",
       "    .dataframe thead th {\n",
       "        text-align: left;\n",
       "    }\n",
       "\n",
       "    .dataframe tbody tr th {\n",
       "        vertical-align: top;\n",
       "    }\n",
       "</style>\n",
       "<table border=\"1\" class=\"dataframe\">\n",
       "  <thead>\n",
       "    <tr style=\"text-align: right;\">\n",
       "      <th></th>\n",
       "      <th>Service</th>\n",
       "      <th>Channeltype</th>\n",
       "      <th>Source</th>\n",
       "      <th>football</th>\n",
       "      <th>CREATE_DATE</th>\n",
       "      <th>CLOSETIME</th>\n",
       "      <th>all_num_of_repeat</th>\n",
       "      <th>num_of_repeat2</th>\n",
       "      <th>num_of_repeat5</th>\n",
       "      <th>num_of_repeat10</th>\n",
       "      <th>num_of_repeat30</th>\n",
       "      <th>num_of_repeat60</th>\n",
       "      <th>MITYPE</th>\n",
       "      <th>MIPRIORITY</th>\n",
       "      <th>MIIMPACT</th>\n",
       "      <th>TECHNICAL_DISTRICT</th>\n",
       "      <th>NumWFMforEI</th>\n",
       "      <th>Last_WFM_days_waiting</th>\n",
       "      <th>EIDayOfWeek</th>\n",
       "      <th>EIHourCreate</th>\n",
       "    </tr>\n",
       "  </thead>\n",
       "  <tbody>\n",
       "    <tr>\n",
       "      <th>count</th>\n",
       "      <td>1.559000e+03</td>\n",
       "      <td>1.559000e+03</td>\n",
       "      <td>1.559000e+03</td>\n",
       "      <td>1.559000e+03</td>\n",
       "      <td>1.559000e+03</td>\n",
       "      <td>1.559000e+03</td>\n",
       "      <td>1.559000e+03</td>\n",
       "      <td>1.559000e+03</td>\n",
       "      <td>1.559000e+03</td>\n",
       "      <td>1.559000e+03</td>\n",
       "      <td>1.559000e+03</td>\n",
       "      <td>1.559000e+03</td>\n",
       "      <td>1.559000e+03</td>\n",
       "      <td>1.559000e+03</td>\n",
       "      <td>1.559000e+03</td>\n",
       "      <td>1.559000e+03</td>\n",
       "      <td>1.559000e+03</td>\n",
       "      <td>1.559000e+03</td>\n",
       "      <td>0.0</td>\n",
       "      <td>1.559000e+03</td>\n",
       "    </tr>\n",
       "    <tr>\n",
       "      <th>mean</th>\n",
       "      <td>-4.415967e-16</td>\n",
       "      <td>2.332252e-16</td>\n",
       "      <td>2.697436e-15</td>\n",
       "      <td>1.442791e-15</td>\n",
       "      <td>-1.001517e-11</td>\n",
       "      <td>2.492625e-15</td>\n",
       "      <td>-5.106029e-17</td>\n",
       "      <td>5.401922e-16</td>\n",
       "      <td>4.692099e-16</td>\n",
       "      <td>-4.291432e-16</td>\n",
       "      <td>-1.270632e-16</td>\n",
       "      <td>-1.934167e-16</td>\n",
       "      <td>6.486864e-16</td>\n",
       "      <td>4.868887e-16</td>\n",
       "      <td>-3.294350e-16</td>\n",
       "      <td>5.398005e-17</td>\n",
       "      <td>4.687292e-16</td>\n",
       "      <td>2.047397e-19</td>\n",
       "      <td>NaN</td>\n",
       "      <td>-4.669631e-15</td>\n",
       "    </tr>\n",
       "    <tr>\n",
       "      <th>std</th>\n",
       "      <td>1.000000e+00</td>\n",
       "      <td>1.000000e+00</td>\n",
       "      <td>1.000000e+00</td>\n",
       "      <td>1.000000e+00</td>\n",
       "      <td>1.000000e+00</td>\n",
       "      <td>1.000000e+00</td>\n",
       "      <td>1.000000e+00</td>\n",
       "      <td>1.000000e+00</td>\n",
       "      <td>1.000000e+00</td>\n",
       "      <td>1.000000e+00</td>\n",
       "      <td>1.000000e+00</td>\n",
       "      <td>1.000000e+00</td>\n",
       "      <td>1.000000e+00</td>\n",
       "      <td>1.000000e+00</td>\n",
       "      <td>1.000000e+00</td>\n",
       "      <td>1.000000e+00</td>\n",
       "      <td>1.000000e+00</td>\n",
       "      <td>1.000000e+00</td>\n",
       "      <td>NaN</td>\n",
       "      <td>1.000000e+00</td>\n",
       "    </tr>\n",
       "    <tr>\n",
       "      <th>min</th>\n",
       "      <td>-3.878434e-01</td>\n",
       "      <td>-3.105164e+00</td>\n",
       "      <td>-7.035711e+00</td>\n",
       "      <td>-1.384992e+00</td>\n",
       "      <td>-4.210275e+00</td>\n",
       "      <td>-6.397823e-01</td>\n",
       "      <td>-7.966553e-01</td>\n",
       "      <td>-2.583312e+00</td>\n",
       "      <td>-2.424476e+00</td>\n",
       "      <td>-2.222694e+00</td>\n",
       "      <td>-1.690997e+00</td>\n",
       "      <td>-1.309363e+00</td>\n",
       "      <td>-3.456051e-01</td>\n",
       "      <td>-3.013873e-01</td>\n",
       "      <td>-2.941499e-01</td>\n",
       "      <td>-1.115003e+00</td>\n",
       "      <td>-1.146407e+00</td>\n",
       "      <td>-6.352043e+00</td>\n",
       "      <td>NaN</td>\n",
       "      <td>-4.054764e+00</td>\n",
       "    </tr>\n",
       "    <tr>\n",
       "      <th>25%</th>\n",
       "      <td>-3.816339e-01</td>\n",
       "      <td>2.920149e-01</td>\n",
       "      <td>1.342787e-01</td>\n",
       "      <td>-6.645374e-01</td>\n",
       "      <td>-6.471411e-01</td>\n",
       "      <td>-6.397823e-01</td>\n",
       "      <td>-3.686796e-01</td>\n",
       "      <td>1.884591e-01</td>\n",
       "      <td>1.208156e-01</td>\n",
       "      <td>3.917280e-02</td>\n",
       "      <td>-1.133403e-01</td>\n",
       "      <td>-1.902309e-01</td>\n",
       "      <td>-3.456051e-01</td>\n",
       "      <td>-3.013873e-01</td>\n",
       "      <td>-2.941499e-01</td>\n",
       "      <td>-1.115003e+00</td>\n",
       "      <td>-1.146407e+00</td>\n",
       "      <td>7.136796e-02</td>\n",
       "      <td>NaN</td>\n",
       "      <td>-5.095847e-01</td>\n",
       "    </tr>\n",
       "    <tr>\n",
       "      <th>50%</th>\n",
       "      <td>-3.785291e-01</td>\n",
       "      <td>2.920149e-01</td>\n",
       "      <td>1.342787e-01</td>\n",
       "      <td>-6.645374e-01</td>\n",
       "      <td>-3.942925e-03</td>\n",
       "      <td>-6.397823e-01</td>\n",
       "      <td>-3.686796e-01</td>\n",
       "      <td>1.884591e-01</td>\n",
       "      <td>1.208156e-01</td>\n",
       "      <td>3.917280e-02</td>\n",
       "      <td>-1.133403e-01</td>\n",
       "      <td>-1.902309e-01</td>\n",
       "      <td>-3.456051e-01</td>\n",
       "      <td>-3.013873e-01</td>\n",
       "      <td>-2.941499e-01</td>\n",
       "      <td>2.796625e-01</td>\n",
       "      <td>7.508844e-01</td>\n",
       "      <td>7.136796e-02</td>\n",
       "      <td>NaN</td>\n",
       "      <td>1.349934e-01</td>\n",
       "    </tr>\n",
       "    <tr>\n",
       "      <th>75%</th>\n",
       "      <td>-3.754243e-01</td>\n",
       "      <td>2.923839e-01</td>\n",
       "      <td>1.342787e-01</td>\n",
       "      <td>5.591727e-02</td>\n",
       "      <td>7.946642e-01</td>\n",
       "      <td>1.562013e+00</td>\n",
       "      <td>5.929619e-02</td>\n",
       "      <td>1.884591e-01</td>\n",
       "      <td>1.208156e-01</td>\n",
       "      <td>3.917280e-02</td>\n",
       "      <td>-1.133403e-01</td>\n",
       "      <td>-1.902309e-01</td>\n",
       "      <td>-3.456051e-01</td>\n",
       "      <td>-3.013873e-01</td>\n",
       "      <td>-2.941499e-01</td>\n",
       "      <td>9.769950e-01</td>\n",
       "      <td>7.508844e-01</td>\n",
       "      <td>3.007755e-01</td>\n",
       "      <td>NaN</td>\n",
       "      <td>7.795715e-01</td>\n",
       "    </tr>\n",
       "    <tr>\n",
       "      <th>max</th>\n",
       "      <td>2.636203e+00</td>\n",
       "      <td>8.696534e-01</td>\n",
       "      <td>5.706550e+00</td>\n",
       "      <td>7.260464e+00</td>\n",
       "      <td>1.635412e+00</td>\n",
       "      <td>1.562049e+00</td>\n",
       "      <td>1.461047e+01</td>\n",
       "      <td>5.732002e+00</td>\n",
       "      <td>5.211398e+00</td>\n",
       "      <td>4.562906e+00</td>\n",
       "      <td>1.250792e+01</td>\n",
       "      <td>1.547762e+01</td>\n",
       "      <td>3.645494e+00</td>\n",
       "      <td>5.769191e+00</td>\n",
       "      <td>4.636815e+00</td>\n",
       "      <td>2.318019e+00</td>\n",
       "      <td>8.340050e+00</td>\n",
       "      <td>5.301830e-01</td>\n",
       "      <td>NaN</td>\n",
       "      <td>1.746439e+00</td>\n",
       "    </tr>\n",
       "  </tbody>\n",
       "</table>\n",
       "</div>"
      ],
      "text/plain": [
       "            Service   Channeltype        Source      football   CREATE_DATE  \\\n",
       "count  1.559000e+03  1.559000e+03  1.559000e+03  1.559000e+03  1.559000e+03   \n",
       "mean  -4.415967e-16  2.332252e-16  2.697436e-15  1.442791e-15 -1.001517e-11   \n",
       "std    1.000000e+00  1.000000e+00  1.000000e+00  1.000000e+00  1.000000e+00   \n",
       "min   -3.878434e-01 -3.105164e+00 -7.035711e+00 -1.384992e+00 -4.210275e+00   \n",
       "25%   -3.816339e-01  2.920149e-01  1.342787e-01 -6.645374e-01 -6.471411e-01   \n",
       "50%   -3.785291e-01  2.920149e-01  1.342787e-01 -6.645374e-01 -3.942925e-03   \n",
       "75%   -3.754243e-01  2.923839e-01  1.342787e-01  5.591727e-02  7.946642e-01   \n",
       "max    2.636203e+00  8.696534e-01  5.706550e+00  7.260464e+00  1.635412e+00   \n",
       "\n",
       "          CLOSETIME  all_num_of_repeat  num_of_repeat2  num_of_repeat5  \\\n",
       "count  1.559000e+03       1.559000e+03    1.559000e+03    1.559000e+03   \n",
       "mean   2.492625e-15      -5.106029e-17    5.401922e-16    4.692099e-16   \n",
       "std    1.000000e+00       1.000000e+00    1.000000e+00    1.000000e+00   \n",
       "min   -6.397823e-01      -7.966553e-01   -2.583312e+00   -2.424476e+00   \n",
       "25%   -6.397823e-01      -3.686796e-01    1.884591e-01    1.208156e-01   \n",
       "50%   -6.397823e-01      -3.686796e-01    1.884591e-01    1.208156e-01   \n",
       "75%    1.562013e+00       5.929619e-02    1.884591e-01    1.208156e-01   \n",
       "max    1.562049e+00       1.461047e+01    5.732002e+00    5.211398e+00   \n",
       "\n",
       "       num_of_repeat10  num_of_repeat30  num_of_repeat60        MITYPE  \\\n",
       "count     1.559000e+03     1.559000e+03     1.559000e+03  1.559000e+03   \n",
       "mean     -4.291432e-16    -1.270632e-16    -1.934167e-16  6.486864e-16   \n",
       "std       1.000000e+00     1.000000e+00     1.000000e+00  1.000000e+00   \n",
       "min      -2.222694e+00    -1.690997e+00    -1.309363e+00 -3.456051e-01   \n",
       "25%       3.917280e-02    -1.133403e-01    -1.902309e-01 -3.456051e-01   \n",
       "50%       3.917280e-02    -1.133403e-01    -1.902309e-01 -3.456051e-01   \n",
       "75%       3.917280e-02    -1.133403e-01    -1.902309e-01 -3.456051e-01   \n",
       "max       4.562906e+00     1.250792e+01     1.547762e+01  3.645494e+00   \n",
       "\n",
       "         MIPRIORITY      MIIMPACT  TECHNICAL_DISTRICT   NumWFMforEI  \\\n",
       "count  1.559000e+03  1.559000e+03        1.559000e+03  1.559000e+03   \n",
       "mean   4.868887e-16 -3.294350e-16        5.398005e-17  4.687292e-16   \n",
       "std    1.000000e+00  1.000000e+00        1.000000e+00  1.000000e+00   \n",
       "min   -3.013873e-01 -2.941499e-01       -1.115003e+00 -1.146407e+00   \n",
       "25%   -3.013873e-01 -2.941499e-01       -1.115003e+00 -1.146407e+00   \n",
       "50%   -3.013873e-01 -2.941499e-01        2.796625e-01  7.508844e-01   \n",
       "75%   -3.013873e-01 -2.941499e-01        9.769950e-01  7.508844e-01   \n",
       "max    5.769191e+00  4.636815e+00        2.318019e+00  8.340050e+00   \n",
       "\n",
       "       Last_WFM_days_waiting  EIDayOfWeek  EIHourCreate  \n",
       "count           1.559000e+03          0.0  1.559000e+03  \n",
       "mean            2.047397e-19          NaN -4.669631e-15  \n",
       "std             1.000000e+00          NaN  1.000000e+00  \n",
       "min            -6.352043e+00          NaN -4.054764e+00  \n",
       "25%             7.136796e-02          NaN -5.095847e-01  \n",
       "50%             7.136796e-02          NaN  1.349934e-01  \n",
       "75%             3.007755e-01          NaN  7.795715e-01  \n",
       "max             5.301830e-01          NaN  1.746439e+00  "
      ]
     },
     "execution_count": 38,
     "metadata": {},
     "output_type": "execute_result"
    }
   ],
   "source": [
    "## Normalization\n",
    "data_numerical_x = data[numerical_columns_x]\n",
    "data_numerical_x = (data_numerical_x - data_numerical_x.mean()) / data_numerical_x.std()\n",
    "\n",
    "data_numerical_y = data_y[numerical_columns_y]\n",
    "data_numerical_y = (data_numerical_y - data_numerical_y.mean()) / data_numerical_y.std()\n",
    "\n",
    "# data_numerical_x.describe()\n",
    "data_numerical_y.describe()"
   ]
  },
  {
   "cell_type": "code",
   "execution_count": 39,
   "metadata": {
    "collapsed": true
   },
   "outputs": [],
   "source": [
    "# data_numerical_x.head()"
   ]
  },
  {
   "cell_type": "code",
   "execution_count": 40,
   "metadata": {},
   "outputs": [
    {
     "name": "stdout",
     "output_type": "stream",
     "text": [
      "Index(['MK', 'SEGMENT', 'Service', 'Channeltype', 'Source', 'football',\n",
      "       'DECLARED_FAULT', 'num_of_repeat2', 'num_of_repeat5', 'num_of_repeat10',\n",
      "       'num_of_repeat30', 'num_of_repeat60', 'MITYPE', 'MIPRIORITY',\n",
      "       'MIIMPACT', 'TECHNICAL_DISTRICT', 'NumWFMforEI',\n",
      "       'Last_WFM_days_waiting', 'EIDayOfWeek', 'EIHourCreate',\n",
      "       'decision_time'],\n",
      "      dtype='object')\n"
     ]
    }
   ],
   "source": [
    "## For data\n",
    "X = data.drop(['all_num_of_repeat','CLOSETIME', 'CREATE_DATE'], axis=1)  \n",
    "y = data['all_num_of_repeat']\n",
    "feature_names = X.columns\n",
    "print(feature_names)\n",
    "fsel_names={'decision_time':'Время решения'}\n",
    "for i in feature_names:\n",
    "    if i!= 'decision_time':\n",
    "        fsel_names[i]=f_names[i]\n",
    "# fsel_names"
   ]
  },
  {
   "cell_type": "code",
   "execution_count": 41,
   "metadata": {},
   "outputs": [
    {
     "name": "stdout",
     "output_type": "stream",
     "text": [
      "Index(['MK', 'SEGMENT', 'Service', 'Channeltype', 'Source', 'football',\n",
      "       'DECLARED_FAULT', 'num_of_repeat2', 'num_of_repeat5', 'num_of_repeat10',\n",
      "       'num_of_repeat30', 'num_of_repeat60', 'MITYPE', 'MIPRIORITY',\n",
      "       'MIIMPACT', 'TECHNICAL_DISTRICT', 'NumWFMforEI',\n",
      "       'Last_WFM_days_waiting', 'EIDayOfWeek', 'EIHourCreate',\n",
      "       'decision_time'],\n",
      "      dtype='object')\n"
     ]
    }
   ],
   "source": [
    "## For data_y\n",
    "X_y = data_y.drop(['all_num_of_repeat','CLOSETIME', 'CREATE_DATE'], axis=1)  \n",
    "y_y = data_y['all_num_of_repeat']\n",
    "feature_names_y = X_y.columns\n",
    "print(feature_names_y)\n",
    "fsel_names_y={'decision_time':'Время решения'}\n",
    "for i in feature_names_y:\n",
    "    if i!= 'decision_time':\n",
    "        fsel_names_y[i]=f_names[i]\n",
    "# fsel_names"
   ]
  },
  {
   "cell_type": "code",
   "execution_count": 42,
   "metadata": {},
   "outputs": [
    {
     "name": "stdout",
     "output_type": "stream",
     "text": [
      "(37337, 21)\n",
      "(37337,)\n",
      "(1559, 21)\n",
      "(1559,)\n"
     ]
    }
   ],
   "source": [
    "print(X.shape)\n",
    "print(y.shape)\n",
    "N, d = X.shape\n",
    "print(X_y.shape)\n",
    "print(y_y.shape)\n",
    "N_y, d_y = X_y.shape"
   ]
  },
  {
   "cell_type": "code",
   "execution_count": 43,
   "metadata": {},
   "outputs": [
    {
     "name": "stdout",
     "output_type": "stream",
     "text": [
      "37337 1559\n",
      "Wall time: 6.52 s\n"
     ]
    }
   ],
   "source": [
    "%%time\n",
    "## Devide for train and test samples for OLD data\n",
    "from sklearn.model_selection import train_test_split\n",
    "X_train, X_test_x, y_train, y_test_x = train_test_split(X, y, test_size = 0.0, random_state = 11) # obviously test_size=\n",
    "\n",
    "\n",
    "## Devide for train and test samples for FRESH data\n",
    "from sklearn.model_selection import train_test_split\n",
    "X_train_y, X_test, y_train_y, y_test = train_test_split(X_y, y_y, test_size = 0.9999999999999999, random_state = 11) # obviously test_size=\n",
    "\n",
    "\n",
    "N_train_y, _ = X_train.shape \n",
    "N_test_y,  _ = X_test.shape \n",
    "N_train, _ = X_train.shape \n",
    "N_test,  _ = X_test.shape \n",
    "print(N_train, N_test)\n",
    "# print(N_train_y, N_test_y)\n",
    "# X_train, y_train is a training sample, X_test, y_test is a test sample."
   ]
  },
  {
   "cell_type": "code",
   "execution_count": 44,
   "metadata": {},
   "outputs": [
    {
     "name": "stdout",
     "output_type": "stream",
     "text": [
      "Wall time: 959 ms\n"
     ]
    }
   ],
   "source": [
    "%%time\n",
    "# Teach the model\n",
    "from sklearn.neighbors import KNeighborsClassifier\n",
    "\n",
    "knn = KNeighborsClassifier()\n",
    "knn.fit(X_train, y_train)"
   ]
  },
  {
   "cell_type": "code",
   "execution_count": 45,
   "metadata": {},
   "outputs": [
    {
     "name": "stdout",
     "output_type": "stream",
     "text": [
      "0.366017623269 0.442591404747\n",
      "Wall time: 3.8 s\n"
     ]
    }
   ],
   "source": [
    "%%time\n",
    "y_train_predict = knn.predict(X_train)\n",
    "y_test_predict = knn.predict(X_test)\n",
    "\n",
    "err_train = np.mean(y_train != y_train_predict)\n",
    "err_test  = np.mean(y_test  != y_test_predict)\n",
    "print(err_train, err_test)"
   ]
  },
  {
   "cell_type": "code",
   "execution_count": 46,
   "metadata": {},
   "outputs": [
    {
     "name": "stderr",
     "output_type": "stream",
     "text": [
      "C:\\Users\\MRekunchak\\AppData\\Local\\Continuum\\Anaconda3\\lib\\site-packages\\sklearn\\model_selection\\_split.py:581: Warning: The least populated class in y has only 1 members, which is too few. The minimum number of groups for any class cannot be less than n_splits=3.\n",
      "  % (min_groups, self.n_splits)), Warning)\n"
     ]
    },
    {
     "name": "stdout",
     "output_type": "stream",
     "text": [
      "0.443126121542 40\n",
      "Wall time: 2min 11s\n"
     ]
    }
   ],
   "source": [
    "%%time\n",
    "from sklearn.model_selection import GridSearchCV\n",
    "n_neighbors_array = [1, 3, 5, 7, 10, 15, 20, 40, 60, 235]\n",
    "knn = KNeighborsClassifier()\n",
    "grid = GridSearchCV(knn, param_grid={'n_neighbors': n_neighbors_array})\n",
    "grid.fit(X_train, y_train)\n",
    "\n",
    "best_cv_err = 1 - grid.best_score_\n",
    "best_n_neighbors = grid.best_estimator_.n_neighbors\n",
    "print(best_cv_err, best_n_neighbors)"
   ]
  },
  {
   "cell_type": "code",
   "execution_count": 47,
   "metadata": {},
   "outputs": [
    {
     "name": "stdout",
     "output_type": "stream",
     "text": [
      "0.432868200445 0.699166132136\n",
      "Wall time: 6.22 s\n"
     ]
    }
   ],
   "source": [
    "%%time\n",
    "knn = KNeighborsClassifier(n_neighbors=best_n_neighbors)\n",
    "knn.fit(X_train, y_train)\n",
    "\n",
    "err_train = np.mean(y_train != knn.predict(X_train))\n",
    "err_test  = np.mean(y_test  != knn.predict(X_test))\n",
    "print(err_train, err_test)"
   ]
  },
  {
   "cell_type": "code",
   "execution_count": 48,
   "metadata": {
    "collapsed": true
   },
   "outputs": [],
   "source": [
    "# %%time\n",
    "# from sklearn.svm import SVC\n",
    "# svc = SVC()\n",
    "# svc.fit(X_train, y_train)\n",
    "\n",
    "# err_train = np.mean(y_train != svc.predict(X_train))\n",
    "# err_test  = np.mean(y_test  != svc.predict(X_test))\n",
    "# print(err_train, err_test)"
   ]
  },
  {
   "cell_type": "code",
   "execution_count": 49,
   "metadata": {
    "collapsed": true
   },
   "outputs": [],
   "source": [
    "# %%time\n",
    "# from sklearn.model_selection import GridSearchCV\n",
    "# C_array = np.logspace(-3, 3, num=7)\n",
    "# gamma_array = np.logspace(-5, 2, num=8)\n",
    "# svc = SVC(kernel='rbf')\n",
    "# grid = GridSearchCV(svc, param_grid={'C': C_array, 'gamma': gamma_array, 'n'})\n",
    "# grid.fit(X_train, y_train)\n",
    "# print('CV error    = ', 1 - grid.best_score_)\n",
    "# print('best C      = ', grid.best_estimator_.C)\n",
    "# print('best gamma  = ', grid.best_estimator_.gamma)"
   ]
  },
  {
   "cell_type": "code",
   "execution_count": 50,
   "metadata": {
    "collapsed": true
   },
   "outputs": [],
   "source": [
    "# %%time\n",
    "# svc = SVC(kernel='rbf', C=grid.best_estimator_.C, gamma=grid.best_estimator_.gamma)\n",
    "# svc.fit(X_train, y_train)\n",
    "\n",
    "# err_train = np.mean(y_train != svc.predict(X_train))\n",
    "# # err_test  = np.mean(y_test  != svc.predict(X_test))\n",
    "# print(err_train, err_test)"
   ]
  },
  {
   "cell_type": "code",
   "execution_count": 51,
   "metadata": {
    "collapsed": true
   },
   "outputs": [],
   "source": [
    "# %%time\n",
    "# from sklearn.model_selection import GridSearchCV\n",
    "# C_array = np.logspace(-3, 3, num=7)\n",
    "# svc = SVC(kernel='linear')\n",
    "# grid = GridSearchCV(svc, param_grid={'C': C_array})\n",
    "# grid.fit(X_train, y_train)\n",
    "# print('CV error    = ', 1 - grid.best_score_)\n",
    "# print('best C      = ', grid.best_estimator_.C)"
   ]
  },
  {
   "cell_type": "code",
   "execution_count": 52,
   "metadata": {
    "collapsed": true
   },
   "outputs": [],
   "source": [
    "# %%time\n",
    "# svc = SVC(kernel='linear', C=grid.best_estimator_.C)\n",
    "# svc.fit(X_train, y_train)\n",
    "\n",
    "# err_train = np.mean(y_train != svc.predict(X_train))\n",
    "# err_test  = np.mean(y_test  != svc.predict(X_test))\n",
    "# print(err_train, err_test)"
   ]
  },
  {
   "cell_type": "code",
   "execution_count": 53,
   "metadata": {
    "collapsed": true
   },
   "outputs": [],
   "source": [
    "# %%time\n",
    "# from sklearn.grid_search import GridSearchCV\n",
    "# C_array = np.logspace(-5, 2, num=8)\n",
    "# gamma_array = np.logspace(-5, 2, num=8)\n",
    "# degree_array = [2, 3, 4]\n",
    "# svc = SVC(kernel='poly')\n",
    "# grid = GridSearchCV(svc, param_grid={'C': C_array, 'gamma': gamma_array, 'degree': degree_array})\n",
    "# grid.fit(X_train, y_train)\n",
    "# print('CV error    = ', 1 - grid.best_score_)\n",
    "# print('best C      = ', grid.best_estimator_.C)\n",
    "# print('best gamma  = ', grid.best_estimator_.gamma)\n",
    "# print('best degree = ', grid.best_estimator_.degree)"
   ]
  },
  {
   "cell_type": "code",
   "execution_count": 54,
   "metadata": {
    "collapsed": true
   },
   "outputs": [],
   "source": [
    "# %%time\n",
    "# svc = SVC(kernel='poly', C=grid.best_estimator_.C, \n",
    "#           gamma=grid.best_estimator_.gamma, degree=grid.best_estimator_.degree)\n",
    "# svc.fit(X_train, y_train)\n",
    "\n",
    "# err_train = np.mean(y_train != svc.predict(X_train))\n",
    "# err_test  = np.mean(y_test  != svc.predict(X_test))\n",
    "# print(err_train, err_test)"
   ]
  },
  {
   "cell_type": "code",
   "execution_count": 55,
   "metadata": {},
   "outputs": [
    {
     "name": "stdout",
     "output_type": "stream",
     "text": [
      "0.000910624849345 0.302116741501\n",
      "Wall time: 5.73 s\n"
     ]
    }
   ],
   "source": [
    "%%time\n",
    "from sklearn import ensemble\n",
    "rf = ensemble.RandomForestClassifier(n_estimators=45, random_state=11)\n",
    "rf.fit(X_train, y_train)\n",
    "\n",
    "err_train = np.mean(y_train != rf.predict(X_train))\n",
    "err_test  = np.mean(y_test  != rf.predict(X_test))\n",
    "print(err_train, err_test)"
   ]
  },
  {
   "cell_type": "code",
   "execution_count": 149,
   "metadata": {},
   "outputs": [
    {
     "data": {
      "text/html": [
       "<div>\n",
       "<style>\n",
       "    .dataframe thead tr:only-child th {\n",
       "        text-align: right;\n",
       "    }\n",
       "\n",
       "    .dataframe thead th {\n",
       "        text-align: left;\n",
       "    }\n",
       "\n",
       "    .dataframe tbody tr th {\n",
       "        vertical-align: top;\n",
       "    }\n",
       "</style>\n",
       "<table border=\"1\" class=\"dataframe\">\n",
       "  <thead>\n",
       "    <tr style=\"text-align: right;\">\n",
       "      <th></th>\n",
       "      <th>REQUEST_ID</th>\n",
       "      <th>RepeatForecast</th>\n",
       "      <th>CREATE_DATE</th>\n",
       "    </tr>\n",
       "  </thead>\n",
       "  <tbody>\n",
       "    <tr>\n",
       "      <th>24</th>\n",
       "      <td>4085491</td>\n",
       "      <td>23.0</td>\n",
       "      <td>1504014871</td>\n",
       "    </tr>\n",
       "    <tr>\n",
       "      <th>23</th>\n",
       "      <td>4085341</td>\n",
       "      <td>16.0</td>\n",
       "      <td>1504013831</td>\n",
       "    </tr>\n",
       "    <tr>\n",
       "      <th>22</th>\n",
       "      <td>4084504</td>\n",
       "      <td>16.0</td>\n",
       "      <td>1504010075</td>\n",
       "    </tr>\n",
       "    <tr>\n",
       "      <th>21</th>\n",
       "      <td>4084355</td>\n",
       "      <td>11.0</td>\n",
       "      <td>1504009269</td>\n",
       "    </tr>\n",
       "    <tr>\n",
       "      <th>20</th>\n",
       "      <td>4084226</td>\n",
       "      <td>9.0</td>\n",
       "      <td>1504008338</td>\n",
       "    </tr>\n",
       "    <tr>\n",
       "      <th>19</th>\n",
       "      <td>4084151</td>\n",
       "      <td>8.0</td>\n",
       "      <td>1504008119</td>\n",
       "    </tr>\n",
       "    <tr>\n",
       "      <th>18</th>\n",
       "      <td>4083176</td>\n",
       "      <td>6.0</td>\n",
       "      <td>1504003856</td>\n",
       "    </tr>\n",
       "    <tr>\n",
       "      <th>13</th>\n",
       "      <td>4082076</td>\n",
       "      <td>5.0</td>\n",
       "      <td>1503998195</td>\n",
       "    </tr>\n",
       "    <tr>\n",
       "      <th>17</th>\n",
       "      <td>4083016</td>\n",
       "      <td>5.0</td>\n",
       "      <td>1504003406</td>\n",
       "    </tr>\n",
       "    <tr>\n",
       "      <th>16</th>\n",
       "      <td>4082560</td>\n",
       "      <td>5.0</td>\n",
       "      <td>1504000597</td>\n",
       "    </tr>\n",
       "    <tr>\n",
       "      <th>15</th>\n",
       "      <td>4082453</td>\n",
       "      <td>5.0</td>\n",
       "      <td>1503999653</td>\n",
       "    </tr>\n",
       "    <tr>\n",
       "      <th>14</th>\n",
       "      <td>4082429</td>\n",
       "      <td>5.0</td>\n",
       "      <td>1503999653</td>\n",
       "    </tr>\n",
       "    <tr>\n",
       "      <th>12</th>\n",
       "      <td>4081426</td>\n",
       "      <td>5.0</td>\n",
       "      <td>1503996021</td>\n",
       "    </tr>\n",
       "    <tr>\n",
       "      <th>11</th>\n",
       "      <td>4081280</td>\n",
       "      <td>5.0</td>\n",
       "      <td>1503995679</td>\n",
       "    </tr>\n",
       "    <tr>\n",
       "      <th>10</th>\n",
       "      <td>4081177</td>\n",
       "      <td>5.0</td>\n",
       "      <td>1503995527</td>\n",
       "    </tr>\n",
       "    <tr>\n",
       "      <th>9</th>\n",
       "      <td>4080334</td>\n",
       "      <td>5.0</td>\n",
       "      <td>1503993528</td>\n",
       "    </tr>\n",
       "    <tr>\n",
       "      <th>8</th>\n",
       "      <td>4080281</td>\n",
       "      <td>5.0</td>\n",
       "      <td>1503993172</td>\n",
       "    </tr>\n",
       "    <tr>\n",
       "      <th>7</th>\n",
       "      <td>4080129</td>\n",
       "      <td>5.0</td>\n",
       "      <td>1503992532</td>\n",
       "    </tr>\n",
       "    <tr>\n",
       "      <th>6</th>\n",
       "      <td>4079979</td>\n",
       "      <td>5.0</td>\n",
       "      <td>1503992124</td>\n",
       "    </tr>\n",
       "    <tr>\n",
       "      <th>1</th>\n",
       "      <td>4078676</td>\n",
       "      <td>4.0</td>\n",
       "      <td>1503982946</td>\n",
       "    </tr>\n",
       "    <tr>\n",
       "      <th>5</th>\n",
       "      <td>4079877</td>\n",
       "      <td>4.0</td>\n",
       "      <td>1503991896</td>\n",
       "    </tr>\n",
       "    <tr>\n",
       "      <th>4</th>\n",
       "      <td>4079726</td>\n",
       "      <td>4.0</td>\n",
       "      <td>1503991268</td>\n",
       "    </tr>\n",
       "    <tr>\n",
       "      <th>3</th>\n",
       "      <td>4079578</td>\n",
       "      <td>4.0</td>\n",
       "      <td>1503990573</td>\n",
       "    </tr>\n",
       "    <tr>\n",
       "      <th>2</th>\n",
       "      <td>4078761</td>\n",
       "      <td>4.0</td>\n",
       "      <td>1503984934</td>\n",
       "    </tr>\n",
       "    <tr>\n",
       "      <th>0</th>\n",
       "      <td>4078626</td>\n",
       "      <td>4.0</td>\n",
       "      <td>1503981721</td>\n",
       "    </tr>\n",
       "    <tr>\n",
       "      <th>25</th>\n",
       "      <td>4086186</td>\n",
       "      <td>NaN</td>\n",
       "      <td>1504019266</td>\n",
       "    </tr>\n",
       "  </tbody>\n",
       "</table>\n",
       "</div>"
      ],
      "text/plain": [
       "    REQUEST_ID  RepeatForecast  CREATE_DATE\n",
       "24     4085491            23.0   1504014871\n",
       "23     4085341            16.0   1504013831\n",
       "22     4084504            16.0   1504010075\n",
       "21     4084355            11.0   1504009269\n",
       "20     4084226             9.0   1504008338\n",
       "19     4084151             8.0   1504008119\n",
       "18     4083176             6.0   1504003856\n",
       "13     4082076             5.0   1503998195\n",
       "17     4083016             5.0   1504003406\n",
       "16     4082560             5.0   1504000597\n",
       "15     4082453             5.0   1503999653\n",
       "14     4082429             5.0   1503999653\n",
       "12     4081426             5.0   1503996021\n",
       "11     4081280             5.0   1503995679\n",
       "10     4081177             5.0   1503995527\n",
       "9      4080334             5.0   1503993528\n",
       "8      4080281             5.0   1503993172\n",
       "7      4080129             5.0   1503992532\n",
       "6      4079979             5.0   1503992124\n",
       "1      4078676             4.0   1503982946\n",
       "5      4079877             4.0   1503991896\n",
       "4      4079726             4.0   1503991268\n",
       "3      4079578             4.0   1503990573\n",
       "2      4078761             4.0   1503984934\n",
       "0      4078626             4.0   1503981721\n",
       "25     4086186             NaN   1504019266"
      ]
     },
     "execution_count": 149,
     "metadata": {},
     "output_type": "execute_result"
    }
   ],
   "source": [
    "## Predict RepeatIncidents with model using and associate data with EI numbers\n",
    "res=pd.Series(rf.predict(X_test))\n",
    "# print(X_test.loc[624])\n",
    "important_items=res.sort_values()[-25:]\n",
    "\n",
    "\n",
    "important_items_CREATE_DATE=[]\n",
    "for i in important_items.index:\n",
    "    important_items_CREATE_DATE.append(data_y.loc[i,'CREATE_DATE'])\n",
    "#     print(data_y.loc[i,'CREATE_DATE'], data_y.loc[i,'football'], important_items[i])\n",
    "\n",
    "x=dict()\n",
    "for i in range(len(important_items)-1):\n",
    "    x[i]=important_items_CREATE_DATE[i]\n",
    "mysql_conn= pymysql.connect(host=pers_data.HOST, \n",
    "                port=pers_data.PORT,user=pers_data.USER, passwd=pers_data.PASSWD, \n",
    "                db=pers_data.DB, charset='utf8')\n",
    "#connection.use_unicode =  True\n",
    "result_of_selection=pd.read_sql(sql_queries.SQL_QUERY_FIND_EIs.format(tuple(important_items_CREATE_DATE)), con=mysql_conn)\n",
    "# for i in result_of_selection[['REQUEST_ID', 'STATUS', 'CREATE_DATE']]:\n",
    "#     if result_of_selection['CREATE_DATE']==important_items.values:\n",
    "#         print(result_of_selection['CREATE_DATE'])\n",
    "# important_items.values\n",
    "res_of_union=pd.concat([result_of_selection, pd.DataFrame(important_items.values)], axis=1)\n",
    "res_of_union.rename(columns={0:'RepeatForecast'}, inplace=True)\n",
    "res_of_union[['REQUEST_ID', 'RepeatForecast', 'CREATE_DATE']].sort_values('RepeatForecast', ascending=False)"
   ]
  },
  {
   "cell_type": "code",
   "execution_count": 116,
   "metadata": {},
   "outputs": [
    {
     "data": {
      "text/plain": [
       "1503998047"
      ]
     },
     "execution_count": 116,
     "metadata": {},
     "output_type": "execute_result"
    }
   ],
   "source": [
    "data_y.loc[624,'CREATE_DATE']"
   ]
  },
  {
   "cell_type": "code",
   "execution_count": 204,
   "metadata": {
    "collapsed": true
   },
   "outputs": [],
   "source": [
    "#!pip install sqlalchemy\n",
    "\n",
    "from sqlalchemy import create_engine\n",
    "import datetime\n",
    "# import importlib\n",
    "# importlib.reload(pers_data)\n",
    "\n",
    "def write_to_sql(res_of_union, model_name):\n",
    "    ## Write to MySQL to new table\n",
    "\n",
    "\n",
    "    engine = create_engine('mysql+pymysql://'+pers_data.ACCOUNT_FOR_WRITE_TO_SQL)\n",
    "\n",
    "\n",
    "\n",
    "    res_of_union=res_of_union[['REQUEST_ID', 'RepeatForecast', 'CREATE_DATE']].sort_values('RepeatForecast', ascending=False)\n",
    "    res_of_union['Model']=model_name\n",
    "    table_name = 'FORECASTS'+'_'+model_name+'_'+str(datetime.datetime.today().month)+'_'+str(datetime.datetime.today().day)\n",
    "    pd.DataFrame.to_sql(res_of_union, name=table_name, con=engine, if_exists='replace')"
   ]
  },
  {
   "cell_type": "code",
   "execution_count": 205,
   "metadata": {
    "collapsed": true
   },
   "outputs": [],
   "source": [
    "write_to_sql(res_of_union, 'rf')"
   ]
  },
  {
   "cell_type": "code",
   "execution_count": 140,
   "metadata": {},
   "outputs": [
    {
     "name": "stdout",
     "output_type": "stream",
     "text": [
      "0.821731794199 0.895445798589\n",
      "Wall time: 9.83 s\n"
     ]
    }
   ],
   "source": [
    "%%time\n",
    "rfr = ensemble.RandomForestRegressor(n_estimators=45, random_state=11)\n",
    "rfr.fit(X_train, y_train)\n",
    "\n",
    "err_train = np.mean(y_train != rfr.predict(X_train))\n",
    "err_test  = np.mean(y_test  != rfr.predict(X_test))\n",
    "print(err_train, err_test)"
   ]
  },
  {
   "cell_type": "code",
   "execution_count": 141,
   "metadata": {},
   "outputs": [
    {
     "name": "stdout",
     "output_type": "stream",
     "text": [
      "Feature importances:\n",
      " 1. feature 'num_of_repeat60' (0.1758)\n",
      " 2. feature 'decision_time' (0.1446)\n",
      " 3. feature 'num_of_repeat30' (0.1160)\n",
      " 4. feature 'EIHourCreate' (0.0952)\n",
      " 5. feature 'TECHNICAL_DISTRICT' (0.0810)\n",
      " 6. feature 'DECLARED_FAULT' (0.0807)\n",
      " 7. feature 'EIDayOfWeek' (0.0640)\n",
      " 8. feature 'Channeltype' (0.0435)\n",
      " 9. feature 'football' (0.0344)\n",
      "10. feature 'MK   ' (0.0249)\n",
      "11. feature 'num_of_repeat10' (0.0242)\n",
      "12. feature 'Last_WFM_days_waiting' (0.0234)\n",
      "13. feature 'Service' (0.0223)\n",
      "14. feature 'Source' (0.0181)\n",
      "15. feature 'num_of_repeat5' (0.0142)\n",
      "16. feature 'NumWFMforEI' (0.0111)\n",
      "17. feature 'SEGMENT' (0.0097)\n",
      "18. feature 'num_of_repeat2' (0.0075)\n",
      "19. feature 'MITYPE' (0.0039)\n",
      "20. feature 'MIIMPACT' (0.0026)\n",
      "21. feature 'MIPRIORITY' (0.0025)\n",
      "Wall time: 22 ms\n"
     ]
    }
   ],
   "source": [
    "%%time\n",
    "importances = rf.feature_importances_\n",
    "indices = np.argsort(importances)[::-1]\n",
    "\n",
    "print(\"Feature importances:\")\n",
    "for f, idx in enumerate(indices):\n",
    "    print(\"{:2d}. feature '{:5s}' ({:.4f})\".format(f + 1, feature_names[idx], importances[idx]))"
   ]
  },
  {
   "cell_type": "code",
   "execution_count": 142,
   "metadata": {},
   "outputs": [
    {
     "data": {
      "text/plain": [
       "array(['Время решения', 'MK', 'Сегмент', 'Услуга', 'Тип канала',\n",
       "       'Источник ЕИ', 'Футбол', 'Заявл. неисправность',\n",
       "       'Повторок за 2 дня', 'Повторок за 5 дней', 'Повторок за 10 дней',\n",
       "       'Повторок за 30 дней', 'Повторок за 60 дней', 'Тип МИ',\n",
       "       'Приоритет МИ', 'Влияние МИ', 'Техрайон(WFM)', 'Кол-во WFM',\n",
       "       'Кол-во дней ожидания выезда', 'День недели заведения ЕИ'], \n",
       "      dtype='<U27')"
      ]
     },
     "execution_count": 142,
     "metadata": {},
     "output_type": "execute_result"
    }
   ],
   "source": [
    "feature_arr_names = [i for i in fsel_names.values()]\n",
    "np.array(feature_arr_names)[:d_first]\n",
    "# d_first"
   ]
  },
  {
   "cell_type": "code",
   "execution_count": 143,
   "metadata": {
    "scrolled": true
   },
   "outputs": [
    {
     "data": {
      "text/plain": [
       "<matplotlib.figure.Figure at 0xe761b30>"
      ]
     },
     "metadata": {},
     "output_type": "display_data"
    },
    {
     "data": {
      "image/png": "[encoded data removed]",
      "text/plain": [
       "<matplotlib.figure.Figure at 0xef42450>"
      ]
     },
     "metadata": {},
     "output_type": "display_data"
    }
   ],
   "source": [
    "# %%time\n",
    "\n",
    "data_period = url_to_data.split('.')[0].split('/')[1][4:]\n",
    "\n",
    "plt.subplots_adjust(left=0.15)\n",
    "d_first = 20\n",
    "plt.figure(figsize=(8, 8)).autofmt_xdate() \n",
    "plt.title(\"Вклад признаков в повторку (по данным за {0})\".format(data_period))\n",
    "plt.bar(range(d_first), importances[indices[:d_first]], align='center')\n",
    "plt.xticks(range(d_first), np.array(feature_arr_names)[indices[:d_first]], rotation=90)\n",
    "plt.xlim([-1, d_first])\n",
    "plt.savefig(\"FeaturesImportances{0}.pdf\".format(data_period))"
   ]
  },
  {
   "cell_type": "code",
   "execution_count": 144,
   "metadata": {},
   "outputs": [
    {
     "name": "stdout",
     "output_type": "stream",
     "text": [
      "21\n",
      "Index(['num_of_repeat60', 'decision_time', 'num_of_repeat30', 'EIHourCreate',\n",
      "       'TECHNICAL_DISTRICT', 'DECLARED_FAULT', 'EIDayOfWeek', 'Channeltype'],\n",
      "      dtype='object')\n",
      "Wall time: 0 ns\n"
     ]
    }
   ],
   "source": [
    "%%time\n",
    "print(len(feature_names))\n",
    "best_features = indices[:8]\n",
    "best_features_names = feature_names[best_features]\n",
    "print(best_features_names)"
   ]
  },
  {
   "cell_type": "code",
   "execution_count": null,
   "metadata": {
    "collapsed": true
   },
   "outputs": [],
   "source": []
  },
  {
   "cell_type": "code",
   "execution_count": 145,
   "metadata": {},
   "outputs": [
    {
     "name": "stdout",
     "output_type": "stream",
     "text": [
      "0.293756863165 0.288005131495\n",
      "Wall time: 1min\n"
     ]
    }
   ],
   "source": [
    "%%time\n",
    "gbt = ensemble.GradientBoostingClassifier(n_estimators=25, random_state=11)\n",
    "gbt.fit(X_train[best_features_names], y_train)\n",
    "\n",
    "err_train = np.mean(y_train != gbt.predict(X_train[best_features_names]))\n",
    "err_test = np.mean(y_test != gbt.predict(X_test[best_features_names]))\n",
    "print(err_train, err_test)"
   ]
  },
  {
   "cell_type": "code",
   "execution_count": 206,
   "metadata": {},
   "outputs": [
    {
     "name": "stdout",
     "output_type": "stream",
     "text": [
      "1503992124 2 4.0\n",
      "1504008119 2 4.0\n",
      "1503981721 4 5.0\n",
      "1504001952 3 5.0\n",
      "1503996021 3 5.0\n",
      "1504009269 2 5.0\n",
      "1503982946 2 5.0\n",
      "1503993970 4 8.0\n",
      "1503993912 4 8.0\n",
      "1503991268 5 8.0\n",
      "1503987457 1 8.0\n",
      "1503995003 2 8.0\n",
      "1504019266 2 8.0\n",
      "1504006328 2 10.0\n",
      "1503990573 2 11.0\n",
      "1503993528 2 12.0\n",
      "1503995527 2 12.0\n",
      "1503996528 2 12.0\n",
      "1504003860 3 12.0\n",
      "1504000597 2 12.0\n",
      "1504000588 4 12.0\n",
      "1504010075 4 12.0\n",
      "1503984934 2 16.0\n",
      "1504013831 4 34.0\n",
      "1503992532 4 94.0\n"
     ]
    },
    {
     "data": {
      "text/html": [
       "<div>\n",
       "<style>\n",
       "    .dataframe thead tr:only-child th {\n",
       "        text-align: right;\n",
       "    }\n",
       "\n",
       "    .dataframe thead th {\n",
       "        text-align: left;\n",
       "    }\n",
       "\n",
       "    .dataframe tbody tr th {\n",
       "        vertical-align: top;\n",
       "    }\n",
       "</style>\n",
       "<table border=\"1\" class=\"dataframe\">\n",
       "  <thead>\n",
       "    <tr style=\"text-align: right;\">\n",
       "      <th></th>\n",
       "      <th>REQUEST_ID</th>\n",
       "      <th>RepeatForecast</th>\n",
       "      <th>CREATE_DATE</th>\n",
       "    </tr>\n",
       "  </thead>\n",
       "  <tbody>\n",
       "    <tr>\n",
       "      <th>24</th>\n",
       "      <td>4086186</td>\n",
       "      <td>94.0</td>\n",
       "      <td>1504019266</td>\n",
       "    </tr>\n",
       "    <tr>\n",
       "      <th>23</th>\n",
       "      <td>4085341</td>\n",
       "      <td>34.0</td>\n",
       "      <td>1504013831</td>\n",
       "    </tr>\n",
       "    <tr>\n",
       "      <th>22</th>\n",
       "      <td>4084504</td>\n",
       "      <td>16.0</td>\n",
       "      <td>1504010075</td>\n",
       "    </tr>\n",
       "    <tr>\n",
       "      <th>21</th>\n",
       "      <td>4084355</td>\n",
       "      <td>12.0</td>\n",
       "      <td>1504009269</td>\n",
       "    </tr>\n",
       "    <tr>\n",
       "      <th>20</th>\n",
       "      <td>4084151</td>\n",
       "      <td>12.0</td>\n",
       "      <td>1504008119</td>\n",
       "    </tr>\n",
       "    <tr>\n",
       "      <th>19</th>\n",
       "      <td>4083729</td>\n",
       "      <td>12.0</td>\n",
       "      <td>1504006328</td>\n",
       "    </tr>\n",
       "    <tr>\n",
       "      <th>18</th>\n",
       "      <td>4083177</td>\n",
       "      <td>12.0</td>\n",
       "      <td>1504003860</td>\n",
       "    </tr>\n",
       "    <tr>\n",
       "      <th>17</th>\n",
       "      <td>4082807</td>\n",
       "      <td>12.0</td>\n",
       "      <td>1504001952</td>\n",
       "    </tr>\n",
       "    <tr>\n",
       "      <th>16</th>\n",
       "      <td>4082560</td>\n",
       "      <td>12.0</td>\n",
       "      <td>1504000597</td>\n",
       "    </tr>\n",
       "    <tr>\n",
       "      <th>15</th>\n",
       "      <td>4082609</td>\n",
       "      <td>12.0</td>\n",
       "      <td>1504000588</td>\n",
       "    </tr>\n",
       "    <tr>\n",
       "      <th>14</th>\n",
       "      <td>4081511</td>\n",
       "      <td>11.0</td>\n",
       "      <td>1503996528</td>\n",
       "    </tr>\n",
       "    <tr>\n",
       "      <th>13</th>\n",
       "      <td>4081426</td>\n",
       "      <td>10.0</td>\n",
       "      <td>1503996021</td>\n",
       "    </tr>\n",
       "    <tr>\n",
       "      <th>12</th>\n",
       "      <td>4081177</td>\n",
       "      <td>8.0</td>\n",
       "      <td>1503995527</td>\n",
       "    </tr>\n",
       "    <tr>\n",
       "      <th>11</th>\n",
       "      <td>4080804</td>\n",
       "      <td>8.0</td>\n",
       "      <td>1503995003</td>\n",
       "    </tr>\n",
       "    <tr>\n",
       "      <th>10</th>\n",
       "      <td>4080527</td>\n",
       "      <td>8.0</td>\n",
       "      <td>1503993970</td>\n",
       "    </tr>\n",
       "    <tr>\n",
       "      <th>9</th>\n",
       "      <td>4080501</td>\n",
       "      <td>8.0</td>\n",
       "      <td>1503993912</td>\n",
       "    </tr>\n",
       "    <tr>\n",
       "      <th>8</th>\n",
       "      <td>4080334</td>\n",
       "      <td>8.0</td>\n",
       "      <td>1503993528</td>\n",
       "    </tr>\n",
       "    <tr>\n",
       "      <th>7</th>\n",
       "      <td>4080129</td>\n",
       "      <td>8.0</td>\n",
       "      <td>1503992532</td>\n",
       "    </tr>\n",
       "    <tr>\n",
       "      <th>6</th>\n",
       "      <td>4079979</td>\n",
       "      <td>5.0</td>\n",
       "      <td>1503992124</td>\n",
       "    </tr>\n",
       "    <tr>\n",
       "      <th>5</th>\n",
       "      <td>4079726</td>\n",
       "      <td>5.0</td>\n",
       "      <td>1503991268</td>\n",
       "    </tr>\n",
       "    <tr>\n",
       "      <th>4</th>\n",
       "      <td>4079578</td>\n",
       "      <td>5.0</td>\n",
       "      <td>1503990573</td>\n",
       "    </tr>\n",
       "    <tr>\n",
       "      <th>3</th>\n",
       "      <td>4079101</td>\n",
       "      <td>5.0</td>\n",
       "      <td>1503987457</td>\n",
       "    </tr>\n",
       "    <tr>\n",
       "      <th>2</th>\n",
       "      <td>4078761</td>\n",
       "      <td>5.0</td>\n",
       "      <td>1503984934</td>\n",
       "    </tr>\n",
       "    <tr>\n",
       "      <th>1</th>\n",
       "      <td>4078676</td>\n",
       "      <td>4.0</td>\n",
       "      <td>1503982946</td>\n",
       "    </tr>\n",
       "    <tr>\n",
       "      <th>0</th>\n",
       "      <td>4078626</td>\n",
       "      <td>4.0</td>\n",
       "      <td>1503981721</td>\n",
       "    </tr>\n",
       "  </tbody>\n",
       "</table>\n",
       "</div>"
      ],
      "text/plain": [
       "    REQUEST_ID  RepeatForecast  CREATE_DATE\n",
       "24     4086186            94.0   1504019266\n",
       "23     4085341            34.0   1504013831\n",
       "22     4084504            16.0   1504010075\n",
       "21     4084355            12.0   1504009269\n",
       "20     4084151            12.0   1504008119\n",
       "19     4083729            12.0   1504006328\n",
       "18     4083177            12.0   1504003860\n",
       "17     4082807            12.0   1504001952\n",
       "16     4082560            12.0   1504000597\n",
       "15     4082609            12.0   1504000588\n",
       "14     4081511            11.0   1503996528\n",
       "13     4081426            10.0   1503996021\n",
       "12     4081177             8.0   1503995527\n",
       "11     4080804             8.0   1503995003\n",
       "10     4080527             8.0   1503993970\n",
       "9      4080501             8.0   1503993912\n",
       "8      4080334             8.0   1503993528\n",
       "7      4080129             8.0   1503992532\n",
       "6      4079979             5.0   1503992124\n",
       "5      4079726             5.0   1503991268\n",
       "4      4079578             5.0   1503990573\n",
       "3      4079101             5.0   1503987457\n",
       "2      4078761             5.0   1503984934\n",
       "1      4078676             4.0   1503982946\n",
       "0      4078626             4.0   1503981721"
      ]
     },
     "execution_count": 206,
     "metadata": {},
     "output_type": "execute_result"
    }
   ],
   "source": [
    "## Predict RepeatIncidents with model using and associate data with EI numbers\n",
    "res=pd.Series(gbt.predict(X_test[best_features_names]))\n",
    "# print(X_test.loc[624])\n",
    "important_items=res.sort_values()[-25:]\n",
    "\n",
    "\n",
    "important_items_CREATE_DATE=[]\n",
    "for i in important_items.index:\n",
    "    important_items_CREATE_DATE.append(data_y.loc[i,'CREATE_DATE'])\n",
    "    print(data_y.loc[i,'CREATE_DATE'], data_y.loc[i,'football'], important_items[i])\n",
    "\n",
    "x=dict()\n",
    "for i in range(len(important_items)-1):\n",
    "    x[i]=important_items_CREATE_DATE[i]\n",
    "mysql_conn= pymysql.connect(host=pers_data.HOST, \n",
    "                port=pers_data.PORT,user=pers_data.USER, passwd=pers_data.PASSWD, \n",
    "                db=pers_data.DB, charset='utf8')\n",
    "#connection.use_unicode =  True\n",
    "result_of_selection=pd.read_sql(sql_queries.SQL_QUERY_FIND_EIs.format(tuple(important_items_CREATE_DATE)), con=mysql_conn)\n",
    "# for i in result_of_selection[['REQUEST_ID', 'STATUS', 'CREATE_DATE']]:\n",
    "#     if result_of_selection['CREATE_DATE']==important_items.values:\n",
    "#         print(result_of_selection['CREATE_DATE'])\n",
    "# important_items.values\n",
    "res_of_union=pd.concat([result_of_selection, pd.DataFrame(important_items.values)], axis=1)\n",
    "res_of_union.rename(columns={0:'RepeatForecast'}, inplace=True)\n",
    "res_of_union[['REQUEST_ID', 'RepeatForecast', 'CREATE_DATE']].sort_values('RepeatForecast', ascending=False)"
   ]
  },
  {
   "cell_type": "code",
   "execution_count": 207,
   "metadata": {},
   "outputs": [],
   "source": [
    "write_to_sql(res_of_union, 'gbt')"
   ]
  },
  {
   "cell_type": "code",
   "execution_count": null,
   "metadata": {
    "collapsed": true
   },
   "outputs": [],
   "source": []
  },
  {
   "cell_type": "code",
   "execution_count": null,
   "metadata": {
    "collapsed": true
   },
   "outputs": [],
   "source": []
  }
 ],
 "metadata": {
  "kernelspec": {
   "display_name": "Python 3",
   "language": "python",
   "name": "python3"
  },
  "language_info": {
   "codemirror_mode": {
    "name": "ipython",
    "version": 3
   },
   "file_extension": ".py",
   "mimetype": "text/x-python",
   "name": "python",
   "nbconvert_exporter": "python",
   "pygments_lexer": "ipython3",
   "version": "3.6.1"
  }
 },
 "nbformat": 4,
 "nbformat_minor": 2
}

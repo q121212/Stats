{
 "cells": [
  {
   "cell_type": "code",
   "execution_count": null,
   "metadata": {
    "collapsed": true
   },
   "outputs": [],
   "source": [
    "# -*- coding: utf-8 -*-\n",
    "import numpy as np\n",
    "import pandas as pd\n",
    "import matplotlib.pyplot as plt\n",
    "plt.style.use('ggplot')\n",
    "%matplotlib inline\n"
   ]
  },
  {
   "cell_type": "code",
   "execution_count": 2,
   "metadata": {},
   "outputs": [
    {
     "name": "stderr",
     "output_type": "stream",
     "text": [
      "C:\\Users\\MRekunchak\\AppData\\Local\\Continuum\\Anaconda3\\lib\\site-packages\\IPython\\core\\interactiveshell.py:2717: DtypeWarning: Columns (39,45) have mixed types. Specify dtype option on import or set low_memory=False.\n",
      "  interactivity=interactivity, compiler=compiler, result=result)\n"
     ]
    }
   ],
   "source": [
    "# help(pd.read_csv)\n",
    "url_to_data = 'data/data1708_fromAug2017.csv'\n",
    "data = pd.read_csv(url_to_data, names=['REQUEST_ID', 'MODIFIED_DATE', 'CLIENT_CATEGORY', 'SEGMENT',\n",
    "                                       'CREATE_DATE', 'CLOSETIME', 'GNAME1', 'GNAME2', 'GNAME2_PREV',\n",
    "                                       'football', 'STATUS', 'SERVICE', 'PHONE_NUM', 'ASRZ200_ID',\n",
    "                                       'CHANNELREQUESTID', 'channeltype', 'source', 'MI_ID', 'PRIORITY',\n",
    "                                       'IMPACT', 'URGENCY', 'RESPZONE_SOLUTION', 'RESPZONE_PROBLEM',\n",
    "                                       'PERSID4', 'CLIENT', 'PERSID2', 'PERSID2_PREV', 'GID2', 'GID2_PREV',\n",
    "                                       'TIMELEFTOLA', 'TIMELEFTSLA', 'OPERATOR', 'DOGID', 'CONTRACT_NUM',\n",
    "                                       'FIXTIME', 'ASRZTTID', 'SERVICEIMPATSCLS', 'LOC_EADDR_ID1', 'DECLARED_FAULT',\n",
    "                                       'ASRZ208_STATUS', 'ASRZ200_STATUS', 'CHANNELID', 'BUSINESS_CATEGORY',\n",
    "                                       'TYPE_TIER_TT', 'CLIENTCHANNELADDRESS', 'num_of_repeat', 'CHANNELREQUESTID2',\n",
    "                                       'num_of_repeat'], na_values='0', delimiter=';', skiprows=[0])"
   ]
  },
  {
   "cell_type": "code",
   "execution_count": 3,
   "metadata": {},
   "outputs": [
    {
     "data": {
      "text/plain": [
       "(23862, 48)"
      ]
     },
     "execution_count": 3,
     "metadata": {},
     "output_type": "execute_result"
    }
   ],
   "source": [
    "data.shape"
   ]
  },
  {
   "cell_type": "code",
   "execution_count": 4,
   "metadata": {
    "collapsed": true
   },
   "outputs": [],
   "source": [
    "# data.columns=['A' + str(i) for i in range(len(data.columns))]\n",
    "# data.head()"
   ]
  },
  {
   "cell_type": "code",
   "execution_count": 5,
   "metadata": {
    "collapsed": true
   },
   "outputs": [],
   "source": [
    "# data.describe()"
   ]
  },
  {
   "cell_type": "code",
   "execution_count": 6,
   "metadata": {},
   "outputs": [
    {
     "name": "stdout",
     "output_type": "stream",
     "text": [
      "Categorical columns:  ['REQUEST_ID', 'CLIENT_CATEGORY', 'SEGMENT', 'GNAME2_PREV', 'PHONE_NUM', 'CHANNELREQUESTID', 'URGENCY', 'CLIENT', 'DOGID', 'CONTRACT_NUM', 'DECLARED_FAULT', 'ASRZ208_STATUS', 'CLIENTCHANNELADDRESS', 'num_of_repeat']\n",
      "Numerical columns:  ['MODIFIED_DATE', 'CREATE_DATE', 'CLOSETIME', 'GNAME1', 'GNAME2', 'football', 'STATUS', 'SERVICE', 'ASRZ200_ID', 'channeltype', 'source', 'MI_ID', 'PRIORITY', 'IMPACT', 'RESPZONE_SOLUTION', 'RESPZONE_PROBLEM', 'PERSID4', 'PERSID2', 'PERSID2_PREV', 'GID2', 'GID2_PREV', 'TIMELEFTOLA', 'TIMELEFTSLA', 'OPERATOR', 'FIXTIME', 'ASRZTTID', 'SERVICEIMPATSCLS', 'LOC_EADDR_ID1', 'ASRZ200_STATUS', 'CHANNELID', 'BUSINESS_CATEGORY', 'TYPE_TIER_TT', 'CHANNELREQUESTID2', 'num_of_repeat.1']\n"
     ]
    }
   ],
   "source": [
    "# extract categorical and numerical features\n",
    "categorical_columns = [c for c in data.columns if data[c].dtype.name == 'object']\n",
    "numerical_columns   = [c for c in data.columns if data[c].dtype.name != 'object']\n",
    "print('Categorical columns: ', categorical_columns)\n",
    "print('Numerical columns: ', numerical_columns)"
   ]
  },
  {
   "cell_type": "code",
   "execution_count": 7,
   "metadata": {
    "collapsed": true
   },
   "outputs": [],
   "source": [
    "# data[numerical_columns].describe()"
   ]
  },
  {
   "cell_type": "code",
   "execution_count": 8,
   "metadata": {},
   "outputs": [
    {
     "data": {
      "text/html": [
       "<div>\n",
       "<style>\n",
       "    .dataframe thead tr:only-child th {\n",
       "        text-align: right;\n",
       "    }\n",
       "\n",
       "    .dataframe thead th {\n",
       "        text-align: left;\n",
       "    }\n",
       "\n",
       "    .dataframe tbody tr th {\n",
       "        vertical-align: top;\n",
       "    }\n",
       "</style>\n",
       "<table border=\"1\" class=\"dataframe\">\n",
       "  <thead>\n",
       "    <tr style=\"text-align: right;\">\n",
       "      <th></th>\n",
       "      <th>REQUEST_ID</th>\n",
       "      <th>CLIENT_CATEGORY</th>\n",
       "      <th>SEGMENT</th>\n",
       "      <th>GNAME2_PREV</th>\n",
       "      <th>PHONE_NUM</th>\n",
       "      <th>CHANNELREQUESTID</th>\n",
       "      <th>URGENCY</th>\n",
       "      <th>CLIENT</th>\n",
       "      <th>DOGID</th>\n",
       "      <th>CONTRACT_NUM</th>\n",
       "      <th>DECLARED_FAULT</th>\n",
       "      <th>ASRZ208_STATUS</th>\n",
       "      <th>CLIENTCHANNELADDRESS</th>\n",
       "      <th>num_of_repeat</th>\n",
       "    </tr>\n",
       "  </thead>\n",
       "  <tbody>\n",
       "    <tr>\n",
       "      <th>count</th>\n",
       "      <td>23862</td>\n",
       "      <td>23678</td>\n",
       "      <td>23833</td>\n",
       "      <td>8398</td>\n",
       "      <td>21987</td>\n",
       "      <td>21181</td>\n",
       "      <td>1113</td>\n",
       "      <td>23820</td>\n",
       "      <td>1318</td>\n",
       "      <td>16900</td>\n",
       "      <td>23835</td>\n",
       "      <td>21164</td>\n",
       "      <td>23835</td>\n",
       "      <td>21173</td>\n",
       "    </tr>\n",
       "    <tr>\n",
       "      <th>unique</th>\n",
       "      <td>23860</td>\n",
       "      <td>32</td>\n",
       "      <td>12</td>\n",
       "      <td>99</td>\n",
       "      <td>18900</td>\n",
       "      <td>19445</td>\n",
       "      <td>9</td>\n",
       "      <td>20595</td>\n",
       "      <td>881</td>\n",
       "      <td>15046</td>\n",
       "      <td>205</td>\n",
       "      <td>5</td>\n",
       "      <td>20983</td>\n",
       "      <td>63</td>\n",
       "    </tr>\n",
       "    <tr>\n",
       "      <th>top</th>\n",
       "      <td>ЗАО \"Макомнет\"</td>\n",
       "      <td>ФЛ</td>\n",
       "      <td>МР</td>\n",
       "      <td>30000000000405</td>\n",
       "      <td>49500000</td>\n",
       "      <td>10513602</td>\n",
       "      <td>2</td>\n",
       "      <td>ЗАО \"ДИКСИ Юг\"</td>\n",
       "      <td>1-9AZWS-6</td>\n",
       "      <td>ххх</td>\n",
       "      <td>Телефония. Тишина в трубке, нет зуммера</td>\n",
       "      <td>1</td>\n",
       "      <td>6c3e226b4d4795d518ab341b0824ec29</td>\n",
       "      <td>1</td>\n",
       "    </tr>\n",
       "    <tr>\n",
       "      <th>freq</th>\n",
       "      <td>2</td>\n",
       "      <td>18138</td>\n",
       "      <td>18730</td>\n",
       "      <td>1815</td>\n",
       "      <td>1200</td>\n",
       "      <td>6</td>\n",
       "      <td>611</td>\n",
       "      <td>200</td>\n",
       "      <td>26</td>\n",
       "      <td>93</td>\n",
       "      <td>2530</td>\n",
       "      <td>13957</td>\n",
       "      <td>543</td>\n",
       "      <td>7358</td>\n",
       "    </tr>\n",
       "  </tbody>\n",
       "</table>\n",
       "</div>"
      ],
      "text/plain": [
       "            REQUEST_ID CLIENT_CATEGORY SEGMENT     GNAME2_PREV PHONE_NUM  \\\n",
       "count            23862           23678   23833            8398     21987   \n",
       "unique           23860              32      12              99     18900   \n",
       "top     ЗАО \"Макомнет\"              ФЛ      МР  30000000000405  49500000   \n",
       "freq                 2           18138   18730            1815      1200   \n",
       "\n",
       "       CHANNELREQUESTID URGENCY          CLIENT      DOGID CONTRACT_NUM  \\\n",
       "count             21181    1113           23820       1318        16900   \n",
       "unique            19445       9           20595        881        15046   \n",
       "top            10513602       2  ЗАО \"ДИКСИ Юг\"  1-9AZWS-6          ххх   \n",
       "freq                  6     611             200         26           93   \n",
       "\n",
       "                                 DECLARED_FAULT ASRZ208_STATUS  \\\n",
       "count                                     23835          21164   \n",
       "unique                                      205              5   \n",
       "top     Телефония. Тишина в трубке, нет зуммера              1   \n",
       "freq                                       2530          13957   \n",
       "\n",
       "                    CLIENTCHANNELADDRESS num_of_repeat  \n",
       "count                              23835         21173  \n",
       "unique                             20983            63  \n",
       "top     6c3e226b4d4795d518ab341b0824ec29             1  \n",
       "freq                                 543          7358  "
      ]
     },
     "execution_count": 8,
     "metadata": {},
     "output_type": "execute_result"
    }
   ],
   "source": [
    "data[categorical_columns].describe() # Stats for categorial features"
   ]
  },
  {
   "cell_type": "code",
   "execution_count": 9,
   "metadata": {
    "collapsed": true
   },
   "outputs": [],
   "source": [
    "# data.describe(include=[object]) # Another way to do the same"
   ]
  },
  {
   "cell_type": "code",
   "execution_count": 10,
   "metadata": {},
   "outputs": [
    {
     "data": {
      "text/html": [
       "<div>\n",
       "<style>\n",
       "    .dataframe thead tr:only-child th {\n",
       "        text-align: right;\n",
       "    }\n",
       "\n",
       "    .dataframe thead th {\n",
       "        text-align: left;\n",
       "    }\n",
       "\n",
       "    .dataframe tbody tr th {\n",
       "        vertical-align: top;\n",
       "    }\n",
       "</style>\n",
       "<table border=\"1\" class=\"dataframe\">\n",
       "  <thead>\n",
       "    <tr style=\"text-align: right;\">\n",
       "      <th></th>\n",
       "      <th>REQUEST_ID</th>\n",
       "      <th>MODIFIED_DATE</th>\n",
       "      <th>CLIENT_CATEGORY</th>\n",
       "      <th>SEGMENT</th>\n",
       "      <th>CREATE_DATE</th>\n",
       "      <th>CLOSETIME</th>\n",
       "      <th>GNAME1</th>\n",
       "      <th>GNAME2</th>\n",
       "      <th>GNAME2_PREV</th>\n",
       "      <th>football</th>\n",
       "      <th>...</th>\n",
       "      <th>DECLARED_FAULT</th>\n",
       "      <th>ASRZ208_STATUS</th>\n",
       "      <th>ASRZ200_STATUS</th>\n",
       "      <th>CHANNELID</th>\n",
       "      <th>BUSINESS_CATEGORY</th>\n",
       "      <th>TYPE_TIER_TT</th>\n",
       "      <th>CLIENTCHANNELADDRESS</th>\n",
       "      <th>num_of_repeat</th>\n",
       "      <th>CHANNELREQUESTID2</th>\n",
       "      <th>num_of_repeat.1</th>\n",
       "    </tr>\n",
       "  </thead>\n",
       "  <tbody>\n",
       "    <tr>\n",
       "      <th>0</th>\n",
       "      <td>3874727</td>\n",
       "      <td>1.501584e+09</td>\n",
       "      <td>ФЛ</td>\n",
       "      <td>МР</td>\n",
       "      <td>1.501547e+09</td>\n",
       "      <td>1.501584e+09</td>\n",
       "      <td>3.000000e+13</td>\n",
       "      <td>3.000000e+13</td>\n",
       "      <td>NaN</td>\n",
       "      <td>3.0</td>\n",
       "      <td>...</td>\n",
       "      <td>Интернет. Нестабильная работа/разрывы</td>\n",
       "      <td>1</td>\n",
       "      <td>1.0</td>\n",
       "      <td>1198527.0</td>\n",
       "      <td>4.0</td>\n",
       "      <td>NaN</td>\n",
       "      <td>613c66ed423e05e90627a2e06ed3d48b</td>\n",
       "      <td>2</td>\n",
       "      <td>8729247.0</td>\n",
       "      <td>2.0</td>\n",
       "    </tr>\n",
       "    <tr>\n",
       "      <th>1</th>\n",
       "      <td>3874728</td>\n",
       "      <td>1.501570e+09</td>\n",
       "      <td>NKA</td>\n",
       "      <td>КОРП</td>\n",
       "      <td>1.501550e+09</td>\n",
       "      <td>1.501570e+09</td>\n",
       "      <td>4.000000e+13</td>\n",
       "      <td>4.000000e+13</td>\n",
       "      <td>40000000000003</td>\n",
       "      <td>4.0</td>\n",
       "      <td>...</td>\n",
       "      <td>Не работает канал VPN</td>\n",
       "      <td>NaN</td>\n",
       "      <td>NaN</td>\n",
       "      <td>NaN</td>\n",
       "      <td>2.0</td>\n",
       "      <td>4.0</td>\n",
       "      <td>c1612cd629f27a03151fe16c20d45bb4</td>\n",
       "      <td>NaN</td>\n",
       "      <td>NaN</td>\n",
       "      <td>NaN</td>\n",
       "    </tr>\n",
       "    <tr>\n",
       "      <th>2</th>\n",
       "      <td>3874729</td>\n",
       "      <td>1.501562e+09</td>\n",
       "      <td>ФЛ</td>\n",
       "      <td>МР</td>\n",
       "      <td>1.501558e+09</td>\n",
       "      <td>1.501562e+09</td>\n",
       "      <td>3.000000e+13</td>\n",
       "      <td>3.000000e+13</td>\n",
       "      <td>30000000000405</td>\n",
       "      <td>5.0</td>\n",
       "      <td>...</td>\n",
       "      <td>Интернет. Нет авторизации, линк есть</td>\n",
       "      <td>1</td>\n",
       "      <td>1.0</td>\n",
       "      <td>20586641.0</td>\n",
       "      <td>4.0</td>\n",
       "      <td>NaN</td>\n",
       "      <td>14f25acc96ee5934de5a49da96c0d32d</td>\n",
       "      <td>1</td>\n",
       "      <td>24888099.0</td>\n",
       "      <td>1.0</td>\n",
       "    </tr>\n",
       "    <tr>\n",
       "      <th>3</th>\n",
       "      <td>3874730</td>\n",
       "      <td>1.501560e+09</td>\n",
       "      <td>ФЛ</td>\n",
       "      <td>МР</td>\n",
       "      <td>1.501560e+09</td>\n",
       "      <td>1.501560e+09</td>\n",
       "      <td>3.000000e+13</td>\n",
       "      <td>3.000000e+13</td>\n",
       "      <td>NaN</td>\n",
       "      <td>2.0</td>\n",
       "      <td>...</td>\n",
       "      <td>ТВ. Ошибка при активации приставки</td>\n",
       "      <td>1</td>\n",
       "      <td>1.0</td>\n",
       "      <td>10200877.0</td>\n",
       "      <td>4.0</td>\n",
       "      <td>4.0</td>\n",
       "      <td>eb10cafbf2b03c70ba84b7a6a33e581d</td>\n",
       "      <td>1</td>\n",
       "      <td>12973899.0</td>\n",
       "      <td>1.0</td>\n",
       "    </tr>\n",
       "    <tr>\n",
       "      <th>4</th>\n",
       "      <td>3874731</td>\n",
       "      <td>1.501903e+09</td>\n",
       "      <td>ФЛ</td>\n",
       "      <td>МР</td>\n",
       "      <td>1.501560e+09</td>\n",
       "      <td>1.501903e+09</td>\n",
       "      <td>3.000000e+13</td>\n",
       "      <td>3.000000e+13</td>\n",
       "      <td>NaN</td>\n",
       "      <td>3.0</td>\n",
       "      <td>...</td>\n",
       "      <td>Swap ONT Huawei</td>\n",
       "      <td>1</td>\n",
       "      <td>1.0</td>\n",
       "      <td>588591.0</td>\n",
       "      <td>4.0</td>\n",
       "      <td>NaN</td>\n",
       "      <td>c3d16c048f4a12e126af6be0f607e9be</td>\n",
       "      <td>1</td>\n",
       "      <td>5752877.0</td>\n",
       "      <td>1.0</td>\n",
       "    </tr>\n",
       "  </tbody>\n",
       "</table>\n",
       "<p>5 rows × 48 columns</p>\n",
       "</div>"
      ],
      "text/plain": [
       "  REQUEST_ID  MODIFIED_DATE CLIENT_CATEGORY SEGMENT   CREATE_DATE  \\\n",
       "0    3874727   1.501584e+09              ФЛ      МР  1.501547e+09   \n",
       "1    3874728   1.501570e+09             NKA    КОРП  1.501550e+09   \n",
       "2    3874729   1.501562e+09              ФЛ      МР  1.501558e+09   \n",
       "3    3874730   1.501560e+09              ФЛ      МР  1.501560e+09   \n",
       "4    3874731   1.501903e+09              ФЛ      МР  1.501560e+09   \n",
       "\n",
       "      CLOSETIME        GNAME1        GNAME2     GNAME2_PREV  football  \\\n",
       "0  1.501584e+09  3.000000e+13  3.000000e+13             NaN       3.0   \n",
       "1  1.501570e+09  4.000000e+13  4.000000e+13  40000000000003       4.0   \n",
       "2  1.501562e+09  3.000000e+13  3.000000e+13  30000000000405       5.0   \n",
       "3  1.501560e+09  3.000000e+13  3.000000e+13             NaN       2.0   \n",
       "4  1.501903e+09  3.000000e+13  3.000000e+13             NaN       3.0   \n",
       "\n",
       "        ...                                DECLARED_FAULT  ASRZ208_STATUS  \\\n",
       "0       ...         Интернет. Нестабильная работа/разрывы               1   \n",
       "1       ...                         Не работает канал VPN             NaN   \n",
       "2       ...          Интернет. Нет авторизации, линк есть               1   \n",
       "3       ...            ТВ. Ошибка при активации приставки               1   \n",
       "4       ...                               Swap ONT Huawei               1   \n",
       "\n",
       "  ASRZ200_STATUS   CHANNELID BUSINESS_CATEGORY  TYPE_TIER_TT  \\\n",
       "0            1.0   1198527.0               4.0           NaN   \n",
       "1            NaN         NaN               2.0           4.0   \n",
       "2            1.0  20586641.0               4.0           NaN   \n",
       "3            1.0  10200877.0               4.0           4.0   \n",
       "4            1.0    588591.0               4.0           NaN   \n",
       "\n",
       "               CLIENTCHANNELADDRESS  num_of_repeat  CHANNELREQUESTID2  \\\n",
       "0  613c66ed423e05e90627a2e06ed3d48b              2          8729247.0   \n",
       "1  c1612cd629f27a03151fe16c20d45bb4            NaN                NaN   \n",
       "2  14f25acc96ee5934de5a49da96c0d32d              1         24888099.0   \n",
       "3  eb10cafbf2b03c70ba84b7a6a33e581d              1         12973899.0   \n",
       "4  c3d16c048f4a12e126af6be0f607e9be              1          5752877.0   \n",
       "\n",
       "   num_of_repeat.1  \n",
       "0              2.0  \n",
       "1              NaN  \n",
       "2              1.0  \n",
       "3              1.0  \n",
       "4              1.0  \n",
       "\n",
       "[5 rows x 48 columns]"
      ]
     },
     "execution_count": 10,
     "metadata": {},
     "output_type": "execute_result"
    }
   ],
   "source": [
    "data.head()"
   ]
  },
  {
   "cell_type": "code",
   "execution_count": 11,
   "metadata": {},
   "outputs": [],
   "source": [
    "# Cleaning the data\n",
    "# dropped_data_without_empty_cols = data.dropna(axis=1)\n",
    "# dropped_data_without_empty_rows = data.dropna(axis=0)\n",
    "# data.count(axis=0)\n",
    "# for c in data[['CLIENT_CATEGORY','SEGMENT', 'DECLARED_FAULT']]:\n",
    "#     print(c, data[c].unique())\n",
    "data['num_of_repeat']=data['num_of_repeat'][data['num_of_repeat'].isin([i for i in range(1000)] + [str(i) for i in range(1000)])]\n",
    "data['num_of_repeat']=data['num_of_repeat'].replace(to_replace=[np.nan]+[str(i) for i in range(1000)], value=[0]+[i for i in range(1000)])\n",
    "\n",
    "\n",
    "\n",
    "data['DECLARED_FAULT']=data['DECLARED_FAULT'].replace(to_replace=data['DECLARED_FAULT'].unique(), value=[i for i in range(len(data['DECLARED_FAULT'].unique()))]) \n",
    "\n",
    "data['CLIENT_CATEGORY']=data['CLIENT_CATEGORY'][data['CLIENT_CATEGORY'].isin(['ФЛ', 'SOHO', 'NKA', \n",
    "'Выделенное обслуживание (пилот)', 'GS-SLA4', 'SME', 'Оператор', 'SME GS', 'Corporate', 'KA', 'SOHO_GS', 'GS-SLA1', \n",
    "'Corporate GS', 'GS-Имидж абоненты', 'Имидж-абоненты (физические лица)', 'GS-SLA3', 'INDIVIDUAL', 'KA GS', 'ФЛ_ИЗ_МРМ',\n",
    "'Развитие', 'СПЕЦ', 'Внутренний', 'Посольства', 'Имидж-абоненты (юридические лица)', 'NKA GS'])]\n",
    "data['CLIENT_CATEGORY']=data['CLIENT_CATEGORY'].replace(to_replace=data['CLIENT_CATEGORY'].unique(), value=[i for i in range(len(data['CLIENT_CATEGORY'].unique()))]) \n",
    "\n",
    "data['SEGMENT']=data['SEGMENT'][data['SEGMENT'].isin(['МР','КОРП','ГОС','Оператор','БС28','Внутренний','БС22'])]\n",
    "data['SEGMENT']=data['SEGMENT'].replace(to_replace=data['SEGMENT'].unique(), value=[i for i in range(len(data['SEGMENT'].unique()))]) \n",
    "\n",
    "# data['num_of_repeat'].unique()\n",
    "\n",
    "# data['source'].value_counts()\n",
    "# come back later\n",
    "# data.columns # SERVICE channeltype source MI_ID', 'PRIORITY',\n",
    "#        'IMPACT', 'URGENCY', 'RESPZONE_SOLUTION', 'RESPZONE_PROBLEM', 'PERSID4',\n",
    "#        'CLIENT', 'PERSID2', 'PERSID2_PREV', 'GID2', 'GID2_PREV', 'TIMELEFTOLA',\n",
    "#        'TIMELEFTSLA', 'OPERATOR', 'DOGID', 'CONTRACT_NUM', 'FIXTIME',\n",
    "#        'ASRZTTID', 'SERVICEIMPATSCLS', 'LOC_EADDR_ID1', 'DECLARED_FAULT',\n",
    "#        'ASRZ208_STATUS', 'ASRZ200_STATUS', 'CHANNELID', 'BUSINESS_CATEGORY',"
   ]
  },
  {
   "cell_type": "code",
   "execution_count": 12,
   "metadata": {},
   "outputs": [],
   "source": [
    "# Generation of data\n",
    "data['decision_time'] = data['CLOSETIME']-data['CREATE_DATE']"
   ]
  },
  {
   "cell_type": "code",
   "execution_count": 13,
   "metadata": {},
   "outputs": [
    {
     "data": {
      "text/plain": [
       "array([  1.50158397e+09,   1.50156963e+09,   1.50156186e+09, ...,\n",
       "         1.50295420e+09,   1.50295436e+09,   1.50295452e+09])"
      ]
     },
     "execution_count": 13,
     "metadata": {},
     "output_type": "execute_result"
    }
   ],
   "source": [
    "data['CLOSETIME'].unique()"
   ]
  },
  {
   "cell_type": "code",
   "execution_count": 51,
   "metadata": {},
   "outputs": [
    {
     "data": {
      "text/html": [
       "<div>\n",
       "<style>\n",
       "    .dataframe thead tr:only-child th {\n",
       "        text-align: right;\n",
       "    }\n",
       "\n",
       "    .dataframe thead th {\n",
       "        text-align: left;\n",
       "    }\n",
       "\n",
       "    .dataframe tbody tr th {\n",
       "        vertical-align: top;\n",
       "    }\n",
       "</style>\n",
       "<table border=\"1\" class=\"dataframe\">\n",
       "  <thead>\n",
       "    <tr style=\"text-align: right;\">\n",
       "      <th></th>\n",
       "      <th>CLIENT_CATEGORY</th>\n",
       "      <th>SEGMENT</th>\n",
       "      <th>SERVICE</th>\n",
       "      <th>channeltype</th>\n",
       "      <th>source</th>\n",
       "      <th>football</th>\n",
       "      <th>DECLARED_FAULT</th>\n",
       "      <th>num_of_repeat</th>\n",
       "      <th>CREATE_DATE</th>\n",
       "      <th>CLOSETIME</th>\n",
       "      <th>decision_time</th>\n",
       "    </tr>\n",
       "  </thead>\n",
       "  <tbody>\n",
       "    <tr>\n",
       "      <th>count</th>\n",
       "      <td>23862.000000</td>\n",
       "      <td>23862.000000</td>\n",
       "      <td>2.386200e+04</td>\n",
       "      <td>2.386200e+04</td>\n",
       "      <td>2.386200e+04</td>\n",
       "      <td>2.386200e+04</td>\n",
       "      <td>23862.000000</td>\n",
       "      <td>23862.000000</td>\n",
       "      <td>2.386200e+04</td>\n",
       "      <td>2.386200e+04</td>\n",
       "      <td>2.386200e+04</td>\n",
       "    </tr>\n",
       "    <tr>\n",
       "      <th>mean</th>\n",
       "      <td>1.656357</td>\n",
       "      <td>0.277764</td>\n",
       "      <td>1.999833e+12</td>\n",
       "      <td>2.000001e+12</td>\n",
       "      <td>2.000001e+12</td>\n",
       "      <td>1.487045e+06</td>\n",
       "      <td>30.215699</td>\n",
       "      <td>1.952812</td>\n",
       "      <td>1.155964e+10</td>\n",
       "      <td>1.502288e+09</td>\n",
       "      <td>9.285342e+04</td>\n",
       "    </tr>\n",
       "    <tr>\n",
       "      <th>std</th>\n",
       "      <td>3.916259</td>\n",
       "      <td>0.651279</td>\n",
       "      <td>1.830960e+10</td>\n",
       "      <td>3.256809e+02</td>\n",
       "      <td>3.888956e+02</td>\n",
       "      <td>1.624249e+08</td>\n",
       "      <td>27.595599</td>\n",
       "      <td>2.706714</td>\n",
       "      <td>5.932179e+11</td>\n",
       "      <td>3.730918e+05</td>\n",
       "      <td>1.326039e+05</td>\n",
       "    </tr>\n",
       "    <tr>\n",
       "      <th>min</th>\n",
       "      <td>0.000000</td>\n",
       "      <td>0.000000</td>\n",
       "      <td>1.169462e+07</td>\n",
       "      <td>2.000001e+12</td>\n",
       "      <td>2.000001e+12</td>\n",
       "      <td>1.000000e+00</td>\n",
       "      <td>0.000000</td>\n",
       "      <td>0.000000</td>\n",
       "      <td>1.501547e+09</td>\n",
       "      <td>1.501560e+09</td>\n",
       "      <td>7.000000e+00</td>\n",
       "    </tr>\n",
       "    <tr>\n",
       "      <th>25%</th>\n",
       "      <td>0.000000</td>\n",
       "      <td>0.000000</td>\n",
       "      <td>2.000001e+12</td>\n",
       "      <td>2.000001e+12</td>\n",
       "      <td>2.000001e+12</td>\n",
       "      <td>3.000000e+00</td>\n",
       "      <td>12.000000</td>\n",
       "      <td>1.000000</td>\n",
       "      <td>1.501862e+09</td>\n",
       "      <td>1.502014e+09</td>\n",
       "      <td>1.234925e+04</td>\n",
       "    </tr>\n",
       "    <tr>\n",
       "      <th>50%</th>\n",
       "      <td>0.000000</td>\n",
       "      <td>0.000000</td>\n",
       "      <td>2.000001e+12</td>\n",
       "      <td>2.000001e+12</td>\n",
       "      <td>2.000001e+12</td>\n",
       "      <td>3.000000e+00</td>\n",
       "      <td>22.000000</td>\n",
       "      <td>1.000000</td>\n",
       "      <td>1.502256e+09</td>\n",
       "      <td>1.502286e+09</td>\n",
       "      <td>6.080900e+04</td>\n",
       "    </tr>\n",
       "    <tr>\n",
       "      <th>75%</th>\n",
       "      <td>0.000000</td>\n",
       "      <td>0.000000</td>\n",
       "      <td>2.000001e+12</td>\n",
       "      <td>2.000001e+12</td>\n",
       "      <td>2.000001e+12</td>\n",
       "      <td>4.000000e+00</td>\n",
       "      <td>35.000000</td>\n",
       "      <td>2.000000</td>\n",
       "      <td>1.502625e+09</td>\n",
       "      <td>1.502595e+09</td>\n",
       "      <td>9.279750e+04</td>\n",
       "    </tr>\n",
       "    <tr>\n",
       "      <th>max</th>\n",
       "      <td>25.000000</td>\n",
       "      <td>7.000000</td>\n",
       "      <td>2.000001e+12</td>\n",
       "      <td>2.000001e+12</td>\n",
       "      <td>2.000001e+12</td>\n",
       "      <td>1.774495e+10</td>\n",
       "      <td>205.000000</td>\n",
       "      <td>96.000000</td>\n",
       "      <td>4.000000e+13</td>\n",
       "      <td>1.502955e+09</td>\n",
       "      <td>1.284358e+06</td>\n",
       "    </tr>\n",
       "  </tbody>\n",
       "</table>\n",
       "</div>"
      ],
      "text/plain": [
       "       CLIENT_CATEGORY       SEGMENT       SERVICE   channeltype  \\\n",
       "count     23862.000000  23862.000000  2.386200e+04  2.386200e+04   \n",
       "mean          1.656357      0.277764  1.999833e+12  2.000001e+12   \n",
       "std           3.916259      0.651279  1.830960e+10  3.256809e+02   \n",
       "min           0.000000      0.000000  1.169462e+07  2.000001e+12   \n",
       "25%           0.000000      0.000000  2.000001e+12  2.000001e+12   \n",
       "50%           0.000000      0.000000  2.000001e+12  2.000001e+12   \n",
       "75%           0.000000      0.000000  2.000001e+12  2.000001e+12   \n",
       "max          25.000000      7.000000  2.000001e+12  2.000001e+12   \n",
       "\n",
       "             source      football  DECLARED_FAULT  num_of_repeat  \\\n",
       "count  2.386200e+04  2.386200e+04    23862.000000   23862.000000   \n",
       "mean   2.000001e+12  1.487045e+06       30.215699       1.952812   \n",
       "std    3.888956e+02  1.624249e+08       27.595599       2.706714   \n",
       "min    2.000001e+12  1.000000e+00        0.000000       0.000000   \n",
       "25%    2.000001e+12  3.000000e+00       12.000000       1.000000   \n",
       "50%    2.000001e+12  3.000000e+00       22.000000       1.000000   \n",
       "75%    2.000001e+12  4.000000e+00       35.000000       2.000000   \n",
       "max    2.000001e+12  1.774495e+10      205.000000      96.000000   \n",
       "\n",
       "        CREATE_DATE     CLOSETIME  decision_time  \n",
       "count  2.386200e+04  2.386200e+04   2.386200e+04  \n",
       "mean   1.155964e+10  1.502288e+09   9.285342e+04  \n",
       "std    5.932179e+11  3.730918e+05   1.326039e+05  \n",
       "min    1.501547e+09  1.501560e+09   7.000000e+00  \n",
       "25%    1.501862e+09  1.502014e+09   1.234925e+04  \n",
       "50%    1.502256e+09  1.502286e+09   6.080900e+04  \n",
       "75%    1.502625e+09  1.502595e+09   9.279750e+04  \n",
       "max    4.000000e+13  1.502955e+09   1.284358e+06  "
      ]
     },
     "execution_count": 51,
     "metadata": {},
     "output_type": "execute_result"
    }
   ],
   "source": [
    "# Selecting data\n",
    "sel_data = pd.concat((data['CLIENT_CATEGORY'],\n",
    "data['SEGMENT'],\n",
    "data['SERVICE'],\n",
    "data['channeltype'],\n",
    "data['source'],\n",
    "# data['CHANNELREQUESTID'],\n",
    "data['football'],\n",
    "data['DECLARED_FAULT'],\n",
    "data['num_of_repeat'],\n",
    "data['CREATE_DATE'],\n",
    "data['CLOSETIME'],\n",
    "data['decision_time'],\n",
    "# data['TIMELEFTSLA']\n",
    "                     ), axis=1)\n",
    "sel_data.describe()"
   ]
  },
  {
   "cell_type": "code",
   "execution_count": 53,
   "metadata": {},
   "outputs": [
    {
     "name": "stdout",
     "output_type": "stream",
     "text": [
      "Categorical columns:  [] 0\n",
      "Numerical columns:  ['CLIENT_CATEGORY', 'SEGMENT', 'SERVICE', 'channeltype', 'source', 'football', 'DECLARED_FAULT', 'num_of_repeat', 'CREATE_DATE', 'CLOSETIME', 'decision_time'] 11\n"
     ]
    }
   ],
   "source": [
    "# extract categorical and numerical features for sel_data\n",
    "categorical_columns = [c for c in sel_data.columns if sel_data[c].dtype.name == 'object']\n",
    "numerical_columns   = [c for c in sel_data.columns if sel_data[c].dtype.name != 'object']\n",
    "print('Categorical columns: ', categorical_columns, len(categorical_columns))\n",
    "print('Numerical columns: ', numerical_columns, len(numerical_columns))\n"
   ]
  },
  {
   "cell_type": "code",
   "execution_count": 54,
   "metadata": {},
   "outputs": [],
   "source": [
    "# # full list of categorical columns, where 'nan' is missing values\n",
    "# for c in sel_data:\n",
    "#     print(c, sel_data[c].unique(), len(sel_data[c].unique()))"
   ]
  },
  {
   "cell_type": "code",
   "execution_count": 55,
   "metadata": {},
   "outputs": [],
   "source": [
    "# # for each numerical/quantitative feature built histogram,\n",
    "# # for each pair of nemerical built dispersion (scattering) diagram\n",
    "# from pandas.plotting import scatter_matrix\n",
    "# scatter_matrix(data, alpha=0.05, figsize=(15, 15));"
   ]
  },
  {
   "cell_type": "code",
   "execution_count": 56,
   "metadata": {},
   "outputs": [
    {
     "data": {
      "text/html": [
       "<div>\n",
       "<style>\n",
       "    .dataframe thead tr:only-child th {\n",
       "        text-align: right;\n",
       "    }\n",
       "\n",
       "    .dataframe thead th {\n",
       "        text-align: left;\n",
       "    }\n",
       "\n",
       "    .dataframe tbody tr th {\n",
       "        vertical-align: top;\n",
       "    }\n",
       "</style>\n",
       "<table border=\"1\" class=\"dataframe\">\n",
       "  <thead>\n",
       "    <tr style=\"text-align: right;\">\n",
       "      <th></th>\n",
       "      <th>CLIENT_CATEGORY</th>\n",
       "      <th>SEGMENT</th>\n",
       "      <th>SERVICE</th>\n",
       "      <th>channeltype</th>\n",
       "      <th>source</th>\n",
       "      <th>football</th>\n",
       "      <th>DECLARED_FAULT</th>\n",
       "      <th>num_of_repeat</th>\n",
       "      <th>CREATE_DATE</th>\n",
       "      <th>CLOSETIME</th>\n",
       "      <th>decision_time</th>\n",
       "    </tr>\n",
       "  </thead>\n",
       "  <tbody>\n",
       "    <tr>\n",
       "      <th>CLIENT_CATEGORY</th>\n",
       "      <td>1.000000</td>\n",
       "      <td>0.636479</td>\n",
       "      <td>-0.003141</td>\n",
       "      <td>-0.101926</td>\n",
       "      <td>-0.152541</td>\n",
       "      <td>0.003141</td>\n",
       "      <td>0.171482</td>\n",
       "      <td>-0.003621</td>\n",
       "      <td>0.005817</td>\n",
       "      <td>0.016958</td>\n",
       "      <td>-0.019282</td>\n",
       "    </tr>\n",
       "    <tr>\n",
       "      <th>SEGMENT</th>\n",
       "      <td>0.636479</td>\n",
       "      <td>1.000000</td>\n",
       "      <td>-0.052327</td>\n",
       "      <td>-0.111103</td>\n",
       "      <td>-0.125009</td>\n",
       "      <td>0.052327</td>\n",
       "      <td>0.178254</td>\n",
       "      <td>-0.018026</td>\n",
       "      <td>0.096901</td>\n",
       "      <td>0.010305</td>\n",
       "      <td>-0.022578</td>\n",
       "    </tr>\n",
       "    <tr>\n",
       "      <th>SERVICE</th>\n",
       "      <td>-0.003141</td>\n",
       "      <td>-0.052327</td>\n",
       "      <td>1.000000</td>\n",
       "      <td>0.002596</td>\n",
       "      <td>-0.001129</td>\n",
       "      <td>0.000084</td>\n",
       "      <td>-0.024148</td>\n",
       "      <td>0.006606</td>\n",
       "      <td>-0.540007</td>\n",
       "      <td>0.000043</td>\n",
       "      <td>0.002213</td>\n",
       "    </tr>\n",
       "    <tr>\n",
       "      <th>channeltype</th>\n",
       "      <td>-0.101926</td>\n",
       "      <td>-0.111103</td>\n",
       "      <td>0.002596</td>\n",
       "      <td>1.000000</td>\n",
       "      <td>0.034967</td>\n",
       "      <td>-0.002596</td>\n",
       "      <td>0.038917</td>\n",
       "      <td>0.026986</td>\n",
       "      <td>-0.004808</td>\n",
       "      <td>0.009343</td>\n",
       "      <td>0.072285</td>\n",
       "    </tr>\n",
       "    <tr>\n",
       "      <th>source</th>\n",
       "      <td>-0.152541</td>\n",
       "      <td>-0.125009</td>\n",
       "      <td>-0.001129</td>\n",
       "      <td>0.034967</td>\n",
       "      <td>1.000000</td>\n",
       "      <td>0.001129</td>\n",
       "      <td>-0.163727</td>\n",
       "      <td>0.088697</td>\n",
       "      <td>0.002091</td>\n",
       "      <td>0.003201</td>\n",
       "      <td>0.024373</td>\n",
       "    </tr>\n",
       "    <tr>\n",
       "      <th>football</th>\n",
       "      <td>0.003141</td>\n",
       "      <td>0.052327</td>\n",
       "      <td>0.000084</td>\n",
       "      <td>-0.002596</td>\n",
       "      <td>0.001129</td>\n",
       "      <td>1.000000</td>\n",
       "      <td>0.024148</td>\n",
       "      <td>-0.006606</td>\n",
       "      <td>0.617176</td>\n",
       "      <td>-0.000043</td>\n",
       "      <td>-0.002213</td>\n",
       "    </tr>\n",
       "    <tr>\n",
       "      <th>DECLARED_FAULT</th>\n",
       "      <td>0.171482</td>\n",
       "      <td>0.178254</td>\n",
       "      <td>-0.024148</td>\n",
       "      <td>0.038917</td>\n",
       "      <td>-0.163727</td>\n",
       "      <td>0.024148</td>\n",
       "      <td>1.000000</td>\n",
       "      <td>0.026818</td>\n",
       "      <td>0.044718</td>\n",
       "      <td>0.012618</td>\n",
       "      <td>0.050946</td>\n",
       "    </tr>\n",
       "    <tr>\n",
       "      <th>num_of_repeat</th>\n",
       "      <td>-0.003621</td>\n",
       "      <td>-0.018026</td>\n",
       "      <td>0.006606</td>\n",
       "      <td>0.026986</td>\n",
       "      <td>0.088697</td>\n",
       "      <td>-0.006606</td>\n",
       "      <td>0.026818</td>\n",
       "      <td>1.000000</td>\n",
       "      <td>-0.012232</td>\n",
       "      <td>-0.021935</td>\n",
       "      <td>-0.015837</td>\n",
       "    </tr>\n",
       "    <tr>\n",
       "      <th>CREATE_DATE</th>\n",
       "      <td>0.005817</td>\n",
       "      <td>0.096901</td>\n",
       "      <td>-0.540007</td>\n",
       "      <td>-0.004808</td>\n",
       "      <td>0.002091</td>\n",
       "      <td>0.617176</td>\n",
       "      <td>0.044718</td>\n",
       "      <td>-0.012232</td>\n",
       "      <td>1.000000</td>\n",
       "      <td>-0.000079</td>\n",
       "      <td>-0.004097</td>\n",
       "    </tr>\n",
       "    <tr>\n",
       "      <th>CLOSETIME</th>\n",
       "      <td>0.016958</td>\n",
       "      <td>0.010305</td>\n",
       "      <td>0.000043</td>\n",
       "      <td>0.009343</td>\n",
       "      <td>0.003201</td>\n",
       "      <td>-0.000043</td>\n",
       "      <td>0.012618</td>\n",
       "      <td>-0.021935</td>\n",
       "      <td>-0.000079</td>\n",
       "      <td>1.000000</td>\n",
       "      <td>0.188638</td>\n",
       "    </tr>\n",
       "    <tr>\n",
       "      <th>decision_time</th>\n",
       "      <td>-0.019282</td>\n",
       "      <td>-0.022578</td>\n",
       "      <td>0.002213</td>\n",
       "      <td>0.072285</td>\n",
       "      <td>0.024373</td>\n",
       "      <td>-0.002213</td>\n",
       "      <td>0.050946</td>\n",
       "      <td>-0.015837</td>\n",
       "      <td>-0.004097</td>\n",
       "      <td>0.188638</td>\n",
       "      <td>1.000000</td>\n",
       "    </tr>\n",
       "  </tbody>\n",
       "</table>\n",
       "</div>"
      ],
      "text/plain": [
       "                 CLIENT_CATEGORY   SEGMENT   SERVICE  channeltype    source  \\\n",
       "CLIENT_CATEGORY         1.000000  0.636479 -0.003141    -0.101926 -0.152541   \n",
       "SEGMENT                 0.636479  1.000000 -0.052327    -0.111103 -0.125009   \n",
       "SERVICE                -0.003141 -0.052327  1.000000     0.002596 -0.001129   \n",
       "channeltype            -0.101926 -0.111103  0.002596     1.000000  0.034967   \n",
       "source                 -0.152541 -0.125009 -0.001129     0.034967  1.000000   \n",
       "football                0.003141  0.052327  0.000084    -0.002596  0.001129   \n",
       "DECLARED_FAULT          0.171482  0.178254 -0.024148     0.038917 -0.163727   \n",
       "num_of_repeat          -0.003621 -0.018026  0.006606     0.026986  0.088697   \n",
       "CREATE_DATE             0.005817  0.096901 -0.540007    -0.004808  0.002091   \n",
       "CLOSETIME               0.016958  0.010305  0.000043     0.009343  0.003201   \n",
       "decision_time          -0.019282 -0.022578  0.002213     0.072285  0.024373   \n",
       "\n",
       "                 football  DECLARED_FAULT  num_of_repeat  CREATE_DATE  \\\n",
       "CLIENT_CATEGORY  0.003141        0.171482      -0.003621     0.005817   \n",
       "SEGMENT          0.052327        0.178254      -0.018026     0.096901   \n",
       "SERVICE          0.000084       -0.024148       0.006606    -0.540007   \n",
       "channeltype     -0.002596        0.038917       0.026986    -0.004808   \n",
       "source           0.001129       -0.163727       0.088697     0.002091   \n",
       "football         1.000000        0.024148      -0.006606     0.617176   \n",
       "DECLARED_FAULT   0.024148        1.000000       0.026818     0.044718   \n",
       "num_of_repeat   -0.006606        0.026818       1.000000    -0.012232   \n",
       "CREATE_DATE      0.617176        0.044718      -0.012232     1.000000   \n",
       "CLOSETIME       -0.000043        0.012618      -0.021935    -0.000079   \n",
       "decision_time   -0.002213        0.050946      -0.015837    -0.004097   \n",
       "\n",
       "                 CLOSETIME  decision_time  \n",
       "CLIENT_CATEGORY   0.016958      -0.019282  \n",
       "SEGMENT           0.010305      -0.022578  \n",
       "SERVICE           0.000043       0.002213  \n",
       "channeltype       0.009343       0.072285  \n",
       "source            0.003201       0.024373  \n",
       "football         -0.000043      -0.002213  \n",
       "DECLARED_FAULT    0.012618       0.050946  \n",
       "num_of_repeat    -0.021935      -0.015837  \n",
       "CREATE_DATE      -0.000079      -0.004097  \n",
       "CLOSETIME         1.000000       0.188638  \n",
       "decision_time     0.188638       1.000000  "
      ]
     },
     "execution_count": 56,
     "metadata": {},
     "output_type": "execute_result"
    }
   ],
   "source": [
    "sel_data[numerical_columns].corr() # matrix of correlations"
   ]
  },
  {
   "cell_type": "code",
   "execution_count": 57,
   "metadata": {},
   "outputs": [
    {
     "data": {
      "text/plain": [
       "CLIENT_CATEGORY    23862\n",
       "SEGMENT            23862\n",
       "SERVICE            23862\n",
       "channeltype        23862\n",
       "source             23862\n",
       "football           23862\n",
       "DECLARED_FAULT     23862\n",
       "num_of_repeat      23862\n",
       "CREATE_DATE        23862\n",
       "CLOSETIME          23862\n",
       "decision_time      23862\n",
       "dtype: int64"
      ]
     },
     "execution_count": 57,
     "metadata": {},
     "output_type": "execute_result"
    }
   ],
   "source": [
    "# Find the number of completed (not skipped) items\n",
    "# axis = 0 means that we move counter from top to bottom, and axis = 1 than we move counter from left to right\n",
    "sel_data.count(axis=0)"
   ]
  },
  {
   "cell_type": "code",
   "execution_count": 58,
   "metadata": {
    "collapsed": true
   },
   "outputs": [],
   "source": [
    "# fill the missing values\n",
    "# fill all numerical features (Instead of gaps (missing values), we substitute the median values)\n",
    "sel_data = sel_data.fillna(data.median(axis=0), axis=0)"
   ]
  },
  {
   "cell_type": "code",
   "execution_count": 59,
   "metadata": {
    "collapsed": true
   },
   "outputs": [],
   "source": [
    "# before\n",
    "# data['A1'].describe()"
   ]
  },
  {
   "cell_type": "code",
   "execution_count": 60,
   "metadata": {
    "collapsed": true
   },
   "outputs": [],
   "source": [
    "# # fill the missing values in categorical feature with top value (Instead missing values) we substitute \n",
    "# # the top value in this column\n",
    "# data['A1'] = data['A1'].fillna('b')"
   ]
  },
  {
   "cell_type": "code",
   "execution_count": 61,
   "metadata": {},
   "outputs": [
    {
     "data": {
      "text/html": [
       "<div>\n",
       "<style>\n",
       "    .dataframe thead tr:only-child th {\n",
       "        text-align: right;\n",
       "    }\n",
       "\n",
       "    .dataframe thead th {\n",
       "        text-align: left;\n",
       "    }\n",
       "\n",
       "    .dataframe tbody tr th {\n",
       "        vertical-align: top;\n",
       "    }\n",
       "</style>\n",
       "<table border=\"1\" class=\"dataframe\">\n",
       "  <thead>\n",
       "    <tr style=\"text-align: right;\">\n",
       "      <th></th>\n",
       "      <th>CLIENT_CATEGORY</th>\n",
       "      <th>SEGMENT</th>\n",
       "      <th>SERVICE</th>\n",
       "      <th>channeltype</th>\n",
       "      <th>source</th>\n",
       "      <th>football</th>\n",
       "      <th>DECLARED_FAULT</th>\n",
       "      <th>num_of_repeat</th>\n",
       "      <th>CREATE_DATE</th>\n",
       "      <th>CLOSETIME</th>\n",
       "      <th>decision_time</th>\n",
       "    </tr>\n",
       "  </thead>\n",
       "  <tbody>\n",
       "    <tr>\n",
       "      <th>count</th>\n",
       "      <td>23862.000000</td>\n",
       "      <td>23862.000000</td>\n",
       "      <td>2.386200e+04</td>\n",
       "      <td>2.386200e+04</td>\n",
       "      <td>2.386200e+04</td>\n",
       "      <td>2.386200e+04</td>\n",
       "      <td>23862.000000</td>\n",
       "      <td>23862.000000</td>\n",
       "      <td>2.386200e+04</td>\n",
       "      <td>2.386200e+04</td>\n",
       "      <td>2.386200e+04</td>\n",
       "    </tr>\n",
       "    <tr>\n",
       "      <th>mean</th>\n",
       "      <td>1.656357</td>\n",
       "      <td>0.277764</td>\n",
       "      <td>1.999833e+12</td>\n",
       "      <td>2.000001e+12</td>\n",
       "      <td>2.000001e+12</td>\n",
       "      <td>1.487045e+06</td>\n",
       "      <td>30.215699</td>\n",
       "      <td>1.952812</td>\n",
       "      <td>1.155964e+10</td>\n",
       "      <td>1.502288e+09</td>\n",
       "      <td>9.285342e+04</td>\n",
       "    </tr>\n",
       "    <tr>\n",
       "      <th>std</th>\n",
       "      <td>3.916259</td>\n",
       "      <td>0.651279</td>\n",
       "      <td>1.830960e+10</td>\n",
       "      <td>3.256809e+02</td>\n",
       "      <td>3.888956e+02</td>\n",
       "      <td>1.624249e+08</td>\n",
       "      <td>27.595599</td>\n",
       "      <td>2.706714</td>\n",
       "      <td>5.932179e+11</td>\n",
       "      <td>3.730918e+05</td>\n",
       "      <td>1.326039e+05</td>\n",
       "    </tr>\n",
       "    <tr>\n",
       "      <th>min</th>\n",
       "      <td>0.000000</td>\n",
       "      <td>0.000000</td>\n",
       "      <td>1.169462e+07</td>\n",
       "      <td>2.000001e+12</td>\n",
       "      <td>2.000001e+12</td>\n",
       "      <td>1.000000e+00</td>\n",
       "      <td>0.000000</td>\n",
       "      <td>0.000000</td>\n",
       "      <td>1.501547e+09</td>\n",
       "      <td>1.501560e+09</td>\n",
       "      <td>7.000000e+00</td>\n",
       "    </tr>\n",
       "    <tr>\n",
       "      <th>25%</th>\n",
       "      <td>0.000000</td>\n",
       "      <td>0.000000</td>\n",
       "      <td>2.000001e+12</td>\n",
       "      <td>2.000001e+12</td>\n",
       "      <td>2.000001e+12</td>\n",
       "      <td>3.000000e+00</td>\n",
       "      <td>12.000000</td>\n",
       "      <td>1.000000</td>\n",
       "      <td>1.501862e+09</td>\n",
       "      <td>1.502014e+09</td>\n",
       "      <td>1.234925e+04</td>\n",
       "    </tr>\n",
       "    <tr>\n",
       "      <th>50%</th>\n",
       "      <td>0.000000</td>\n",
       "      <td>0.000000</td>\n",
       "      <td>2.000001e+12</td>\n",
       "      <td>2.000001e+12</td>\n",
       "      <td>2.000001e+12</td>\n",
       "      <td>3.000000e+00</td>\n",
       "      <td>22.000000</td>\n",
       "      <td>1.000000</td>\n",
       "      <td>1.502256e+09</td>\n",
       "      <td>1.502286e+09</td>\n",
       "      <td>6.080900e+04</td>\n",
       "    </tr>\n",
       "    <tr>\n",
       "      <th>75%</th>\n",
       "      <td>0.000000</td>\n",
       "      <td>0.000000</td>\n",
       "      <td>2.000001e+12</td>\n",
       "      <td>2.000001e+12</td>\n",
       "      <td>2.000001e+12</td>\n",
       "      <td>4.000000e+00</td>\n",
       "      <td>35.000000</td>\n",
       "      <td>2.000000</td>\n",
       "      <td>1.502625e+09</td>\n",
       "      <td>1.502595e+09</td>\n",
       "      <td>9.279750e+04</td>\n",
       "    </tr>\n",
       "    <tr>\n",
       "      <th>max</th>\n",
       "      <td>25.000000</td>\n",
       "      <td>7.000000</td>\n",
       "      <td>2.000001e+12</td>\n",
       "      <td>2.000001e+12</td>\n",
       "      <td>2.000001e+12</td>\n",
       "      <td>1.774495e+10</td>\n",
       "      <td>205.000000</td>\n",
       "      <td>96.000000</td>\n",
       "      <td>4.000000e+13</td>\n",
       "      <td>1.502955e+09</td>\n",
       "      <td>1.284358e+06</td>\n",
       "    </tr>\n",
       "  </tbody>\n",
       "</table>\n",
       "</div>"
      ],
      "text/plain": [
       "       CLIENT_CATEGORY       SEGMENT       SERVICE   channeltype  \\\n",
       "count     23862.000000  23862.000000  2.386200e+04  2.386200e+04   \n",
       "mean          1.656357      0.277764  1.999833e+12  2.000001e+12   \n",
       "std           3.916259      0.651279  1.830960e+10  3.256809e+02   \n",
       "min           0.000000      0.000000  1.169462e+07  2.000001e+12   \n",
       "25%           0.000000      0.000000  2.000001e+12  2.000001e+12   \n",
       "50%           0.000000      0.000000  2.000001e+12  2.000001e+12   \n",
       "75%           0.000000      0.000000  2.000001e+12  2.000001e+12   \n",
       "max          25.000000      7.000000  2.000001e+12  2.000001e+12   \n",
       "\n",
       "             source      football  DECLARED_FAULT  num_of_repeat  \\\n",
       "count  2.386200e+04  2.386200e+04    23862.000000   23862.000000   \n",
       "mean   2.000001e+12  1.487045e+06       30.215699       1.952812   \n",
       "std    3.888956e+02  1.624249e+08       27.595599       2.706714   \n",
       "min    2.000001e+12  1.000000e+00        0.000000       0.000000   \n",
       "25%    2.000001e+12  3.000000e+00       12.000000       1.000000   \n",
       "50%    2.000001e+12  3.000000e+00       22.000000       1.000000   \n",
       "75%    2.000001e+12  4.000000e+00       35.000000       2.000000   \n",
       "max    2.000001e+12  1.774495e+10      205.000000      96.000000   \n",
       "\n",
       "        CREATE_DATE     CLOSETIME  decision_time  \n",
       "count  2.386200e+04  2.386200e+04   2.386200e+04  \n",
       "mean   1.155964e+10  1.502288e+09   9.285342e+04  \n",
       "std    5.932179e+11  3.730918e+05   1.326039e+05  \n",
       "min    1.501547e+09  1.501560e+09   7.000000e+00  \n",
       "25%    1.501862e+09  1.502014e+09   1.234925e+04  \n",
       "50%    1.502256e+09  1.502286e+09   6.080900e+04  \n",
       "75%    1.502625e+09  1.502595e+09   9.279750e+04  \n",
       "max    4.000000e+13  1.502955e+09   1.284358e+06  "
      ]
     },
     "execution_count": 61,
     "metadata": {},
     "output_type": "execute_result"
    }
   ],
   "source": [
    "# result\n",
    "sel_data.describe()"
   ]
  },
  {
   "cell_type": "code",
   "execution_count": 63,
   "metadata": {},
   "outputs": [],
   "source": [
    "try:\n",
    "    data_describe = sel_data.describe(include=[object])\n",
    "    data_describe\n",
    "except:\n",
    "    pass"
   ]
  },
  {
   "cell_type": "code",
   "execution_count": 64,
   "metadata": {
    "collapsed": true
   },
   "outputs": [],
   "source": [
    "# for c in categorical_columns:\n",
    "#     data[c] = data[c].fillna(data_describe[c]['top'])\n",
    "# data.describe(include=[object])"
   ]
  },
  {
   "cell_type": "code",
   "execution_count": 65,
   "metadata": {
    "collapsed": true
   },
   "outputs": [],
   "source": [
    "# data.describe()"
   ]
  },
  {
   "cell_type": "code",
   "execution_count": 66,
   "metadata": {},
   "outputs": [],
   "source": [
    "# # devide categorical (non-numerical) columns to binary and nonbinary\n",
    "# binary_columns    = [c for c in categorical_columns if data_describe[c]['unique'] == 2]\n",
    "# nonbinary_columns = [c for c in categorical_columns if data_describe[c]['unique'] > 2]\n",
    "# print(binary_columns, nonbinary_columns)\n"
   ]
  },
  {
   "cell_type": "code",
   "execution_count": 67,
   "metadata": {},
   "outputs": [],
   "source": [
    "# # for non-binary columns|features vectorizing is 1) divide each column to the numbers of unique values in the column\n",
    "# # 2) and if value exist then only one column's row filled like 1\n",
    "# # for example, column A4 have 3 unique values: print(data['A4'].unique()) => ['u' 'y' 'l']\n",
    "# # create 3 new columns: 4_u, A4_y, A4_l\n",
    "# # If A4 value is 'u', then A4_u = 1, A4_y = 0, A4_l = 0, etc.\n",
    "# # In Pandas it's performed via using .get_dummies method.\n",
    "\n",
    "# data_nonbinary = pd.get_dummies(data[nonbinary_columns[6:8]], columns=None) # !!!!!! Limitation 6:10!!!!!!!!!1\n",
    "# data_nonbinary.columns"
   ]
  },
  {
   "cell_type": "code",
   "execution_count": 68,
   "metadata": {
    "collapsed": true
   },
   "outputs": [],
   "source": [
    "# data = data_nonbinary\n",
    "# data = pd.DataFrame(data, dtype=float)\n",
    "# print(data.shape)\n",
    "# print(data.columns)"
   ]
  },
  {
   "cell_type": "code",
   "execution_count": 69,
   "metadata": {},
   "outputs": [
    {
     "data": {
      "text/html": [
       "<div>\n",
       "<style>\n",
       "    .dataframe thead tr:only-child th {\n",
       "        text-align: right;\n",
       "    }\n",
       "\n",
       "    .dataframe thead th {\n",
       "        text-align: left;\n",
       "    }\n",
       "\n",
       "    .dataframe tbody tr th {\n",
       "        vertical-align: top;\n",
       "    }\n",
       "</style>\n",
       "<table border=\"1\" class=\"dataframe\">\n",
       "  <thead>\n",
       "    <tr style=\"text-align: right;\">\n",
       "      <th></th>\n",
       "      <th>CLIENT_CATEGORY</th>\n",
       "      <th>SEGMENT</th>\n",
       "      <th>SERVICE</th>\n",
       "      <th>channeltype</th>\n",
       "      <th>source</th>\n",
       "      <th>football</th>\n",
       "      <th>DECLARED_FAULT</th>\n",
       "      <th>num_of_repeat</th>\n",
       "      <th>CREATE_DATE</th>\n",
       "      <th>CLOSETIME</th>\n",
       "      <th>decision_time</th>\n",
       "    </tr>\n",
       "  </thead>\n",
       "  <tbody>\n",
       "    <tr>\n",
       "      <th>count</th>\n",
       "      <td>2.386200e+04</td>\n",
       "      <td>2.386200e+04</td>\n",
       "      <td>2.386200e+04</td>\n",
       "      <td>23862.000000</td>\n",
       "      <td>23862.000000</td>\n",
       "      <td>2.386200e+04</td>\n",
       "      <td>2.386200e+04</td>\n",
       "      <td>2.386200e+04</td>\n",
       "      <td>2.386200e+04</td>\n",
       "      <td>2.386200e+04</td>\n",
       "      <td>2.386200e+04</td>\n",
       "    </tr>\n",
       "    <tr>\n",
       "      <th>mean</th>\n",
       "      <td>-2.955551e-15</td>\n",
       "      <td>-7.600063e-16</td>\n",
       "      <td>-2.960021e-11</td>\n",
       "      <td>0.001565</td>\n",
       "      <td>-0.002921</td>\n",
       "      <td>-1.191987e-16</td>\n",
       "      <td>2.804963e-16</td>\n",
       "      <td>4.216940e-15</td>\n",
       "      <td>2.467594e-17</td>\n",
       "      <td>-1.919526e-13</td>\n",
       "      <td>-2.558882e-15</td>\n",
       "    </tr>\n",
       "    <tr>\n",
       "      <th>std</th>\n",
       "      <td>1.000000e+00</td>\n",
       "      <td>1.000000e+00</td>\n",
       "      <td>1.000000e+00</td>\n",
       "      <td>0.999999</td>\n",
       "      <td>0.999996</td>\n",
       "      <td>1.000000e+00</td>\n",
       "      <td>1.000000e+00</td>\n",
       "      <td>1.000000e+00</td>\n",
       "      <td>1.000000e+00</td>\n",
       "      <td>1.000000e+00</td>\n",
       "      <td>1.000000e+00</td>\n",
       "    </tr>\n",
       "    <tr>\n",
       "      <th>min</th>\n",
       "      <td>-4.229438e-01</td>\n",
       "      <td>-4.264898e-01</td>\n",
       "      <td>-1.092226e+02</td>\n",
       "      <td>-0.285070</td>\n",
       "      <td>-6.884027</td>\n",
       "      <td>-9.155276e-03</td>\n",
       "      <td>-1.094946e+00</td>\n",
       "      <td>-7.214696e-01</td>\n",
       "      <td>-1.695513e-02</td>\n",
       "      <td>-1.951023e+00</td>\n",
       "      <td>-7.001788e-01</td>\n",
       "    </tr>\n",
       "    <tr>\n",
       "      <th>25%</th>\n",
       "      <td>-4.229438e-01</td>\n",
       "      <td>-4.264898e-01</td>\n",
       "      <td>9.155254e-03</td>\n",
       "      <td>-0.281999</td>\n",
       "      <td>0.120423</td>\n",
       "      <td>-9.155264e-03</td>\n",
       "      <td>-6.600943e-01</td>\n",
       "      <td>-3.520180e-01</td>\n",
       "      <td>-1.695460e-02</td>\n",
       "      <td>-7.334448e-01</td>\n",
       "      <td>-6.071027e-01</td>\n",
       "    </tr>\n",
       "    <tr>\n",
       "      <th>50%</th>\n",
       "      <td>-4.229438e-01</td>\n",
       "      <td>-4.264898e-01</td>\n",
       "      <td>9.155254e-03</td>\n",
       "      <td>-0.281999</td>\n",
       "      <td>0.120423</td>\n",
       "      <td>-9.155264e-03</td>\n",
       "      <td>-2.977177e-01</td>\n",
       "      <td>-3.520180e-01</td>\n",
       "      <td>-1.695394e-02</td>\n",
       "      <td>-4.715935e-03</td>\n",
       "      <td>-2.416552e-01</td>\n",
       "    </tr>\n",
       "    <tr>\n",
       "      <th>75%</th>\n",
       "      <td>-4.229438e-01</td>\n",
       "      <td>-4.264898e-01</td>\n",
       "      <td>9.155254e-03</td>\n",
       "      <td>-0.278929</td>\n",
       "      <td>0.120423</td>\n",
       "      <td>-9.155258e-03</td>\n",
       "      <td>1.733719e-01</td>\n",
       "      <td>1.743368e-02</td>\n",
       "      <td>-1.695332e-02</td>\n",
       "      <td>8.218133e-01</td>\n",
       "      <td>-4.216724e-04</td>\n",
       "    </tr>\n",
       "    <tr>\n",
       "      <th>max</th>\n",
       "      <td>5.960700e+00</td>\n",
       "      <td>1.032159e+01</td>\n",
       "      <td>9.155307e-03</td>\n",
       "      <td>4.523318</td>\n",
       "      <td>5.564044</td>\n",
       "      <td>1.092411e+02</td>\n",
       "      <td>6.333775e+00</td>\n",
       "      <td>3.474589e+01</td>\n",
       "      <td>6.740936e+01</td>\n",
       "      <td>1.786830e+00</td>\n",
       "      <td>8.985444e+00</td>\n",
       "    </tr>\n",
       "  </tbody>\n",
       "</table>\n",
       "</div>"
      ],
      "text/plain": [
       "       CLIENT_CATEGORY       SEGMENT       SERVICE   channeltype  \\\n",
       "count     2.386200e+04  2.386200e+04  2.386200e+04  23862.000000   \n",
       "mean     -2.955551e-15 -7.600063e-16 -2.960021e-11      0.001565   \n",
       "std       1.000000e+00  1.000000e+00  1.000000e+00      0.999999   \n",
       "min      -4.229438e-01 -4.264898e-01 -1.092226e+02     -0.285070   \n",
       "25%      -4.229438e-01 -4.264898e-01  9.155254e-03     -0.281999   \n",
       "50%      -4.229438e-01 -4.264898e-01  9.155254e-03     -0.281999   \n",
       "75%      -4.229438e-01 -4.264898e-01  9.155254e-03     -0.278929   \n",
       "max       5.960700e+00  1.032159e+01  9.155307e-03      4.523318   \n",
       "\n",
       "             source      football  DECLARED_FAULT  num_of_repeat  \\\n",
       "count  23862.000000  2.386200e+04    2.386200e+04   2.386200e+04   \n",
       "mean      -0.002921 -1.191987e-16    2.804963e-16   4.216940e-15   \n",
       "std        0.999996  1.000000e+00    1.000000e+00   1.000000e+00   \n",
       "min       -6.884027 -9.155276e-03   -1.094946e+00  -7.214696e-01   \n",
       "25%        0.120423 -9.155264e-03   -6.600943e-01  -3.520180e-01   \n",
       "50%        0.120423 -9.155264e-03   -2.977177e-01  -3.520180e-01   \n",
       "75%        0.120423 -9.155258e-03    1.733719e-01   1.743368e-02   \n",
       "max        5.564044  1.092411e+02    6.333775e+00   3.474589e+01   \n",
       "\n",
       "        CREATE_DATE     CLOSETIME  decision_time  \n",
       "count  2.386200e+04  2.386200e+04   2.386200e+04  \n",
       "mean   2.467594e-17 -1.919526e-13  -2.558882e-15  \n",
       "std    1.000000e+00  1.000000e+00   1.000000e+00  \n",
       "min   -1.695513e-02 -1.951023e+00  -7.001788e-01  \n",
       "25%   -1.695460e-02 -7.334448e-01  -6.071027e-01  \n",
       "50%   -1.695394e-02 -4.715935e-03  -2.416552e-01  \n",
       "75%   -1.695332e-02  8.218133e-01  -4.216724e-04  \n",
       "max    6.740936e+01  1.786830e+00   8.985444e+00  "
      ]
     },
     "execution_count": 69,
     "metadata": {},
     "output_type": "execute_result"
    }
   ],
   "source": [
    "# Normalization\n",
    "data_numerical = sel_data[numerical_columns]\n",
    "data_numerical = (data_numerical - data_numerical.mean()) / data_numerical.std()\n",
    "data_numerical.describe()"
   ]
  },
  {
   "cell_type": "code",
   "execution_count": 70,
   "metadata": {},
   "outputs": [
    {
     "data": {
      "text/html": [
       "<div>\n",
       "<style>\n",
       "    .dataframe thead tr:only-child th {\n",
       "        text-align: right;\n",
       "    }\n",
       "\n",
       "    .dataframe thead th {\n",
       "        text-align: left;\n",
       "    }\n",
       "\n",
       "    .dataframe tbody tr th {\n",
       "        vertical-align: top;\n",
       "    }\n",
       "</style>\n",
       "<table border=\"1\" class=\"dataframe\">\n",
       "  <thead>\n",
       "    <tr style=\"text-align: right;\">\n",
       "      <th></th>\n",
       "      <th>CLIENT_CATEGORY</th>\n",
       "      <th>SEGMENT</th>\n",
       "      <th>SERVICE</th>\n",
       "      <th>channeltype</th>\n",
       "      <th>source</th>\n",
       "      <th>football</th>\n",
       "      <th>DECLARED_FAULT</th>\n",
       "      <th>num_of_repeat</th>\n",
       "      <th>CREATE_DATE</th>\n",
       "      <th>CLOSETIME</th>\n",
       "      <th>decision_time</th>\n",
       "    </tr>\n",
       "  </thead>\n",
       "  <tbody>\n",
       "    <tr>\n",
       "      <th>0</th>\n",
       "      <td>-0.422944</td>\n",
       "      <td>-0.426490</td>\n",
       "      <td>0.009155</td>\n",
       "      <td>-0.281999</td>\n",
       "      <td>0.120423</td>\n",
       "      <td>-0.009155</td>\n",
       "      <td>-1.094946</td>\n",
       "      <td>0.017434</td>\n",
       "      <td>-0.016955</td>\n",
       "      <td>-1.886765</td>\n",
       "      <td>-0.424516</td>\n",
       "    </tr>\n",
       "    <tr>\n",
       "      <th>1</th>\n",
       "      <td>-0.167598</td>\n",
       "      <td>1.108951</td>\n",
       "      <td>0.009155</td>\n",
       "      <td>-0.281999</td>\n",
       "      <td>5.309476</td>\n",
       "      <td>-0.009155</td>\n",
       "      <td>-1.058709</td>\n",
       "      <td>-0.721470</td>\n",
       "      <td>-0.016955</td>\n",
       "      <td>-1.925198</td>\n",
       "      <td>-0.551156</td>\n",
       "    </tr>\n",
       "    <tr>\n",
       "      <th>2</th>\n",
       "      <td>-0.422944</td>\n",
       "      <td>-0.426490</td>\n",
       "      <td>0.009155</td>\n",
       "      <td>4.523318</td>\n",
       "      <td>0.120423</td>\n",
       "      <td>-0.009155</td>\n",
       "      <td>-1.022471</td>\n",
       "      <td>-0.352018</td>\n",
       "      <td>-0.016955</td>\n",
       "      <td>-1.946008</td>\n",
       "      <td>-0.671907</td>\n",
       "    </tr>\n",
       "    <tr>\n",
       "      <th>3</th>\n",
       "      <td>-0.422944</td>\n",
       "      <td>-0.426490</td>\n",
       "      <td>0.009155</td>\n",
       "      <td>-0.281999</td>\n",
       "      <td>0.120423</td>\n",
       "      <td>-0.009155</td>\n",
       "      <td>-0.986233</td>\n",
       "      <td>-0.352018</td>\n",
       "      <td>-0.016955</td>\n",
       "      <td>-1.951023</td>\n",
       "      <td>-0.697306</td>\n",
       "    </tr>\n",
       "    <tr>\n",
       "      <th>4</th>\n",
       "      <td>-0.422944</td>\n",
       "      <td>-0.426490</td>\n",
       "      <td>0.009155</td>\n",
       "      <td>-0.281999</td>\n",
       "      <td>0.120423</td>\n",
       "      <td>-0.009155</td>\n",
       "      <td>-0.949996</td>\n",
       "      <td>-0.352018</td>\n",
       "      <td>-0.016955</td>\n",
       "      <td>-1.030820</td>\n",
       "      <td>1.886601</td>\n",
       "    </tr>\n",
       "  </tbody>\n",
       "</table>\n",
       "</div>"
      ],
      "text/plain": [
       "   CLIENT_CATEGORY   SEGMENT   SERVICE  channeltype    source  football  \\\n",
       "0        -0.422944 -0.426490  0.009155    -0.281999  0.120423 -0.009155   \n",
       "1        -0.167598  1.108951  0.009155    -0.281999  5.309476 -0.009155   \n",
       "2        -0.422944 -0.426490  0.009155     4.523318  0.120423 -0.009155   \n",
       "3        -0.422944 -0.426490  0.009155    -0.281999  0.120423 -0.009155   \n",
       "4        -0.422944 -0.426490  0.009155    -0.281999  0.120423 -0.009155   \n",
       "\n",
       "   DECLARED_FAULT  num_of_repeat  CREATE_DATE  CLOSETIME  decision_time  \n",
       "0       -1.094946       0.017434    -0.016955  -1.886765      -0.424516  \n",
       "1       -1.058709      -0.721470    -0.016955  -1.925198      -0.551156  \n",
       "2       -1.022471      -0.352018    -0.016955  -1.946008      -0.671907  \n",
       "3       -0.986233      -0.352018    -0.016955  -1.951023      -0.697306  \n",
       "4       -0.949996      -0.352018    -0.016955  -1.030820       1.886601  "
      ]
     },
     "execution_count": 70,
     "metadata": {},
     "output_type": "execute_result"
    }
   ],
   "source": [
    "data_numerical.head()"
   ]
  },
  {
   "cell_type": "code",
   "execution_count": 71,
   "metadata": {},
   "outputs": [
    {
     "name": "stdout",
     "output_type": "stream",
     "text": [
      "Index(['CLIENT_CATEGORY', 'SEGMENT', 'SERVICE', 'channeltype', 'source',\n",
      "       'football', 'DECLARED_FAULT', 'CREATE_DATE', 'CLOSETIME',\n",
      "       'decision_time'],\n",
      "      dtype='object')\n"
     ]
    }
   ],
   "source": [
    "X = sel_data.drop(('num_of_repeat'), axis=1)  # Exclude 'class' column\n",
    "y = sel_data['num_of_repeat']\n",
    "feature_names = X.columns\n",
    "print(feature_names)"
   ]
  },
  {
   "cell_type": "code",
   "execution_count": 72,
   "metadata": {},
   "outputs": [
    {
     "name": "stdout",
     "output_type": "stream",
     "text": [
      "(23862, 10)\n",
      "(23862,)\n"
     ]
    }
   ],
   "source": [
    "print(X.shape)\n",
    "print(y.shape)\n",
    "N, d = X.shape"
   ]
  },
  {
   "cell_type": "code",
   "execution_count": 73,
   "metadata": {},
   "outputs": [
    {
     "name": "stdout",
     "output_type": "stream",
     "text": [
      "16703 7159\n"
     ]
    }
   ],
   "source": [
    "# Devide for train and test samples\n",
    "from sklearn.model_selection import train_test_split\n",
    "X_train, X_test, y_train, y_test = train_test_split(X, y, test_size = 0.3, random_state = 11)\n",
    "\n",
    "N_train, _ = X_train.shape \n",
    "N_test,  _ = X_test.shape \n",
    "print(N_train, N_test)\n",
    "# X_train, y_train is a training sample, X_test, y_test is a test sample."
   ]
  },
  {
   "cell_type": "code",
   "execution_count": 74,
   "metadata": {},
   "outputs": [
    {
     "data": {
      "text/plain": [
       "KNeighborsClassifier(algorithm='auto', leaf_size=30, metric='minkowski',\n",
       "           metric_params=None, n_jobs=1, n_neighbors=5, p=2,\n",
       "           weights='uniform')"
      ]
     },
     "execution_count": 74,
     "metadata": {},
     "output_type": "execute_result"
    }
   ],
   "source": [
    "# Teach the model\n",
    "from sklearn.neighbors import KNeighborsClassifier\n",
    "\n",
    "knn = KNeighborsClassifier()\n",
    "knn.fit(X_train, y_train)"
   ]
  },
  {
   "cell_type": "code",
   "execution_count": 75,
   "metadata": {},
   "outputs": [
    {
     "name": "stdout",
     "output_type": "stream",
     "text": [
      "0.439980841765 0.57913116357\n"
     ]
    }
   ],
   "source": [
    "y_train_predict = knn.predict(X_train)\n",
    "y_test_predict = knn.predict(X_test)\n",
    "\n",
    "err_train = np.mean(y_train != y_train_predict)\n",
    "err_test  = np.mean(y_test  != y_test_predict)\n",
    "print(err_train, err_test)"
   ]
  },
  {
   "cell_type": "code",
   "execution_count": 76,
   "metadata": {},
   "outputs": [
    {
     "name": "stderr",
     "output_type": "stream",
     "text": [
      "C:\\Users\\MRekunchak\\AppData\\Local\\Continuum\\Anaconda3\\lib\\site-packages\\sklearn\\model_selection\\_split.py:581: Warning: The least populated class in y has only 1 members, which is too few. The minimum number of groups for any class cannot be less than n_splits=3.\n",
      "  % (min_groups, self.n_splits)), Warning)\n"
     ]
    },
    {
     "name": "stdout",
     "output_type": "stream",
     "text": [
      "0.546668263186 15\n"
     ]
    }
   ],
   "source": [
    "from sklearn.model_selection import GridSearchCV\n",
    "n_neighbors_array = [1, 3, 5, 7, 10, 15]\n",
    "knn = KNeighborsClassifier()\n",
    "grid = GridSearchCV(knn, param_grid={'n_neighbors': n_neighbors_array})\n",
    "grid.fit(X_train, y_train)\n",
    "\n",
    "best_cv_err = 1 - grid.best_score_\n",
    "best_n_neighbors = grid.best_estimator_.n_neighbors\n",
    "print(best_cv_err, best_n_neighbors)"
   ]
  },
  {
   "cell_type": "code",
   "execution_count": 77,
   "metadata": {},
   "outputs": [
    {
     "name": "stdout",
     "output_type": "stream",
     "text": [
      "0.500987846495 0.549518089119\n"
     ]
    }
   ],
   "source": [
    "knn = KNeighborsClassifier(n_neighbors=best_n_neighbors)\n",
    "knn.fit(X_train, y_train)\n",
    "\n",
    "err_train = np.mean(y_train != knn.predict(X_train))\n",
    "err_test  = np.mean(y_test  != knn.predict(X_test))\n",
    "print(err_train, err_test)"
   ]
  },
  {
   "cell_type": "code",
   "execution_count": 78,
   "metadata": {},
   "outputs": [
    {
     "name": "stdout",
     "output_type": "stream",
     "text": [
      "0.972639645573 0.974018717698\n"
     ]
    }
   ],
   "source": [
    "from sklearn.svm import SVC\n",
    "svc = SVC()\n",
    "svc.fit(X_train, y_train)\n",
    "\n",
    "err_train = np.mean(y_train != svc.predict(X_train))\n",
    "err_test  = np.mean(y_test  != svc.predict(X_test))\n",
    "print(err_train, err_test)"
   ]
  },
  {
   "cell_type": "code",
   "execution_count": 79,
   "metadata": {},
   "outputs": [
    {
     "name": "stderr",
     "output_type": "stream",
     "text": [
      "C:\\Users\\MRekunchak\\AppData\\Local\\Continuum\\Anaconda3\\lib\\site-packages\\sklearn\\model_selection\\_split.py:581: Warning: The least populated class in y has only 1 members, which is too few. The minimum number of groups for any class cannot be less than n_splits=3.\n",
      "  % (min_groups, self.n_splits)), Warning)\n"
     ]
    },
    {
     "name": "stdout",
     "output_type": "stream",
     "text": [
      "CV error    =  0.62096629348\n",
      "best C      =  0.01\n",
      "best gamma  =  1e-05\n"
     ]
    }
   ],
   "source": [
    "from sklearn.model_selection import GridSearchCV\n",
    "C_array = np.logspace(-3, 3, num=7)\n",
    "gamma_array = np.logspace(-5, 2, num=8)\n",
    "svc = SVC(kernel='rbf')\n",
    "grid = GridSearchCV(svc, param_grid={'C': C_array, 'gamma': gamma_array})\n",
    "grid.fit(X_train, y_train)\n",
    "print('CV error    = ', 1 - grid.best_score_)\n",
    "print('best C      = ', grid.best_estimator_.C)\n",
    "print('best gamma  = ', grid.best_estimator_.gamma)"
   ]
  },
  {
   "cell_type": "code",
   "execution_count": null,
   "metadata": {},
   "outputs": [
    {
     "name": "stdout",
     "output_type": "stream",
     "text": [
      "0.972639645573 0.974018717698\n"
     ]
    }
   ],
   "source": [
    "svc = SVC(kernel='rbf', C=grid.best_estimator_.C, gamma=grid.best_estimator_.gamma)\n",
    "svc.fit(X_train, y_train)\n",
    "\n",
    "err_train = np.mean(y_train != svc.predict(X_train))\n",
    "err_test  = np.mean(y_test  != svc.predict(X_test))\n",
    "print(err_train, err_test)"
   ]
  },
  {
   "cell_type": "code",
   "execution_count": null,
   "metadata": {},
   "outputs": [
    {
     "name": "stderr",
     "output_type": "stream",
     "text": [
      "C:\\Users\\MRekunchak\\AppData\\Local\\Continuum\\Anaconda3\\lib\\site-packages\\sklearn\\model_selection\\_split.py:581: Warning: The least populated class in y has only 1 members, which is too few. The minimum number of groups for any class cannot be less than n_splits=3.\n",
      "  % (min_groups, self.n_splits)), Warning)\n"
     ]
    }
   ],
   "source": [
    "from sklearn.model_selection import GridSearchCV\n",
    "C_array = np.logspace(-3, 3, num=7)\n",
    "svc = SVC(kernel='linear')\n",
    "grid = GridSearchCV(svc, param_grid={'C': C_array})\n",
    "grid.fit(X_train, y_train)\n",
    "print('CV error    = ', 1 - grid.best_score_)\n",
    "print('best C      = ', grid.best_estimator_.C)"
   ]
  },
  {
   "cell_type": "code",
   "execution_count": null,
   "metadata": {
    "collapsed": true
   },
   "outputs": [],
   "source": [
    "svc = SVC(kernel='linear', C=grid.best_estimator_.C)\n",
    "svc.fit(X_train, y_train)\n",
    "\n",
    "err_train = np.mean(y_train != svc.predict(X_train))\n",
    "err_test  = np.mean(y_test  != svc.predict(X_test))\n",
    "print(err_train, err_test)"
   ]
  },
  {
   "cell_type": "code",
   "execution_count": null,
   "metadata": {
    "collapsed": true
   },
   "outputs": [],
   "source": [
    "from sklearn.grid_search import GridSearchCV\n",
    "C_array = np.logspace(-5, 2, num=8)\n",
    "gamma_array = np.logspace(-5, 2, num=8)\n",
    "degree_array = [2, 3, 4]\n",
    "svc = SVC(kernel='poly')\n",
    "grid = GridSearchCV(svc, param_grid={'C': C_array, 'gamma': gamma_array, 'degree': degree_array})\n",
    "grid.fit(X_train, y_train)\n",
    "print('CV error    = ', 1 - grid.best_score_)\n",
    "print('best C      = ', grid.best_estimator_.C)\n",
    "print('best gamma  = ', grid.best_estimator_.gamma)\n",
    "print('best degree = ', grid.best_estimator_.degree)"
   ]
  },
  {
   "cell_type": "code",
   "execution_count": null,
   "metadata": {
    "collapsed": true
   },
   "outputs": [],
   "source": [
    "svc = SVC(kernel='poly', C=grid.best_estimator_.C, \n",
    "          gamma=grid.best_estimator_.gamma, degree=grid.best_estimator_.degree)\n",
    "svc.fit(X_train, y_train)\n",
    "\n",
    "err_train = np.mean(y_train != svc.predict(X_train))\n",
    "err_test  = np.mean(y_test  != svc.predict(X_test))\n",
    "print(err_train, err_test)"
   ]
  },
  {
   "cell_type": "code",
   "execution_count": null,
   "metadata": {
    "collapsed": true
   },
   "outputs": [],
   "source": [
    "from sklearn import ensemble\n",
    "rf = ensemble.RandomForestClassifier(n_estimators=100, random_state=11)\n",
    "rf.fit(X_train, y_train)\n",
    "\n",
    "err_train = np.mean(y_train != rf.predict(X_train))\n",
    "err_test  = np.mean(y_test  != rf.predict(X_test))\n",
    "print(err_train, err_test)"
   ]
  },
  {
   "cell_type": "code",
   "execution_count": null,
   "metadata": {
    "collapsed": true
   },
   "outputs": [],
   "source": [
    "importances = rf.feature_importances_\n",
    "indices = np.argsort(importances)[::-1]\n",
    "\n",
    "print(\"Feature importances:\")\n",
    "for f, idx in enumerate(indices):\n",
    "    print(\"{:2d}. feature '{:5s}' ({:.4f})\".format(f + 1, feature_names[idx], importances[idx]))"
   ]
  },
  {
   "cell_type": "code",
   "execution_count": null,
   "metadata": {
    "collapsed": true
   },
   "outputs": [],
   "source": [
    "d_first = 42\n",
    "plt.figure(figsize=(8, 8))\n",
    "plt.title(\"Feature importances\")\n",
    "plt.bar(range(d_first), importances[indices[:d_first]], align='center')\n",
    "plt.xticks(range(d_first), np.array(feature_names)[indices[:d_first]], rotation=90)\n",
    "plt.xlim([-1, d_first]);"
   ]
  },
  {
   "cell_type": "code",
   "execution_count": null,
   "metadata": {
    "collapsed": true
   },
   "outputs": [],
   "source": [
    "print(len(feature_names))\n",
    "best_features = indices[:8]\n",
    "best_features_names = feature_names[best_features]\n",
    "print(best_features_names)"
   ]
  },
  {
   "cell_type": "code",
   "execution_count": null,
   "metadata": {
    "collapsed": true
   },
   "outputs": [],
   "source": [
    "from sklearn import ensemble\n",
    "gbt = ensemble.GradientBoostingClassifier(n_estimators=100, random_state=11)\n",
    "gbt.fit(X_train, y_train)\n",
    "\n",
    "err_train = np.mean(y_train != gbt.predict(X_train))\n",
    "err_test = np.mean(y_test != gbt.predict(X_test))\n",
    "print(err_train, err_test)"
   ]
  },
  {
   "cell_type": "code",
   "execution_count": null,
   "metadata": {
    "collapsed": true
   },
   "outputs": [],
   "source": [
    "gbt = ensemble.GradientBoostingClassifier(n_estimators=100, random_state=11)\n",
    "gbt.fit(X_train[best_features_names], y_train)\n",
    "\n",
    "err_train = np.mean(y_train != gbt.predict(X_train[best_features_names]))\n",
    "err_test = np.mean(y_test != gbt.predict(X_test[best_features_names]))\n",
    "print(err_train, err_test)"
   ]
  }
 ],
 "metadata": {
  "kernelspec": {
   "display_name": "Python 3",
   "language": "python",
   "name": "python3"
  },
  "language_info": {
   "codemirror_mode": {
    "name": "ipython",
    "version": 3
   },
   "file_extension": ".py",
   "mimetype": "text/x-python",
   "name": "python",
   "nbconvert_exporter": "python",
   "pygments_lexer": "ipython3",
   "version": "3.6.1"
  }
 },
 "nbformat": 4,
 "nbformat_minor": 2
}

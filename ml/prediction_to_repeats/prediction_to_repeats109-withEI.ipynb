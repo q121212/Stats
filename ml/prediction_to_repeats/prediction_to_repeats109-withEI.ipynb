{
 "cells": [
  {
   "cell_type": "code",
   "execution_count": 1,
   "metadata": {
    "collapsed": true
   },
   "outputs": [],
   "source": [
    "# -*- coding: utf-8 -*-\n",
    "import numpy as np\n",
    "import pandas as pd\n",
    "import matplotlib.pyplot as plt\n",
    "# import tqdm # interactive progress bar\n",
    "\n",
    "plt.style.use('ggplot')\n",
    "%matplotlib inline"
   ]
  },
  {
   "cell_type": "code",
   "execution_count": 2,
   "metadata": {
    "collapsed": true
   },
   "outputs": [],
   "source": [
    "f_names={'EI':'EI', 'MK':'MK', 'SEGMENT':'Сегмент', 'Service':'Услуга', 'Channeltype': 'Тип канала', 'Source': 'Источник ЕИ', \n",
    "'football':'Футбол', 'DECLARED_FAULT':'Заявл. неисправность', 'CREATE_DATE':'Дата создания', 'CLOSETIME':'Дата закрытия',\n",
    "'all_num_of_repeat':'Всего повторок', 'num_of_repeat2':'Повторок за 2 дня', 'num_of_repeat5':'Повторок за 5 дней',\n",
    "'num_of_repeat10':'Повторок за 10 дней', 'num_of_repeat30':'Повторок за 30 дней', 'num_of_repeat60':'Повторок за 60 дней',\n",
    "'MITYPE':'Тип МИ', 'MIPRIORITY':'Приоритет МИ', 'MIIMPACT':'Влияние МИ', 'TECHNICAL_DISTRICT':'Техрайон(WFM)',\n",
    "'NumWFMforEI':'Кол-во WFM', 'Last_WFM_days_waiting':'Кол-во дней ожидания выезда', 'EIDayOfWeek':'День недели заведения ЕИ',\n",
    "'EIHourCreate':'Час создания ЕИ'}"
   ]
  },
  {
   "cell_type": "code",
   "execution_count": 3,
   "metadata": {},
   "outputs": [
    {
     "name": "stderr",
     "output_type": "stream",
     "text": [
      "C:\\Users\\MRekunchak\\AppData\\Local\\Continuum\\Anaconda3\\lib\\site-packages\\IPython\\core\\interactiveshell.py:2717: DtypeWarning: Columns (8) have mixed types. Specify dtype option on import or set low_memory=False.\n",
      "  interactivity=interactivity, compiler=compiler, result=result)\n"
     ]
    },
    {
     "data": {
      "text/plain": [
       "(278284, 24)"
      ]
     },
     "execution_count": 3,
     "metadata": {},
     "output_type": "execute_result"
    }
   ],
   "source": [
    "# Loading old data\n",
    "url_to_data = 'data/data109_fullSpringAndSummer2017withEI.csv'\n",
    "data = pd.read_csv(url_to_data, names=f_names.keys(), na_values='0', delimiter=';', skiprows=[0])\n",
    "data.shape"
   ]
  },
  {
   "cell_type": "code",
   "execution_count": 4,
   "metadata": {},
   "outputs": [
    {
     "data": {
      "text/plain": [
       "(1778, 24)"
      ]
     },
     "execution_count": 4,
     "metadata": {},
     "output_type": "execute_result"
    }
   ],
   "source": [
    "# Loading fresh data\n",
    "#!pip install pymysql\n",
    "import pymysql\n",
    "import pers_data\n",
    "import sql_queries\n",
    "\n",
    "mysql_conn= pymysql.connect(host=pers_data.HOST, \n",
    "                port=pers_data.PORT,user=pers_data.USER, passwd=pers_data.PASSWD, \n",
    "                db=pers_data.DB, charset='utf8')\n",
    "#connection.use_unicode =  True\n",
    "\n",
    "data_y=pd.read_sql(sql_queries.SQL_QUERY_TODAY, con=mysql_conn)\n",
    "data_y.shape"
   ]
  },
  {
   "cell_type": "code",
   "execution_count": 5,
   "metadata": {},
   "outputs": [
    {
     "name": "stdout",
     "output_type": "stream",
     "text": [
      "Categorical columns:  ['MK', 'SEGMENT', 'DECLARED_FAULT', 'CREATE_DATE']\n",
      "Numerical columns:  ['EI', 'Service', 'Channeltype', 'Source', 'football', 'CLOSETIME', 'all_num_of_repeat', 'num_of_repeat2', 'num_of_repeat5', 'num_of_repeat10', 'num_of_repeat30', 'num_of_repeat60', 'MITYPE', 'MIPRIORITY', 'MIIMPACT', 'TECHNICAL_DISTRICT', 'NumWFMforEI', 'Last_WFM_days_waiting', 'EIDayOfWeek', 'EIHourCreate']\n"
     ]
    }
   ],
   "source": [
    "# Data preprocessing\n",
    "\n",
    "## extract categorical and numerical features for OLD data\n",
    "categorical_columns_x = [c for c in data.columns if data[c].dtype.name == 'object']\n",
    "numerical_columns_x   = [c for c in data.columns if data[c].dtype.name != 'object']\n",
    "print('Categorical columns: ', categorical_columns_x)\n",
    "print('Numerical columns: ', numerical_columns_x)"
   ]
  },
  {
   "cell_type": "code",
   "execution_count": 6,
   "metadata": {},
   "outputs": [
    {
     "name": "stdout",
     "output_type": "stream",
     "text": [
      "Categorical columns:  ['MK', 'SEGMENT', 'DECLARED_FAULT']\n",
      "Numerical columns:  ['EI', 'Service', 'Channeltype', 'Source', 'football', 'CREATE_DATE', 'CLOSETIME', 'all_num_of_repeat', 'num_of_repeat2', 'num_of_repeat5', 'num_of_repeat10', 'num_of_repeat30', 'num_of_repeat60', 'MITYPE', 'MIPRIORITY', 'MIIMPACT', 'TECHNICAL_DISTRICT', 'NumWFMforEI', 'Last_WFM_days_waiting', 'EIDayOfWeek', 'EIHourCreate']\n"
     ]
    }
   ],
   "source": [
    "## extract categorical and numerical features for FRESH data\n",
    "categorical_columns_y = [c for c in data_y.columns if data_y[c].dtype.name == 'object']\n",
    "numerical_columns_y   = [c for c in data_y.columns if data_y[c].dtype.name != 'object']\n",
    "print('Categorical columns: ', categorical_columns_y)\n",
    "print('Numerical columns: ', numerical_columns_y)"
   ]
  },
  {
   "cell_type": "code",
   "execution_count": 7,
   "metadata": {
    "collapsed": true
   },
   "outputs": [],
   "source": [
    "# data[numerical_columns_x].describe()"
   ]
  },
  {
   "cell_type": "code",
   "execution_count": 8,
   "metadata": {
    "collapsed": true
   },
   "outputs": [],
   "source": [
    "# data_y[numerical_columns_y].describe()"
   ]
  },
  {
   "cell_type": "code",
   "execution_count": 9,
   "metadata": {},
   "outputs": [
    {
     "data": {
      "text/html": [
       "<div>\n",
       "<style>\n",
       "    .dataframe thead tr:only-child th {\n",
       "        text-align: right;\n",
       "    }\n",
       "\n",
       "    .dataframe thead th {\n",
       "        text-align: left;\n",
       "    }\n",
       "\n",
       "    .dataframe tbody tr th {\n",
       "        vertical-align: top;\n",
       "    }\n",
       "</style>\n",
       "<table border=\"1\" class=\"dataframe\">\n",
       "  <thead>\n",
       "    <tr style=\"text-align: right;\">\n",
       "      <th></th>\n",
       "      <th>MK</th>\n",
       "      <th>SEGMENT</th>\n",
       "      <th>DECLARED_FAULT</th>\n",
       "      <th>CREATE_DATE</th>\n",
       "    </tr>\n",
       "  </thead>\n",
       "  <tbody>\n",
       "    <tr>\n",
       "      <th>count</th>\n",
       "      <td>275781</td>\n",
       "      <td>277163</td>\n",
       "      <td>278283</td>\n",
       "      <td>278284</td>\n",
       "    </tr>\n",
       "    <tr>\n",
       "      <th>unique</th>\n",
       "      <td>34</td>\n",
       "      <td>8</td>\n",
       "      <td>317</td>\n",
       "      <td>270765</td>\n",
       "    </tr>\n",
       "    <tr>\n",
       "      <th>top</th>\n",
       "      <td>ФЛ</td>\n",
       "      <td>МР</td>\n",
       "      <td>Телефония. Тишина в трубке, нет зуммера</td>\n",
       "      <td>1501132721</td>\n",
       "    </tr>\n",
       "    <tr>\n",
       "      <th>freq</th>\n",
       "      <td>209352</td>\n",
       "      <td>217227</td>\n",
       "      <td>25747</td>\n",
       "      <td>8</td>\n",
       "    </tr>\n",
       "  </tbody>\n",
       "</table>\n",
       "</div>"
      ],
      "text/plain": [
       "            MK SEGMENT                           DECLARED_FAULT  CREATE_DATE\n",
       "count   275781  277163                                   278283       278284\n",
       "unique      34       8                                      317       270765\n",
       "top         ФЛ      МР  Телефония. Тишина в трубке, нет зуммера   1501132721\n",
       "freq    209352  217227                                    25747            8"
      ]
     },
     "execution_count": 9,
     "metadata": {},
     "output_type": "execute_result"
    }
   ],
   "source": [
    "data[categorical_columns_x].describe() # Stats for categorial features for OLD data"
   ]
  },
  {
   "cell_type": "code",
   "execution_count": 10,
   "metadata": {},
   "outputs": [
    {
     "data": {
      "text/html": [
       "<div>\n",
       "<style>\n",
       "    .dataframe thead tr:only-child th {\n",
       "        text-align: right;\n",
       "    }\n",
       "\n",
       "    .dataframe thead th {\n",
       "        text-align: left;\n",
       "    }\n",
       "\n",
       "    .dataframe tbody tr th {\n",
       "        vertical-align: top;\n",
       "    }\n",
       "</style>\n",
       "<table border=\"1\" class=\"dataframe\">\n",
       "  <thead>\n",
       "    <tr style=\"text-align: right;\">\n",
       "      <th></th>\n",
       "      <th>MK</th>\n",
       "      <th>SEGMENT</th>\n",
       "      <th>DECLARED_FAULT</th>\n",
       "    </tr>\n",
       "  </thead>\n",
       "  <tbody>\n",
       "    <tr>\n",
       "      <th>count</th>\n",
       "      <td>1778</td>\n",
       "      <td>1778</td>\n",
       "      <td>1778</td>\n",
       "    </tr>\n",
       "    <tr>\n",
       "      <th>unique</th>\n",
       "      <td>24</td>\n",
       "      <td>7</td>\n",
       "      <td>122</td>\n",
       "    </tr>\n",
       "    <tr>\n",
       "      <th>top</th>\n",
       "      <td>ФЛ</td>\n",
       "      <td>МР</td>\n",
       "      <td>Телефония. Тишина в трубке, нет зуммера</td>\n",
       "    </tr>\n",
       "    <tr>\n",
       "      <th>freq</th>\n",
       "      <td>1323</td>\n",
       "      <td>1372</td>\n",
       "      <td>164</td>\n",
       "    </tr>\n",
       "  </tbody>\n",
       "</table>\n",
       "</div>"
      ],
      "text/plain": [
       "          MK SEGMENT                           DECLARED_FAULT\n",
       "count   1778    1778                                     1778\n",
       "unique    24       7                                      122\n",
       "top       ФЛ      МР  Телефония. Тишина в трубке, нет зуммера\n",
       "freq    1323    1372                                      164"
      ]
     },
     "execution_count": 10,
     "metadata": {},
     "output_type": "execute_result"
    }
   ],
   "source": [
    "data_y[categorical_columns_y].describe() # Stats for categorial features for FRESH data"
   ]
  },
  {
   "cell_type": "code",
   "execution_count": 11,
   "metadata": {
    "collapsed": true
   },
   "outputs": [],
   "source": [
    "## Legends\n",
    "LEGEND={'Channeltype':{\n",
    "'9207':'Медная линия',\n",
    "'9205':'Канальная АТШ',\n",
    "'9204': 'Канальная PON',\n",
    "'9986':'Канальная Radio',\n",
    "'9206':'Кодер видеонаблюдения',\n",
    "'9636':'IP ОПС',\n",
    "'9987':'Канальная Радио (юрики)',\n",
    "'9203':'Канал ADSL',\n",
    "'9633':'Канальная FTTB',\n",
    "'9632':'ОПС',\n",
    "'9202':'Камера видеонаблюдения',\n",
    "'10769':'Канальная МЕДЬ',\n",
    "'9197':'RFC PON',\n",
    "'9198':'RFC АТШ',\n",
    "'9199':'Интернет PON',\n",
    "'9200':'Интернет АТШ',\n",
    "'9201':'Интернет АТШ (юрики)',\n",
    "'9208':'Телевидение PON',\n",
    "'9209':'Телевидение АТШ',\n",
    "'9210':'Телефон PON',\n",
    "'9211':'Телефон АТШ',\n",
    "'9212':'УПАТС PON',\n",
    "'9630':'Телефон FTTB',\n",
    "'9631':'Телевидение FTTB',\n",
    "'9634':'Интернет FTTB',\n",
    "'9635':'RFC FTTB'},\n",
    "'Service':{\n",
    "'9650':'Все сервисы',\n",
    "'9697':'ОПС',\n",
    "'8677':'Не сетевой инцидент',\n",
    "'8679':'Телевидение',\n",
    "'8681':'Технологические сервисы',\n",
    "'8676':'Дополнительные сервисы',\n",
    "'8678':'Передача данных',\n",
    "'8680':'Телефония',\n",
    "'8682':'Энергетическое и климатическое обеспечение технологических площадок'}}"
   ]
  },
  {
   "cell_type": "code",
   "execution_count": 12,
   "metadata": {},
   "outputs": [
    {
     "data": {
      "text/plain": [
       "(8678.0    145171\n",
       " 8680.0     66017\n",
       " 9650.0     40957\n",
       " 8679.0     25576\n",
       " 8681.0       311\n",
       " 8677.0       136\n",
       " 8676.0       110\n",
       " 8682.0         5\n",
       " Name: Service, dtype: int64, 8678.0    145171\n",
       " 8680.0     66017\n",
       " 9650.0     40957\n",
       " 8679.0     25576\n",
       " 8681.0       311\n",
       " 8677.0       136\n",
       " 8676.0       110\n",
       " 8682.0         5\n",
       " Name: Service, dtype: int64)"
      ]
     },
     "execution_count": 12,
     "metadata": {},
     "output_type": "execute_result"
    }
   ],
   "source": [
    "## Replacement of digital values of categories by their number of repetitions in data\n",
    "# TODO: need to replace occurence of categories to some more appropriate for expression categories in data\n",
    "stats_x=dict()\n",
    "stats_y=dict()\n",
    "\n",
    "for i in ['MK', 'SEGMENT', 'DECLARED_FAULT', 'Service', 'Channeltype', 'football', 'TECHNICAL_DISTRICT',\n",
    "          'EIDayOfWeek', 'EIHourCreate']:\n",
    "    stats_x[i]=data[i].value_counts()\n",
    "    stats_y[i]=data[i].value_counts() # not data_y!!!!!! Because it's occurrence of categories\n",
    "    \n",
    "\n",
    "# print(stats.keys())\n",
    "# print(stats['Service'])\n",
    "# stats_x['MK'].values\n",
    "stats_y['Service'],stats_x['Service']"
   ]
  },
  {
   "cell_type": "code",
   "execution_count": 13,
   "metadata": {},
   "outputs": [
    {
     "data": {
      "text/plain": [
       "dict_keys(['9207', '9205', '9204', '9986', '9206', '9636', '9987', '9203', '9633', '9632', '9202', '10769', '9197', '9198', '9199', '9200', '9201', '9208', '9209', '9210', '9211', '9212', '9630', '9631', '9634', '9635'])"
      ]
     },
     "execution_count": 13,
     "metadata": {},
     "output_type": "execute_result"
    }
   ],
   "source": [
    "LEGEND['Channeltype'].keys()"
   ]
  },
  {
   "cell_type": "code",
   "execution_count": 14,
   "metadata": {},
   "outputs": [
    {
     "name": "stdout",
     "output_type": "stream",
     "text": [
      "\n",
      "Channeltype\n",
      "\n",
      "\n",
      "DECLARED_FAULT\n",
      "\n",
      "25747 \t Телефония. Тишина в трубке, нет зуммера\n",
      "18275 \t Телефония. Тишина в трубке\n",
      "17319 \t ONT не на линии. Проблема с оптическим кабелем\n",
      "16967 \t Интернет. Не работает интернет\n",
      "11948 \t Интернет. Не открываются все страницы\n",
      "11710 \t ТВ. Не получен IP-адрес\n",
      "10328 \t Не работает ONT. Нет индикации питания.\n",
      "9018 \t Не работает канал VPN\n",
      "8983 \t ТВ. Черный или синий экран\n",
      "8802 \t Swap ONT Huawei\n",
      "6999 \t Интернет. Другое\n",
      "6973 \t ТВ. Проблемы с пультом\n",
      "5689 \t ТВ. Рассыпание/замирание\n",
      "5483 \t SLX_Не работает INTERNET\n",
      "5319 \t ТВ. Другое\n",
      "5309 \t Интернет. Не открываются страницы\n",
      "5054 \t Телефония. Зуммер занято\n",
      "4704 \t Перенос/замена модели ONT\n",
      "4577 \t ONT на линии. Высокое затухание\n",
      "4118 \t Интернет. Нет линка\n",
      "\n",
      "EIDayOfWeek\n",
      "\n",
      "\n",
      "EIHourCreate\n",
      "\n",
      "\n",
      "MK\n",
      "\n",
      "209352 \t ФЛ\n",
      "19828 \t SOHO\n",
      "12775 \t NKA\n",
      "5600 \t SME\n",
      "3962 \t Выделенное обслуживание (пилот)\n",
      "3793 \t GS-SLA4\n",
      "3217 \t Оператор\n",
      "2854 \t Первая\n",
      "2637 \t SME GS\n",
      "2477 \t Corporate\n",
      "1711 \t KA\n",
      "1412 \t GS-SLA1\n",
      "1216 \t SOHO_GS\n",
      "941 \t Corporate GS\n",
      "780 \t INDIVIDUAL\n",
      "740 \t GS-Имидж абоненты\n",
      "653 \t KA GS\n",
      "640 \t GS-SLA3\n",
      "343 \t Имидж-абоненты (физические лица)\n",
      "276 \t ФЛ_ИЗ_МРМ\n",
      "\n",
      "SEGMENT\n",
      "\n",
      "217227 \t МР\n",
      "53560 \t КОРП\n",
      "5205 \t ГОС\n",
      "709 \t БС28\n",
      "331 \t Оператор\n",
      "102 \t Внутренний\n",
      "24 \t БС22\n",
      "5 \t СПЕЦ\n",
      "\n",
      "Service\n",
      "\n",
      "\n",
      "TECHNICAL_DISTRICT\n",
      "\n",
      "\n",
      "football\n",
      "\n",
      "\n",
      " Service \n",
      "\n",
      "145171 \t Передача данных\n",
      "66017 \t Телефония\n",
      "40957 \t Все сервисы\n",
      "25576 \t Телевидение\n",
      "311 \t Технологические сервисы\n",
      "136 \t Не сетевой инцидент\n",
      "110 \t Дополнительные сервисы\n",
      "5 \t Энергетическое и климатическое обеспечение технологических площадок\n",
      "\n",
      " Channeltype \n",
      "\n",
      "172301 \t Канальная PON\n",
      "38294 \t Канальная АТШ\n",
      "17428 \t Канальная FTTB\n",
      "10017 \t Канальная МЕДЬ\n",
      "5848 \t Канал ADSL\n",
      "1213 \t Медная линия\n",
      "43 \t Канальная Radio\n",
      "2 \t Интернет АТШ (юрики)\n",
      "1 \t IP ОПС\n",
      "1 \t Телефон PON\n",
      "1 \t Телевидение АТШ\n"
     ]
    }
   ],
   "source": [
    "## Notes for understanding of features\n",
    "cat_features=set()\n",
    "for feature in sorted(stats_x.keys()):\n",
    "    d_first=20\n",
    "#     print(len(stats[feature]))\n",
    "    if len(stats_x[feature])< 20:\n",
    "        d_first = len(stats_x[feature])\n",
    "    print(\"\\n\"+feature+\"\\n\")\n",
    "    for i in stats_x[feature].keys()[:d_first]:\n",
    "        if type(i) == str:\n",
    "            print(stats_x[feature][i], \"\\t\", i)\n",
    "        else:\n",
    "            cat_features.add(feature)\n",
    "# print(cat_features)\n",
    "if cat_features:\n",
    "    for feature in cat_features:\n",
    "        try:\n",
    "            if LEGEND[feature]:\n",
    "            \n",
    "                print(\"\\n\", feature, \"\\n\")\n",
    "                for i in stats_x[feature].keys():\n",
    "                    print(stats_x[feature][i], \"\\t\", LEGEND[feature][str(int(i))])\n",
    "        except:\n",
    "                pass\n",
    "#     print(stats[feature].keys()[:d_first], stats[feature].values[:d_first])\n",
    "    "
   ]
  },
  {
   "cell_type": "code",
   "execution_count": 15,
   "metadata": {
    "collapsed": true
   },
   "outputs": [],
   "source": [
    "# stats_y['SEGMENT'][:6].plot()\n",
    "# data.head()\n",
    "# for i in data_x:\n",
    "#     print(data[i].describe())"
   ]
  },
  {
   "cell_type": "code",
   "execution_count": 16,
   "metadata": {
    "collapsed": true
   },
   "outputs": [],
   "source": [
    "## Cleaning the data\n",
    "\n",
    "# dropped_data_without_empty_cols = data.dropna(axis=1)\n",
    "# dropped_data_without_empty_rows = data.dropna(axis=0)\n",
    "# data.count(axis=0)\n",
    "\n",
    "\n",
    "for item in ['all_num_of_repeat', 'num_of_repeat2', 'num_of_repeat5', 'num_of_repeat10', 'num_of_repeat30', 'num_of_repeat60']:\n",
    "    data[item]=data[item][data[item].isin([i for i in range(1000)] + [str(i) for i in range(1000)])]\n",
    "    data[item]=data[item].replace(to_replace=[np.nan], value=[0])\n",
    "\n",
    "    data_y[item]=data_y[item][data_y[item].isin([i for i in range(1000)] + [str(i) for i in range(1000)])]\n",
    "    data_y[item]=data_y[item].replace(to_replace=[np.nan], value=[0])\n",
    "\n",
    "    \n",
    "\n",
    "# for col_name in ['SERVICE', 'channeltype', 'source']:\n",
    "#     data[col_name]=data[col_name].replace(to_replace=[np.nan], value=[0])\n",
    "#     data[col_name]=data[col_name].replace(to_replace=data[col_name].unique(), value=[i for i in range(len(data[col_name].unique()))])\n",
    "\n",
    "\n",
    "\n",
    "# data['DECLARED_FAULT']=data['DECLARED_FAULT'].replace(to_replace=data['DECLARED_FAULT'].unique(), value=[i for i in range(1,len(data['DECLARED_FAULT'].unique())+1)]) \n",
    "\n",
    "# data['CLIENT_CATEGORY']=data['CLIENT_CATEGORY'][data['CLIENT_CATEGORY'].isin(['ФЛ', 'SOHO', 'NKA', \n",
    "# 'Выделенное обслуживание (пилот)', 'GS-SLA4', 'SME', 'Оператор', 'SME GS', 'Corporate', 'KA', 'SOHO_GS', 'GS-SLA1', \n",
    "# 'Corporate GS', 'GS-Имидж абоненты', 'Имидж-абоненты (физические лица)', 'GS-SLA3', 'INDIVIDUAL', 'KA GS', 'ФЛ_ИЗ_МРМ',\n",
    "# 'Развитие', 'СПЕЦ', 'Внутренний', 'Посольства', 'Имидж-абоненты (юридические лица)', 'NKA GS'])]\n",
    "# data['CLIENT_CATEGORY']=data['CLIENT_CATEGORY'].replace(to_replace=data['CLIENT_CATEGORY'].unique(), value=[i for i in range(1,len(data['CLIENT_CATEGORY'].unique())+1)]) \n",
    "\n",
    "# data['SEGMENT']=data['SEGMENT'][data['SEGMENT'].isin(['МР','КОРП','ГОС','Оператор','БС28','Внутренний','БС22'])]\n",
    "# data['SEGMENT']=data['SEGMENT'].replace(to_replace=data['SEGMENT'].unique(), value=[i for i in range(1,len(data['SEGMENT'].unique())+1)]) \n",
    "\n",
    "\n",
    "data['DECLARED_FAULT']=data['DECLARED_FAULT'].map(data.groupby('DECLARED_FAULT').size())\n",
    "data_y['DECLARED_FAULT']=data_y['DECLARED_FAULT'].map(data_y.groupby('DECLARED_FAULT').size())\n",
    "\n",
    "data['MK']=data['MK'].map(data.groupby('MK').size())\n",
    "data_y['MK']=data_y['MK'].map(data_y.groupby('MK').size())\n",
    "\n",
    "data['SEGMENT']=data['SEGMENT'].map(data.groupby('SEGMENT').size())\n",
    "data_y['SEGMENT']=data_y['SEGMENT'].map(data_y.groupby('SEGMENT').size())\n",
    "\n",
    "\n",
    "\n",
    "for i in ['CREATE_DATE', 'CLOSETIME']:\n",
    "    data[i] = pd.to_numeric(data[i],errors='coerce')\n",
    "    data_y[i] = pd.to_numeric(data_y[i],errors='coerce')"
   ]
  },
  {
   "cell_type": "code",
   "execution_count": 17,
   "metadata": {
    "collapsed": true
   },
   "outputs": [],
   "source": [
    "# data['MK'], data_y['MK']"
   ]
  },
  {
   "cell_type": "code",
   "execution_count": 18,
   "metadata": {
    "collapsed": true
   },
   "outputs": [],
   "source": [
    "# data['CREATE_DATE'].unique(), data_y['CREATE_DATE'].unique()"
   ]
  },
  {
   "cell_type": "code",
   "execution_count": 19,
   "metadata": {
    "collapsed": true
   },
   "outputs": [],
   "source": [
    "# type(data_y['CREATE_DATE'].head()[1])"
   ]
  },
  {
   "cell_type": "code",
   "execution_count": 20,
   "metadata": {
    "collapsed": true
   },
   "outputs": [],
   "source": [
    "## Generation of data\n",
    "data['decision_time'] = data['CLOSETIME']-data['CREATE_DATE']\n",
    "data_y['decision_time'] = data_y['CLOSETIME']-data_y['CREATE_DATE']"
   ]
  },
  {
   "cell_type": "code",
   "execution_count": 21,
   "metadata": {
    "collapsed": true
   },
   "outputs": [],
   "source": [
    "# data_y['SEGMENT'].head()"
   ]
  },
  {
   "cell_type": "code",
   "execution_count": 22,
   "metadata": {
    "collapsed": true
   },
   "outputs": [],
   "source": [
    "## Selecting data\n",
    "# sel_data = pd.concat((data['CLIENT_CATEGORY'],\n",
    "# data['SEGMENT'],\n",
    "# data['SERVICE'],\n",
    "# data['channeltype'],\n",
    "# data['source'],\n",
    "# # data['CHANNELREQUESTID'],\n",
    "# data['football'],\n",
    "# data['DECLARED_FAULT'],\n",
    "# data['all_num_of_repeat'],\n",
    "# data['num_of_repeat2'],\n",
    "# data['num_of_repeat5'],\n",
    "# data['num_of_repeat10'],\n",
    "# data['num_of_repeat30'],\n",
    "# data['num_of_repeat60'],\n",
    "# data['CREATE_DATE'],\n",
    "# data['CLOSETIME'],\n",
    "# data['decision_time'],\n",
    "# # data['TIMELEFTSLA']\n",
    "#                      ), axis=1)\n",
    "# sel_data.describe()"
   ]
  },
  {
   "cell_type": "code",
   "execution_count": 23,
   "metadata": {},
   "outputs": [
    {
     "name": "stdout",
     "output_type": "stream",
     "text": [
      "5\n"
     ]
    }
   ],
   "source": [
    "print(data_y['football'].unique()[2])\n",
    "# for i in sel_data['SERVICE']:\n",
    "#     if i.startswith('2'):\n",
    "#         pass\n",
    "#     else:\n",
    "#         print(i)"
   ]
  },
  {
   "cell_type": "code",
   "execution_count": 24,
   "metadata": {
    "collapsed": true
   },
   "outputs": [],
   "source": [
    "# # full list of categorical columns, where 'nan' is missing values\n",
    "# for c in sel_data:\n",
    "#     print(c, sel_data[c].unique(), len(sel_data[c].unique()))"
   ]
  },
  {
   "cell_type": "code",
   "execution_count": 25,
   "metadata": {
    "collapsed": true
   },
   "outputs": [],
   "source": [
    "# # for each numerical/quantitative feature built histogram,\n",
    "# # for each pair of nemerical built dispersion (scattering) diagram\n",
    "# from pandas.plotting import scatter_matrix\n",
    "# scatter_matrix(data, alpha=0.05, figsize=(15, 15));"
   ]
  },
  {
   "cell_type": "code",
   "execution_count": 26,
   "metadata": {
    "collapsed": true
   },
   "outputs": [],
   "source": [
    "# data[numerical_columns_x].corr() # matrix of correlations for OLD data\n",
    "# data_y[numerical_columns_y].corr() # matrix of correlations for FRESH data"
   ]
  },
  {
   "cell_type": "code",
   "execution_count": 27,
   "metadata": {},
   "outputs": [
    {
     "data": {
      "text/plain": [
       "(EI                       278284\n",
       " MK                       275781\n",
       " SEGMENT                  277163\n",
       " Service                  278283\n",
       " Channeltype              245149\n",
       " Source                   276138\n",
       " football                 278264\n",
       " DECLARED_FAULT           278283\n",
       " CREATE_DATE              278283\n",
       " CLOSETIME                271065\n",
       " all_num_of_repeat        278284\n",
       " num_of_repeat2           278284\n",
       " num_of_repeat5           278284\n",
       " num_of_repeat10          278284\n",
       " num_of_repeat30          278284\n",
       " num_of_repeat60          278284\n",
       " MITYPE                    17320\n",
       " MIPRIORITY                11629\n",
       " MIIMPACT                  11504\n",
       " TECHNICAL_DISTRICT       171436\n",
       " NumWFMforEI              171439\n",
       " Last_WFM_days_waiting    115987\n",
       " EIDayOfWeek              278283\n",
       " EIHourCreate             275923\n",
       " decision_time            271064\n",
       " dtype: int64, EI                       1778\n",
       " MK                       1778\n",
       " SEGMENT                  1778\n",
       " Service                  1778\n",
       " Channeltype              1569\n",
       " Source                   1778\n",
       " football                 1778\n",
       " DECLARED_FAULT           1778\n",
       " CREATE_DATE              1778\n",
       " CLOSETIME                 729\n",
       " all_num_of_repeat        1778\n",
       " num_of_repeat2           1778\n",
       " num_of_repeat5           1778\n",
       " num_of_repeat10          1778\n",
       " num_of_repeat30          1778\n",
       " num_of_repeat60          1778\n",
       " MITYPE                    130\n",
       " MIPRIORITY                130\n",
       " MIIMPACT                  130\n",
       " TECHNICAL_DISTRICT       1063\n",
       " NumWFMforEI              1063\n",
       " Last_WFM_days_waiting    1063\n",
       " EIDayOfWeek              1778\n",
       " EIHourCreate             1778\n",
       " decision_time             729\n",
       " dtype: int64)"
      ]
     },
     "execution_count": 27,
     "metadata": {},
     "output_type": "execute_result"
    }
   ],
   "source": [
    "## Find the number of completed (not skipped) items\n",
    "# axis = 0 means that we move counter from top to bottom, and axis = 1 than we move counter from left to right\n",
    "data.count(axis=0), data_y.count(axis=0)"
   ]
  },
  {
   "cell_type": "code",
   "execution_count": 28,
   "metadata": {
    "collapsed": true
   },
   "outputs": [],
   "source": [
    "## fill the missing values\n",
    "# fill all numerical features (Instead of gaps (missing values), we substitute the median values (data.median(axis=0)))\n",
    "data = data.fillna(0, axis=0)\n",
    "data_y = data_y.fillna(0, axis=0)"
   ]
  },
  {
   "cell_type": "code",
   "execution_count": 29,
   "metadata": {
    "collapsed": true
   },
   "outputs": [],
   "source": [
    "# before\n",
    "# data['A1'].describe()"
   ]
  },
  {
   "cell_type": "code",
   "execution_count": 30,
   "metadata": {
    "collapsed": true
   },
   "outputs": [],
   "source": [
    "# # fill the missing values in categorical feature with top value (Instead missing values) we substitute \n",
    "# # the top value in this column\n",
    "# data['A1'] = data['A1'].fillna('b')"
   ]
  },
  {
   "cell_type": "code",
   "execution_count": 31,
   "metadata": {},
   "outputs": [
    {
     "data": {
      "text/html": [
       "<div>\n",
       "<style>\n",
       "    .dataframe thead tr:only-child th {\n",
       "        text-align: right;\n",
       "    }\n",
       "\n",
       "    .dataframe thead th {\n",
       "        text-align: left;\n",
       "    }\n",
       "\n",
       "    .dataframe tbody tr th {\n",
       "        vertical-align: top;\n",
       "    }\n",
       "</style>\n",
       "<table border=\"1\" class=\"dataframe\">\n",
       "  <thead>\n",
       "    <tr style=\"text-align: right;\">\n",
       "      <th></th>\n",
       "      <th>EI</th>\n",
       "      <th>MK</th>\n",
       "      <th>SEGMENT</th>\n",
       "      <th>Service</th>\n",
       "      <th>Channeltype</th>\n",
       "      <th>Source</th>\n",
       "      <th>football</th>\n",
       "      <th>DECLARED_FAULT</th>\n",
       "      <th>CREATE_DATE</th>\n",
       "      <th>CLOSETIME</th>\n",
       "      <th>...</th>\n",
       "      <th>num_of_repeat60</th>\n",
       "      <th>MITYPE</th>\n",
       "      <th>MIPRIORITY</th>\n",
       "      <th>MIIMPACT</th>\n",
       "      <th>TECHNICAL_DISTRICT</th>\n",
       "      <th>NumWFMforEI</th>\n",
       "      <th>Last_WFM_days_waiting</th>\n",
       "      <th>EIDayOfWeek</th>\n",
       "      <th>EIHourCreate</th>\n",
       "      <th>decision_time</th>\n",
       "    </tr>\n",
       "  </thead>\n",
       "  <tbody>\n",
       "    <tr>\n",
       "      <th>count</th>\n",
       "      <td>1.778000e+03</td>\n",
       "      <td>1778.000000</td>\n",
       "      <td>1778.000000</td>\n",
       "      <td>1778.000000</td>\n",
       "      <td>1778.000000</td>\n",
       "      <td>1778.000000</td>\n",
       "      <td>1778.000000</td>\n",
       "      <td>1778.000000</td>\n",
       "      <td>1.778000e+03</td>\n",
       "      <td>1.778000e+03</td>\n",
       "      <td>...</td>\n",
       "      <td>1778.000000</td>\n",
       "      <td>1778.000000</td>\n",
       "      <td>1778.000000</td>\n",
       "      <td>1778.000000</td>\n",
       "      <td>1778.000000</td>\n",
       "      <td>1778.000000</td>\n",
       "      <td>1778.000000</td>\n",
       "      <td>1778.0</td>\n",
       "      <td>1778.000000</td>\n",
       "      <td>1778.000000</td>\n",
       "    </tr>\n",
       "    <tr>\n",
       "      <th>mean</th>\n",
       "      <td>4.113660e+06</td>\n",
       "      <td>1003.028121</td>\n",
       "      <td>1125.043870</td>\n",
       "      <td>8818.556243</td>\n",
       "      <td>8190.257593</td>\n",
       "      <td>8667.542182</td>\n",
       "      <td>2.998875</td>\n",
       "      <td>60.769404</td>\n",
       "      <td>1.504266e+09</td>\n",
       "      <td>6.167680e+08</td>\n",
       "      <td>...</td>\n",
       "      <td>1.179415</td>\n",
       "      <td>0.087739</td>\n",
       "      <td>0.193476</td>\n",
       "      <td>0.190101</td>\n",
       "      <td>20.566367</td>\n",
       "      <td>0.619798</td>\n",
       "      <td>0.732846</td>\n",
       "      <td>6.0</td>\n",
       "      <td>14.079865</td>\n",
       "      <td>4336.974691</td>\n",
       "    </tr>\n",
       "    <tr>\n",
       "      <th>std</th>\n",
       "      <td>2.511595e+03</td>\n",
       "      <td>546.762777</td>\n",
       "      <td>457.282146</td>\n",
       "      <td>341.090034</td>\n",
       "      <td>3004.076239</td>\n",
       "      <td>417.542890</td>\n",
       "      <td>1.538110</td>\n",
       "      <td>52.970137</td>\n",
       "      <td>1.473875e+04</td>\n",
       "      <td>7.400617e+08</td>\n",
       "      <td>...</td>\n",
       "      <td>0.942275</td>\n",
       "      <td>0.330679</td>\n",
       "      <td>0.762605</td>\n",
       "      <td>0.748567</td>\n",
       "      <td>18.343448</td>\n",
       "      <td>0.533083</td>\n",
       "      <td>1.210557</td>\n",
       "      <td>0.0</td>\n",
       "      <td>4.104067</td>\n",
       "      <td>9009.990354</td>\n",
       "    </tr>\n",
       "    <tr>\n",
       "      <th>min</th>\n",
       "      <td>4.109383e+06</td>\n",
       "      <td>1.000000</td>\n",
       "      <td>1.000000</td>\n",
       "      <td>8676.000000</td>\n",
       "      <td>0.000000</td>\n",
       "      <td>6026.000000</td>\n",
       "      <td>1.000000</td>\n",
       "      <td>1.000000</td>\n",
       "      <td>1.504213e+09</td>\n",
       "      <td>0.000000e+00</td>\n",
       "      <td>...</td>\n",
       "      <td>0.000000</td>\n",
       "      <td>0.000000</td>\n",
       "      <td>0.000000</td>\n",
       "      <td>0.000000</td>\n",
       "      <td>0.000000</td>\n",
       "      <td>0.000000</td>\n",
       "      <td>0.000000</td>\n",
       "      <td>6.0</td>\n",
       "      <td>0.000000</td>\n",
       "      <td>0.000000</td>\n",
       "    </tr>\n",
       "    <tr>\n",
       "      <th>25%</th>\n",
       "      <td>4.111434e+06</td>\n",
       "      <td>160.000000</td>\n",
       "      <td>1372.000000</td>\n",
       "      <td>8678.000000</td>\n",
       "      <td>9204.000000</td>\n",
       "      <td>8750.000000</td>\n",
       "      <td>2.000000</td>\n",
       "      <td>21.000000</td>\n",
       "      <td>1.504255e+09</td>\n",
       "      <td>0.000000e+00</td>\n",
       "      <td>...</td>\n",
       "      <td>1.000000</td>\n",
       "      <td>0.000000</td>\n",
       "      <td>0.000000</td>\n",
       "      <td>0.000000</td>\n",
       "      <td>0.000000</td>\n",
       "      <td>0.000000</td>\n",
       "      <td>0.000000</td>\n",
       "      <td>6.0</td>\n",
       "      <td>11.000000</td>\n",
       "      <td>0.000000</td>\n",
       "    </tr>\n",
       "    <tr>\n",
       "      <th>50%</th>\n",
       "      <td>4.113404e+06</td>\n",
       "      <td>1323.000000</td>\n",
       "      <td>1372.000000</td>\n",
       "      <td>8678.000000</td>\n",
       "      <td>9204.000000</td>\n",
       "      <td>8750.000000</td>\n",
       "      <td>3.000000</td>\n",
       "      <td>41.000000</td>\n",
       "      <td>1.504265e+09</td>\n",
       "      <td>0.000000e+00</td>\n",
       "      <td>...</td>\n",
       "      <td>1.000000</td>\n",
       "      <td>0.000000</td>\n",
       "      <td>0.000000</td>\n",
       "      <td>0.000000</td>\n",
       "      <td>25.000000</td>\n",
       "      <td>1.000000</td>\n",
       "      <td>0.000000</td>\n",
       "      <td>6.0</td>\n",
       "      <td>14.000000</td>\n",
       "      <td>0.000000</td>\n",
       "    </tr>\n",
       "    <tr>\n",
       "      <th>75%</th>\n",
       "      <td>4.115795e+06</td>\n",
       "      <td>1323.000000</td>\n",
       "      <td>1372.000000</td>\n",
       "      <td>8680.000000</td>\n",
       "      <td>9204.000000</td>\n",
       "      <td>8750.000000</td>\n",
       "      <td>3.000000</td>\n",
       "      <td>81.000000</td>\n",
       "      <td>1.504277e+09</td>\n",
       "      <td>1.504267e+09</td>\n",
       "      <td>...</td>\n",
       "      <td>1.000000</td>\n",
       "      <td>0.000000</td>\n",
       "      <td>0.000000</td>\n",
       "      <td>0.000000</td>\n",
       "      <td>37.000000</td>\n",
       "      <td>1.000000</td>\n",
       "      <td>1.000000</td>\n",
       "      <td>6.0</td>\n",
       "      <td>17.000000</td>\n",
       "      <td>3129.750000</td>\n",
       "    </tr>\n",
       "    <tr>\n",
       "      <th>max</th>\n",
       "      <td>4.118179e+06</td>\n",
       "      <td>1323.000000</td>\n",
       "      <td>1372.000000</td>\n",
       "      <td>9650.000000</td>\n",
       "      <td>10769.000000</td>\n",
       "      <td>10867.000000</td>\n",
       "      <td>17.000000</td>\n",
       "      <td>164.000000</td>\n",
       "      <td>1.504295e+09</td>\n",
       "      <td>1.504295e+09</td>\n",
       "      <td>...</td>\n",
       "      <td>16.000000</td>\n",
       "      <td>2.000000</td>\n",
       "      <td>4.000000</td>\n",
       "      <td>4.000000</td>\n",
       "      <td>64.000000</td>\n",
       "      <td>4.000000</td>\n",
       "      <td>18.000000</td>\n",
       "      <td>6.0</td>\n",
       "      <td>22.000000</td>\n",
       "      <td>72811.000000</td>\n",
       "    </tr>\n",
       "  </tbody>\n",
       "</table>\n",
       "<p>8 rows × 25 columns</p>\n",
       "</div>"
      ],
      "text/plain": [
       "                 EI           MK      SEGMENT      Service   Channeltype  \\\n",
       "count  1.778000e+03  1778.000000  1778.000000  1778.000000   1778.000000   \n",
       "mean   4.113660e+06  1003.028121  1125.043870  8818.556243   8190.257593   \n",
       "std    2.511595e+03   546.762777   457.282146   341.090034   3004.076239   \n",
       "min    4.109383e+06     1.000000     1.000000  8676.000000      0.000000   \n",
       "25%    4.111434e+06   160.000000  1372.000000  8678.000000   9204.000000   \n",
       "50%    4.113404e+06  1323.000000  1372.000000  8678.000000   9204.000000   \n",
       "75%    4.115795e+06  1323.000000  1372.000000  8680.000000   9204.000000   \n",
       "max    4.118179e+06  1323.000000  1372.000000  9650.000000  10769.000000   \n",
       "\n",
       "             Source     football  DECLARED_FAULT   CREATE_DATE     CLOSETIME  \\\n",
       "count   1778.000000  1778.000000     1778.000000  1.778000e+03  1.778000e+03   \n",
       "mean    8667.542182     2.998875       60.769404  1.504266e+09  6.167680e+08   \n",
       "std      417.542890     1.538110       52.970137  1.473875e+04  7.400617e+08   \n",
       "min     6026.000000     1.000000        1.000000  1.504213e+09  0.000000e+00   \n",
       "25%     8750.000000     2.000000       21.000000  1.504255e+09  0.000000e+00   \n",
       "50%     8750.000000     3.000000       41.000000  1.504265e+09  0.000000e+00   \n",
       "75%     8750.000000     3.000000       81.000000  1.504277e+09  1.504267e+09   \n",
       "max    10867.000000    17.000000      164.000000  1.504295e+09  1.504295e+09   \n",
       "\n",
       "           ...        num_of_repeat60       MITYPE   MIPRIORITY     MIIMPACT  \\\n",
       "count      ...            1778.000000  1778.000000  1778.000000  1778.000000   \n",
       "mean       ...               1.179415     0.087739     0.193476     0.190101   \n",
       "std        ...               0.942275     0.330679     0.762605     0.748567   \n",
       "min        ...               0.000000     0.000000     0.000000     0.000000   \n",
       "25%        ...               1.000000     0.000000     0.000000     0.000000   \n",
       "50%        ...               1.000000     0.000000     0.000000     0.000000   \n",
       "75%        ...               1.000000     0.000000     0.000000     0.000000   \n",
       "max        ...              16.000000     2.000000     4.000000     4.000000   \n",
       "\n",
       "       TECHNICAL_DISTRICT  NumWFMforEI  Last_WFM_days_waiting  EIDayOfWeek  \\\n",
       "count         1778.000000  1778.000000            1778.000000       1778.0   \n",
       "mean            20.566367     0.619798               0.732846          6.0   \n",
       "std             18.343448     0.533083               1.210557          0.0   \n",
       "min              0.000000     0.000000               0.000000          6.0   \n",
       "25%              0.000000     0.000000               0.000000          6.0   \n",
       "50%             25.000000     1.000000               0.000000          6.0   \n",
       "75%             37.000000     1.000000               1.000000          6.0   \n",
       "max             64.000000     4.000000              18.000000          6.0   \n",
       "\n",
       "       EIHourCreate  decision_time  \n",
       "count   1778.000000    1778.000000  \n",
       "mean      14.079865    4336.974691  \n",
       "std        4.104067    9009.990354  \n",
       "min        0.000000       0.000000  \n",
       "25%       11.000000       0.000000  \n",
       "50%       14.000000       0.000000  \n",
       "75%       17.000000    3129.750000  \n",
       "max       22.000000   72811.000000  \n",
       "\n",
       "[8 rows x 25 columns]"
      ]
     },
     "execution_count": 31,
     "metadata": {},
     "output_type": "execute_result"
    }
   ],
   "source": [
    "# result\n",
    "data_y.describe()"
   ]
  },
  {
   "cell_type": "code",
   "execution_count": 32,
   "metadata": {
    "collapsed": true
   },
   "outputs": [],
   "source": [
    "# try:\n",
    "#     data_describe = data.describe(include=[object])\n",
    "#     data_describe\n",
    "# except:\n",
    "#     pass"
   ]
  },
  {
   "cell_type": "code",
   "execution_count": 33,
   "metadata": {
    "collapsed": true
   },
   "outputs": [],
   "source": [
    "# for c in categorical_columns:\n",
    "#     data[c] = data[c].fillna(data_describe[c]['top'])\n",
    "# data.describe(include=[object])"
   ]
  },
  {
   "cell_type": "code",
   "execution_count": 34,
   "metadata": {
    "collapsed": true
   },
   "outputs": [],
   "source": [
    "# data['DECLARED_FAULT'].unique()"
   ]
  },
  {
   "cell_type": "code",
   "execution_count": 35,
   "metadata": {
    "collapsed": true
   },
   "outputs": [],
   "source": [
    "# # devide categorical (non-numerical) columns to binary and nonbinary\n",
    "# binary_columns    = [c for c in categorical_columns if data_describe[c]['unique'] == 2]\n",
    "# nonbinary_columns = [c for c in categorical_columns if data_describe[c]['unique'] > 2]\n",
    "# print(binary_columns, nonbinary_columns)\n"
   ]
  },
  {
   "cell_type": "code",
   "execution_count": 36,
   "metadata": {
    "collapsed": true
   },
   "outputs": [],
   "source": [
    "# # for non-binary columns|features vectorizing is 1) divide each column to the numbers of unique values in the column\n",
    "# # 2) and if value exist then only one column's row filled like 1\n",
    "# # for example, column A4 have 3 unique values: print(data['A4'].unique()) => ['u' 'y' 'l']\n",
    "# # create 3 new columns: 4_u, A4_y, A4_l\n",
    "# # If A4 value is 'u', then A4_u = 1, A4_y = 0, A4_l = 0, etc.\n",
    "# # In Pandas it's performed via using .get_dummies method.\n",
    "\n",
    "# data_nonbinary = pd.get_dummies(data[nonbinary_columns[6:8]], columns=None) # !!!!!! Limitation 6:10!!!!!!!!!1\n",
    "# data_nonbinary.columns"
   ]
  },
  {
   "cell_type": "code",
   "execution_count": 37,
   "metadata": {
    "collapsed": true
   },
   "outputs": [],
   "source": [
    "# data = data_nonbinary\n",
    "# data = pd.DataFrame(data, dtype=float)\n",
    "# print(data.shape)\n",
    "# print(data.columns)"
   ]
  },
  {
   "cell_type": "code",
   "execution_count": 38,
   "metadata": {},
   "outputs": [
    {
     "data": {
      "text/html": [
       "<div>\n",
       "<style>\n",
       "    .dataframe thead tr:only-child th {\n",
       "        text-align: right;\n",
       "    }\n",
       "\n",
       "    .dataframe thead th {\n",
       "        text-align: left;\n",
       "    }\n",
       "\n",
       "    .dataframe tbody tr th {\n",
       "        vertical-align: top;\n",
       "    }\n",
       "</style>\n",
       "<table border=\"1\" class=\"dataframe\">\n",
       "  <thead>\n",
       "    <tr style=\"text-align: right;\">\n",
       "      <th></th>\n",
       "      <th>EI</th>\n",
       "      <th>Service</th>\n",
       "      <th>Channeltype</th>\n",
       "      <th>Source</th>\n",
       "      <th>football</th>\n",
       "      <th>CREATE_DATE</th>\n",
       "      <th>CLOSETIME</th>\n",
       "      <th>all_num_of_repeat</th>\n",
       "      <th>num_of_repeat2</th>\n",
       "      <th>num_of_repeat5</th>\n",
       "      <th>...</th>\n",
       "      <th>num_of_repeat30</th>\n",
       "      <th>num_of_repeat60</th>\n",
       "      <th>MITYPE</th>\n",
       "      <th>MIPRIORITY</th>\n",
       "      <th>MIIMPACT</th>\n",
       "      <th>TECHNICAL_DISTRICT</th>\n",
       "      <th>NumWFMforEI</th>\n",
       "      <th>Last_WFM_days_waiting</th>\n",
       "      <th>EIDayOfWeek</th>\n",
       "      <th>EIHourCreate</th>\n",
       "    </tr>\n",
       "  </thead>\n",
       "  <tbody>\n",
       "    <tr>\n",
       "      <th>count</th>\n",
       "      <td>1.778000e+03</td>\n",
       "      <td>1.778000e+03</td>\n",
       "      <td>1.778000e+03</td>\n",
       "      <td>1.778000e+03</td>\n",
       "      <td>1.778000e+03</td>\n",
       "      <td>1.778000e+03</td>\n",
       "      <td>1.778000e+03</td>\n",
       "      <td>1.778000e+03</td>\n",
       "      <td>1.778000e+03</td>\n",
       "      <td>1.778000e+03</td>\n",
       "      <td>...</td>\n",
       "      <td>1.778000e+03</td>\n",
       "      <td>1.778000e+03</td>\n",
       "      <td>1.778000e+03</td>\n",
       "      <td>1.778000e+03</td>\n",
       "      <td>1.778000e+03</td>\n",
       "      <td>1.778000e+03</td>\n",
       "      <td>1.778000e+03</td>\n",
       "      <td>1.778000e+03</td>\n",
       "      <td>0.0</td>\n",
       "      <td>1.778000e+03</td>\n",
       "    </tr>\n",
       "    <tr>\n",
       "      <th>mean</th>\n",
       "      <td>6.170230e-14</td>\n",
       "      <td>-7.340085e-17</td>\n",
       "      <td>-1.267609e-15</td>\n",
       "      <td>-4.238891e-16</td>\n",
       "      <td>-4.412481e-15</td>\n",
       "      <td>-2.202326e-12</td>\n",
       "      <td>-2.625197e-15</td>\n",
       "      <td>-1.040571e-16</td>\n",
       "      <td>2.134931e-15</td>\n",
       "      <td>-7.908466e-16</td>\n",
       "      <td>...</td>\n",
       "      <td>7.361940e-16</td>\n",
       "      <td>3.547968e-16</td>\n",
       "      <td>-1.034356e-15</td>\n",
       "      <td>-6.270450e-16</td>\n",
       "      <td>6.609199e-16</td>\n",
       "      <td>1.418688e-16</td>\n",
       "      <td>4.995379e-18</td>\n",
       "      <td>9.306391e-16</td>\n",
       "      <td>NaN</td>\n",
       "      <td>-1.002822e-14</td>\n",
       "    </tr>\n",
       "    <tr>\n",
       "      <th>std</th>\n",
       "      <td>1.000000e+00</td>\n",
       "      <td>1.000000e+00</td>\n",
       "      <td>1.000000e+00</td>\n",
       "      <td>1.000000e+00</td>\n",
       "      <td>1.000000e+00</td>\n",
       "      <td>1.000000e+00</td>\n",
       "      <td>1.000000e+00</td>\n",
       "      <td>1.000000e+00</td>\n",
       "      <td>1.000000e+00</td>\n",
       "      <td>1.000000e+00</td>\n",
       "      <td>...</td>\n",
       "      <td>1.000000e+00</td>\n",
       "      <td>1.000000e+00</td>\n",
       "      <td>1.000000e+00</td>\n",
       "      <td>1.000000e+00</td>\n",
       "      <td>1.000000e+00</td>\n",
       "      <td>1.000000e+00</td>\n",
       "      <td>1.000000e+00</td>\n",
       "      <td>1.000000e+00</td>\n",
       "      <td>NaN</td>\n",
       "      <td>1.000000e+00</td>\n",
       "    </tr>\n",
       "    <tr>\n",
       "      <th>min</th>\n",
       "      <td>-1.702741e+00</td>\n",
       "      <td>-4.179431e-01</td>\n",
       "      <td>-2.726381e+00</td>\n",
       "      <td>-6.326397e+00</td>\n",
       "      <td>-1.299565e+00</td>\n",
       "      <td>-3.544564e+00</td>\n",
       "      <td>-8.334007e-01</td>\n",
       "      <td>-5.490967e-01</td>\n",
       "      <td>-2.146552e+00</td>\n",
       "      <td>-1.928037e+00</td>\n",
       "      <td>...</td>\n",
       "      <td>-1.497260e+00</td>\n",
       "      <td>-1.251668e+00</td>\n",
       "      <td>-2.653298e-01</td>\n",
       "      <td>-2.537037e-01</td>\n",
       "      <td>-2.539536e-01</td>\n",
       "      <td>-1.121183e+00</td>\n",
       "      <td>-1.162666e+00</td>\n",
       "      <td>-6.053791e-01</td>\n",
       "      <td>NaN</td>\n",
       "      <td>-3.430710e+00</td>\n",
       "    </tr>\n",
       "    <tr>\n",
       "      <th>25%</th>\n",
       "      <td>-8.860287e-01</td>\n",
       "      <td>-4.120796e-01</td>\n",
       "      <td>3.374556e-01</td>\n",
       "      <td>1.974835e-01</td>\n",
       "      <td>-6.494170e-01</td>\n",
       "      <td>-7.489905e-01</td>\n",
       "      <td>-8.334007e-01</td>\n",
       "      <td>-2.700759e-01</td>\n",
       "      <td>1.525862e-01</td>\n",
       "      <td>5.808686e-02</td>\n",
       "      <td>...</td>\n",
       "      <td>-1.229036e-01</td>\n",
       "      <td>-1.904063e-01</td>\n",
       "      <td>-2.653298e-01</td>\n",
       "      <td>-2.537037e-01</td>\n",
       "      <td>-2.539536e-01</td>\n",
       "      <td>-1.121183e+00</td>\n",
       "      <td>-1.162666e+00</td>\n",
       "      <td>-6.053791e-01</td>\n",
       "      <td>NaN</td>\n",
       "      <td>-7.504422e-01</td>\n",
       "    </tr>\n",
       "    <tr>\n",
       "      <th>50%</th>\n",
       "      <td>-1.015670e-01</td>\n",
       "      <td>-4.120796e-01</td>\n",
       "      <td>3.374556e-01</td>\n",
       "      <td>1.974835e-01</td>\n",
       "      <td>7.313255e-04</td>\n",
       "      <td>-3.361425e-02</td>\n",
       "      <td>-8.334007e-01</td>\n",
       "      <td>-2.700759e-01</td>\n",
       "      <td>1.525862e-01</td>\n",
       "      <td>5.808686e-02</td>\n",
       "      <td>...</td>\n",
       "      <td>-1.229036e-01</td>\n",
       "      <td>-1.904063e-01</td>\n",
       "      <td>-2.653298e-01</td>\n",
       "      <td>-2.537037e-01</td>\n",
       "      <td>-2.539536e-01</td>\n",
       "      <td>2.417012e-01</td>\n",
       "      <td>7.132146e-01</td>\n",
       "      <td>-6.053791e-01</td>\n",
       "      <td>NaN</td>\n",
       "      <td>-1.945997e-02</td>\n",
       "    </tr>\n",
       "    <tr>\n",
       "      <th>75%</th>\n",
       "      <td>8.501192e-01</td>\n",
       "      <td>-4.062160e-01</td>\n",
       "      <td>3.374556e-01</td>\n",
       "      <td>1.974835e-01</td>\n",
       "      <td>7.313255e-04</td>\n",
       "      <td>7.436906e-01</td>\n",
       "      <td>1.199223e+00</td>\n",
       "      <td>8.944988e-03</td>\n",
       "      <td>1.525862e-01</td>\n",
       "      <td>5.808686e-02</td>\n",
       "      <td>...</td>\n",
       "      <td>-1.229036e-01</td>\n",
       "      <td>-1.904063e-01</td>\n",
       "      <td>-2.653298e-01</td>\n",
       "      <td>-2.537037e-01</td>\n",
       "      <td>-2.539536e-01</td>\n",
       "      <td>8.958857e-01</td>\n",
       "      <td>7.132146e-01</td>\n",
       "      <td>2.206869e-01</td>\n",
       "      <td>NaN</td>\n",
       "      <td>7.115223e-01</td>\n",
       "    </tr>\n",
       "    <tr>\n",
       "      <th>max</th>\n",
       "      <td>1.799416e+00</td>\n",
       "      <td>2.437608e+00</td>\n",
       "      <td>8.584144e-01</td>\n",
       "      <td>5.267621e+00</td>\n",
       "      <td>9.102808e+00</td>\n",
       "      <td>1.973951e+00</td>\n",
       "      <td>1.199261e+00</td>\n",
       "      <td>2.735299e+01</td>\n",
       "      <td>7.050001e+00</td>\n",
       "      <td>6.016459e+00</td>\n",
       "      <td>...</td>\n",
       "      <td>1.087195e+01</td>\n",
       "      <td>1.572851e+01</td>\n",
       "      <td>5.782828e+00</td>\n",
       "      <td>4.991473e+00</td>\n",
       "      <td>5.089591e+00</td>\n",
       "      <td>2.367801e+00</td>\n",
       "      <td>6.340858e+00</td>\n",
       "      <td>1.426381e+01</td>\n",
       "      <td>NaN</td>\n",
       "      <td>1.929826e+00</td>\n",
       "    </tr>\n",
       "  </tbody>\n",
       "</table>\n",
       "<p>8 rows × 21 columns</p>\n",
       "</div>"
      ],
      "text/plain": [
       "                 EI       Service   Channeltype        Source      football  \\\n",
       "count  1.778000e+03  1.778000e+03  1.778000e+03  1.778000e+03  1.778000e+03   \n",
       "mean   6.170230e-14 -7.340085e-17 -1.267609e-15 -4.238891e-16 -4.412481e-15   \n",
       "std    1.000000e+00  1.000000e+00  1.000000e+00  1.000000e+00  1.000000e+00   \n",
       "min   -1.702741e+00 -4.179431e-01 -2.726381e+00 -6.326397e+00 -1.299565e+00   \n",
       "25%   -8.860287e-01 -4.120796e-01  3.374556e-01  1.974835e-01 -6.494170e-01   \n",
       "50%   -1.015670e-01 -4.120796e-01  3.374556e-01  1.974835e-01  7.313255e-04   \n",
       "75%    8.501192e-01 -4.062160e-01  3.374556e-01  1.974835e-01  7.313255e-04   \n",
       "max    1.799416e+00  2.437608e+00  8.584144e-01  5.267621e+00  9.102808e+00   \n",
       "\n",
       "        CREATE_DATE     CLOSETIME  all_num_of_repeat  num_of_repeat2  \\\n",
       "count  1.778000e+03  1.778000e+03       1.778000e+03    1.778000e+03   \n",
       "mean  -2.202326e-12 -2.625197e-15      -1.040571e-16    2.134931e-15   \n",
       "std    1.000000e+00  1.000000e+00       1.000000e+00    1.000000e+00   \n",
       "min   -3.544564e+00 -8.334007e-01      -5.490967e-01   -2.146552e+00   \n",
       "25%   -7.489905e-01 -8.334007e-01      -2.700759e-01    1.525862e-01   \n",
       "50%   -3.361425e-02 -8.334007e-01      -2.700759e-01    1.525862e-01   \n",
       "75%    7.436906e-01  1.199223e+00       8.944988e-03    1.525862e-01   \n",
       "max    1.973951e+00  1.199261e+00       2.735299e+01    7.050001e+00   \n",
       "\n",
       "       num_of_repeat5      ...       num_of_repeat30  num_of_repeat60  \\\n",
       "count    1.778000e+03      ...          1.778000e+03     1.778000e+03   \n",
       "mean    -7.908466e-16      ...          7.361940e-16     3.547968e-16   \n",
       "std      1.000000e+00      ...          1.000000e+00     1.000000e+00   \n",
       "min     -1.928037e+00      ...         -1.497260e+00    -1.251668e+00   \n",
       "25%      5.808686e-02      ...         -1.229036e-01    -1.904063e-01   \n",
       "50%      5.808686e-02      ...         -1.229036e-01    -1.904063e-01   \n",
       "75%      5.808686e-02      ...         -1.229036e-01    -1.904063e-01   \n",
       "max      6.016459e+00      ...          1.087195e+01     1.572851e+01   \n",
       "\n",
       "             MITYPE    MIPRIORITY      MIIMPACT  TECHNICAL_DISTRICT  \\\n",
       "count  1.778000e+03  1.778000e+03  1.778000e+03        1.778000e+03   \n",
       "mean  -1.034356e-15 -6.270450e-16  6.609199e-16        1.418688e-16   \n",
       "std    1.000000e+00  1.000000e+00  1.000000e+00        1.000000e+00   \n",
       "min   -2.653298e-01 -2.537037e-01 -2.539536e-01       -1.121183e+00   \n",
       "25%   -2.653298e-01 -2.537037e-01 -2.539536e-01       -1.121183e+00   \n",
       "50%   -2.653298e-01 -2.537037e-01 -2.539536e-01        2.417012e-01   \n",
       "75%   -2.653298e-01 -2.537037e-01 -2.539536e-01        8.958857e-01   \n",
       "max    5.782828e+00  4.991473e+00  5.089591e+00        2.367801e+00   \n",
       "\n",
       "        NumWFMforEI  Last_WFM_days_waiting  EIDayOfWeek  EIHourCreate  \n",
       "count  1.778000e+03           1.778000e+03          0.0  1.778000e+03  \n",
       "mean   4.995379e-18           9.306391e-16          NaN -1.002822e-14  \n",
       "std    1.000000e+00           1.000000e+00          NaN  1.000000e+00  \n",
       "min   -1.162666e+00          -6.053791e-01          NaN -3.430710e+00  \n",
       "25%   -1.162666e+00          -6.053791e-01          NaN -7.504422e-01  \n",
       "50%    7.132146e-01          -6.053791e-01          NaN -1.945997e-02  \n",
       "75%    7.132146e-01           2.206869e-01          NaN  7.115223e-01  \n",
       "max    6.340858e+00           1.426381e+01          NaN  1.929826e+00  \n",
       "\n",
       "[8 rows x 21 columns]"
      ]
     },
     "execution_count": 38,
     "metadata": {},
     "output_type": "execute_result"
    }
   ],
   "source": [
    "## Normalization\n",
    "data_numerical_x = data[numerical_columns_x]\n",
    "data_numerical_x = (data_numerical_x - data_numerical_x.mean()) / data_numerical_x.std()\n",
    "\n",
    "data_numerical_y = data_y[numerical_columns_y]\n",
    "data_numerical_y = (data_numerical_y - data_numerical_y.mean()) / data_numerical_y.std()\n",
    "\n",
    "# data_numerical_x.describe()\n",
    "data_numerical_y.describe()"
   ]
  },
  {
   "cell_type": "code",
   "execution_count": 39,
   "metadata": {
    "collapsed": true
   },
   "outputs": [],
   "source": [
    "# data_numerical_x.head()"
   ]
  },
  {
   "cell_type": "code",
   "execution_count": 40,
   "metadata": {},
   "outputs": [
    {
     "name": "stdout",
     "output_type": "stream",
     "text": [
      "Index(['MK', 'SEGMENT', 'Service', 'Channeltype', 'Source', 'football',\n",
      "       'DECLARED_FAULT', 'CREATE_DATE', 'CLOSETIME', 'num_of_repeat2',\n",
      "       'num_of_repeat5', 'num_of_repeat10', 'num_of_repeat30',\n",
      "       'num_of_repeat60', 'MITYPE', 'MIPRIORITY', 'MIIMPACT',\n",
      "       'TECHNICAL_DISTRICT', 'NumWFMforEI', 'Last_WFM_days_waiting',\n",
      "       'EIDayOfWeek', 'EIHourCreate', 'decision_time'],\n",
      "      dtype='object')\n"
     ]
    }
   ],
   "source": [
    "## For data\n",
    "# X = data.drop(['all_num_of_repeat','CLOSETIME', 'CREATE_DATE'], axis=1)  \n",
    "X = data.drop(['all_num_of_repeat', 'EI'], axis=1)  \n",
    "y = data['all_num_of_repeat']\n",
    "feature_names = X.columns\n",
    "print(feature_names)\n",
    "fsel_names={'decision_time':'Время решения'}\n",
    "for i in feature_names:\n",
    "    if i!= 'decision_time':\n",
    "        fsel_names[i]=f_names[i]\n",
    "# fsel_names"
   ]
  },
  {
   "cell_type": "code",
   "execution_count": 41,
   "metadata": {},
   "outputs": [
    {
     "name": "stdout",
     "output_type": "stream",
     "text": [
      "Index(['MK', 'SEGMENT', 'Service', 'Channeltype', 'Source', 'football',\n",
      "       'DECLARED_FAULT', 'CREATE_DATE', 'CLOSETIME', 'num_of_repeat2',\n",
      "       'num_of_repeat5', 'num_of_repeat10', 'num_of_repeat30',\n",
      "       'num_of_repeat60', 'MITYPE', 'MIPRIORITY', 'MIIMPACT',\n",
      "       'TECHNICAL_DISTRICT', 'NumWFMforEI', 'Last_WFM_days_waiting',\n",
      "       'EIDayOfWeek', 'EIHourCreate', 'decision_time'],\n",
      "      dtype='object')\n"
     ]
    }
   ],
   "source": [
    "## For data_y\n",
    "# X_y = data_y.drop(['all_num_of_repeat','CLOSETIME', 'CREATE_DATE'], axis=1)  \n",
    "X_y = data_y.drop(['all_num_of_repeat', 'EI'], axis=1)  \n",
    "y_y = data_y['all_num_of_repeat']\n",
    "feature_names_y = X_y.columns\n",
    "print(feature_names_y)\n",
    "fsel_names_y={'decision_time':'Время решения'}\n",
    "for i in feature_names_y:\n",
    "    if i!= 'decision_time':\n",
    "        fsel_names_y[i]=f_names[i]\n",
    "# fsel_names"
   ]
  },
  {
   "cell_type": "code",
   "execution_count": 42,
   "metadata": {},
   "outputs": [
    {
     "name": "stdout",
     "output_type": "stream",
     "text": [
      "(278284, 23)\n",
      "(278284,)\n",
      "(1778, 23)\n",
      "(1778,)\n"
     ]
    }
   ],
   "source": [
    "print(X.shape)\n",
    "print(y.shape)\n",
    "N, d = X.shape\n",
    "print(X_y.shape)\n",
    "print(y_y.shape)\n",
    "N_y, d_y = X_y.shape"
   ]
  },
  {
   "cell_type": "code",
   "execution_count": 43,
   "metadata": {},
   "outputs": [
    {
     "name": "stdout",
     "output_type": "stream",
     "text": [
      "278284 1778\n",
      "Wall time: 642 ms\n"
     ]
    }
   ],
   "source": [
    "%%time\n",
    "## Devide for train and test samples for OLD data\n",
    "from sklearn.model_selection import train_test_split\n",
    "X_train, X_test_x, y_train, y_test_x = train_test_split(X, y, test_size = 0.0, random_state = 11) # obviously test_size=\n",
    "\n",
    "\n",
    "## Devide for train and test samples for FRESH data\n",
    "from sklearn.model_selection import train_test_split\n",
    "X_train_y, X_test, y_train_y, y_test = train_test_split(X_y, y_y, test_size = 0.9999999999999999, random_state = 11) # obviously test_size=\n",
    "\n",
    "\n",
    "N_train_y, _ = X_train.shape \n",
    "N_test_y,  _ = X_test.shape \n",
    "N_train, _ = X_train.shape \n",
    "N_test,  _ = X_test.shape \n",
    "print(N_train, N_test)\n",
    "# print(N_train_y, N_test_y)\n",
    "# X_train, y_train is a training sample, X_test, y_test is a test sample."
   ]
  },
  {
   "cell_type": "code",
   "execution_count": 44,
   "metadata": {},
   "outputs": [
    {
     "name": "stdout",
     "output_type": "stream",
     "text": [
      "Wall time: 3.12 s\n"
     ]
    }
   ],
   "source": [
    "%%time\n",
    "# Teach the model\n",
    "from sklearn.neighbors import KNeighborsClassifier\n",
    "\n",
    "knn = KNeighborsClassifier()\n",
    "knn.fit(X_train, y_train)"
   ]
  },
  {
   "cell_type": "code",
   "execution_count": 45,
   "metadata": {},
   "outputs": [
    {
     "name": "stdout",
     "output_type": "stream",
     "text": [
      "0.404504031852 0.919010123735\n",
      "Wall time: 22.9 s\n"
     ]
    }
   ],
   "source": [
    "%%time\n",
    "y_train_predict = knn.predict(X_train)\n",
    "y_test_predict = knn.predict(X_test)\n",
    "\n",
    "err_train = np.mean(y_train != y_train_predict)\n",
    "err_test  = np.mean(y_test  != y_test_predict)\n",
    "print(err_train, err_test)"
   ]
  },
  {
   "cell_type": "code",
   "execution_count": 46,
   "metadata": {
    "collapsed": true
   },
   "outputs": [],
   "source": [
    "# %%time\n",
    "# from sklearn.model_selection import GridSearchCV\n",
    "# n_neighbors_array = [1, 3, 5, 7, 10, 15, 20, 40, 60, 235]\n",
    "# knn = KNeighborsClassifier()\n",
    "# grid = GridSearchCV(knn, param_grid={'n_neighbors': n_neighbors_array})\n",
    "# grid.fit(X_train, y_train)\n",
    "\n",
    "# best_cv_err = 1 - grid.best_score_\n",
    "# best_n_neighbors = grid.best_estimator_.n_neighbors\n",
    "# print(best_cv_err, best_n_neighbors)"
   ]
  },
  {
   "cell_type": "code",
   "execution_count": 47,
   "metadata": {
    "collapsed": true
   },
   "outputs": [],
   "source": [
    "# %%time\n",
    "# knn = KNeighborsClassifier(n_neighbors=best_n_neighbors)\n",
    "# knn.fit(X_train, y_train)\n",
    "\n",
    "# err_train = np.mean(y_train != knn.predict(X_train))\n",
    "# err_test  = np.mean(y_test  != knn.predict(X_test))\n",
    "# print(err_train, err_test)"
   ]
  },
  {
   "cell_type": "code",
   "execution_count": 48,
   "metadata": {
    "collapsed": true
   },
   "outputs": [],
   "source": [
    "# %%time\n",
    "# from sklearn.svm import SVC\n",
    "# svc = SVC()\n",
    "# svc.fit(X_train, y_train)\n",
    "\n",
    "# err_train = np.mean(y_train != svc.predict(X_train))\n",
    "# err_test  = np.mean(y_test  != svc.predict(X_test))\n",
    "# print(err_train, err_test)"
   ]
  },
  {
   "cell_type": "code",
   "execution_count": 49,
   "metadata": {
    "collapsed": true
   },
   "outputs": [],
   "source": [
    "# %%time\n",
    "# from sklearn.model_selection import GridSearchCV\n",
    "# C_array = np.logspace(-3, 3, num=7)\n",
    "# gamma_array = np.logspace(-5, 2, num=8)\n",
    "# svc = SVC(kernel='rbf')\n",
    "# grid = GridSearchCV(svc, param_grid={'C': C_array, 'gamma': gamma_array, 'n'})\n",
    "# grid.fit(X_train, y_train)\n",
    "# print('CV error    = ', 1 - grid.best_score_)\n",
    "# print('best C      = ', grid.best_estimator_.C)\n",
    "# print('best gamma  = ', grid.best_estimator_.gamma)"
   ]
  },
  {
   "cell_type": "code",
   "execution_count": 50,
   "metadata": {
    "collapsed": true
   },
   "outputs": [],
   "source": [
    "# %%time\n",
    "# svc = SVC(kernel='rbf', C=grid.best_estimator_.C, gamma=grid.best_estimator_.gamma)\n",
    "# svc.fit(X_train, y_train)\n",
    "\n",
    "# err_train = np.mean(y_train != svc.predict(X_train))\n",
    "# # err_test  = np.mean(y_test  != svc.predict(X_test))\n",
    "# print(err_train, err_test)"
   ]
  },
  {
   "cell_type": "code",
   "execution_count": 51,
   "metadata": {
    "collapsed": true
   },
   "outputs": [],
   "source": [
    "# %%time\n",
    "# from sklearn.model_selection import GridSearchCV\n",
    "# C_array = np.logspace(-3, 3, num=7)\n",
    "# svc = SVC(kernel='linear')\n",
    "# grid = GridSearchCV(svc, param_grid={'C': C_array})\n",
    "# grid.fit(X_train, y_train)\n",
    "# print('CV error    = ', 1 - grid.best_score_)\n",
    "# print('best C      = ', grid.best_estimator_.C)"
   ]
  },
  {
   "cell_type": "code",
   "execution_count": 52,
   "metadata": {
    "collapsed": true
   },
   "outputs": [],
   "source": [
    "# %%time\n",
    "# svc = SVC(kernel='linear', C=grid.best_estimator_.C)\n",
    "# svc.fit(X_train, y_train)\n",
    "\n",
    "# err_train = np.mean(y_train != svc.predict(X_train))\n",
    "# err_test  = np.mean(y_test  != svc.predict(X_test))\n",
    "# print(err_train, err_test)"
   ]
  },
  {
   "cell_type": "code",
   "execution_count": 53,
   "metadata": {
    "collapsed": true
   },
   "outputs": [],
   "source": [
    "# %%time\n",
    "# from sklearn.grid_search import GridSearchCV\n",
    "# C_array = np.logspace(-5, 2, num=8)\n",
    "# gamma_array = np.logspace(-5, 2, num=8)\n",
    "# degree_array = [2, 3, 4]\n",
    "# svc = SVC(kernel='poly')\n",
    "# grid = GridSearchCV(svc, param_grid={'C': C_array, 'gamma': gamma_array, 'degree': degree_array})\n",
    "# grid.fit(X_train, y_train)\n",
    "# print('CV error    = ', 1 - grid.best_score_)\n",
    "# print('best C      = ', grid.best_estimator_.C)\n",
    "# print('best gamma  = ', grid.best_estimator_.gamma)\n",
    "# print('best degree = ', grid.best_estimator_.degree)"
   ]
  },
  {
   "cell_type": "code",
   "execution_count": 54,
   "metadata": {
    "collapsed": true
   },
   "outputs": [],
   "source": [
    "# %%time\n",
    "# svc = SVC(kernel='poly', C=grid.best_estimator_.C, \n",
    "#           gamma=grid.best_estimator_.gamma, degree=grid.best_estimator_.degree)\n",
    "# svc.fit(X_train, y_train)\n",
    "\n",
    "# err_train = np.mean(y_train != svc.predict(X_train))\n",
    "# err_test  = np.mean(y_test  != svc.predict(X_test))\n",
    "# print(err_train, err_test)"
   ]
  },
  {
   "cell_type": "code",
   "execution_count": null,
   "metadata": {},
   "outputs": [
    {
     "name": "stdout",
     "output_type": "stream",
     "text": [
      "0.087381955125 0.491001124859\n",
      "Wall time: 7.45 s\n"
     ]
    }
   ],
   "source": [
    "%%time\n",
    "from sklearn import ensemble\n",
    "rf = ensemble.RandomForestClassifier(n_estimators=4, random_state=11)\n",
    "rf.fit(X_train, y_train)\n",
    "\n",
    "err_train = np.mean(y_train != rf.predict(X_train))\n",
    "err_test  = np.mean(y_test  != rf.predict(X_test))\n",
    "print(err_train, err_test)"
   ]
  },
  {
   "cell_type": "code",
   "execution_count": null,
   "metadata": {},
   "outputs": [],
   "source": [
    "%%time\n",
    "rfr = ensemble.RandomForestRegressor(n_estimators=15, random_state=11)\n",
    "rfr.fit(X_train, y_train)\n",
    "\n",
    "err_train = np.mean(y_train != rfr.predict(X_train))\n",
    "err_test  = np.mean(y_test  != rfr.predict(X_test))\n",
    "print(err_train, err_test)"
   ]
  },
  {
   "cell_type": "code",
   "execution_count": null,
   "metadata": {},
   "outputs": [],
   "source": [
    "%%time\n",
    "importances = rf.feature_importances_\n",
    "indices = np.argsort(importances)[::-1]\n",
    "\n",
    "print(\"Feature importances:\")\n",
    "for f, idx in enumerate(indices):\n",
    "    print(\"{:2d}. feature '{:5s}' ({:.4f})\".format(f + 1, feature_names[idx], importances[idx]))"
   ]
  },
  {
   "cell_type": "code",
   "execution_count": null,
   "metadata": {
    "scrolled": true
   },
   "outputs": [],
   "source": [
    "feature_arr_names = [i for i in fsel_names.values()]\n",
    "np.array(feature_arr_names)[:d_first]\n",
    "# d_first"
   ]
  },
  {
   "cell_type": "code",
   "execution_count": null,
   "metadata": {
    "scrolled": true
   },
   "outputs": [],
   "source": [
    "# %%time\n",
    "data_period = url_to_data.split('.')[0].split('/')[1][4:]\n",
    "\n",
    "\n",
    "plt.subplots_adjust(left=0.15)\n",
    "d_first = 20\n",
    "plt.figure(figsize=(8, 8)).autofmt_xdate() \n",
    "plt.title(\"Вклад признаков в повторку (по данным за {0})\".format(data_period))\n",
    "plt.bar(range(d_first), importances[indices[:d_first]], align='center')\n",
    "plt.xticks(range(d_first), np.array(feature_arr_names)[indices[:d_first]], rotation=90)\n",
    "plt.xlim([-1, d_first])\n",
    "plt.savefig(\"FeaturesImportances{0}.pdf\".format(data_period))"
   ]
  },
  {
   "cell_type": "code",
   "execution_count": null,
   "metadata": {},
   "outputs": [],
   "source": [
    "%%time\n",
    "print(len(feature_names))\n",
    "best_features = indices[:8]\n",
    "best_features_names = feature_names[best_features]\n",
    "print(best_features_names)"
   ]
  },
  {
   "cell_type": "code",
   "execution_count": null,
   "metadata": {
    "collapsed": true
   },
   "outputs": [],
   "source": []
  },
  {
   "cell_type": "code",
   "execution_count": null,
   "metadata": {},
   "outputs": [],
   "source": [
    "# %%time\n",
    "# gbt = ensemble.GradientBoostingClassifier(n_estimators=2, random_state=11)\n",
    "# gbt.fit(X_train[best_features_names], y_train)\n",
    "\n",
    "# err_train = np.mean(y_train != gbt.predict(X_train[best_features_names]))\n",
    "# err_test = np.mean(y_test != gbt.predict(X_test[best_features_names]))\n",
    "# print(err_train, err_test)"
   ]
  },
  {
   "cell_type": "code",
   "execution_count": null,
   "metadata": {
    "scrolled": false
   },
   "outputs": [],
   "source": [
    "## Predict RepeatIncidents with model using and associate data with EI numbers\n",
    "res=pd.Series(rf.predict(X_test),name='RepeatForecast')\n",
    "# res=pd.Series(gbt.predict(X_test[best_features_names]), name='RepeatForecast')\n",
    "\n",
    "\n",
    "# Merge res & X_test\n",
    "res_with_prediction=pd.concat([res,data_y], axis=1)\n",
    "sorted_res = res_with_prediction.sort_values('RepeatForecast',ascending=False)\n",
    "\n",
    "tuple(sorted_res['CREATE_DATE'])\n",
    "\n",
    "# X_test.loc[1,'CREATE_DATE']\n",
    "\n",
    "mysql_conn= pymysql.connect(host=pers_data.HOST, \n",
    "                port=pers_data.PORT,user=pers_data.USER, passwd=pers_data.PASSWD, \n",
    "                db=pers_data.DB, charset='utf8')\n",
    "#connection.use_unicode =  True\n",
    "result_of_selection=pd.read_sql(sql_queries.SQL_QUERY_FIND_EIs.format(tuple(sorted_res['CREATE_DATE'])), con=mysql_conn)\n",
    "# for i in result_of_selection[['REQUEST_ID', 'STATUS', 'CREATE_DATE']]:\n",
    "#     if result_of_selection['CREATE_DATE']==important_items.values:\n",
    "#         print(result_of_selection['CREATE_DATE'])\n",
    "# important_items.values\n",
    "\n",
    "merged_res = pd.merge(left=res_with_prediction,right=result_of_selection.reset_index(), how='right', left_on='CREATE_DATE', right_on='CREATE_DATE')\n",
    "print(res_with_prediction.shape, result_of_selection.shape, merged_res.shape)\n",
    "\n",
    "# # Merge res & CREATE_DATE\n",
    "\n",
    "# items_with_CREATE_DATE=dict()\n",
    "# for item in res.index:\n",
    "#     items_with_CREATE_DATE[item]= data_y.loc[item,'CREATE_DATE']\n",
    "    \n",
    "# for i in sorted(items_with_CREATE_DATE):\n",
    "#     print(i,items_with_CREATE_DATE[i])\n"
   ]
  },
  {
   "cell_type": "code",
   "execution_count": null,
   "metadata": {},
   "outputs": [],
   "source": [
    "# result_of_selection[result_of_selection['CREATE_DATE']==1504216847]\n",
    "# sorted_res[sorted_res['CREATE_DATE']==1504257317]\n",
    "# data_y[data_y['CREATE_DATE']==1504216847]\n",
    "# sorted_res\n",
    "\n",
    "print(merged_res[merged_res['CREATE_DATE']==1504285198])\n",
    "\n",
    "print(merged_res['CREATE_DATE'][:15])\n",
    "\n",
    "print(sorted_res['CREATE_DATE'].iloc[0])\n",
    "\n",
    "\n",
    "\n",
    "#!pip install sqlalchemy\n",
    "\n",
    "from sqlalchemy import create_engine\n",
    "import datetime\n",
    "# import importlib\n",
    "# importlib.reload(pers_data)\n",
    "\n",
    "def write_to_sql(res_of_union, model_name, data_period):\n",
    "    ## Write to MySQL to new table\n",
    "\n",
    "\n",
    "    engine = create_engine('mysql+pymysql://'+pers_data.ACCOUNT_FOR_WRITE_TO_SQL)\n",
    "\n",
    "\n",
    "\n",
    "    res_of_union=res_of_union[['EI', 'RepeatForecast', 'CREATE_DATE', 'num_of_repeat2', 'num_of_repeat5',\n",
    "'num_of_repeat10', 'num_of_repeat30', 'num_of_repeat60', 'all_num_of_repeat']].sort_values('RepeatForecast', ascending=False)\n",
    "    res_of_union['Model']=model_name\n",
    "    table_name = 'FORECASTS'+'_'+model_name+'_'+data_period+'_'+str(datetime.datetime.today().month)+'_'+str(datetime.datetime.today().day)\n",
    "    pd.DataFrame.to_sql(res_of_union, name=table_name, con=engine, if_exists='replace')\n",
    "\n",
    "\n",
    "write_to_sql(merged_res, 'rf', data_period)"
   ]
  },
  {
   "cell_type": "code",
   "execution_count": null,
   "metadata": {
    "collapsed": true
   },
   "outputs": [],
   "source": []
  }
 ],
 "metadata": {
  "kernelspec": {
   "display_name": "Python 3",
   "language": "python",
   "name": "python3"
  },
  "language_info": {
   "codemirror_mode": {
    "name": "ipython",
    "version": 3
   },
   "file_extension": ".py",
   "mimetype": "text/x-python",
   "name": "python",
   "nbconvert_exporter": "python",
   "pygments_lexer": "ipython3",
   "version": "3.6.1"
  }
 },
 "nbformat": 4,
 "nbformat_minor": 2
}
